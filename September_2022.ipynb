{
  "cells": [
    {
      "cell_type": "markdown",
      "metadata": {
        "id": "view-in-github",
        "colab_type": "text"
      },
      "source": [
        "<a href=\"https://colab.research.google.com/github/praveensaharan/rust-calculetor/blob/main/September_2022.ipynb\" target=\"_parent\"><img src=\"https://colab.research.google.com/assets/colab-badge.svg\" alt=\"Open In Colab\"/></a>"
      ]
    },
    {
      "cell_type": "code",
      "execution_count": null,
      "metadata": {
        "colab": {
          "base_uri": "https://localhost:8080/"
        },
        "id": "oSjND5dfNns7",
        "outputId": "be7e4dc0-f8b2-4217-c370-90dfc49f4276"
      },
      "outputs": [
        {
          "name": "stdout",
          "output_type": "stream",
          "text": [
            "6\n",
            "3\n",
            "1 3 5 2 5 4\n",
            "1 1 0 1 0 0\n"
          ]
        }
      ],
      "source": [
        "#n, j = 5, 2\n",
        "#a = [1, 4, 2, 1, 0]\n",
        "#arr = [1, 0, 0, 1, 1]\n",
        "n = int(input())\n",
        "j = int(input())\n",
        "#input_string1 = input(\"Enter a list element separated by spac\n",
        "a = [int(x) for x in input().split()]\n",
        "#input_string = input(\"Enter a list element separated by space \")\n",
        "arr = [int(y) for y in input().split()]\n",
        "\n",
        "# 6 3\n",
        "# 1 3 5 2 5 4\n",
        "# 1 1 0 1 0 0"
      ]
    },
    {
      "cell_type": "code",
      "execution_count": null,
      "metadata": {
        "id": "Kt8XY0adOARZ"
      },
      "outputs": [],
      "source": [
        "p = arr.count(0)"
      ]
    },
    {
      "cell_type": "code",
      "execution_count": null,
      "metadata": {
        "id": "lM-IEkBgPcYN"
      },
      "outputs": [],
      "source": [
        "if j >= p:\n",
        "  a1 = sorted(a, reverse = True)\n",
        "  count  = 0\n",
        "  for j1 in range(j):\n",
        "    count += a1[j1]\n",
        "else:\n",
        "  def indices(lst, item):\n",
        "    return [i for i, x in enumerate(lst) if x == item]\n",
        "  q = indices(0)\n",
        "  if \n",
        "\n",
        "\n",
        "  \n"
      ]
    },
    {
      "cell_type": "code",
      "execution_count": null,
      "metadata": {
        "colab": {
          "base_uri": "https://localhost:8080/"
        },
        "id": "9vnkiiWTQWHf",
        "outputId": "67768026-e51f-4ce6-9a20-1f132a2a07f0"
      },
      "outputs": [
        {
          "data": {
            "text/plain": [
              "6"
            ]
          },
          "execution_count": 8,
          "metadata": {},
          "output_type": "execute_result"
        }
      ],
      "source": [
        "count"
      ]
    },
    {
      "cell_type": "code",
      "execution_count": null,
      "metadata": {
        "colab": {
          "base_uri": "https://localhost:8080/"
        },
        "id": "CxjJo4M5UFeW",
        "outputId": "35a0691a-3345-4442-e127-c2f81110f80b"
      },
      "outputs": [
        {
          "data": {
            "text/plain": [
              "[1, 2]"
            ]
          },
          "execution_count": 10,
          "metadata": {},
          "output_type": "execute_result"
        }
      ],
      "source": [
        "def indices(lst, item):\n",
        "  return [i for i, x in enumerate(lst) if x == item]\n",
        "indices(arr, 0)"
      ]
    },
    {
      "cell_type": "code",
      "execution_count": null,
      "metadata": {
        "id": "yKPkg6AdVJ0J"
      },
      "outputs": [],
      "source": [
        "for i in "
      ]
    },
    {
      "cell_type": "code",
      "execution_count": null,
      "metadata": {
        "id": "llUWTOr2VKft"
      },
      "outputs": [],
      "source": []
    },
    {
      "cell_type": "code",
      "execution_count": null,
      "metadata": {
        "colab": {
          "base_uri": "https://localhost:8080/",
          "height": 391
        },
        "id": "63t3WKaIQmCp",
        "outputId": "23a0b4d5-8d2b-4d77-9732-b0f7fcea25c4"
      },
      "outputs": [
        {
          "ename": "KeyboardInterrupt",
          "evalue": "ignored",
          "output_type": "error",
          "traceback": [
            "\u001b[0;31m---------------------------------------------------------------------------\u001b[0m",
            "\u001b[0;31mKeyboardInterrupt\u001b[0m                         Traceback (most recent call last)",
            "\u001b[0;32m<ipython-input-7-16253f4f943c>\u001b[0m in \u001b[0;36m<module>\u001b[0;34m\u001b[0m\n\u001b[0;32m----> 1\u001b[0;31m \u001b[0mn\u001b[0m\u001b[0;34m,\u001b[0m \u001b[0mj\u001b[0m \u001b[0;34m=\u001b[0m \u001b[0;34m[\u001b[0m\u001b[0mint\u001b[0m\u001b[0;34m(\u001b[0m\u001b[0mx1\u001b[0m\u001b[0;34m)\u001b[0m \u001b[0;32mfor\u001b[0m \u001b[0mx1\u001b[0m \u001b[0;32min\u001b[0m \u001b[0minput\u001b[0m\u001b[0;34m(\u001b[0m\u001b[0;34m)\u001b[0m\u001b[0;34m.\u001b[0m\u001b[0msplit\u001b[0m\u001b[0;34m(\u001b[0m\u001b[0;34m)\u001b[0m\u001b[0;34m]\u001b[0m\u001b[0;34m\u001b[0m\u001b[0;34m\u001b[0m\u001b[0m\n\u001b[0m\u001b[1;32m      2\u001b[0m \u001b[0;34m\u001b[0m\u001b[0m\n\u001b[1;32m      3\u001b[0m \u001b[0ma\u001b[0m \u001b[0;34m=\u001b[0m \u001b[0;34m[\u001b[0m\u001b[0mint\u001b[0m\u001b[0;34m(\u001b[0m\u001b[0mx\u001b[0m\u001b[0;34m)\u001b[0m \u001b[0;32mfor\u001b[0m \u001b[0mx\u001b[0m \u001b[0;32min\u001b[0m \u001b[0minput\u001b[0m\u001b[0;34m(\u001b[0m\u001b[0;34m)\u001b[0m\u001b[0;34m.\u001b[0m\u001b[0msplit\u001b[0m\u001b[0;34m(\u001b[0m\u001b[0;34m)\u001b[0m\u001b[0;34m]\u001b[0m\u001b[0;34m\u001b[0m\u001b[0;34m\u001b[0m\u001b[0m\n\u001b[1;32m      4\u001b[0m \u001b[0;34m\u001b[0m\u001b[0m\n\u001b[1;32m      5\u001b[0m \u001b[0marr\u001b[0m \u001b[0;34m=\u001b[0m \u001b[0;34m[\u001b[0m\u001b[0mint\u001b[0m\u001b[0;34m(\u001b[0m\u001b[0my\u001b[0m\u001b[0;34m)\u001b[0m \u001b[0;32mfor\u001b[0m \u001b[0my\u001b[0m \u001b[0;32min\u001b[0m \u001b[0minput\u001b[0m\u001b[0;34m(\u001b[0m\u001b[0;34m)\u001b[0m\u001b[0;34m.\u001b[0m\u001b[0msplit\u001b[0m\u001b[0;34m(\u001b[0m\u001b[0;34m)\u001b[0m\u001b[0;34m]\u001b[0m\u001b[0;34m\u001b[0m\u001b[0;34m\u001b[0m\u001b[0m\n",
            "\u001b[0;32m/usr/local/lib/python3.7/dist-packages/ipykernel/kernelbase.py\u001b[0m in \u001b[0;36mraw_input\u001b[0;34m(self, prompt)\u001b[0m\n\u001b[1;32m    861\u001b[0m             \u001b[0mself\u001b[0m\u001b[0;34m.\u001b[0m\u001b[0m_parent_ident\u001b[0m\u001b[0;34m,\u001b[0m\u001b[0;34m\u001b[0m\u001b[0;34m\u001b[0m\u001b[0m\n\u001b[1;32m    862\u001b[0m             \u001b[0mself\u001b[0m\u001b[0;34m.\u001b[0m\u001b[0m_parent_header\u001b[0m\u001b[0;34m,\u001b[0m\u001b[0;34m\u001b[0m\u001b[0;34m\u001b[0m\u001b[0m\n\u001b[0;32m--> 863\u001b[0;31m             \u001b[0mpassword\u001b[0m\u001b[0;34m=\u001b[0m\u001b[0;32mFalse\u001b[0m\u001b[0;34m,\u001b[0m\u001b[0;34m\u001b[0m\u001b[0;34m\u001b[0m\u001b[0m\n\u001b[0m\u001b[1;32m    864\u001b[0m         )\n\u001b[1;32m    865\u001b[0m \u001b[0;34m\u001b[0m\u001b[0m\n",
            "\u001b[0;32m/usr/local/lib/python3.7/dist-packages/ipykernel/kernelbase.py\u001b[0m in \u001b[0;36m_input_request\u001b[0;34m(self, prompt, ident, parent, password)\u001b[0m\n\u001b[1;32m    902\u001b[0m             \u001b[0;32mexcept\u001b[0m \u001b[0mKeyboardInterrupt\u001b[0m\u001b[0;34m:\u001b[0m\u001b[0;34m\u001b[0m\u001b[0;34m\u001b[0m\u001b[0m\n\u001b[1;32m    903\u001b[0m                 \u001b[0;31m# re-raise KeyboardInterrupt, to truncate traceback\u001b[0m\u001b[0;34m\u001b[0m\u001b[0;34m\u001b[0m\u001b[0;34m\u001b[0m\u001b[0m\n\u001b[0;32m--> 904\u001b[0;31m                 \u001b[0;32mraise\u001b[0m \u001b[0mKeyboardInterrupt\u001b[0m\u001b[0;34m(\u001b[0m\u001b[0;34m\"Interrupted by user\"\u001b[0m\u001b[0;34m)\u001b[0m \u001b[0;32mfrom\u001b[0m \u001b[0;32mNone\u001b[0m\u001b[0;34m\u001b[0m\u001b[0;34m\u001b[0m\u001b[0m\n\u001b[0m\u001b[1;32m    905\u001b[0m             \u001b[0;32mexcept\u001b[0m \u001b[0mException\u001b[0m \u001b[0;32mas\u001b[0m \u001b[0me\u001b[0m\u001b[0;34m:\u001b[0m\u001b[0;34m\u001b[0m\u001b[0;34m\u001b[0m\u001b[0m\n\u001b[1;32m    906\u001b[0m                 \u001b[0mself\u001b[0m\u001b[0;34m.\u001b[0m\u001b[0mlog\u001b[0m\u001b[0;34m.\u001b[0m\u001b[0mwarning\u001b[0m\u001b[0;34m(\u001b[0m\u001b[0;34m\"Invalid Message:\"\u001b[0m\u001b[0;34m,\u001b[0m \u001b[0mexc_info\u001b[0m\u001b[0;34m=\u001b[0m\u001b[0;32mTrue\u001b[0m\u001b[0;34m)\u001b[0m\u001b[0;34m\u001b[0m\u001b[0;34m\u001b[0m\u001b[0m\n",
            "\u001b[0;31mKeyboardInterrupt\u001b[0m: Interrupted by user"
          ]
        }
      ],
      "source": [
        "n, j = [int(x1) for x1 in input().split()]\n",
        "\n",
        "a = [int(x) for x in input().split()]\n",
        "\n",
        "arr = [int(y) for y in input().split()]\n",
        "p = arr.count(0)\n",
        "if j >= p:\n",
        "    a1 = sorted(a, reverse = True)\n",
        "    count  = 0\n",
        "    for j1 in range(n):\n",
        "        count += a1[j1]\n",
        "print(count)"
      ]
    },
    {
      "cell_type": "code",
      "execution_count": null,
      "metadata": {
        "colab": {
          "base_uri": "https://localhost:8080/"
        },
        "id": "1Le8-vneViPU",
        "outputId": "c9d49691-76b0-41e2-df00-b1b008f3774b"
      },
      "outputs": [
        {
          "name": "stdout",
          "output_type": "stream",
          "text": [
            "2\n",
            "5\n",
            "5 2 4 3 1\n",
            "7\n",
            "-5 -12 87 2 88 20 11\n",
            "[1, 4, 2, 3, 5]\n",
            "[-5, 88, 11, 20, 2, -12, 87]\n"
          ]
        }
      ],
      "source": [
        "n= int(input())\n",
        "m = int(input())\n",
        "m1 = list(map(int,input().split()))\n",
        "o = int(input())\n",
        "o1 = list(map(int,input().split()))\n",
        "me2 = []\n",
        "mr = []\n",
        "mo2= []\n",
        "for i in m1:\n",
        "    if i%2==0:\n",
        "        me2.append(i)\n",
        "        mr.append(m1.index(i))\n",
        "    else:\n",
        "        mo2.append(i)\n",
        "meq = sorted(mo2)\n",
        "moq = sorted(me2, reverse=True)\n",
        "for q in range(len(me2)):\n",
        "    meq.insert(mr[q],moq[q])\n",
        "print(*meq)\n",
        "\n",
        "\n",
        "\n",
        "\n",
        "oe2 = []\n",
        "orq = []\n",
        "oo2= []\n",
        "for j in o1:\n",
        "    if j%2==0:\n",
        "        oe2.append(j)\n",
        "        orq.append(o1.index(j))\n",
        "    else:\n",
        "        oo2.append(j)\n",
        "\n",
        "\n",
        "oo3 = sorted(oo2)\n",
        "oe3 = sorted(oe2,reverse= True)\n",
        "for l in range(len(oe2)):\n",
        "    oo3.insert(orq[l],oe3[l])\n",
        "\n",
        "\n",
        "print(*oo3)"
      ]
    },
    {
      "cell_type": "code",
      "execution_count": null,
      "metadata": {
        "colab": {
          "base_uri": "https://localhost:8080/"
        },
        "id": "OFeXirnfB3WM",
        "outputId": "6723fc0d-4332-4bfa-f1e5-2ec0b13d979e"
      },
      "outputs": [
        {
          "name": "stdout",
          "output_type": "stream",
          "text": [
            "-5 88 11 20 2 -12 87\n"
          ]
        }
      ],
      "source": [
        "\n",
        "# Python program to print list\n",
        "# without using loop\n",
        "  \n",
        "\n",
        "  \n",
        "# printing the list using * operator separated \n",
        "# by space \n",
        "print(*oo3)"
      ]
    },
    {
      "cell_type": "code",
      "execution_count": null,
      "metadata": {
        "colab": {
          "base_uri": "https://localhost:8080/"
        },
        "id": "l7RyRKtvFdxw",
        "outputId": "c679f2e9-2b94-4612-cc93-67ee470ab82f"
      },
      "outputs": [
        {
          "name": "stdout",
          "output_type": "stream",
          "text": [
            "1\n",
            "10\n"
          ]
        }
      ],
      "source": [
        "s1 = \"4a3b2c1d2a\"\n",
        "s = \"10a\"\n",
        "ans = \"\"\n",
        "c = \"\"\n",
        "for i in range(len(s)):\n",
        "  if s[i].isalpha():\n",
        "    ans = ans + int(c) * s[i]\n",
        "    c = \"\"\n",
        "  else:\n",
        "    c = c + s[i]\n",
        "    print(c)"
      ]
    },
    {
      "cell_type": "code",
      "execution_count": null,
      "metadata": {
        "id": "J2VkHqyAcvUX"
      },
      "outputs": [],
      "source": [
        "def two(p):\n",
        "  if p == 1:\n",
        "    return True\n",
        "  else:\n",
        "    p = p/2\n",
        "    if p == 1:\n",
        "      return True\n",
        "    elif p>1 and p%2 == 0:\n",
        "      return two(p)\n",
        "    else:\n",
        "      return False"
      ]
    },
    {
      "cell_type": "code",
      "execution_count": null,
      "metadata": {
        "colab": {
          "background_save": true
        },
        "id": "4Pqqz8aHcxUC",
        "outputId": "04736289-5030-4d4f-8d29-fd54b383e472"
      },
      "outputs": [
        {
          "data": {
            "text/plain": [
              "False"
            ]
          },
          "execution_count": 7,
          "metadata": {},
          "output_type": "execute_result"
        }
      ],
      "source": [
        "two(1024)"
      ]
    },
    {
      "cell_type": "code",
      "execution_count": null,
      "metadata": {
        "colab": {
          "background_save": true,
          "base_uri": "https://localhost:8080/"
        },
        "id": "G_RFcg8bxTVK",
        "outputId": "c837af69-d486-4ae8-d12a-06adfd9d6112"
      },
      "outputs": [
        {
          "name": "stdout",
          "output_type": "stream",
          "text": [
            "['?']\n"
          ]
        }
      ],
      "source": [
        "s = \"?\"\n",
        "s1 = list(s)\n",
        "for i in range(len(s1)):\n",
        "  if s1[i] == \"?\":\n",
        "    if i == 0:\n",
        "      try:\n",
        "        if s1[i+1] != \"1\":\n",
        "          s1[i] = \"1\"\n",
        "        else:\n",
        "          s1[i] = \"2\"\n",
        "      except  I:\n",
        "        s1[i] == \"1\"\n",
        "print(s1)\n"
      ]
    },
    {
      "cell_type": "code",
      "execution_count": null,
      "metadata": {
        "id": "-B_F-0Rv0nIu"
      },
      "outputs": [],
      "source": [
        "s = [[ 1,2,4,5,6,6,1],[1,9,5,8,4,3,6]]"
      ]
    },
    {
      "cell_type": "code",
      "source": [
        "x= zip(*s)"
      ],
      "metadata": {
        "id": "RuvzPxoc0ZEk"
      },
      "execution_count": null,
      "outputs": []
    },
    {
      "cell_type": "code",
      "source": [
        "max(x)"
      ],
      "metadata": {
        "colab": {
          "base_uri": "https://localhost:8080/"
        },
        "id": "EC2qRyKA0aRx",
        "outputId": "d3544d16-eec1-488a-aa05-f81132b6a69d"
      },
      "execution_count": null,
      "outputs": [
        {
          "output_type": "execute_result",
          "data": {
            "text/plain": [
              "(6, 4)"
            ]
          },
          "metadata": {},
          "execution_count": 11
        }
      ]
    },
    {
      "cell_type": "code",
      "source": [
        "# matrix = [\n",
        "#     [1, 2, 3, 2],\n",
        "#     [3, 2, 3, 2],\n",
        "#     [1, 2, 2, 3],\n",
        "#     [1, 1, 1, 1]\n",
        "# ]\n",
        "matrix = [\n",
        "    [1, 3, 2],\n",
        "    [6, 6, 5],\n",
        "    [1, 5, 7]\n",
        "]\n",
        "# matrix=[(1,2,3),(4,5,6),(7,8,9),(10,11,12)]\n",
        "p = []\n",
        "q = []\n",
        "for row in matrix:\n",
        "  p.append(row)\n",
        "  print(row)\n",
        "print(\"\\n\")\n",
        "t_matrix = zip(*matrix)\n",
        "for row in t_matrix:\n",
        "  q.append(row)\n",
        "  print(row)"
      ],
      "metadata": {
        "colab": {
          "base_uri": "https://localhost:8080/"
        },
        "id": "KgjOhCHb1zMw",
        "outputId": "a7ebc1f5-7db8-4694-f584-e86be1a563c9"
      },
      "execution_count": null,
      "outputs": [
        {
          "output_type": "stream",
          "name": "stdout",
          "text": [
            "[1, 3, 2]\n",
            "[6, 6, 5]\n",
            "[1, 5, 7]\n",
            "\n",
            "\n",
            "(1, 6, 1)\n",
            "(3, 6, 5)\n",
            "(2, 5, 7)\n"
          ]
        }
      ]
    },
    {
      "cell_type": "code",
      "source": [
        "p"
      ],
      "metadata": {
        "colab": {
          "base_uri": "https://localhost:8080/"
        },
        "id": "PtnTmy9b2xE6",
        "outputId": "eef1f393-5c24-48a3-e085-180998d1bedc"
      },
      "execution_count": null,
      "outputs": [
        {
          "output_type": "execute_result",
          "data": {
            "text/plain": [
              "[[1, 3, 2], [6, 6, 5], [1, 5, 7]]"
            ]
          },
          "metadata": {},
          "execution_count": 16
        }
      ]
    },
    {
      "cell_type": "code",
      "source": [
        "l =  list(map(list, zip(*matrix)))\n",
        "for i in range(len(l)):\n",
        "  for j in range(len(l[0])-1):\n",
        "    if l[j]==l[j+1]:\n",
        "      if \n"
      ],
      "metadata": {
        "id": "yf0vMWn-2283"
      },
      "execution_count": null,
      "outputs": []
    },
    {
      "cell_type": "code",
      "source": [
        "q[0][1] = 7"
      ],
      "metadata": {
        "colab": {
          "base_uri": "https://localhost:8080/",
          "height": 169
        },
        "id": "t5EbBdFZ3PPI",
        "outputId": "d42cd52d-86dc-4254-f247-e8faf31c16e5"
      },
      "execution_count": null,
      "outputs": [
        {
          "output_type": "error",
          "ename": "TypeError",
          "evalue": "ignored",
          "traceback": [
            "\u001b[0;31m---------------------------------------------------------------------------\u001b[0m",
            "\u001b[0;31mTypeError\u001b[0m                                 Traceback (most recent call last)",
            "\u001b[0;32m<ipython-input-7-1e7722cb0512>\u001b[0m in \u001b[0;36m<module>\u001b[0;34m\u001b[0m\n\u001b[0;32m----> 1\u001b[0;31m \u001b[0mq\u001b[0m\u001b[0;34m[\u001b[0m\u001b[0;36m0\u001b[0m\u001b[0;34m]\u001b[0m\u001b[0;34m[\u001b[0m\u001b[0;36m1\u001b[0m\u001b[0;34m]\u001b[0m \u001b[0;34m=\u001b[0m \u001b[0;36m7\u001b[0m\u001b[0;34m\u001b[0m\u001b[0;34m\u001b[0m\u001b[0m\n\u001b[0m",
            "\u001b[0;31mTypeError\u001b[0m: 'tuple' object does not support item assignment"
          ]
        }
      ]
    },
    {
      "cell_type": "code",
      "source": [
        "q.index(6)"
      ],
      "metadata": {
        "colab": {
          "base_uri": "https://localhost:8080/"
        },
        "id": "Wu0BFU4V_JcG",
        "outputId": "c7294a5b-92d6-4a60-896a-662911f03ff2"
      },
      "execution_count": null,
      "outputs": [
        {
          "output_type": "execute_result",
          "data": {
            "text/plain": [
              "0"
            ]
          },
          "metadata": {},
          "execution_count": 27
        }
      ]
    },
    {
      "cell_type": "code",
      "source": [
        "l =  list(map(list, zip(*matrix)))"
      ],
      "metadata": {
        "id": "gKVz4nwDcebq"
      },
      "execution_count": null,
      "outputs": []
    },
    {
      "cell_type": "code",
      "source": [
        "l[0][1] = 7"
      ],
      "metadata": {
        "id": "J_TEKm5scv5c"
      },
      "execution_count": null,
      "outputs": []
    },
    {
      "cell_type": "code",
      "source": [
        "# nums = [4,4,4,9,2,4]\n",
        "s =list(\"abacaba\")\n",
        "#sorted(nums)\n",
        "num = {}\n",
        "for words in s:\n",
        "    if words in num.keys():\n",
        "       num[words] += 1\n",
        "    else:\n",
        "       num[words] = 1"
      ],
      "metadata": {
        "id": "XCS7pRZ9_Sap"
      },
      "execution_count": null,
      "outputs": []
    },
    {
      "cell_type": "code",
      "source": [
        "set(s)"
      ],
      "metadata": {
        "colab": {
          "base_uri": "https://localhost:8080/"
        },
        "id": "26NZj0BvhmMd",
        "outputId": "d8058ac3-9eb3-4dbe-d8f2-0cf1621bf5ee"
      },
      "execution_count": null,
      "outputs": [
        {
          "output_type": "execute_result",
          "data": {
            "text/plain": [
              "{'a', 'b', 'c'}"
            ]
          },
          "metadata": {},
          "execution_count": 36
        }
      ]
    },
    {
      "cell_type": "code",
      "source": [
        "p = {k: v for k, v in sorted(num.items(), key=lambda item: item[1], reverse=True)}"
      ],
      "metadata": {
        "id": "ok_rx-m7bI8h"
      },
      "execution_count": null,
      "outputs": []
    },
    {
      "cell_type": "code",
      "source": [
        "\n",
        "maximum_val = \n",
        "print(maximum_val)\n"
      ],
      "metadata": {
        "colab": {
          "base_uri": "https://localhost:8080/"
        },
        "id": "2f7SIzw9bT-Y",
        "outputId": "baa36b7a-2628-4016-ad27-d42d4380dea6"
      },
      "execution_count": null,
      "outputs": [
        {
          "output_type": "stream",
          "name": "stdout",
          "text": [
            "2\n"
          ]
        }
      ]
    },
    {
      "cell_type": "code",
      "source": [
        "s =sorted([k for k,v in num.items() if v == max(num.values())])"
      ],
      "metadata": {
        "id": "TiBwx0AAd7qX"
      },
      "execution_count": null,
      "outputs": []
    },
    {
      "cell_type": "code",
      "source": [
        "class Solution:\n",
        "    def partitionString(self, s: str) -> int:\n",
        "        p = list(s)\n",
        "        q = set(p)\n",
        "        if len(q)==len(p):\n",
        "            return 1\n",
        "        elif len(q) == 1:\n",
        "            return len(s)\n",
        "        else:\n",
        "          l = []\n",
        "          n = len(s)\n",
        "          for i in range(n):\n",
        "            if(s[i] not in l):\n",
        "              l.append(s[i])\n",
        "            temp = s[i]\n",
        "            for j in range(i + 1, n):\n",
        "              if(s[j] not in temp):\n",
        "                temp += s[j]\n",
        "              if temp not in l:\n",
        "                l.append(temp)\n",
        "       return len(l)\n",
        "\n"
      ],
      "metadata": {
        "colab": {
          "base_uri": "https://localhost:8080/"
        },
        "id": "rvlUKaJheDLb",
        "outputId": "67f01cab-221e-441c-c192-26a21e26c83b"
      },
      "execution_count": null,
      "outputs": [
        {
          "output_type": "execute_result",
          "data": {
            "text/plain": [
              "[1, 2, 4]"
            ]
          },
          "metadata": {},
          "execution_count": 25
        }
      ]
    },
    {
      "cell_type": "code",
      "source": [
        "def minimumNumber(n, arr):\n",
        "  for i in range(n-1):\n",
        "    arr = sorted(arr,reverse=True)\n",
        "    arr[0] = arr[0]-arr[1]\n",
        "  return max(arr)\n",
        "\n",
        "\n"
      ],
      "metadata": {
        "id": "_Hhjrge6fEyf"
      },
      "execution_count": null,
      "outputs": []
    },
    {
      "cell_type": "code",
      "source": [
        "\n",
        "n = 3\n",
        "arr = [3,2,4,4,3,3]\n",
        "arr.count(3)\n"
      ],
      "metadata": {
        "colab": {
          "base_uri": "https://localhost:8080/"
        },
        "id": "afKd-4xzyFny",
        "outputId": "3e291b81-734a-4df4-a42d-ce777662c4cf"
      },
      "execution_count": null,
      "outputs": [
        {
          "output_type": "execute_result",
          "data": {
            "text/plain": [
              "3"
            ]
          },
          "metadata": {},
          "execution_count": 9
        }
      ]
    },
    {
      "cell_type": "code",
      "source": [
        "p = []\n",
        "p.pop(0)"
      ],
      "metadata": {
        "id": "Bn9IObf2yI4o",
        "outputId": "036e2b69-a61b-4bec-9114-af9c8cf31ca4",
        "colab": {
          "base_uri": "https://localhost:8080/",
          "height": 187
        }
      },
      "execution_count": null,
      "outputs": [
        {
          "output_type": "error",
          "ename": "IndexError",
          "evalue": "ignored",
          "traceback": [
            "\u001b[0;31m---------------------------------------------------------------------------\u001b[0m",
            "\u001b[0;31mIndexError\u001b[0m                                Traceback (most recent call last)",
            "\u001b[0;32m<ipython-input-10-5dce1bde90c5>\u001b[0m in \u001b[0;36m<module>\u001b[0;34m\u001b[0m\n\u001b[1;32m      1\u001b[0m \u001b[0mp\u001b[0m \u001b[0;34m=\u001b[0m \u001b[0;34m[\u001b[0m\u001b[0;34m]\u001b[0m\u001b[0;34m\u001b[0m\u001b[0;34m\u001b[0m\u001b[0m\n\u001b[0;32m----> 2\u001b[0;31m \u001b[0mp\u001b[0m\u001b[0;34m.\u001b[0m\u001b[0mpop\u001b[0m\u001b[0;34m(\u001b[0m\u001b[0;36m0\u001b[0m\u001b[0;34m)\u001b[0m\u001b[0;34m\u001b[0m\u001b[0;34m\u001b[0m\u001b[0m\n\u001b[0m",
            "\u001b[0;31mIndexError\u001b[0m: pop from empty list"
          ]
        }
      ]
    },
    {
      "cell_type": "code",
      "source": [
        "def MinimumExchange(matrix):\n",
        "  if matrix[0][0]==\"A\":\n",
        "    k = 0\n",
        "    for i in range(len(matrix)):\n",
        "      j = 0\n",
        "      for j in range(len(matrix[0])):\n",
        "        if (i+j)%2==0:\n",
        "          if matrix[i][j] != \"A\":\n",
        "            k = k+1\n",
        "        else:\n",
        "          if matrix[i][j] != \"B\":\n",
        "            k = k+1\n",
        "    return min(k, len(matrix)*len(matrix[0]-k))\n",
        "  elif matrix[0][0]==\"B\":\n",
        "    k = 0\n",
        "    for i in range(len(matrix)):\n",
        "      j = 0\n",
        "      for j in range(len(matrix[0])):\n",
        "        if (i+j)%2==0:\n",
        "          if matrix[i][j] != \"B\":\n",
        "            k = k+1\n",
        "        else:\n",
        "          if matrix[i][j] != \"A\":\n",
        "            k = k+1\n",
        "    return min(k, len(matrix)*len(matrix[0]-k))"
      ],
      "metadata": {
        "id": "BrekrfgIBW7A"
      },
      "execution_count": null,
      "outputs": []
    },
    {
      "cell_type": "code",
      "source": [
        "matrix = [\"AABA\",\"BABA\",\"BBAB\"]"
      ],
      "metadata": {
        "id": "b7D6SNhiv1w3"
      },
      "execution_count": null,
      "outputs": []
    },
    {
      "cell_type": "code",
      "source": [
        "MinimumExchange(matrix)"
      ],
      "metadata": {
        "colab": {
          "base_uri": "https://localhost:8080/"
        },
        "id": "02fvu4UDwQOd",
        "outputId": "c38e268b-2185-40cd-edb0-b33c9d98094a"
      },
      "execution_count": null,
      "outputs": [
        {
          "output_type": "execute_result",
          "data": {
            "text/plain": [
              "4"
            ]
          },
          "metadata": {},
          "execution_count": 10
        }
      ]
    },
    {
      "cell_type": "code",
      "source": [
        "def noConseBits(query):\n",
        "  temp = str(format(query, \"b\"))\n",
        "  if not len(temp)>=3:\n",
        "    return query\n",
        "  elif \"111\" not in temp:\n",
        "    return query\n",
        "  else:\n",
        "    t = temp[::-1]\n",
        "    p1 = t.replace(\"111\",\"011\")\n",
        "    p = p1[::-1]\n",
        "    print(p)\n",
        "    print(t)\n",
        "    return int(p,2)\n",
        "            "
      ],
      "metadata": {
        "id": "h5nVS8-pwToQ"
      },
      "execution_count": null,
      "outputs": []
    },
    {
      "cell_type": "code",
      "source": [
        "print(noConseBits(7))"
      ],
      "metadata": {
        "colab": {
          "base_uri": "https://localhost:8080/"
        },
        "id": "Ogh4N2xK8UGn",
        "outputId": "2a41f831-7437-449d-8c74-ce474652088f"
      },
      "execution_count": null,
      "outputs": [
        {
          "output_type": "stream",
          "name": "stdout",
          "text": [
            "110\n",
            "111\n",
            "6\n"
          ]
        }
      ]
    },
    {
      "cell_type": "code",
      "source": [
        "p = 7%3\n"
      ],
      "metadata": {
        "id": "MYmRTNQN8i2p"
      },
      "execution_count": null,
      "outputs": []
    },
    {
      "cell_type": "code",
      "source": [
        "type(p)"
      ],
      "metadata": {
        "colab": {
          "base_uri": "https://localhost:8080/"
        },
        "id": "XpAwb7kWRGJD",
        "outputId": "0e198021-e8bf-43b0-e68b-1057f28ed464"
      },
      "execution_count": null,
      "outputs": [
        {
          "output_type": "execute_result",
          "data": {
            "text/plain": [
              "int"
            ]
          },
          "metadata": {},
          "execution_count": 6
        }
      ]
    },
    {
      "cell_type": "code",
      "source": [
        "p"
      ],
      "metadata": {
        "colab": {
          "base_uri": "https://localhost:8080/"
        },
        "id": "06EXZEuoRH-v",
        "outputId": "bc08fe38-a5e8-431d-dba8-1ddc7169c8fc"
      },
      "execution_count": null,
      "outputs": [
        {
          "output_type": "execute_result",
          "data": {
            "text/plain": [
              "2"
            ]
          },
          "metadata": {},
          "execution_count": 7
        }
      ]
    },
    {
      "cell_type": "code",
      "source": [
        "def prime1(n):\n",
        "  if n%2==0:\n",
        "    if n!=2:\n",
        "      return False\n",
        "  elif n%3==0:\n",
        "    if n!=3:\n",
        "      return False\n",
        "\n",
        "  elif n%5==0:\n",
        "    if n!=5:\n",
        "      return False\n",
        "\n",
        "  elif n%7==0:\n",
        "    if n!=7:\n",
        "      return False\n",
        "\n",
        "  elif n%11==0:\n",
        "    if n!=11:\n",
        "      return False\n",
        "  else:\n",
        "    return True\n",
        "  "
      ],
      "metadata": {
        "id": "jsOUQq9bRPrk"
      },
      "execution_count": null,
      "outputs": []
    },
    {
      "cell_type": "code",
      "source": [
        "prime1(199)"
      ],
      "metadata": {
        "colab": {
          "base_uri": "https://localhost:8080/"
        },
        "id": "ROBjemKlXWPZ",
        "outputId": "8487fc2d-0b2a-438c-97ee-1b86e960e5c9"
      },
      "execution_count": null,
      "outputs": [
        {
          "output_type": "execute_result",
          "data": {
            "text/plain": [
              "True"
            ]
          },
          "metadata": {},
          "execution_count": 13
        }
      ]
    },
    {
      "cell_type": "code",
      "source": [
        "607%1007"
      ],
      "metadata": {
        "id": "8Qiz6TAFXaDD",
        "colab": {
          "base_uri": "https://localhost:8080/"
        },
        "outputId": "41bfd2c0-9df7-4c8c-c50c-fce4bfac46b3"
      },
      "execution_count": null,
      "outputs": [
        {
          "output_type": "execute_result",
          "data": {
            "text/plain": [
              "607"
            ]
          },
          "metadata": {},
          "execution_count": 18
        }
      ]
    },
    {
      "cell_type": "code",
      "source": [
        "def fibo(n):\n",
        "  if n <= 1:\n",
        "    return n\n",
        "  # elif n%5==0:\n",
        "  #   return 11\n",
        "  else:\n",
        "    return(fibo(n-1) + fibo(n-2))"
      ],
      "metadata": {
        "id": "Y6dgat4QeypO"
      },
      "execution_count": null,
      "outputs": []
    },
    {
      "cell_type": "code",
      "source": [
        "fibo(5)"
      ],
      "metadata": {
        "colab": {
          "base_uri": "https://localhost:8080/"
        },
        "id": "CikKt_80gKg7",
        "outputId": "b0af9cbc-6f47-4949-a40f-8e3d9c7a95fb"
      },
      "execution_count": null,
      "outputs": [
        {
          "output_type": "execute_result",
          "data": {
            "text/plain": [
              "5"
            ]
          },
          "metadata": {},
          "execution_count": 35
        }
      ]
    },
    {
      "cell_type": "code",
      "source": [
        "fibo(2)"
      ],
      "metadata": {
        "colab": {
          "base_uri": "https://localhost:8080/"
        },
        "id": "rYnI9yIgf5sz",
        "outputId": "f53cce15-20b2-4d83-c9dd-f0dc18831823"
      },
      "execution_count": null,
      "outputs": [
        {
          "output_type": "execute_result",
          "data": {
            "text/plain": [
              "1"
            ]
          },
          "metadata": {},
          "execution_count": 36
        }
      ]
    },
    {
      "cell_type": "code",
      "source": [
        "fibo(6621)"
      ],
      "metadata": {
        "colab": {
          "base_uri": "https://localhost:8080/",
          "height": 319
        },
        "id": "mFJuDwHygOg3",
        "outputId": "a0ea97b1-d579-4396-8f82-861b1c201d22"
      },
      "execution_count": null,
      "outputs": [
        {
          "output_type": "error",
          "ename": "RecursionError",
          "evalue": "ignored",
          "traceback": [
            "\u001b[0;31m---------------------------------------------------------------------------\u001b[0m",
            "\u001b[0;31mRecursionError\u001b[0m                            Traceback (most recent call last)",
            "\u001b[0;32m<ipython-input-37-53295c6ee619>\u001b[0m in \u001b[0;36m<module>\u001b[0;34m\u001b[0m\n\u001b[0;32m----> 1\u001b[0;31m \u001b[0mfibo\u001b[0m\u001b[0;34m(\u001b[0m\u001b[0;36m6621\u001b[0m\u001b[0;34m)\u001b[0m\u001b[0;34m\u001b[0m\u001b[0;34m\u001b[0m\u001b[0m\n\u001b[0m",
            "\u001b[0;32m<ipython-input-34-a3e0d648f007>\u001b[0m in \u001b[0;36mfibo\u001b[0;34m(n)\u001b[0m\n\u001b[1;32m      5\u001b[0m   \u001b[0;31m#   return 11\u001b[0m\u001b[0;34m\u001b[0m\u001b[0;34m\u001b[0m\u001b[0;34m\u001b[0m\u001b[0m\n\u001b[1;32m      6\u001b[0m   \u001b[0;32melse\u001b[0m\u001b[0;34m:\u001b[0m\u001b[0;34m\u001b[0m\u001b[0;34m\u001b[0m\u001b[0m\n\u001b[0;32m----> 7\u001b[0;31m     \u001b[0;32mreturn\u001b[0m\u001b[0;34m(\u001b[0m\u001b[0mfibo\u001b[0m\u001b[0;34m(\u001b[0m\u001b[0mn\u001b[0m\u001b[0;34m-\u001b[0m\u001b[0;36m1\u001b[0m\u001b[0;34m)\u001b[0m \u001b[0;34m+\u001b[0m \u001b[0mfibo\u001b[0m\u001b[0;34m(\u001b[0m\u001b[0mn\u001b[0m\u001b[0;34m-\u001b[0m\u001b[0;36m2\u001b[0m\u001b[0;34m)\u001b[0m\u001b[0;34m)\u001b[0m\u001b[0;34m\u001b[0m\u001b[0;34m\u001b[0m\u001b[0m\n\u001b[0m",
            "... last 1 frames repeated, from the frame below ...\n",
            "\u001b[0;32m<ipython-input-34-a3e0d648f007>\u001b[0m in \u001b[0;36mfibo\u001b[0;34m(n)\u001b[0m\n\u001b[1;32m      5\u001b[0m   \u001b[0;31m#   return 11\u001b[0m\u001b[0;34m\u001b[0m\u001b[0;34m\u001b[0m\u001b[0;34m\u001b[0m\u001b[0m\n\u001b[1;32m      6\u001b[0m   \u001b[0;32melse\u001b[0m\u001b[0;34m:\u001b[0m\u001b[0;34m\u001b[0m\u001b[0;34m\u001b[0m\u001b[0m\n\u001b[0;32m----> 7\u001b[0;31m     \u001b[0;32mreturn\u001b[0m\u001b[0;34m(\u001b[0m\u001b[0mfibo\u001b[0m\u001b[0;34m(\u001b[0m\u001b[0mn\u001b[0m\u001b[0;34m-\u001b[0m\u001b[0;36m1\u001b[0m\u001b[0;34m)\u001b[0m \u001b[0;34m+\u001b[0m \u001b[0mfibo\u001b[0m\u001b[0;34m(\u001b[0m\u001b[0mn\u001b[0m\u001b[0;34m-\u001b[0m\u001b[0;36m2\u001b[0m\u001b[0;34m)\u001b[0m\u001b[0;34m)\u001b[0m\u001b[0;34m\u001b[0m\u001b[0;34m\u001b[0m\u001b[0m\n\u001b[0m",
            "\u001b[0;31mRecursionError\u001b[0m: maximum recursion depth exceeded in comparison"
          ]
        }
      ]
    },
    {
      "cell_type": "code",
      "source": [
        "p = [9, 20, 13, 7, 7, 15, 20, 16, 11, 15, 19, 8, 2, 18, 3, 18, 13]"
      ],
      "metadata": {
        "id": "8Uvmh2BCgRRf"
      },
      "execution_count": null,
      "outputs": []
    },
    {
      "cell_type": "code",
      "source": [
        "frequency = {}\n",
        "for item in p:\n",
        "   if item in frequency:\n",
        "      frequency[item] += 1\n",
        "   else:\n",
        "      frequency[item] = 1\n",
        "print(frequency)"
      ],
      "metadata": {
        "colab": {
          "base_uri": "https://localhost:8080/"
        },
        "id": "ibmkPwh-nuJc",
        "outputId": "c415f51a-d0a3-4de9-9ee5-8c5fc175dbbf"
      },
      "execution_count": null,
      "outputs": [
        {
          "output_type": "stream",
          "name": "stdout",
          "text": [
            "{9: 1, 20: 2, 13: 2, 7: 2, 15: 2, 16: 1, 11: 1, 19: 1, 8: 1, 2: 1, 18: 2, 3: 1}\n"
          ]
        }
      ]
    },
    {
      "cell_type": "code",
      "source": [
        "20- len(set(p))-arr.count(max(arr))"
      ],
      "metadata": {
        "colab": {
          "base_uri": "https://localhost:8080/",
          "height": 169
        },
        "id": "TFngO0HCoduu",
        "outputId": "33971d0d-661b-4602-8edd-d84620a15dac"
      },
      "execution_count": null,
      "outputs": [
        {
          "output_type": "error",
          "ename": "NameError",
          "evalue": "ignored",
          "traceback": [
            "\u001b[0;31m---------------------------------------------------------------------------\u001b[0m",
            "\u001b[0;31mNameError\u001b[0m                                 Traceback (most recent call last)",
            "\u001b[0;32m<ipython-input-44-2332c16c9433>\u001b[0m in \u001b[0;36m<module>\u001b[0;34m\u001b[0m\n\u001b[0;32m----> 1\u001b[0;31m \u001b[0;36m20\u001b[0m\u001b[0;34m-\u001b[0m \u001b[0mlen\u001b[0m\u001b[0;34m(\u001b[0m\u001b[0mset\u001b[0m\u001b[0;34m(\u001b[0m\u001b[0mp\u001b[0m\u001b[0;34m)\u001b[0m\u001b[0;34m)\u001b[0m\u001b[0;34m-\u001b[0m\u001b[0marr\u001b[0m\u001b[0;34m.\u001b[0m\u001b[0mcount\u001b[0m\u001b[0;34m(\u001b[0m\u001b[0mmax\u001b[0m\u001b[0;34m(\u001b[0m\u001b[0marr\u001b[0m\u001b[0;34m)\u001b[0m\u001b[0;34m)\u001b[0m\u001b[0;34m\u001b[0m\u001b[0;34m\u001b[0m\u001b[0m\n\u001b[0m",
            "\u001b[0;31mNameError\u001b[0m: name 'arr' is not defined"
          ]
        }
      ]
    },
    {
      "cell_type": "code",
      "source": [
        "def factorial(x):\n",
        "  if x == 1:\n",
        "    return 1\n",
        "  else:\n",
        "    return (x * factorial(x-1))"
      ],
      "metadata": {
        "id": "Q5kV8TS_D0QL"
      },
      "execution_count": null,
      "outputs": []
    },
    {
      "cell_type": "code",
      "source": [
        "arr = [1,2,4,6]\n",
        "if len(set(arr))==len(arr):\n",
        "  p = factorial(len(arr))"
      ],
      "metadata": {
        "id": "zEwmWI-4ohbL"
      },
      "execution_count": null,
      "outputs": []
    },
    {
      "cell_type": "code",
      "source": [
        "[1,3,5,6]+[2,7,5,4]"
      ],
      "metadata": {
        "colab": {
          "base_uri": "https://localhost:8080/"
        },
        "id": "5W9Y-BSEFneF",
        "outputId": "ec0e6974-6a0b-490b-91aa-bf4e54187d6f"
      },
      "execution_count": null,
      "outputs": [
        {
          "output_type": "execute_result",
          "data": {
            "text/plain": [
              "[1, 3, 5, 6, 2, 7, 5, 4]"
            ]
          },
          "metadata": {},
          "execution_count": 4
        }
      ]
    },
    {
      "cell_type": "code",
      "source": [
        "len(str(67))"
      ],
      "metadata": {
        "id": "INvk33J_FxFH",
        "colab": {
          "base_uri": "https://localhost:8080/"
        },
        "outputId": "c93093fc-411b-4559-ab14-210592c08a9c"
      },
      "execution_count": null,
      "outputs": [
        {
          "output_type": "execute_result",
          "data": {
            "text/plain": [
              "2"
            ]
          },
          "metadata": {},
          "execution_count": 2
        }
      ]
    },
    {
      "cell_type": "code",
      "source": [
        "first = 1\n",
        "last = 100"
      ],
      "metadata": {
        "id": "uJrIjjrS1v8y"
      },
      "execution_count": null,
      "outputs": []
    },
    {
      "cell_type": "code",
      "source": [
        "def primt(n):\n",
        "    if n<=1:\n",
        "        return False\n",
        "    else:\n",
        "        p = True\n",
        "        for i in range(2,n):\n",
        "            if n%i==0:\n",
        "                p = False\n",
        "                break\n",
        "        return p\n",
        "def single(n):\n",
        "    if len(str(n))<2:\n",
        "        return True\n",
        "    else:\n",
        "        q = True\n",
        "        while (n != 0):\n",
        "          if primt(n % 10):\n",
        "            n = n//10\n",
        "          else:\n",
        "            q = False\n",
        "            break\n",
        "        return q\n",
        "            \n",
        "p = []\n",
        "for j in range(first,last+1):\n",
        "    if primt(j):\n",
        "        if single(j):\n",
        "            p.append(j)\n",
        "print(len(p))\n",
        "        "
      ],
      "metadata": {
        "colab": {
          "base_uri": "https://localhost:8080/"
        },
        "id": "r35nZw-u5mAO",
        "outputId": "ab2e17c7-5e86-4cf8-b6f2-a1ee310bf329"
      },
      "execution_count": null,
      "outputs": [
        {
          "output_type": "stream",
          "name": "stdout",
          "text": [
            "8\n"
          ]
        }
      ]
    },
    {
      "cell_type": "code",
      "source": [
        "s = \"1350\"\n",
        "p = []\n",
        "for i in range(len(s)):\n",
        "  p.append(int(s[i]))\n",
        "def subg(p):\n",
        "  for i in range(len(p)):\n",
        "    if "
      ],
      "metadata": {
        "id": "0ucF54jK6_Ut"
      },
      "execution_count": null,
      "outputs": []
    },
    {
      "cell_type": "code",
      "source": [
        "p = set(a)\n",
        "print(p[0])"
      ],
      "metadata": {
        "colab": {
          "base_uri": "https://localhost:8080/",
          "height": 187
        },
        "id": "OriL6uB07Cqc",
        "outputId": "8b2d2f27-5d2a-4da8-e3a8-2194bde12005"
      },
      "execution_count": null,
      "outputs": [
        {
          "output_type": "error",
          "ename": "TypeError",
          "evalue": "ignored",
          "traceback": [
            "\u001b[0;31m---------------------------------------------------------------------------\u001b[0m",
            "\u001b[0;31mTypeError\u001b[0m                                 Traceback (most recent call last)",
            "\u001b[0;32m<ipython-input-6-1dd02147cf8b>\u001b[0m in \u001b[0;36m<module>\u001b[0;34m\u001b[0m\n\u001b[1;32m      1\u001b[0m \u001b[0mp\u001b[0m \u001b[0;34m=\u001b[0m \u001b[0mset\u001b[0m\u001b[0;34m(\u001b[0m\u001b[0ma\u001b[0m\u001b[0;34m)\u001b[0m\u001b[0;34m\u001b[0m\u001b[0;34m\u001b[0m\u001b[0m\n\u001b[0;32m----> 2\u001b[0;31m \u001b[0mprint\u001b[0m\u001b[0;34m(\u001b[0m\u001b[0mp\u001b[0m\u001b[0;34m[\u001b[0m\u001b[0;36m0\u001b[0m\u001b[0;34m]\u001b[0m\u001b[0;34m)\u001b[0m\u001b[0;34m\u001b[0m\u001b[0;34m\u001b[0m\u001b[0m\n\u001b[0m",
            "\u001b[0;31mTypeError\u001b[0m: 'set' object is not subscriptable"
          ]
        }
      ]
    },
    {
      "cell_type": "code",
      "source": [
        "a = [1,3,5,7,5]"
      ],
      "metadata": {
        "id": "gA1c0fm1AEz8"
      },
      "execution_count": null,
      "outputs": []
    },
    {
      "cell_type": "code",
      "source": [
        "my_dict = {i:a.count(i) for i in a}\n",
        "print(my_dict)"
      ],
      "metadata": {
        "colab": {
          "base_uri": "https://localhost:8080/"
        },
        "id": "tdphK3MdRsfM",
        "outputId": "5c6ac7e0-bf85-476e-d590-9828dda034ec"
      },
      "execution_count": null,
      "outputs": [
        {
          "output_type": "stream",
          "name": "stdout",
          "text": [
            "{1: 1, 3: 1, 5: 2, 7: 1}\n"
          ]
        }
      ]
    },
    {
      "cell_type": "code",
      "source": [
        "p = [7, 3, 7, 3]\n",
        "\n",
        "def uni(p):\n",
        "  if len(p)!= 0:\n",
        "    r = []\n",
        "    for i in range(len(p)-1):\n",
        "      min1 = float(\"inf\")\n",
        "      for j in range(i+1,len(p)):\n",
        "        min1 = min(min1,abs(p[j]-p[i]))\n",
        "      r.append(min1)\n",
        "    w = sorted(r)\n",
        "    return w[0]+w[1]\n",
        "\n",
        "\n",
        "\n"
      ],
      "metadata": {
        "id": "Gf4J1f8iRxUR"
      },
      "execution_count": null,
      "outputs": []
    },
    {
      "cell_type": "code",
      "source": [],
      "metadata": {
        "id": "EIrKZqboUOQD"
      },
      "execution_count": null,
      "outputs": []
    },
    {
      "cell_type": "code",
      "source": [
        "\n",
        "\n",
        "p = [0,0,1,0,1,0,0,0,1,1,1]\n",
        "q = [1,1,0,1,0,0,1,0,1,0,0]\n",
        "print(len(p),len(q))"
      ],
      "metadata": {
        "id": "t66UlKREUPVJ",
        "colab": {
          "base_uri": "https://localhost:8080/"
        },
        "outputId": "f5b069ad-cd18-43ea-e3af-a88b4cbe11f2"
      },
      "execution_count": null,
      "outputs": [
        {
          "output_type": "stream",
          "name": "stdout",
          "text": [
            "11 11\n"
          ]
        }
      ]
    },
    {
      "cell_type": "code",
      "source": [
        "def exit()\n",
        "\n",
        "r = []\n",
        "for i in range(len(p)):\n",
        "  if p[i]==1 and q[i]==0:\n",
        "    pass\n",
        "  elif p[i]==0 and q[i]==0:\n",
        "\n",
        "\n",
        "\n",
        "  \n",
        "\n",
        "\n"
      ],
      "metadata": {
        "colab": {
          "base_uri": "https://localhost:8080/",
          "height": 134
        },
        "id": "_SlsNbeFVhNW",
        "outputId": "4f951c6f-09d4-4d16-ab1d-ef3db9e33473"
      },
      "execution_count": null,
      "outputs": [
        {
          "output_type": "error",
          "ename": "SyntaxError",
          "evalue": "ignored",
          "traceback": [
            "\u001b[0;36m  File \u001b[0;32m\"<ipython-input-35-5dc02b8ed2fb>\"\u001b[0;36m, line \u001b[0;32m1\u001b[0m\n\u001b[0;31m    if max(res.values())>=3:\u001b[0m\n\u001b[0m                            ^\u001b[0m\n\u001b[0;31mSyntaxError\u001b[0m\u001b[0;31m:\u001b[0m unexpected EOF while parsing\n"
          ]
        }
      ]
    },
    {
      "cell_type": "code",
      "source": [
        "a,b = map(int,input().split())\n",
        "print(a,b)"
      ],
      "metadata": {
        "id": "gC_3oI3RW_A-",
        "colab": {
          "base_uri": "https://localhost:8080/"
        },
        "outputId": "c652f81d-6e47-4b09-b8c8-8391084b7f33"
      },
      "execution_count": null,
      "outputs": [
        {
          "output_type": "stream",
          "name": "stdout",
          "text": [
            "3 5\n",
            "3 5\n"
          ]
        }
      ]
    },
    {
      "cell_type": "code",
      "source": [
        "a,b,c = map(int,input().split())\n",
        "if a == 0:\n",
        "    print(b)\n",
        "elif b == 0:\n",
        "    print(a)\n",
        "elif a == 7 or b == 7:\n",
        "    print(7)\n",
        "elif a == b:\n",
        "    print(a)\n",
        "elif a + b <= 7:\n",
        "    print(a+b)\n",
        "elif a+b > 7:\n",
        "    print(7)"
      ],
      "metadata": {
        "colab": {
          "base_uri": "https://localhost:8080/"
        },
        "id": "E_i9Z-aZajud",
        "outputId": "7ed87dfb-bb88-401c-89a2-bf84a0892b5e"
      },
      "execution_count": null,
      "outputs": [
        {
          "output_type": "stream",
          "name": "stdout",
          "text": [
            "5\n",
            "6\n",
            "7\n"
          ]
        }
      ]
    },
    {
      "cell_type": "code",
      "source": [
        "N = 5\n",
        "K = 3\n",
        "geek = [0,1,2]\n",
        "\n",
        "for i in range(N):\n",
        "  geek.append(sum(geek[i:i+K]))"
      ],
      "metadata": {
        "id": "gADsQhgtdpb1"
      },
      "execution_count": null,
      "outputs": []
    },
    {
      "cell_type": "code",
      "source": [
        "geek"
      ],
      "metadata": {
        "colab": {
          "base_uri": "https://localhost:8080/"
        },
        "id": "I4JZ8nnwdkcS",
        "outputId": "616ff835-c304-4c34-ad82-9d98d208ecd7"
      },
      "execution_count": null,
      "outputs": [
        {
          "output_type": "execute_result",
          "data": {
            "text/plain": [
              "[0, 1, 2, 3, 6, 11, 20, 37]"
            ]
          },
          "metadata": {},
          "execution_count": 7
        }
      ]
    },
    {
      "cell_type": "code",
      "source": [
        "def removeDups(arr, n):\n",
        "    r = []\n",
        "    mp = {i : 0 for i in arr}\n",
        "    for i in range(n):\n",
        "      if mp[arr[i]] == 0:\n",
        "        r.append(arr[i])\n",
        "        mp[arr[i]] = 1\n",
        "    return r\n",
        "arr = [ 1, 2, 5, 1, 7, 2, 4, 2 ]\n",
        "n = len(arr)\n",
        "p = removeDups(arr,n)\n",
        "if (len(arr)-len(set(arr)))%2==0:\n",
        "  return reverse(p)\n",
        "else:\n",
        "  return p\n"
      ],
      "metadata": {
        "id": "N4Lij3DPeXZz"
      },
      "execution_count": null,
      "outputs": []
    },
    {
      "cell_type": "code",
      "source": [
        "S = \"abab\"\n",
        "p= list(S)"
      ],
      "metadata": {
        "id": "1KT6AmXrhCAW"
      },
      "execution_count": null,
      "outputs": []
    },
    {
      "cell_type": "code",
      "source": [
        "set(p)"
      ],
      "metadata": {
        "colab": {
          "base_uri": "https://localhost:8080/"
        },
        "id": "DPYPSR6NhDLg",
        "outputId": "7ee237a0-fd6d-4d0a-9427-928dc998861e"
      },
      "execution_count": null,
      "outputs": [
        {
          "output_type": "execute_result",
          "data": {
            "text/plain": [
              "{'a', 'b'}"
            ]
          },
          "metadata": {},
          "execution_count": 15
        }
      ]
    },
    {
      "cell_type": "code",
      "source": [
        "MyList = [\"b\", \"a\", \"a\", \"c\", \"b\", \"a\", \"c\",'a']\n",
        "duplicate_dict={}\n",
        "for i in MyList:\n",
        "    duplicate_dict[i]=MyList.count(i)\n",
        "g = 0\n",
        "for i in duplicate_dict.values():\n",
        "  if i>1:\n",
        "    g = g + 1\n"
      ],
      "metadata": {
        "id": "XsU38ypci0h4"
      },
      "execution_count": null,
      "outputs": []
    },
    {
      "cell_type": "code",
      "source": [
        "duplicate_dict"
      ],
      "metadata": {
        "id": "PHzh2r-hlSqM",
        "colab": {
          "base_uri": "https://localhost:8080/"
        },
        "outputId": "8f278713-3164-4070-b1f6-4fc3ab50891f"
      },
      "execution_count": null,
      "outputs": [
        {
          "output_type": "execute_result",
          "data": {
            "text/plain": [
              "{'b': 2, 'a': 4, 'c': 2}"
            ]
          },
          "metadata": {},
          "execution_count": 4
        }
      ]
    },
    {
      "cell_type": "code",
      "source": [
        "g"
      ],
      "metadata": {
        "colab": {
          "base_uri": "https://localhost:8080/"
        },
        "id": "Ott1NB17l0Dn",
        "outputId": "19406b8b-3fae-4759-dac5-c63183994283"
      },
      "execution_count": null,
      "outputs": [
        {
          "output_type": "execute_result",
          "data": {
            "text/plain": [
              "3"
            ]
          },
          "metadata": {},
          "execution_count": 20
        }
      ]
    },
    {
      "cell_type": "code",
      "source": [
        "x = {1: 2, 3: 4, 4: 3, 2: 1, 0: 0}\n",
        "p = {k: v for k, v in sorted(x.items(), key=lambda item: item[1])}"
      ],
      "metadata": {
        "id": "8A0ImEGrmB9N"
      },
      "execution_count": null,
      "outputs": []
    },
    {
      "cell_type": "code",
      "source": [
        "p"
      ],
      "metadata": {
        "colab": {
          "base_uri": "https://localhost:8080/"
        },
        "id": "Nq8uO149thct",
        "outputId": "51a64c15-acd7-47ce-df9d-0a7e2f79dd70"
      },
      "execution_count": null,
      "outputs": [
        {
          "output_type": "execute_result",
          "data": {
            "text/plain": [
              "{0: 0, 2: 1, 1: 2, 4: 3, 3: 4}"
            ]
          },
          "metadata": {},
          "execution_count": 3
        }
      ]
    },
    {
      "cell_type": "code",
      "source": [
        "\n",
        "print(keysList)"
      ],
      "metadata": {
        "colab": {
          "base_uri": "https://localhost:8080/"
        },
        "id": "3BplM6Ektqoy",
        "outputId": "3db7af26-6f2c-4d46-e598-7337c3ab6c63"
      },
      "execution_count": null,
      "outputs": [
        {
          "output_type": "stream",
          "name": "stdout",
          "text": [
            "[0, 2, 1, 4, 3]\n"
          ]
        }
      ]
    },
    {
      "cell_type": "code",
      "source": [
        "N=5\n",
        "NUM=3\n",
        "A=[1,1,3,4,3]\n",
        "Q=[[0,2,2],[0,2,1],[0,4,2]]\n",
        "def googl(LK,P):\n",
        "  l = P[0]\n",
        "  r = P[1]\n",
        "  k = P[2]\n",
        "  # Mylist= LK[l:len(LK)]\n",
        "  p = LK[l:r+1]\n",
        "\n",
        "  lk = []\n",
        "  for i in range(len(p)):\n",
        "    df = LK[l+i:len(LK)]\n",
        "    lk.append(df.count(p[i]))\n",
        "  # print(lk)\n",
        "  \n",
        "  return sum(o == k for o in lk)\n",
        "  # return l\n",
        "\n",
        "  #   if LK[i] in Mylist:\n",
        "  #     if LK[i] in l_dict:\n",
        "  #       l_dict[LK[i]] += 1\n",
        "  #     else:\n",
        "  #       l_dict[LK[i]] = 1\n",
        "  #   else:\n",
        "  #     continue\n",
        "  # q = list(l_dict.values())\n",
        "   \n",
        "\n"
      ],
      "metadata": {
        "id": "uM8EqSARt-xY"
      },
      "execution_count": null,
      "outputs": []
    },
    {
      "cell_type": "code",
      "source": [
        "pe = []\n",
        "for i in range(len(Q)):\n",
        "  pe.append(googl(A,Q[i]))\n",
        "print(pe)"
      ],
      "metadata": {
        "colab": {
          "base_uri": "https://localhost:8080/"
        },
        "id": "jBI7Fss751Js",
        "outputId": "5995e034-2c10-4294-f488-8651217f20cb"
      },
      "execution_count": null,
      "outputs": [
        {
          "output_type": "stream",
          "name": "stdout",
          "text": [
            "[2, 1, 2]\n"
          ]
        }
      ]
    },
    {
      "cell_type": "code",
      "source": [
        "words = [\"pennsylvania\", \"jarfly\", \"quimper\", \"acouophonia\", \"chemis\", \"subequally\", \"nace\", \"hyperchlorhydria\", \"calk\", \"unsponged\", \"independence\"]\n",
        "words = list(dict.fromkeys(words))\n",
        "l_dict = {}\n",
        "for i in range(len(words)):\n",
        "  if words[i][0] in l_dict:\n",
        "    l_dict[words[i][0]] += 1\n",
        "  else:\n",
        "    l_dict[words[i][0]] = 1\n",
        "\n"
      ],
      "metadata": {
        "id": "HZ3vv5zHBudp"
      },
      "execution_count": null,
      "outputs": []
    },
    {
      "cell_type": "code",
      "source": [
        "l_dict"
      ],
      "metadata": {
        "colab": {
          "base_uri": "https://localhost:8080/"
        },
        "id": "I0G8NWOfh3iJ",
        "outputId": "c51e1e88-cd5c-462c-fe5d-85fa493138a6"
      },
      "execution_count": null,
      "outputs": [
        {
          "output_type": "execute_result",
          "data": {
            "text/plain": [
              "{'p': 1,\n",
              " 'j': 1,\n",
              " 'q': 1,\n",
              " 'a': 1,\n",
              " 'c': 2,\n",
              " 's': 1,\n",
              " 'n': 1,\n",
              " 'h': 1,\n",
              " 'u': 1,\n",
              " 'i': 1}"
            ]
          },
          "metadata": {},
          "execution_count": 17
        }
      ]
    },
    {
      "cell_type": "code",
      "source": [
        "max(l_dict.values())\n"
      ],
      "metadata": {
        "id": "nSmyhPcEzJPt",
        "colab": {
          "base_uri": "https://localhost:8080/"
        },
        "outputId": "798031ea-b2cf-448e-a822-1dea641311e9"
      },
      "execution_count": null,
      "outputs": [
        {
          "output_type": "execute_result",
          "data": {
            "text/plain": [
              "2"
            ]
          },
          "metadata": {},
          "execution_count": 16
        }
      ]
    },
    {
      "cell_type": "code",
      "source": [
        "max_value"
      ],
      "metadata": {
        "colab": {
          "base_uri": "https://localhost:8080/"
        },
        "id": "FwOUcXd6zPJ_",
        "outputId": "ae55cc2f-adf4-4247-af7b-c12c56b6a776"
      },
      "execution_count": null,
      "outputs": [
        {
          "output_type": "execute_result",
          "data": {
            "text/plain": [
              "2"
            ]
          },
          "metadata": {},
          "execution_count": 7
        }
      ]
    },
    {
      "cell_type": "code",
      "source": [
        "8//3"
      ],
      "metadata": {
        "colab": {
          "base_uri": "https://localhost:8080/"
        },
        "id": "KMMPKzxc0SJj",
        "outputId": "dc774afa-2945-4157-d5fa-7a96caabd6d5"
      },
      "execution_count": null,
      "outputs": [
        {
          "output_type": "execute_result",
          "data": {
            "text/plain": [
              "2"
            ]
          },
          "metadata": {},
          "execution_count": 9
        }
      ]
    },
    {
      "cell_type": "code",
      "source": [
        "def len_split(string,sub_string):\n",
        "    n,sub,str1=list(string),len(sub_string),')/^0*/-'\n",
        "    for i in range(sub,len(n)+((len(n)-1)//sub),sub+1):\n",
        "        n.insert(i,str1)   \n",
        "    n=\"\".join(n)\n",
        "    n=n.split(str1)\n",
        "    return n\n",
        "\n",
        "x=\"divyansh_looking_for_intership_actively_contact_Me_here\"\n",
        "sub=\"four\"\n",
        "print(len_split(x,sub))"
      ],
      "metadata": {
        "colab": {
          "base_uri": "https://localhost:8080/"
        },
        "id": "EYNanRG-18J1",
        "outputId": "d0eeeb42-56bb-4ba8-d0cc-408b84e84f3d"
      },
      "execution_count": null,
      "outputs": [
        {
          "output_type": "stream",
          "name": "stdout",
          "text": [
            "['divy', 'ansh', '_loo', 'king', '_for', '_int', 'ersh', 'ip_a', 'ctiv', 'ely_', 'cont', 'act_', 'Me_h', 'ere']\n"
          ]
        }
      ]
    },
    {
      "cell_type": "code",
      "source": [
        "ASCII_SIZE = 256\n",
        "def getMaxOccurringChar(str):\n",
        "    count = [0] * ASCII_SIZE\n",
        "    max = -1\n",
        "    c = ''\n",
        "    for i in str:\n",
        "        count[ord(i)] += 1\n",
        " \n",
        "    for i in str:\n",
        "        if max < count[ord(i)]:\n",
        "            max = count[ord(i)]\n",
        "            c = i\n",
        " \n",
        "    return max\n",
        " \n",
        " \n",
        "# Driver program to test the above function\n",
        "str = \"sample string\"\n",
        "print(\"Max occurring character is\", getMaxOccurringChar(str))"
      ],
      "metadata": {
        "colab": {
          "base_uri": "https://localhost:8080/"
        },
        "id": "t9OnmhSQ3_hH",
        "outputId": "e2c0700e-0162-4c2b-8fb8-5528525c3b6c"
      },
      "execution_count": null,
      "outputs": [
        {
          "output_type": "stream",
          "name": "stdout",
          "text": [
            "Max occurring character is 2\n"
          ]
        }
      ]
    },
    {
      "cell_type": "code",
      "source": [
        "def qsort(inlist):\n",
        "    if inlist == []: \n",
        "        return []\n",
        "    else:\n",
        "        pivot = inlist[0]\n",
        "        lesser = qsort([x for x in inlist[1:] if x < pivot])\n",
        "        greater = qsort([x for x in inlist[1:] if x >= pivot])\n",
        "        return lesser + [pivot] + greater"
      ],
      "metadata": {
        "id": "q45Ftce96utp"
      },
      "execution_count": null,
      "outputs": []
    },
    {
      "cell_type": "code",
      "source": [
        "print(qsort([2,4,6,2,90,3]))"
      ],
      "metadata": {
        "colab": {
          "base_uri": "https://localhost:8080/"
        },
        "id": "0yUof9209Tjx",
        "outputId": "7a3e456b-ec43-4506-fc16-d6d45eb66fc5"
      },
      "execution_count": null,
      "outputs": [
        {
          "output_type": "stream",
          "name": "stdout",
          "text": [
            "[2, 2, 3, 4, 6, 90]\n"
          ]
        }
      ]
    },
    {
      "cell_type": "code",
      "source": [
        "def merge_sort(array):\n",
        "    if len(array) < 2:\n",
        "        return array\n",
        "\n",
        "    midpoint = len(array) // 2\n",
        "    return merge(\n",
        "        left=merge_sort(array[:midpoint]),\n",
        "        right=merge_sort(array[midpoint:]))"
      ],
      "metadata": {
        "id": "OsGKmav59ZWL"
      },
      "execution_count": null,
      "outputs": []
    },
    {
      "cell_type": "code",
      "source": [
        "print(merge_sort([2,4,6,2,90,3]))"
      ],
      "metadata": {
        "colab": {
          "base_uri": "https://localhost:8080/"
        },
        "id": "F75IuaOu-NuZ",
        "outputId": "e83c9b6a-f081-47dd-a884-9709b9406374"
      },
      "execution_count": null,
      "outputs": [
        {
          "output_type": "stream",
          "name": "stdout",
          "text": [
            "[2, 2, 3, 4, 6, 90]\n"
          ]
        }
      ]
    },
    {
      "cell_type": "code",
      "source": [
        "def merge(left, right):\n",
        "    if len(left) == 0:\n",
        "        return right\n",
        "    if len(right) == 0:\n",
        "        return left\n",
        "\n",
        "    result = []\n",
        "    index_left = index_right = 0\n",
        "    while len(result) < len(left) + len(right):\n",
        "        if left[index_left] <= right[index_right]:\n",
        "            result.append(left[index_left])\n",
        "            index_left += 1\n",
        "        else:\n",
        "            result.append(right[index_right])\n",
        "            index_right += 1\n",
        "        if index_right == len(right):\n",
        "            result += left[index_left:]\n",
        "            break\n",
        "\n",
        "        if index_left == len(left):\n",
        "            result += right[index_right:]\n",
        "            break\n",
        "\n",
        "    return result"
      ],
      "metadata": {
        "id": "slE3YMrX-Ri8"
      },
      "execution_count": null,
      "outputs": []
    },
    {
      "cell_type": "code",
      "source": [
        "import heapq\n",
        "a = [1,3,6,3,9,3]\n",
        "min_heap = [] \n",
        "    \n",
        "        #inserting all elements in heap.\n",
        "for num in a:\n",
        "  heapq.heappush(min_heap, num) "
      ],
      "metadata": {
        "id": "8sZTfApm-Yka"
      },
      "execution_count": null,
      "outputs": []
    },
    {
      "cell_type": "code",
      "source": [
        "min_heap"
      ],
      "metadata": {
        "id": "MfjY4bUdNH4M",
        "outputId": "6df66e53-7347-44b3-88d5-dc9318cb42cd",
        "colab": {
          "base_uri": "https://localhost:8080/"
        }
      },
      "execution_count": null,
      "outputs": [
        {
          "output_type": "execute_result",
          "data": {
            "text/plain": [
              "[1, 3, 3, 3, 9, 6]"
            ]
          },
          "metadata": {},
          "execution_count": 2
        }
      ]
    },
    {
      "cell_type": "code",
      "source": [
        "num = 45\n",
        "p = True\n",
        "if num > 1:\n",
        "    for i in range(2, int(num/2)+1):\n",
        "        if (num % i) == 0:\n",
        "          p = False\n",
        "          break"
      ],
      "metadata": {
        "id": "oinbqNnSNKCj"
      },
      "execution_count": null,
      "outputs": []
    },
    {
      "cell_type": "code",
      "source": [
        "def remove_items(test_list):\n",
        "  res = [i for i in test_list if i != 2 or i != 3 or i != 5]\n",
        "  return res"
      ],
      "metadata": {
        "id": "jOWltIky6fD5"
      },
      "execution_count": null,
      "outputs": []
    },
    {
      "cell_type": "code",
      "source": [
        "p = [2,3,5,3,2]\n",
        "print(remove_items(p))"
      ],
      "metadata": {
        "colab": {
          "base_uri": "https://localhost:8080/"
        },
        "id": "yh3AJMbR9vrM",
        "outputId": "5729c118-9e2b-4610-8359-9ae2f9c68e74"
      },
      "execution_count": null,
      "outputs": [
        {
          "output_type": "stream",
          "name": "stdout",
          "text": [
            "[2, 3, 5, 3, 2]\n"
          ]
        }
      ]
    },
    {
      "cell_type": "code",
      "source": [
        "def remove_items(test_list):\n",
        "    res = list(filter((2).__ne__, test_list))\n",
        "    res1 = list(filter((5).__ne__, res))\n",
        "    res2 = list(filter((3).__ne__, res1))\n",
        " \n",
        "    return res2"
      ],
      "metadata": {
        "id": "-AOIOdmt94R4"
      },
      "execution_count": null,
      "outputs": []
    },
    {
      "cell_type": "code",
      "source": [
        "remove_items(p)"
      ],
      "metadata": {
        "colab": {
          "base_uri": "https://localhost:8080/"
        },
        "id": "gBaWNAis-Qai",
        "outputId": "a8ed3b6c-3d3a-4d2a-e134-5452173ea879"
      },
      "execution_count": null,
      "outputs": [
        {
          "output_type": "execute_result",
          "data": {
            "text/plain": [
              "[]"
            ]
          },
          "metadata": {},
          "execution_count": 26
        }
      ]
    },
    {
      "cell_type": "code",
      "source": [
        "p - [2,3,5,1,4]"
      ],
      "metadata": {
        "colab": {
          "base_uri": "https://localhost:8080/",
          "height": 169
        },
        "id": "0_KrN9sR-XEJ",
        "outputId": "74895a50-6391-44e8-a797-031ac8432452"
      },
      "execution_count": null,
      "outputs": [
        {
          "output_type": "error",
          "ename": "TypeError",
          "evalue": "ignored",
          "traceback": [
            "\u001b[0;31m---------------------------------------------------------------------------\u001b[0m",
            "\u001b[0;31mTypeError\u001b[0m                                 Traceback (most recent call last)",
            "\u001b[0;32m<ipython-input-27-b41e5ac72fd8>\u001b[0m in \u001b[0;36m<module>\u001b[0;34m\u001b[0m\n\u001b[0;32m----> 1\u001b[0;31m \u001b[0mp\u001b[0m \u001b[0;34m-\u001b[0m \u001b[0;34m[\u001b[0m\u001b[0;36m2\u001b[0m\u001b[0;34m,\u001b[0m\u001b[0;36m3\u001b[0m\u001b[0;34m,\u001b[0m\u001b[0;36m5\u001b[0m\u001b[0;34m,\u001b[0m\u001b[0;36m1\u001b[0m\u001b[0;34m,\u001b[0m\u001b[0;36m4\u001b[0m\u001b[0;34m]\u001b[0m\u001b[0;34m\u001b[0m\u001b[0;34m\u001b[0m\u001b[0m\n\u001b[0m",
            "\u001b[0;31mTypeError\u001b[0m: unsupported operand type(s) for -: 'list' and 'list'"
          ]
        }
      ]
    },
    {
      "cell_type": "code",
      "source": [
        "def freq12(my_lis):\n",
        "  freq = {}\n",
        "  for item in my_lis:\n",
        "    if (item in freq):\n",
        "      freq[item] += 1\n",
        "    else:\n",
        "      freq[item] = 1\n",
        "  my_list = list(freq.values())\n",
        "  return len(set(my_list))==1"
      ],
      "metadata": {
        "id": "lOxTeOI3KIM0"
      },
      "execution_count": null,
      "outputs": []
    },
    {
      "cell_type": "code",
      "source": [
        "word = \"abcc\"\n",
        "my_lis = list(word)\n",
        "lk = my_lis\n",
        "u = False"
      ],
      "metadata": {
        "id": "EYLyb9EdE40-"
      },
      "execution_count": null,
      "outputs": []
    },
    {
      "cell_type": "code",
      "source": [
        "p = []\n",
        "p.append(my_lis[0])\n",
        "for i in range(0,len(word)):\n",
        "  p = word[i]\n",
        "  p.append(lk.pop(my_lis[i]))\n",
        "  if freq12(lk):\n",
        "    u = True\n",
        "    break\n",
        "  else:\n",
        "    continue\n",
        "  lk.insert(0,p[0])\n",
        "print(u)\n"
      ],
      "metadata": {
        "colab": {
          "base_uri": "https://localhost:8080/",
          "height": 241
        },
        "id": "0omoDgOJAfEP",
        "outputId": "52769797-247a-45dc-dcca-d06a8b39a70e"
      },
      "execution_count": null,
      "outputs": [
        {
          "output_type": "error",
          "ename": "TypeError",
          "evalue": "ignored",
          "traceback": [
            "\u001b[0;31m---------------------------------------------------------------------------\u001b[0m",
            "\u001b[0;31mTypeError\u001b[0m                                 Traceback (most recent call last)",
            "\u001b[0;32m<ipython-input-21-58283d0b28ec>\u001b[0m in \u001b[0;36m<module>\u001b[0;34m\u001b[0m\n\u001b[1;32m      2\u001b[0m \u001b[0mp\u001b[0m\u001b[0;34m.\u001b[0m\u001b[0mappend\u001b[0m\u001b[0;34m(\u001b[0m\u001b[0mmy_lis\u001b[0m\u001b[0;34m[\u001b[0m\u001b[0;36m0\u001b[0m\u001b[0;34m]\u001b[0m\u001b[0;34m)\u001b[0m\u001b[0;34m\u001b[0m\u001b[0;34m\u001b[0m\u001b[0m\n\u001b[1;32m      3\u001b[0m \u001b[0;32mfor\u001b[0m \u001b[0mi\u001b[0m \u001b[0;32min\u001b[0m \u001b[0mrange\u001b[0m\u001b[0;34m(\u001b[0m\u001b[0;36m1\u001b[0m\u001b[0;34m,\u001b[0m\u001b[0mlen\u001b[0m\u001b[0;34m(\u001b[0m\u001b[0mword\u001b[0m\u001b[0;34m)\u001b[0m\u001b[0;34m)\u001b[0m\u001b[0;34m:\u001b[0m\u001b[0;34m\u001b[0m\u001b[0;34m\u001b[0m\u001b[0m\n\u001b[0;32m----> 4\u001b[0;31m   \u001b[0mp\u001b[0m\u001b[0;34m.\u001b[0m\u001b[0mappend\u001b[0m\u001b[0;34m(\u001b[0m\u001b[0mlk\u001b[0m\u001b[0;34m.\u001b[0m\u001b[0mpop\u001b[0m\u001b[0;34m(\u001b[0m\u001b[0mmy_lis\u001b[0m\u001b[0;34m[\u001b[0m\u001b[0mi\u001b[0m\u001b[0;34m]\u001b[0m\u001b[0;34m)\u001b[0m\u001b[0;34m)\u001b[0m\u001b[0;34m\u001b[0m\u001b[0;34m\u001b[0m\u001b[0m\n\u001b[0m\u001b[1;32m      5\u001b[0m   \u001b[0;32mif\u001b[0m \u001b[0mfreq12\u001b[0m\u001b[0;34m(\u001b[0m\u001b[0mlk\u001b[0m\u001b[0;34m)\u001b[0m\u001b[0;34m:\u001b[0m\u001b[0;34m\u001b[0m\u001b[0;34m\u001b[0m\u001b[0m\n\u001b[1;32m      6\u001b[0m     \u001b[0mu\u001b[0m \u001b[0;34m=\u001b[0m \u001b[0;32mTrue\u001b[0m\u001b[0;34m\u001b[0m\u001b[0;34m\u001b[0m\u001b[0m\n",
            "\u001b[0;31mTypeError\u001b[0m: 'str' object cannot be interpreted as an integer"
          ]
        }
      ]
    },
    {
      "cell_type": "code",
      "source": [
        "my_list"
      ],
      "metadata": {
        "colab": {
          "base_uri": "https://localhost:8080/"
        },
        "id": "zcliH1r-B2FX",
        "outputId": "a98753ef-19c4-4346-f9d1-42071c107d2e"
      },
      "execution_count": null,
      "outputs": [
        {
          "output_type": "execute_result",
          "data": {
            "text/plain": [
              "[1, 1, 2]"
            ]
          },
          "metadata": {},
          "execution_count": 7
        }
      ]
    },
    {
      "cell_type": "code",
      "source": [
        "S = \"aacecaaa\"\n",
        "s = list(S)\n",
        "p = reversed(s)\n",
        "while(s!=p):\n",
        "  p.extend()\n",
        "  "
      ],
      "metadata": {
        "id": "clgyqqMkCF_R"
      },
      "execution_count": null,
      "outputs": []
    },
    {
      "cell_type": "code",
      "source": [
        "n, m = list(map(int,input().split()))"
      ],
      "metadata": {
        "colab": {
          "base_uri": "https://localhost:8080/",
          "height": 187
        },
        "id": "xTmzqkdFqN9V",
        "outputId": "07f18922-401e-4bab-dda5-70011827c1e6"
      },
      "execution_count": null,
      "outputs": [
        {
          "name": "stdout",
          "output_type": "stream",
          "text": [
            "3\n"
          ]
        },
        {
          "output_type": "error",
          "ename": "ValueError",
          "evalue": "ignored",
          "traceback": [
            "\u001b[0;31m---------------------------------------------------------------------------\u001b[0m",
            "\u001b[0;31mValueError\u001b[0m                                Traceback (most recent call last)",
            "\u001b[0;32m<ipython-input-17-65fbb69d9aec>\u001b[0m in \u001b[0;36m<module>\u001b[0;34m\u001b[0m\n\u001b[0;32m----> 1\u001b[0;31m \u001b[0mn\u001b[0m\u001b[0;34m,\u001b[0m \u001b[0mm\u001b[0m \u001b[0;34m=\u001b[0m \u001b[0mlist\u001b[0m\u001b[0;34m(\u001b[0m\u001b[0mmap\u001b[0m\u001b[0;34m(\u001b[0m\u001b[0mint\u001b[0m\u001b[0;34m,\u001b[0m\u001b[0minput\u001b[0m\u001b[0;34m(\u001b[0m\u001b[0;34m)\u001b[0m\u001b[0;34m.\u001b[0m\u001b[0msplit\u001b[0m\u001b[0;34m(\u001b[0m\u001b[0;34m)\u001b[0m\u001b[0;34m)\u001b[0m\u001b[0;34m)\u001b[0m\u001b[0;34m\u001b[0m\u001b[0;34m\u001b[0m\u001b[0m\n\u001b[0m",
            "\u001b[0;31mValueError\u001b[0m: not enough values to unpack (expected 2, got 1)"
          ]
        }
      ]
    },
    {
      "cell_type": "code",
      "source": [
        "n, m = list(map(int,input().split()))\n",
        "p = [\"1\",\"2\",\"3\",\"4\",\"5\",\"6\",\"7\",\"8\",\"9\"]\n",
        "s = ''\n",
        "h = -1\n",
        "while(n>0):\n",
        "  for i in range(len(p)):\n",
        "    for j in range(n):\n",
        "      s = s + p[-i-1]\n",
        "    if int(s)%m==0:\n",
        "      h = int(s)\n",
        "      break\n",
        "    else:\n",
        "      s = \"\"\n",
        "  if h%m==0:\n",
        "    break\n",
        "  else:\n",
        "    n = n-1\n",
        "print(h)\n"
      ],
      "metadata": {
        "colab": {
          "base_uri": "https://localhost:8080/"
        },
        "id": "O0PI0rBUlWpu",
        "outputId": "e41e7872-7237-435f-f1df-dd52774d486d"
      },
      "execution_count": null,
      "outputs": [
        {
          "output_type": "stream",
          "name": "stdout",
          "text": [
            "999999999999999999999999999999\n",
            "999999999999999999999999999999\n"
          ]
        }
      ]
    },
    {
      "cell_type": "code",
      "source": [
        "s = \"888888\""
      ],
      "metadata": {
        "id": "CIEjZ5ZFm8VJ"
      },
      "execution_count": null,
      "outputs": []
    },
    {
      "cell_type": "code",
      "source": [
        "int(s)%12"
      ],
      "metadata": {
        "colab": {
          "base_uri": "https://localhost:8080/"
        },
        "id": "zJFBUlCvnV_k",
        "outputId": "4c4b470c-16a6-488b-bc82-cf4b6c3bcf1d"
      },
      "execution_count": null,
      "outputs": [
        {
          "output_type": "execute_result",
          "data": {
            "text/plain": [
              "0"
            ]
          },
          "metadata": {},
          "execution_count": 10
        }
      ]
    },
    {
      "cell_type": "code",
      "source": [
        "output_file_path = \"ts1.txt\"\n",
        "input_file_path = \"ts.txt\"\n",
        "completed_lines_hash = set()\n",
        "p = []\n",
        "for line in open(input_file_path, \"r\"):\n",
        "  if len(p)==0:\n",
        "    p.append(line)\n",
        "  else:\n",
        "    if p[-1]==line:\n",
        "      continue\n",
        "    else:\n",
        "      p.append(line)\n",
        "\n",
        "\n",
        "c = (\"\".join(p))\n",
        "text_file = open(output_file_path, \"w\")\n",
        "text_file.write(c)\n",
        "text_file.close()\n"
      ],
      "metadata": {
        "id": "TiXiY0MdnZtw"
      },
      "execution_count": null,
      "outputs": []
    },
    {
      "cell_type": "code",
      "source": [
        "p"
      ],
      "metadata": {
        "colab": {
          "base_uri": "https://localhost:8080/"
        },
        "id": "HDsU87ah0NKY",
        "outputId": "b6fc11e0-86af-4b62-b602-b132598b5fc6"
      },
      "execution_count": null,
      "outputs": [
        {
          "output_type": "execute_result",
          "data": {
            "text/plain": [
              "['Hello.\\n', 'Hey.\\n', 'Hello.\\n', 'Hey.\\n']"
            ]
          },
          "metadata": {},
          "execution_count": 47
        }
      ]
    },
    {
      "cell_type": "code",
      "source": [
        "from google.colab import drive\n",
        "drive.mount('/content/drive')"
      ],
      "metadata": {
        "id": "ExyNDPv-0CMn"
      },
      "execution_count": null,
      "outputs": []
    },
    {
      "cell_type": "code",
      "source": [
        "p\n",
        "i = 0\n",
        "\n",
        "while i < len(p)-1:\n",
        "    if p[i] == p[i+1]:\n",
        "        del p[i]\n",
        "    else:\n",
        "        i = i+1"
      ],
      "metadata": {
        "id": "U5HhXm9px4-d"
      },
      "execution_count": null,
      "outputs": []
    },
    {
      "cell_type": "code",
      "source": [
        "p\n",
        "print(\"\".join(p))"
      ],
      "metadata": {
        "colab": {
          "base_uri": "https://localhost:8080/"
        },
        "id": "JpaLR78-yi6p",
        "outputId": "e723535e-5a74-4aa2-e19e-a63c0dc9e5f4"
      },
      "execution_count": null,
      "outputs": [
        {
          "output_type": "stream",
          "name": "stdout",
          "text": [
            "Hello.\n",
            "Hey.\n",
            "Hello.\n",
            "Hey.\n",
            "\n"
          ]
        }
      ]
    },
    {
      "cell_type": "code",
      "source": [
        "with open('ts.txt', 'r') as f:\n",
        "    myNames = [line.strip() for line in f]"
      ],
      "metadata": {
        "id": "E-CGJKMOwEqk"
      },
      "execution_count": null,
      "outputs": []
    },
    {
      "cell_type": "code",
      "source": [
        "myNames"
      ],
      "metadata": {
        "colab": {
          "base_uri": "https://localhost:8080/"
        },
        "id": "Id_XaokfxktF",
        "outputId": "c542925f-3290-4cc9-c461-7405f93b6d66"
      },
      "execution_count": null,
      "outputs": [
        {
          "output_type": "execute_result",
          "data": {
            "text/plain": [
              "[]"
            ]
          },
          "metadata": {},
          "execution_count": 34
        }
      ]
    },
    {
      "cell_type": "code",
      "source": [
        "s1 = [\"cat\", \"catanddog\", \"lion\"]\n",
        "s2 = [\"cat\", \"dog\", \"rat\"]"
      ],
      "metadata": {
        "id": "IotMxpOaxmMi"
      },
      "execution_count": null,
      "outputs": []
    },
    {
      "cell_type": "code",
      "source": [
        "ans = 0\n",
        "for i in range(len(s2)):\n",
        "  for j in range(len(s1)):\n",
        "    if s2[i] in s1[j]:\n",
        "      if s2[i]!=s1[j]:      \n",
        "        ans = ans + 1\n",
        "        break\n",
        "print(ans)"
      ],
      "metadata": {
        "colab": {
          "base_uri": "https://localhost:8080/"
        },
        "id": "_RxU6PRg9ZaS",
        "outputId": "fa2a887e-ed9a-41ad-b186-146f6c285e2b"
      },
      "execution_count": null,
      "outputs": [
        {
          "output_type": "stream",
          "name": "stdout",
          "text": [
            "2\n"
          ]
        }
      ]
    },
    {
      "cell_type": "code",
      "source": [
        "def searchNode(self, root, value):\n",
        "  if(root == None):\n",
        "    return 0\n",
        "  elif root.data == value:\n",
        "    return sumd(root)\n",
        "  else:\n",
        "    if root.left != None:\n",
        "      searchNode(root.left, value)\n",
        "    elif root.right != None:\n",
        "      searchNode(root.right, value)\n",
        "def sumd(root):\n",
        "  ans = 0\n",
        "  if root.left != None:\n",
        "    f = root.left\n",
        "    if f.right != None:\n",
        "      ans = ans + f.right.data\n",
        "  elif root.right != None:\n",
        "    f = root.right\n",
        "    if f.left != None:\n",
        "      ans = ans + f.right.data\n",
        "  return ans\n",
        "\n"
      ],
      "metadata": {
        "id": "hrjaBihu9jD6"
      },
      "execution_count": null,
      "outputs": []
    },
    {
      "cell_type": "code",
      "source": [
        "def SieveOfEratosthenes(n):\n",
        "    prime = [True for i in range(n+1)]\n",
        "    p = 2\n",
        "    while (p * p <= n):\n",
        "        if (prime[p] == True):\n",
        "            for i in range(p * p, n+1, p):\n",
        "                prime[i] = False\n",
        "        p += 1\n",
        "    ans = 0\n",
        "    for p in range(2, n+1):\n",
        "      if prime[p]:\n",
        "        if n%p==0:\n",
        "          ans+=p\n",
        "    if ans==0:\n",
        "      return n\n",
        "    else:\n",
        "      return ans"
      ],
      "metadata": {
        "id": "A0BlKYFTpUHi"
      },
      "execution_count": null,
      "outputs": []
    },
    {
      "cell_type": "code",
      "source": [
        "SieveOfEratosthenes(1)"
      ],
      "metadata": {
        "colab": {
          "base_uri": "https://localhost:8080/"
        },
        "id": "5K1Egd3AqMnR",
        "outputId": "e5565b68-59bf-44c5-bffb-db9c93b64ede"
      },
      "execution_count": null,
      "outputs": [
        {
          "output_type": "execute_result",
          "data": {
            "text/plain": [
              "1"
            ]
          },
          "metadata": {},
          "execution_count": 9
        }
      ]
    },
    {
      "cell_type": "code",
      "source": [
        "def pkh(num):\n",
        "  if num > 1:\n",
        "    p = True\n",
        "    for i in range(2, int(num/2)+1):\n",
        "      if (num % i) == 0:\n",
        "        p = False\n",
        "        break\n",
        "      else:\n",
        "        continue\n",
        "    return p\n",
        "  else:\n",
        "    return False\n",
        " \n",
        "\n",
        "def prime1(n):\n",
        "  ans = 0\n",
        "  if n>1:\n",
        "    for i in range(2,n//2 +1):\n",
        "      if n%i==0:\n",
        "        if pkh(i):\n",
        "          ans = ans + i\n",
        "  if ans == 1 or ans==0:\n",
        "    return n\n",
        "  else:\n",
        "    return ans\n",
        "\n"
      ],
      "metadata": {
        "id": "EbaavgPC_-AI"
      },
      "execution_count": null,
      "outputs": []
    },
    {
      "cell_type": "code",
      "source": [
        "prime1(6)"
      ],
      "metadata": {
        "colab": {
          "base_uri": "https://localhost:8080/"
        },
        "id": "AyQHD0o-BmFd",
        "outputId": "7568e06b-8504-4bc2-b776-33206c98a55b"
      },
      "execution_count": null,
      "outputs": [
        {
          "output_type": "execute_result",
          "data": {
            "text/plain": [
              "5"
            ]
          },
          "metadata": {},
          "execution_count": 2
        }
      ]
    },
    {
      "cell_type": "code",
      "source": [
        "l= 4\n",
        "r = 13"
      ],
      "metadata": {
        "id": "p_EV6N-oASed"
      },
      "execution_count": null,
      "outputs": []
    },
    {
      "cell_type": "code",
      "source": [
        "p = 0\n",
        "for i in range(l,r+1):\n",
        "  print(prime1(i))\n",
        "  p = p + prime1(i)\n"
      ],
      "metadata": {
        "colab": {
          "base_uri": "https://localhost:8080/"
        },
        "id": "ne7QDn6YAV4r",
        "outputId": "b0d7e0c3-8216-4bdf-c868-fdd9f08c14ce"
      },
      "execution_count": null,
      "outputs": [
        {
          "output_type": "stream",
          "name": "stdout",
          "text": [
            "2\n",
            "5\n",
            "5\n",
            "7\n",
            "2\n",
            "3\n",
            "7\n",
            "11\n",
            "5\n",
            "13\n"
          ]
        }
      ]
    },
    {
      "cell_type": "code",
      "source": [
        "p"
      ],
      "metadata": {
        "id": "UTLuK_LoalTj",
        "outputId": "2b8e5093-bef8-4234-c9e0-dce1b612df0c",
        "colab": {
          "base_uri": "https://localhost:8080/"
        }
      },
      "execution_count": null,
      "outputs": [
        {
          "output_type": "execute_result",
          "data": {
            "text/plain": [
              "60"
            ]
          },
          "metadata": {},
          "execution_count": 5
        }
      ]
    },
    {
      "cell_type": "code",
      "source": [
        "def pkh(num):\n",
        "  if num > 1:\n",
        "    p = True\n",
        "    for i in range(2, int(num/2)+1):\n",
        "      if (num % i) == 0:\n",
        "        p = False\n",
        "        break\n",
        "      else:\n",
        "        continue\n",
        "    return p\n",
        "  else:\n",
        "    return False\n",
        " "
      ],
      "metadata": {
        "colab": {
          "base_uri": "https://localhost:8080/"
        },
        "id": "-cDg7MJQAvmB",
        "outputId": "5fed3d37-c0a5-4568-e3f0-e59ee8632960"
      },
      "execution_count": null,
      "outputs": [
        {
          "output_type": "execute_result",
          "data": {
            "text/plain": [
              "3"
            ]
          },
          "metadata": {},
          "execution_count": 37
        }
      ]
    },
    {
      "cell_type": "code",
      "source": [],
      "metadata": {
        "id": "YxAXKHFQA_-Y"
      },
      "execution_count": null,
      "outputs": []
    }
  ],
  "metadata": {
    "colab": {
      "provenance": [],
      "authorship_tag": "ABX9TyPIGpG9XmggNzkW/Telorxq",
      "include_colab_link": true
    },
    "kernelspec": {
      "display_name": "Python 3",
      "name": "python3"
    },
    "language_info": {
      "name": "python"
    }
  },
  "nbformat": 4,
  "nbformat_minor": 0
}