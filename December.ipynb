{
  "cells": [
    {
      "cell_type": "markdown",
      "metadata": {
        "id": "view-in-github",
        "colab_type": "text"
      },
      "source": [
        "<a href=\"https://colab.research.google.com/github/praveensaharan/rust-calculetor/blob/main/December.ipynb\" target=\"_parent\"><img src=\"https://colab.research.google.com/assets/colab-badge.svg\" alt=\"Open In Colab\"/></a>"
      ]
    },
    {
      "cell_type": "code",
      "execution_count": null,
      "metadata": {
        "colab": {
          "base_uri": "https://localhost:8080/",
          "height": 36
        },
        "id": "HQFgIkBNcFIh",
        "outputId": "8b15dfd9-73af-40fc-d93c-e0bc9c42578b"
      },
      "outputs": [
        {
          "data": {
            "application/vnd.google.colaboratory.intrinsic+json": {
              "type": "string"
            },
            "text/plain": [
              "'uo'"
            ]
          },
          "execution_count": 23,
          "metadata": {},
          "output_type": "execute_result"
        }
      ],
      "source": [
        "s = \"Uo\"\n",
        "s.lower()"
      ]
    },
    {
      "cell_type": "code",
      "execution_count": null,
      "metadata": {
        "colab": {
          "base_uri": "https://localhost:8080/"
        },
        "id": "iifLwgyBcNPU",
        "outputId": "71c7d254-361b-425a-a62a-499c65d107bb"
      },
      "outputs": [
        {
          "name": "stdout",
          "output_type": "stream",
          "text": [
            "False\n"
          ]
        }
      ],
      "source": [
        "s.lower()\n",
        "p =  ['a', 'e', 'i', 'o', 'u']\n",
        "q = len(s)//2\n",
        "ans1,ans2 = 0,0\n",
        "for i in range(0,q):\n",
        "  ans1 = ans1 + p.count(s[:q][i])\n",
        "  ans2 = ans2 + p.count(s[q:][i])\n",
        "if ans1 == ans2:\n",
        "  print(True)\n",
        "else:\n",
        "  print(False)\n"
      ]
    },
    {
      "cell_type": "code",
      "execution_count": null,
      "metadata": {
        "id": "vQHyS_UMcQZU"
      },
      "outputs": [],
      "source": [
        "q = len(s)//2"
      ]
    },
    {
      "cell_type": "code",
      "execution_count": null,
      "metadata": {
        "colab": {
          "base_uri": "https://localhost:8080/",
          "height": 36
        },
        "id": "R7antQFqeqBz",
        "outputId": "95a90938-8625-44b7-adea-c5540fa877a5"
      },
      "outputs": [
        {
          "data": {
            "application/vnd.google.colaboratory.intrinsic+json": {
              "type": "string"
            },
            "text/plain": [
              "'U'"
            ]
          },
          "execution_count": 24,
          "metadata": {},
          "output_type": "execute_result"
        }
      ],
      "source": [
        "s[0]"
      ]
    },
    {
      "cell_type": "code",
      "execution_count": null,
      "metadata": {
        "colab": {
          "base_uri": "https://localhost:8080/"
        },
        "id": "ZcTh80jNeT2P",
        "outputId": "e46c5a3e-2869-4400-9629-660b32bce5d2"
      },
      "outputs": [
        {
          "data": {
            "text/plain": [
              "0"
            ]
          },
          "execution_count": 21,
          "metadata": {},
          "output_type": "execute_result"
        }
      ],
      "source": [
        "p.count(s[0])"
      ]
    },
    {
      "cell_type": "code",
      "execution_count": null,
      "metadata": {
        "id": "LINeqdh7c0P1"
      },
      "outputs": [],
      "source": [
        "for i in range(q):\n",
        "  ans1 = ans1 + p.count(s[:q][i])\n",
        "  ans2 = ans2 + p.count(s[q:][i])"
      ]
    },
    {
      "cell_type": "code",
      "execution_count": null,
      "metadata": {
        "colab": {
          "base_uri": "https://localhost:8080/"
        },
        "id": "rj7ub0yqda8I",
        "outputId": "7b1cca1c-9c44-4884-f848-9fe41bb87470"
      },
      "outputs": [
        {
          "data": {
            "text/plain": [
              "1"
            ]
          },
          "execution_count": 9,
          "metadata": {},
          "output_type": "execute_result"
        }
      ],
      "source": [
        "ans2"
      ]
    },
    {
      "cell_type": "code",
      "execution_count": null,
      "metadata": {
        "id": "S_AJxiDldfyf"
      },
      "outputs": [],
      "source": [
        "S=\"B##A\"\n",
        "T=\"#BA#\"\n",
        "def Hello(S):\n",
        "  p = list(S)\n",
        "  p = list(filter((\"#\").__ne__, p))\n",
        "  p = list(filter((\"\").__ne__, p))\n",
        "  print(p)\n",
        "  return p\n",
        "\n"
      ]
    },
    {
      "cell_type": "code",
      "execution_count": null,
      "metadata": {
        "colab": {
          "base_uri": "https://localhost:8080/"
        },
        "id": "1waorKHojPo_",
        "outputId": "0dfe60e4-4908-49bf-9d56-a4d32b46c631"
      },
      "outputs": [
        {
          "name": "stdout",
          "output_type": "stream",
          "text": [
            "['B', 'A']\n",
            "['B', 'A']\n",
            "1\n"
          ]
        }
      ],
      "source": [
        "if Hello(S)==Hello(T):\n",
        "  print(1)\n",
        "else:\n",
        "  print(0)"
      ]
    },
    {
      "cell_type": "code",
      "execution_count": null,
      "metadata": {
        "colab": {
          "base_uri": "https://localhost:8080/"
        },
        "id": "NKVPtVX8jRha",
        "outputId": "6e9365e8-de83-422c-80ca-411454b1a30e"
      },
      "outputs": [
        {
          "name": "stdout",
          "output_type": "stream",
          "text": [
            "4\n",
            "2\n",
            "0\n",
            "0\n"
          ]
        }
      ],
      "source": [
        "stall = [10,1,2,7,5]\n",
        "k = 3\n",
        "stalls = sorted(stall)\n",
        "d = float(\"inf\")\n",
        "low = 0\n",
        "high = len(stalls)\n",
        "for i in range(k):\n",
        "  mid = (low)+((high-low)//2)\n",
        "  if i == k-1:\n",
        "    d = min(d,stalls[-1]-stalls[mid])\n",
        "    print(stalls[-1]-stalls[mid])\n",
        "  else:\n",
        "    d = min(d,stalls[mid]-stalls[low])\n",
        "    print(stalls[mid]-stalls[low])\n",
        "    low = mid\n",
        "\n",
        "print(d)"
      ]
    },
    {
      "cell_type": "code",
      "execution_count": null,
      "metadata": {
        "id": "V6WDOAFN23bk"
      },
      "outputs": [],
      "source": [
        "def middle(s):\n",
        "  mid = (low+high)//2\n",
        "  p = s[mid]\n",
        "  q= p-s[low]\n",
        "  low = mid\n",
        "  return q,mid"
      ]
    },
    {
      "cell_type": "code",
      "execution_count": null,
      "metadata": {
        "id": "OaU7Jqgc3EEb"
      },
      "outputs": [],
      "source": [
        "from collections import Counter "
      ]
    },
    {
      "cell_type": "code",
      "execution_count": null,
      "metadata": {
        "id": "vMZQZXiH-RQf"
      },
      "outputs": [],
      "source": [
        "s = \"Aabb\"\n",
        "c = Counter(s)"
      ]
    },
    {
      "cell_type": "code",
      "execution_count": null,
      "metadata": {
        "colab": {
          "base_uri": "https://localhost:8080/"
        },
        "id": "2Vc7ZOhD--by",
        "outputId": "cdb85411-76b6-49e0-89f1-9082526bd4c4"
      },
      "outputs": [
        {
          "data": {
            "text/plain": [
              "Counter({'A': 1, 'a': 1, 'b': 2})"
            ]
          },
          "execution_count": 27,
          "metadata": {},
          "output_type": "execute_result"
        }
      ],
      "source": [
        "c"
      ]
    },
    {
      "cell_type": "code",
      "execution_count": null,
      "metadata": {
        "id": "NOK_AJgn-_RM"
      },
      "outputs": [],
      "source": [
        "from collections import Counter \n",
        "c = Counter(s)\n",
        "p = dict(sorted(c.items(), key=lambda item: item[1],reverse=True))\n",
        "l = \"\"\n",
        "q = list(p.keys())\n",
        "for i in range(len(q)):\n",
        "  l = l + q[i]*int(p[q[i]])\n"
      ]
    },
    {
      "cell_type": "code",
      "execution_count": null,
      "metadata": {
        "colab": {
          "base_uri": "https://localhost:8080/"
        },
        "id": "7C7ajzYdDd8H",
        "outputId": "061ff18d-b05a-4d2a-dbae-c8ee24608fd6"
      },
      "outputs": [
        {
          "name": "stdout",
          "output_type": "stream",
          "text": [
            "bbAa\n"
          ]
        }
      ],
      "source": [
        "l = \"\"\n",
        "q = list(p.keys())\n",
        "for i in range(len(q)):\n",
        "  l = l + q[i]*int(p[q[i]])\n",
        "print(l)"
      ]
    },
    {
      "cell_type": "code",
      "execution_count": null,
      "metadata": {
        "id": "VP34RJEMC0VZ"
      },
      "outputs": [],
      "source": [
        " keys = \"\".join(list(dict(sorted(c.items(), key=lambda item: item[1],reverse=True)).keys()))"
      ]
    },
    {
      "cell_type": "code",
      "execution_count": null,
      "metadata": {
        "colab": {
          "base_uri": "https://localhost:8080/",
          "height": 36
        },
        "id": "qQWT2x8pDN8E",
        "outputId": "f5b394bd-f61b-412e-e59b-3b186884a826"
      },
      "outputs": [
        {
          "data": {
            "application/vnd.google.colaboratory.intrinsic+json": {
              "type": "string"
            },
            "text/plain": [
              "'bAa'"
            ]
          },
          "execution_count": 23,
          "metadata": {},
          "output_type": "execute_result"
        }
      ],
      "source": [
        "keys"
      ]
    },
    {
      "cell_type": "code",
      "execution_count": null,
      "metadata": {
        "colab": {
          "base_uri": "https://localhost:8080/",
          "height": 36
        },
        "id": "haH4wVc6DPMD",
        "outputId": "c1fb445b-541b-48b9-ce30-bd2299e5f503"
      },
      "outputs": [
        {
          "data": {
            "application/vnd.google.colaboratory.intrinsic+json": {
              "type": "string"
            },
            "text/plain": [
              "'aa'"
            ]
          },
          "execution_count": 36,
          "metadata": {},
          "output_type": "execute_result"
        }
      ],
      "source": [
        "\"a\"*2"
      ]
    },
    {
      "cell_type": "markdown",
      "metadata": {
        "id": "Zs_ojVEY5lOB"
      },
      "source": [
        "6 5\n",
        "#.#.#\n",
        "....#\n",
        "..##.\n",
        "####.\n",
        "..#..\n",
        "#####"
      ]
    },
    {
      "cell_type": "code",
      "execution_count": null,
      "metadata": {
        "colab": {
          "base_uri": "https://localhost:8080/"
        },
        "id": "8YovG4gwEpFH",
        "outputId": "092fa108-5291-44d4-8b44-c7aa392c1fae"
      },
      "outputs": [
        {
          "name": "stdout",
          "output_type": "stream",
          "text": [
            "3 5\n"
          ]
        }
      ],
      "source": [
        "n,k = map(int,input().split())"
      ]
    },
    {
      "cell_type": "code",
      "execution_count": null,
      "metadata": {
        "colab": {
          "base_uri": "https://localhost:8080/"
        },
        "id": "pg5Nfv4f8X2M",
        "outputId": "80e4293a-9f9c-4ef1-9b50-e15758094903"
      },
      "outputs": [
        {
          "name": "stdout",
          "output_type": "stream",
          "text": [
            ".....##...#\n",
            ".....#####....\n",
            "##.......\n"
          ]
        }
      ],
      "source": [
        "n,k = map(int,input().split())\n",
        "p = 0\n",
        "for i in range(n):\n",
        "  r = list(input())\n",
        "  p = p + r.count(\"#\")\n",
        "print(p)\n"
      ]
    },
    {
      "cell_type": "code",
      "execution_count": null,
      "metadata": {
        "id": "sOJ7eSPj8bN8"
      },
      "outputs": [],
      "source": [
        "p = [3,4,8]"
      ]
    },
    {
      "cell_type": "code",
      "execution_count": null,
      "metadata": {
        "id": "UoGxRGFF9YIa"
      },
      "outputs": [],
      "source": [
        "r = []\n",
        "for i in range(len(p)):\n",
        "  if len(r)==0:\n",
        "    r.append(p[i])\n",
        "  else:\n",
        "    r.append(p[i]-p[i-1])"
      ]
    },
    {
      "cell_type": "code",
      "execution_count": null,
      "metadata": {
        "colab": {
          "base_uri": "https://localhost:8080/"
        },
        "id": "WkEOgx-w9bRF",
        "outputId": "19101ca9-e3eb-42ce-82bf-408707e89e5d"
      },
      "outputs": [
        {
          "data": {
            "text/plain": [
              "[3, 1, 4]"
            ]
          },
          "execution_count": 30,
          "metadata": {},
          "output_type": "execute_result"
        }
      ],
      "source": [
        "r"
      ]
    },
    {
      "cell_type": "code",
      "execution_count": null,
      "metadata": {
        "colab": {
          "base_uri": "https://localhost:8080/"
        },
        "id": "TvZVi9HJ_ucN",
        "outputId": "2d099784-369f-41ed-ec5a-2659dc259090"
      },
      "outputs": [
        {
          "name": "stdout",
          "output_type": "stream",
          "text": [
            "3\n",
            "3 4 8\n",
            "[3, 1, 4]\n"
          ]
        }
      ],
      "source": [
        "n = int(input())\n",
        "p = list(map(int,input().split()))\n",
        "r = []\n",
        "for i in range(len(p)):\n",
        "  if len(r)==0:\n",
        "    r.append(p[i])\n",
        "  else:\n",
        "    r.append(p[i]-p[i-1])\n",
        "\n",
        "print(r)"
      ]
    },
    {
      "cell_type": "code",
      "execution_count": null,
      "metadata": {
        "colab": {
          "base_uri": "https://localhost:8080/"
        },
        "id": "OmnlfnT0JrB_",
        "outputId": "f9513eca-6526-4b00-9206-6e811d15d38c"
      },
      "outputs": [
        {
          "name": "stdout",
          "output_type": "stream",
          "text": [
            "vvwvw\n",
            "vvvwvw\n"
          ]
        }
      ],
      "source": [
        "s = list(input())\n",
        "t = list(input())\n",
        "for i in range(len(s)):\n",
        "  if s[i] != t[i].lower():\n",
        "    print(i+1)\n",
        "    break"
      ]
    },
    {
      "cell_type": "code",
      "execution_count": null,
      "metadata": {
        "colab": {
          "base_uri": "https://localhost:8080/"
        },
        "id": "ASmg6qvUAmnN",
        "outputId": "0b03aa82-04f3-429d-d0b1-b9e3ea7e444b"
      },
      "outputs": [
        {
          "name": "stdout",
          "output_type": "stream",
          "text": [
            "3\n"
          ]
        }
      ],
      "source": [
        "for i in range(min(len(s),len(t))):\n",
        "  if s[i]!= t[i]:\n",
        "    print(i+1)\n",
        "    break"
      ]
    },
    {
      "cell_type": "code",
      "execution_count": null,
      "metadata": {
        "id": "VQCwgTq2JD3q"
      },
      "outputs": [],
      "source": [
        "import math  \n",
        "def fact(n):  \n",
        "    return(math.factorial(n)) "
      ]
    },
    {
      "cell_type": "code",
      "execution_count": null,
      "metadata": {
        "colab": {
          "background_save": true
        },
        "id": "tw7O1kr0Otfy",
        "outputId": "4ce12642-63ec-40c1-bb6b-69fee67a3318"
      },
      "outputs": [
        {
          "ename": "KeyboardInterrupt",
          "evalue": "ignored",
          "output_type": "error",
          "traceback": [
            "\u001b[0;31m---------------------------------------------------------------------------\u001b[0m",
            "\u001b[0;31mKeyboardInterrupt\u001b[0m                         Traceback (most recent call last)",
            "\u001b[0;32m<ipython-input-43-e7f518259fc9>\u001b[0m in \u001b[0;36m<module>\u001b[0;34m\u001b[0m\n\u001b[0;32m----> 1\u001b[0;31m \u001b[0mk\u001b[0m \u001b[0;34m=\u001b[0m \u001b[0mint\u001b[0m\u001b[0;34m(\u001b[0m\u001b[0minput\u001b[0m\u001b[0;34m(\u001b[0m\u001b[0;34m)\u001b[0m\u001b[0;34m)\u001b[0m\u001b[0;34m\u001b[0m\u001b[0;34m\u001b[0m\u001b[0m\n\u001b[0m\u001b[1;32m      2\u001b[0m \u001b[0;32mfor\u001b[0m \u001b[0mi\u001b[0m \u001b[0;32min\u001b[0m \u001b[0mrange\u001b[0m\u001b[0;34m(\u001b[0m\u001b[0;36m2\u001b[0m\u001b[0;34m,\u001b[0m\u001b[0;36m2\u001b[0m\u001b[0;34m)\u001b[0m\u001b[0;34m:\u001b[0m\u001b[0;34m\u001b[0m\u001b[0;34m\u001b[0m\u001b[0m\n\u001b[1;32m      3\u001b[0m   \u001b[0;32mif\u001b[0m \u001b[0mfact\u001b[0m\u001b[0;34m(\u001b[0m\u001b[0mi\u001b[0m\u001b[0;34m)\u001b[0m\u001b[0;34m%\u001b[0m\u001b[0mk\u001b[0m\u001b[0;34m==\u001b[0m\u001b[0;36m0\u001b[0m\u001b[0;34m:\u001b[0m\u001b[0;34m\u001b[0m\u001b[0;34m\u001b[0m\u001b[0m\n\u001b[1;32m      4\u001b[0m     \u001b[0mprint\u001b[0m\u001b[0;34m(\u001b[0m\u001b[0mi\u001b[0m\u001b[0;34m)\u001b[0m\u001b[0;34m\u001b[0m\u001b[0;34m\u001b[0m\u001b[0m\n\u001b[1;32m      5\u001b[0m     \u001b[0;32mbreak\u001b[0m\u001b[0;34m\u001b[0m\u001b[0;34m\u001b[0m\u001b[0m\n",
            "\u001b[0;32m/usr/local/lib/python3.8/dist-packages/ipykernel/kernelbase.py\u001b[0m in \u001b[0;36mraw_input\u001b[0;34m(self, prompt)\u001b[0m\n\u001b[1;32m    858\u001b[0m                 \u001b[0;34m\"raw_input was called, but this frontend does not support input requests.\"\u001b[0m\u001b[0;34m\u001b[0m\u001b[0;34m\u001b[0m\u001b[0m\n\u001b[1;32m    859\u001b[0m             )\n\u001b[0;32m--> 860\u001b[0;31m         return self._input_request(str(prompt),\n\u001b[0m\u001b[1;32m    861\u001b[0m             \u001b[0mself\u001b[0m\u001b[0;34m.\u001b[0m\u001b[0m_parent_ident\u001b[0m\u001b[0;34m,\u001b[0m\u001b[0;34m\u001b[0m\u001b[0;34m\u001b[0m\u001b[0m\n\u001b[1;32m    862\u001b[0m             \u001b[0mself\u001b[0m\u001b[0;34m.\u001b[0m\u001b[0m_parent_header\u001b[0m\u001b[0;34m,\u001b[0m\u001b[0;34m\u001b[0m\u001b[0;34m\u001b[0m\u001b[0m\n",
            "\u001b[0;32m/usr/local/lib/python3.8/dist-packages/ipykernel/kernelbase.py\u001b[0m in \u001b[0;36m_input_request\u001b[0;34m(self, prompt, ident, parent, password)\u001b[0m\n\u001b[1;32m    902\u001b[0m             \u001b[0;32mexcept\u001b[0m \u001b[0mKeyboardInterrupt\u001b[0m\u001b[0;34m:\u001b[0m\u001b[0;34m\u001b[0m\u001b[0;34m\u001b[0m\u001b[0m\n\u001b[1;32m    903\u001b[0m                 \u001b[0;31m# re-raise KeyboardInterrupt, to truncate traceback\u001b[0m\u001b[0;34m\u001b[0m\u001b[0;34m\u001b[0m\u001b[0;34m\u001b[0m\u001b[0m\n\u001b[0;32m--> 904\u001b[0;31m                 \u001b[0;32mraise\u001b[0m \u001b[0mKeyboardInterrupt\u001b[0m\u001b[0;34m(\u001b[0m\u001b[0;34m\"Interrupted by user\"\u001b[0m\u001b[0;34m)\u001b[0m \u001b[0;32mfrom\u001b[0m \u001b[0;32mNone\u001b[0m\u001b[0;34m\u001b[0m\u001b[0;34m\u001b[0m\u001b[0m\n\u001b[0m\u001b[1;32m    905\u001b[0m             \u001b[0;32mexcept\u001b[0m \u001b[0mException\u001b[0m \u001b[0;32mas\u001b[0m \u001b[0me\u001b[0m\u001b[0;34m:\u001b[0m\u001b[0;34m\u001b[0m\u001b[0;34m\u001b[0m\u001b[0m\n\u001b[1;32m    906\u001b[0m                 \u001b[0mself\u001b[0m\u001b[0;34m.\u001b[0m\u001b[0mlog\u001b[0m\u001b[0;34m.\u001b[0m\u001b[0mwarning\u001b[0m\u001b[0;34m(\u001b[0m\u001b[0;34m\"Invalid Message:\"\u001b[0m\u001b[0;34m,\u001b[0m \u001b[0mexc_info\u001b[0m\u001b[0;34m=\u001b[0m\u001b[0;32mTrue\u001b[0m\u001b[0;34m)\u001b[0m\u001b[0;34m\u001b[0m\u001b[0;34m\u001b[0m\u001b[0m\n",
            "\u001b[0;31mKeyboardInterrupt\u001b[0m: Interrupted by user"
          ]
        }
      ],
      "source": [
        "k = int(input())\n",
        "for i in range(2,2*k):\n",
        "  if fact(i)%k==0:\n",
        "    print(i)\n",
        "    break"
      ]
    },
    {
      "cell_type": "code",
      "execution_count": null,
      "metadata": {
        "colab": {
          "base_uri": "https://localhost:8080/"
        },
        "id": "UHRaEKXZO68j",
        "outputId": "aae5ad0a-2e95-4969-a952-3d04dfbd746b"
      },
      "outputs": [
        {
          "name": "stdout",
          "output_type": "stream",
          "text": [
            "5\n"
          ]
        }
      ],
      "source": [
        "print(i)"
      ]
    },
    {
      "cell_type": "code",
      "execution_count": null,
      "metadata": {
        "id": "gF4_5d8ZLOyp"
      },
      "outputs": [],
      "source": [
        "def multiply(x, res, res_size):\n",
        "  carry = 0 \n",
        "  i = 0\n",
        "  while i < res_size:\n",
        "    prod = res[i] * x + carry\n",
        "    res[i] = prod % 10  \n",
        "    carry = prod//10  \n",
        "    i = i + 1\n",
        "  while (carry):\n",
        "    res[res_size] = carry % 10\n",
        "    carry = carry // 10\n",
        "    res_size = res_size + 1\n",
        "  return res_size"
      ]
    },
    {
      "cell_type": "code",
      "execution_count": null,
      "metadata": {
        "id": "SIKAW0JONnIX"
      },
      "outputs": [],
      "source": [
        "se = \"leetcodel\"\n",
        "x = se.split()"
      ]
    },
    {
      "cell_type": "code",
      "source": [
        "x = se.split()\n",
        "q = True\n",
        "for i in range(len(x)):\n",
        "  if i==0:\n",
        "    print(x[-1][-1])\n",
        "    print(x[0][0])\n",
        "    if x[0][0].lower()!=x[-1][-1].lower():\n",
        "      q = False\n",
        "      print(x[-1][-1])\n",
        "      print(x[0][0])\n",
        "      break\n",
        "\n",
        "  else:\n",
        "    print(x[i-1][-1])\n",
        "    print(x[i][0])\n",
        "    if x[i][0].lower() != x[i-1][-1].lower():\n",
        "      print(x[i-1][-1])\n",
        "      print(x[i][0])\n",
        "      q=False\n",
        "      break\n",
        "    "
      ],
      "metadata": {
        "colab": {
          "base_uri": "https://localhost:8080/"
        },
        "id": "AuWx47yk_tPm",
        "outputId": "9ef16b5c-45b0-49c6-b2ca-7172db795c63"
      },
      "execution_count": null,
      "outputs": [
        {
          "output_type": "stream",
          "name": "stdout",
          "text": [
            "l\n",
            "l\n"
          ]
        }
      ]
    },
    {
      "cell_type": "code",
      "source": [
        "def isCircularSentence(se):\n",
        "  x = se.split()\n",
        "  q = True\n",
        "  for i in range(0,len(x)):\n",
        "    if x[i][0].lower() != x[i-1][-1].lower():\n",
        "      q=False\n",
        "      break\n",
        "  return q"
      ],
      "metadata": {
        "id": "ftUPrVmU_1qw"
      },
      "execution_count": null,
      "outputs": []
    },
    {
      "cell_type": "code",
      "source": [
        "se = \"Leetcode is cool\""
      ],
      "metadata": {
        "id": "9Acp7ATsFg1W"
      },
      "execution_count": null,
      "outputs": []
    },
    {
      "cell_type": "code",
      "source": [
        "isCircularSentence(se)"
      ],
      "metadata": {
        "colab": {
          "base_uri": "https://localhost:8080/"
        },
        "id": "ckt-bCUU_2Yz",
        "outputId": "729c5425-e572-47dd-e3e2-f6e88bc72e5c"
      },
      "execution_count": null,
      "outputs": [
        {
          "output_type": "execute_result",
          "data": {
            "text/plain": [
              "False"
            ]
          },
          "metadata": {},
          "execution_count": 25
        }
      ]
    },
    {
      "cell_type": "code",
      "source": [
        "skill = [3,2,5,1,3,4]\n",
        "if len(skill)==2:\n",
        "  print(skill[0]*skill[1])\n",
        "else:\n",
        "  ans = 0\n",
        "  skill.sort()\n",
        "  p = skill[0] + skill[-1]\n",
        "  for i in range(len(skill)//2):\n",
        "    if skill[i] + skill[-i-1] == p:\n",
        "      ans = ans + skill[i]*skill[-1-i]\n",
        "    else:\n",
        "      ans = -1\n",
        "      break\n",
        "  print(ans)\n"
      ],
      "metadata": {
        "colab": {
          "base_uri": "https://localhost:8080/"
        },
        "id": "zqKApeqvFnY_",
        "outputId": "5d7c9636-2194-4887-9974-087ec781d81a"
      },
      "execution_count": null,
      "outputs": [
        {
          "output_type": "stream",
          "name": "stdout",
          "text": [
            "22\n"
          ]
        }
      ]
    },
    {
      "cell_type": "code",
      "source": [
        "ans"
      ],
      "metadata": {
        "colab": {
          "base_uri": "https://localhost:8080/"
        },
        "id": "Ki0khuxzG8vu",
        "outputId": "66c4ef60-634a-49e5-b7b1-1bf8f9a35589"
      },
      "execution_count": null,
      "outputs": [
        {
          "output_type": "execute_result",
          "data": {
            "text/plain": [
              "22"
            ]
          },
          "metadata": {},
          "execution_count": 27
        }
      ]
    },
    {
      "cell_type": "code",
      "source": [
        "S = \"mississippi\""
      ],
      "metadata": {
        "id": "ZrVSJp3FG9md"
      },
      "execution_count": null,
      "outputs": []
    },
    {
      "cell_type": "code",
      "source": [
        "p= ['a','e','i','o','u']\n",
        "s = sorted(S)"
      ],
      "metadata": {
        "id": "XZ5B531AeGPL"
      },
      "execution_count": null,
      "outputs": []
    },
    {
      "cell_type": "code",
      "source": [
        "p1 = []\n",
        "p2 = []\n",
        "for i in range(len(s)):\n",
        "  if s[i] in p:\n",
        "    p1.append(s[i])\n",
        "  else:\n",
        "    p2.append(s[i])\n",
        "r = \"\"\n",
        "if abs(len(p1)-len(p2))>1:\n",
        "  print(-1)\n",
        "else:\n",
        "  if len(p1)>len(p2):\n",
        "    r = p1[0]\n",
        "    for i in range(0,len(p2)):\n",
        "      r = r + p2[i] + p1[i+1]\n",
        "  elif len(p1)<len(p2):\n",
        "    r = p2[0]\n",
        "    for i in range(0,len(p1)):\n",
        "      r = r + p1[i] + p2[i+1]\n",
        "  else:\n",
        "    for i in range(0,len(p1)):\n",
        "      r = r + p1[i] + p2[i]\n",
        "\n",
        "\n",
        "\n"
      ],
      "metadata": {
        "colab": {
          "base_uri": "https://localhost:8080/"
        },
        "id": "eEBdB0t2eUr7",
        "outputId": "e3f84279-b584-4a1b-bb87-2fe8210a0498"
      },
      "execution_count": null,
      "outputs": [
        {
          "output_type": "stream",
          "name": "stdout",
          "text": [
            "-1\n"
          ]
        }
      ]
    },
    {
      "cell_type": "code",
      "source": [
        "nums = [2,5,3,9,5,3]\n",
        "def sum12(arr):\n",
        "  if len(arr)==0:\n",
        "    return 0\n",
        "  else:\n",
        "    return sum(arr)//len(arr)\n",
        "q = float(\"inf\")\n",
        "r = 0\n",
        "for i in range(1,len(nums)+1):\n",
        "  op = abs(sum12(nums[:i])-sum12(nums[i:]))\n",
        "  print(op)\n",
        "  if op<q:\n",
        "    q = op\n",
        "    r = i\n",
        "print(r)"
      ],
      "metadata": {
        "colab": {
          "base_uri": "https://localhost:8080/"
        },
        "id": "vV7tT6oreVOj",
        "outputId": "cf92d6f6-23f8-45b9-b696-87983d04606e"
      },
      "execution_count": null,
      "outputs": [
        {
          "output_type": "stream",
          "name": "stdout",
          "text": [
            "3\n",
            "2\n",
            "2\n",
            "0\n",
            "1\n",
            "4\n",
            "3\n"
          ]
        }
      ]
    },
    {
      "cell_type": "code",
      "source": [
        "q = float(\"inf\")\n",
        "r = 0\n",
        "for i in range(0,len(nums)-1):\n",
        "  op = abs(sum12(nums[:i])-sum12(nums[i:]))\n",
        "  if op<q:\n",
        "    q = op\n",
        "    r = i\n",
        "print(r)\n",
        "\n",
        "  "
      ],
      "metadata": {
        "colab": {
          "base_uri": "https://localhost:8080/"
        },
        "id": "qGroTIRziLlW",
        "outputId": "46bf9835-8863-415c-dad4-05f9afd0250c"
      },
      "execution_count": null,
      "outputs": [
        {
          "output_type": "stream",
          "name": "stdout",
          "text": [
            "0\n"
          ]
        }
      ]
    },
    {
      "cell_type": "code",
      "source": [
        "def twoStrings(s1, s2):\n",
        "  p = {}\n",
        "  r = False\n",
        "  for i in range(0,len(s1)):\n",
        "    if s1[i] not in p.keys():\n",
        "      p[s1[i]]=1\n",
        "    else:\n",
        "      continue\n",
        "  for j in range(0,len(s2)):\n",
        "    if s2[j] in p.keys():\n",
        "      r = True\n",
        "      break\n",
        "  return r"
      ],
      "metadata": {
        "id": "JljPD8SA4Ba_"
      },
      "execution_count": null,
      "outputs": []
    },
    {
      "cell_type": "code",
      "source": [
        "s1 =\"hello\"\n",
        "s2 = \"world\""
      ],
      "metadata": {
        "id": "qVHhDiVqn7R7"
      },
      "execution_count": null,
      "outputs": []
    },
    {
      "cell_type": "code",
      "source": [
        "twoStrings(s1, s2)"
      ],
      "metadata": {
        "colab": {
          "base_uri": "https://localhost:8080/"
        },
        "id": "YFBKKL4hoE-B",
        "outputId": "964290a6-1d3f-4c1b-ede3-33a831634cbb"
      },
      "execution_count": null,
      "outputs": [
        {
          "output_type": "execute_result",
          "data": {
            "text/plain": [
              "True"
            ]
          },
          "metadata": {},
          "execution_count": 9
        }
      ]
    },
    {
      "cell_type": "code",
      "source": [
        "p = (3+6)/2\n",
        "a = 3\n",
        "b = 3"
      ],
      "metadata": {
        "id": "uL1pFcS2oHH1"
      },
      "execution_count": null,
      "outputs": []
    },
    {
      "cell_type": "code",
      "source": [
        "a^b"
      ],
      "metadata": {
        "colab": {
          "base_uri": "https://localhost:8080/"
        },
        "id": "LUz30eNwD5iW",
        "outputId": "03c163bf-1b6f-492c-de00-ed69a67aa3f8"
      },
      "execution_count": null,
      "outputs": [
        {
          "output_type": "execute_result",
          "data": {
            "text/plain": [
              "0"
            ]
          },
          "metadata": {},
          "execution_count": 11
        }
      ]
    },
    {
      "cell_type": "code",
      "source": [
        "p = [5,5,2,4,2]\n",
        "p.sort()\n",
        "r = []\n",
        "q = len(p)\n",
        "if q%2==0:\n",
        "  for i in range(q//2):\n",
        "    r.append(p[i])\n",
        "    r.append(p[-1-i])\n",
        "else:\n",
        "  for i in range(q//2 + 1):\n",
        "    r.append(p[i])\n",
        "    r.append(p[-1-i])\n",
        "  r.pop()\n",
        "  \n"
      ],
      "metadata": {
        "id": "M355g_Qdiqqf"
      },
      "execution_count": null,
      "outputs": []
    },
    {
      "cell_type": "code",
      "source": [
        "r"
      ],
      "metadata": {
        "colab": {
          "base_uri": "https://localhost:8080/"
        },
        "id": "ndae2PMAoLB-",
        "outputId": "c2409113-7f57-4b6b-cc7c-7e8def46c19c"
      },
      "execution_count": null,
      "outputs": [
        {
          "output_type": "execute_result",
          "data": {
            "text/plain": [
              "[2, 5, 2, 5, 4]"
            ]
          },
          "metadata": {},
          "execution_count": 33
        }
      ]
    },
    {
      "cell_type": "code",
      "source": [
        "def perfect(a):\n",
        "\n",
        "  for i in range(1,len(a)-1):\n",
        "    if a[i-1]<a[i]>a[i+1] or a[i-1]<a[i]>a[i+1]:\n",
        "      continue\n",
        "    else:\n",
        "      return -1\n",
        "      break\n",
        "  return a\n",
        "\n"
      ],
      "metadata": {
        "colab": {
          "base_uri": "https://localhost:8080/"
        },
        "id": "8ZuI_1y8jkGp",
        "outputId": "ed2aa851-8da7-4cbf-da1a-53ec9e00cc7c"
      },
      "execution_count": null,
      "outputs": [
        {
          "output_type": "stream",
          "name": "stdout",
          "text": [
            "9\n"
          ]
        }
      ]
    },
    {
      "cell_type": "code",
      "source": [
        "a"
      ],
      "metadata": {
        "colab": {
          "base_uri": "https://localhost:8080/"
        },
        "id": "IHEJgPmMkCD4",
        "outputId": "cbabe048-3bdc-4fbd-86d9-d0fb837cbad2"
      },
      "execution_count": null,
      "outputs": [
        {
          "output_type": "execute_result",
          "data": {
            "text/plain": [
              "[3, 3]"
            ]
          },
          "metadata": {},
          "execution_count": 17
        }
      ]
    },
    {
      "cell_type": "code",
      "source": [],
      "metadata": {
        "id": "1dRBD_jBkC6S"
      },
      "execution_count": null,
      "outputs": []
    },
    {
      "cell_type": "code",
      "source": [
        "for i in range(len(num)-1):\n",
        "  if num[i]>num[i+1]:\n",
        "    if k>0:\n",
        "      k = k-1\n",
        "    else:\n",
        "      break\n",
        "  else:\n",
        "    r = r + num[i]\n",
        "      \n"
      ],
      "metadata": {
        "id": "2T7swjEz-YRO"
      },
      "execution_count": null,
      "outputs": []
    },
    {
      "cell_type": "code",
      "source": [
        "k = 2\n",
        "num = \"143729\"\n",
        "  \n",
        "class Solution:\n",
        "  def buildLowestNumber(self, S, N):\n",
        "    stack = []\n",
        "    for num in S:\n",
        "      while N and stack and stack[-1] > num:\n",
        "        stack.pop()\n",
        "        N -= 1\n",
        "      stack.append(num)\n",
        "    final = ''.join(stack[:len(stack) - N]).lstrip('0')\n",
        "    return \"0\" if not final else final\n",
        "\n",
        "  "
      ],
      "metadata": {
        "id": "JMg2v6oE_AMB"
      },
      "execution_count": null,
      "outputs": []
    },
    {
      "cell_type": "code",
      "source": [
        "class Solution:\n",
        "    def buildLowestNumber(self, S, N):\n",
        "        \n",
        "        stack = []\n",
        "        \n",
        "        for num in S:\n",
        "            while N and stack and stack[-1] > num:\n",
        "                stack.pop()\n",
        "                N -= 1\n",
        "                \n",
        "            stack.append(num)\n",
        "            \n",
        "        final = ''.join(stack[:len(stack) - N]).lstrip('0')\n",
        "        \n",
        "        return \"0\" if not final else final"
      ],
      "metadata": {
        "colab": {
          "base_uri": "https://localhost:8080/"
        },
        "id": "l8KdTugo_C05",
        "outputId": "3863ce46-12a1-4eed-b714-c6cb80ae90e9"
      },
      "execution_count": null,
      "outputs": [
        {
          "output_type": "execute_result",
          "data": {
            "text/plain": [
              "['1', '4', '3', '7', '2', '9']"
            ]
          },
          "metadata": {},
          "execution_count": 13
        }
      ]
    },
    {
      "cell_type": "code",
      "source": [
        "buildLowestNumber(num, k)"
      ],
      "metadata": {
        "colab": {
          "base_uri": "https://localhost:8080/",
          "height": 143
        },
        "id": "p1L7laGSBAS_",
        "outputId": "37cd918d-adb2-4475-abc5-e2b2e1316c4f"
      },
      "execution_count": null,
      "outputs": [
        {
          "output_type": "stream",
          "name": "stdout",
          "text": [
            "['1']\n",
            "['1', '4']\n",
            "['1', '3']\n",
            "['1', '3', '7']\n",
            "['1', '3', '2']\n",
            "['1', '3', '2', '9']\n"
          ]
        },
        {
          "output_type": "execute_result",
          "data": {
            "text/plain": [
              "'1329'"
            ],
            "application/vnd.google.colaboratory.intrinsic+json": {
              "type": "string"
            }
          },
          "metadata": {},
          "execution_count": 23
        }
      ]
    },
    {
      "cell_type": "code",
      "source": [
        "n = int(input())\n",
        "while(n>-1):\n",
        "  print(n)\n",
        "  n = n-1\n"
      ],
      "metadata": {
        "id": "lx9DI_pjCSKR",
        "colab": {
          "base_uri": "https://localhost:8080/"
        },
        "outputId": "92e2ae27-a79c-47da-b90d-6b6a97e9f171"
      },
      "execution_count": null,
      "outputs": [
        {
          "name": "stdout",
          "output_type": "stream",
          "text": [
            "3\n"
          ]
        }
      ]
    },
    {
      "cell_type": "code",
      "source": [
        "p = \"Q142857Z\"\n",
        "\n"
      ],
      "metadata": {
        "colab": {
          "base_uri": "https://localhost:8080/"
        },
        "id": "cN162wdu6hag",
        "outputId": "15688671-eda2-4a6f-cc37-378314c0ac6f"
      },
      "execution_count": null,
      "outputs": [
        {
          "output_type": "execute_result",
          "data": {
            "text/plain": [
              "True"
            ]
          },
          "metadata": {},
          "execution_count": 13
        }
      ]
    },
    {
      "cell_type": "code",
      "source": [
        "p = input()\n",
        "q = 0\n",
        "if 65<= ord(p[0]) <= 90 and 65<= ord(p[-1]) <= 90:\n",
        "  q = q + 1\n",
        "if p[1:7].isdigit():\n",
        "  if 100000 <= int(p[1:7]) <= 999999:\n",
        "    q = q + 1\n",
        "if q==2:\n",
        "  print(\"Yes\")\n",
        "else:\n",
        "  print(\"No\")\n",
        "# try:\n",
        "#   print(x)\n",
        "# except:\n",
        "#   #print(\"An exception occurred\")\n",
        "\n"
      ],
      "metadata": {
        "colab": {
          "base_uri": "https://localhost:8080/"
        },
        "id": "Ep55eP3F6tl-",
        "outputId": "e02acec4-9f7c-4cc7-96e5-e2d843f544ca"
      },
      "execution_count": null,
      "outputs": [
        {
          "output_type": "stream",
          "name": "stdout",
          "text": [
            "K012345K\n",
            "No\n"
          ]
        }
      ]
    },
    {
      "cell_type": "code",
      "source": [
        "n,t = map(int,input().split())\n",
        "a = list(map(int,input().split()))\n",
        "rem = t%sum(a)\n",
        "sum1 = 0\n",
        "for i in range(0,n):\n",
        "  if sum1 + a[i] > rem:\n",
        "    print(i+1, rem-sum1)\n",
        "    break\n",
        "  sum1 += a[i]"
      ],
      "metadata": {
        "colab": {
          "base_uri": "https://localhost:8080/"
        },
        "id": "7wQsBi3RFdF_",
        "outputId": "449482d6-f40e-4b3f-b68a-5f0cbe48cc52"
      },
      "execution_count": null,
      "outputs": [
        {
          "name": "stdout",
          "output_type": "stream",
          "text": [
            "3 600\n",
            "180 240 120\n"
          ]
        }
      ]
    },
    {
      "cell_type": "code",
      "source": [
        "\n",
        "\n"
      ],
      "metadata": {
        "colab": {
          "base_uri": "https://localhost:8080/"
        },
        "id": "CkFcSLYj_Dx2",
        "outputId": "e3918862-7528-4583-9379-f64bb7651db7"
      },
      "execution_count": null,
      "outputs": [
        {
          "output_type": "stream",
          "name": "stdout",
          "text": [
            "60\n",
            "1 60\n"
          ]
        }
      ]
    },
    {
      "cell_type": "code",
      "source": [
        "r"
      ],
      "metadata": {
        "colab": {
          "base_uri": "https://localhost:8080/"
        },
        "id": "-AB0xDpEHEuz",
        "outputId": "aaa32504-3a4c-4e84-c1e5-09f8b1766408"
      },
      "execution_count": null,
      "outputs": [
        {
          "output_type": "execute_result",
          "data": {
            "text/plain": [
              "[1, 1, 3, 4, 5, 9]"
            ]
          },
          "metadata": {},
          "execution_count": 28
        }
      ]
    },
    {
      "cell_type": "code",
      "source": [
        "n,k,d = map(int,input().split())\n",
        "a = list(map(int,input().split()))\n",
        "m = n-k+1\n",
        "r = sorted(a)\n",
        "p = []\n",
        "for i in range(0,m):\n",
        "  p.append(sum(r[:d]))\n",
        "  r.remove(a[i])\n",
        "print(*p)"
      ],
      "metadata": {
        "colab": {
          "base_uri": "https://localhost:8080/"
        },
        "id": "kmWUTNyMHGup",
        "outputId": "0054ad67-ab19-4f9c-cba8-dd38199cb9ae"
      },
      "execution_count": null,
      "outputs": [
        {
          "output_type": "stream",
          "name": "stdout",
          "text": [
            "10 6 3\n",
            "12 2 17 11 19 8 4 3 6 20\n",
            "9 9 13 13 13\n"
          ]
        }
      ]
    },
    {
      "cell_type": "code",
      "source": [
        "p = []\n",
        "r = sorted(a)\n",
        "for i in range(0,m):\n",
        "  print(r[:d])\n",
        "  print(r)\n",
        "  p.append(sum(r[:d]))\n",
        "  r.remove(a[i])\n",
        "print(*p)"
      ],
      "metadata": {
        "colab": {
          "base_uri": "https://localhost:8080/"
        },
        "id": "vgkikDgnKg7q",
        "outputId": "89922eb0-f134-43f5-d312-c3b40ba063a2"
      },
      "execution_count": null,
      "outputs": [
        {
          "output_type": "stream",
          "name": "stdout",
          "text": [
            "[2, 3, 4]\n",
            "[2, 3, 4, 6, 8, 11, 12, 17, 19, 20]\n",
            "[2, 3, 4]\n",
            "[2, 3, 4, 6, 8, 11, 17, 19, 20]\n",
            "[3, 4, 6]\n",
            "[3, 4, 6, 8, 11, 17, 19, 20]\n",
            "[3, 4, 6]\n",
            "[3, 4, 6, 8, 11, 19, 20]\n",
            "[3, 4, 6]\n",
            "[3, 4, 6, 8, 19, 20]\n",
            "9 9 13 13 13\n"
          ]
        }
      ]
    },
    {
      "cell_type": "code",
      "source": [
        "print(*p)\n",
        ".lstrip('0')"
      ],
      "metadata": {
        "colab": {
          "base_uri": "https://localhost:8080/"
        },
        "id": "frmES5PdNePN",
        "outputId": "0c2b4d52-e9d1-4d53-aea9-2b26802b1a86"
      },
      "execution_count": null,
      "outputs": [
        {
          "output_type": "stream",
          "name": "stdout",
          "text": [
            "9 9 13 13 13 9 9 13 13 13\n"
          ]
        }
      ]
    },
    {
      "cell_type": "code",
      "source": [
        "#x = txt.isdigit()\n",
        "r = -float(\"inf\")\n",
        "strs = [\"alic3\",\"bob\",\"3\",\"4\",\"00000\"]\n",
        "for i in range(len(strs)):\n",
        "  if strs[i].isdigit():\n",
        "    r = max(r,int(strs[i]))\n",
        "  else:\n",
        "    r = max(r,len(strs[i]))"
      ],
      "metadata": {
        "id": "8-nFk3V6NwNE"
      },
      "execution_count": null,
      "outputs": []
    },
    {
      "cell_type": "code",
      "source": [
        "grid = [[10]]"
      ],
      "metadata": {
        "id": "S5KgwXSGnSZ4"
      },
      "execution_count": null,
      "outputs": []
    },
    {
      "cell_type": "code",
      "source": [
        "\n",
        "grid[j].pop(grid[j].index(max(grid[j])))"
      ],
      "metadata": {
        "colab": {
          "base_uri": "https://localhost:8080/"
        },
        "id": "kymd_wXTI1ap",
        "outputId": "0652fc18-8b49-4d5b-e797-991907bb8c8a"
      },
      "execution_count": null,
      "outputs": [
        {
          "output_type": "execute_result",
          "data": {
            "text/plain": [
              "4"
            ]
          },
          "metadata": {},
          "execution_count": 10
        }
      ]
    },
    {
      "cell_type": "code",
      "source": [
        "r = -float(\"inf\")\n",
        "ans = 0\n",
        "for i in range(0,len(grid[0])):\n",
        "  for j in range(0,len(grid)):\n",
        "    r = max(r,grid[j].pop(grid[j].index(max(grid[j]))))\n",
        "  print(r)\n",
        "  ans = ans + r\n",
        "  r = -float(\"inf\")\n"
      ],
      "metadata": {
        "id": "5P8NYqYGnZnk",
        "colab": {
          "base_uri": "https://localhost:8080/"
        },
        "outputId": "4d0f0294-6d34-4cc9-d558-1d759003ad66"
      },
      "execution_count": null,
      "outputs": [
        {
          "output_type": "stream",
          "name": "stdout",
          "text": [
            "10\n"
          ]
        }
      ]
    },
    {
      "cell_type": "code",
      "source": [
        "ans"
      ],
      "metadata": {
        "colab": {
          "base_uri": "https://localhost:8080/"
        },
        "id": "Jda5hDtkHAsJ",
        "outputId": "14c56ccd-23c1-41d5-deac-bc11c455f74e"
      },
      "execution_count": null,
      "outputs": [
        {
          "output_type": "execute_result",
          "data": {
            "text/plain": [
              "10"
            ]
          },
          "metadata": {},
          "execution_count": 21
        }
      ]
    },
    {
      "cell_type": "code",
      "source": [
        "nums = [4,3,6,16,8,2]"
      ],
      "metadata": {
        "id": "gZ4I2gx1Jy7B"
      },
      "execution_count": null,
      "outputs": []
    },
    {
      "cell_type": "code",
      "source": [
        "import math\n",
        "def perfect(p):\n",
        "  root = int(math.sqrt(p))\n",
        "  if root**2 == p:\n",
        "    return True\n",
        "  else:\n",
        "    return False\n",
        "r = []\n",
        "for i in range(0,len(nums)):\n",
        "  if perfect(nums[i]):\n",
        "    r.append(nums[i])\n"
      ],
      "metadata": {
        "id": "XvwZaygeLd9X"
      },
      "execution_count": null,
      "outputs": []
    },
    {
      "cell_type": "code",
      "source": [
        "q = len(r)\n",
        "for j in range(0,q):\n",
        "  e = int(math.sqrt(r[j]))\n",
        "  if e in nums:\n",
        "    if e in r:\n",
        "      continue\n",
        "    else:\n",
        "      r.append(e)\n",
        "for s in range:\n",
        "  if perfect12(p,r)\n",
        "    "
      ],
      "metadata": {
        "id": "gDBpqVgZPNyl"
      },
      "execution_count": null,
      "outputs": []
    },
    {
      "cell_type": "code",
      "source": [
        "def perfect12(p,r):\n",
        "  root = int(math.sqrt(p))\n",
        "  if root in r:\n",
        "    return 1\n",
        "  else:\n",
        "    return 0"
      ],
      "metadata": {
        "id": "GMAKHxaWPOwx"
      },
      "execution_count": null,
      "outputs": []
    },
    {
      "cell_type": "code",
      "source": [
        "nums = [9, 5, 7, 3]\n",
        "k = 6"
      ],
      "metadata": {
        "id": "e0lXh1m_QMAw"
      },
      "execution_count": null,
      "outputs": []
    },
    {
      "cell_type": "code",
      "source": [
        "for _ in range(0,len(nums)):\n",
        "  nums[_] = nums[_]%k\n",
        "nums.sort()\n",
        "p = True\n",
        "for i in range(len(nums)//2):\n",
        "  if (nums[i] + nums[-i-1])%k==0:\n",
        "    continue\n",
        "  else:\n",
        "    p = False\n",
        "    break\n",
        "print(p)"
      ],
      "metadata": {
        "id": "WtsVW88MR9kZ"
      },
      "execution_count": null,
      "outputs": []
    },
    {
      "cell_type": "code",
      "source": [
        "nums.sort()\n",
        "p = True\n",
        "for i in range(len(nums)//2):\n",
        "  if (nums[i] + nums[-i-1])%k==0:\n",
        "    continue\n",
        "  else:\n",
        "    p = False\n",
        "    break\n",
        "print(p)"
      ],
      "metadata": {
        "colab": {
          "base_uri": "https://localhost:8080/"
        },
        "id": "fgtuvvxMSFVy",
        "outputId": "0fb47a90-0342-4975-a1d5-0c6304e9d40f"
      },
      "execution_count": null,
      "outputs": [
        {
          "output_type": "stream",
          "name": "stdout",
          "text": [
            "True\n"
          ]
        }
      ]
    },
    {
      "cell_type": "code",
      "source": [
        "nums"
      ],
      "metadata": {
        "colab": {
          "base_uri": "https://localhost:8080/"
        },
        "id": "aPNyP3KvSGIQ",
        "outputId": "90c7a458-88b0-41ee-d1f7-37b18cc20462"
      },
      "execution_count": null,
      "outputs": [
        {
          "output_type": "execute_result",
          "data": {
            "text/plain": [
              "[1, 3, 3, 5]"
            ]
          },
          "metadata": {},
          "execution_count": 46
        }
      ]
    },
    {
      "cell_type": "code",
      "source": [
        "# n = 4\n",
        "# arr = [1, 2, 3, 4]\n",
        "# time = [1, 2, 3, 4]\n",
        "n = 8\n",
        "arr = [6,6,1,8,1,1,3,1]\n",
        "time = [8,4,1,5,2,8,9,3]\n",
        "correct = 33"
      ],
      "metadata": {
        "id": "xNr9aGEaSk2n"
      },
      "execution_count": null,
      "outputs": []
    },
    {
      "cell_type": "code",
      "source": [
        "r = {}\n",
        "p = 0\n",
        "if n == 1:\n",
        "  print(0)\n",
        "else:\n",
        "  r[arr[0]]=p\n",
        "  for i in range(1,n):\n",
        "    print(p)\n",
        "    p = p + abs(time[i]-time[i-1])\n",
        "    if arr[i] not in r.keys():\n",
        "      r[arr[i]]=p\n",
        "    else:\n",
        "      p = p + r[arr[i]]\n",
        "\n"
      ],
      "metadata": {
        "colab": {
          "base_uri": "https://localhost:8080/"
        },
        "id": "mre-lO-Na-zy",
        "outputId": "939fc70a-4294-47ee-e872-e6c2d38f1778"
      },
      "execution_count": null,
      "outputs": [
        {
          "output_type": "stream",
          "name": "stdout",
          "text": [
            "0\n",
            "4\n",
            "7\n",
            "11\n",
            "21\n",
            "34\n",
            "35\n"
          ]
        }
      ]
    },
    {
      "cell_type": "code",
      "source": [
        "n = 3\n",
        "a = [3,2,7]\n",
        "b = [2,3,6]"
      ],
      "metadata": {
        "id": "OTTBJnx9dvHM"
      },
      "execution_count": null,
      "outputs": []
    },
    {
      "cell_type": "code",
      "source": [
        "p"
      ],
      "metadata": {
        "colab": {
          "base_uri": "https://localhost:8080/"
        },
        "id": "zLNR4JNMk_wt",
        "outputId": "19d0b183-80d0-42ae-f0ab-444084941092"
      },
      "execution_count": null,
      "outputs": [
        {
          "output_type": "execute_result",
          "data": {
            "text/plain": [
              "[1, -1, 1]"
            ]
          },
          "metadata": {},
          "execution_count": 20
        }
      ]
    },
    {
      "cell_type": "code",
      "source": [
        "p = []\n",
        "for i in range(n):\n",
        "  p.append(a[i]-b[i])\n",
        "i = 0 \n",
        "for i in range(n):\n",
        "  if i == n-1:\n",
        "    \n",
        "\n",
        "\n"
      ],
      "metadata": {
        "id": "d1IVP53AdwUz"
      },
      "execution_count": null,
      "outputs": []
    },
    {
      "cell_type": "code",
      "source": [
        "import bisect \n",
        "\n",
        "\n",
        "n,k,d = map(int,input().split())\n",
        "a = list(map(int,input().split()))\n"
      ],
      "metadata": {
        "id": "zXs5IrHplD2i",
        "colab": {
          "base_uri": "https://localhost:8080/"
        },
        "outputId": "573a1665-8a62-4f39-b563-8fc5a1491c3d"
      },
      "execution_count": null,
      "outputs": [
        {
          "name": "stdout",
          "output_type": "stream",
          "text": [
            "6 4 3\n",
            "3 1 4 1 5 9\n"
          ]
        }
      ]
    },
    {
      "cell_type": "code",
      "source": [
        "m = n-k+1\n",
        "# bisect.insort(a, 3) \n",
        "# print(a)\n",
        "p = []\n",
        "r = sorted(a[:k])\n",
        "print(sum(r[:d]))\n",
        "for i in range(0,m):\n",
        "  p.append(sum(r[:d]))\n",
        "  r.remove(a[i])\n",
        "  bisect.insort(r,a[i+k])\n",
        "print(*p)"
      ],
      "metadata": {
        "colab": {
          "base_uri": "https://localhost:8080/"
        },
        "id": "v9Lk1OE2J1c7",
        "outputId": "bc606ed6-8f94-499a-d069-3bf41b684639"
      },
      "execution_count": null,
      "outputs": [
        {
          "output_type": "stream",
          "name": "stdout",
          "text": [
            "5\n",
            "5\n"
          ]
        }
      ]
    },
    {
      "cell_type": "code",
      "source": [
        "a[i+k]"
      ],
      "metadata": {
        "colab": {
          "base_uri": "https://localhost:8080/"
        },
        "id": "U1igKxVgK4bd",
        "outputId": "5b1f41d5-bc3e-41eb-e15a-574431014754"
      },
      "execution_count": null,
      "outputs": [
        {
          "output_type": "execute_result",
          "data": {
            "text/plain": [
              "9"
            ]
          },
          "metadata": {},
          "execution_count": 15
        }
      ]
    },
    {
      "cell_type": "code",
      "source": [
        "m"
      ],
      "metadata": {
        "colab": {
          "base_uri": "https://localhost:8080/"
        },
        "id": "uzbg5gVMNBbZ",
        "outputId": "86d9cbc0-5342-4daa-b1af-d020a588de87"
      },
      "execution_count": null,
      "outputs": [
        {
          "output_type": "execute_result",
          "data": {
            "text/plain": [
              "3"
            ]
          },
          "metadata": {},
          "execution_count": 18
        }
      ]
    },
    {
      "cell_type": "code",
      "source": [
        "r"
      ],
      "metadata": {
        "colab": {
          "base_uri": "https://localhost:8080/"
        },
        "id": "A2xTRES2NCxr",
        "outputId": "29fbbf1d-e21b-4404-a3d3-6b0b3c25aba3"
      },
      "execution_count": null,
      "outputs": [
        {
          "output_type": "execute_result",
          "data": {
            "text/plain": [
              "[1, 1, 4, 9]"
            ]
          },
          "metadata": {},
          "execution_count": 17
        }
      ]
    },
    {
      "cell_type": "code",
      "source": [
        "str = \"111\"\n",
        "p = list(str)"
      ],
      "metadata": {
        "id": "PnhHayAQNHQy"
      },
      "execution_count": null,
      "outputs": []
    },
    {
      "cell_type": "code",
      "source": [
        "class Solution:\n",
        "  def findRange(self, arr, size):\n",
        "    arr = [1 if i == '0' else -1 for i in a]\n",
        "    l, r, res = 0, 0,[0, 0]\n",
        "    cursum, maxsum = 0, float('-inf')\n",
        "    for i in range(len(arr)):\n",
        "      if arr[i] > arr[i] + cursum:\n",
        "        l = i\n",
        "        cursum = arr[i]\n",
        "      else:\n",
        "        cursum = arr[i] + cursum\n",
        "      r = i\n",
        "      if cursum > maxsum:\n",
        "        maxsum = cursum\n",
        "        res = [l + 1, r + 1]\n",
        "    return res if maxsum >= 0 else [-1]"
      ],
      "metadata": {
        "id": "4ZRhf7a6wS5x"
      },
      "execution_count": null,
      "outputs": []
    },
    {
      "cell_type": "code",
      "source": [
        "class Solution:\n",
        "    def findRange(self, a, size):\n",
        "    \tarr = [1 if i == '0' else -1 for i in a]\n",
        "    \t\n",
        "    \tl, r, res = 0, 0,[0, 0]\n",
        "    \t\n",
        "    \tcursum, maxsum = 0, float('-inf')\n",
        "    \t\n",
        "    \tfor i in range(len(arr)):\n",
        "    \t    if arr[i] > arr[i] + cursum:\n",
        "    \t        l = i\n",
        "    \t        cursum = arr[i]\n",
        "    \t        \n",
        "    \t    else:\n",
        "    \t        cursum = arr[i] + cursum\n",
        "    \t        \n",
        "    \t    r = i\n",
        "    \t    if cursum > maxsum:\n",
        "    \t        maxsum = cursum\n",
        "    \t        res = [l + 1, r + 1]\n",
        "    \t        \n",
        "    \treturn res if maxsum >= 0 else [-1]"
      ],
      "metadata": {
        "id": "TutlOOXbyTqR"
      },
      "execution_count": null,
      "outputs": []
    },
    {
      "cell_type": "code",
      "source": [
        "nums = [2,7,9,3,1]"
      ],
      "metadata": {
        "id": "bXTb_ROS0m39"
      },
      "execution_count": null,
      "outputs": []
    },
    {
      "cell_type": "code",
      "source": [
        "if len(nums)==1:\n",
        "  print(nums[0])\n",
        "else:\n",
        "  ans1 = 0\n",
        "  ans2 = 0\n",
        "  for p in range(0,len(nums)):\n",
        "    if p%2==0:\n",
        "      ans1 += nums[p]\n",
        "    else:\n",
        "      ans2 += nums[p]\n",
        "  print(ans1,ans2)\n"
      ],
      "metadata": {
        "colab": {
          "base_uri": "https://localhost:8080/"
        },
        "id": "cPp0LJOJ0nym",
        "outputId": "9e1fd3fe-a972-4802-e089-af09cd8ab450"
      },
      "execution_count": null,
      "outputs": [
        {
          "output_type": "stream",
          "name": "stdout",
          "text": [
            "12 10\n"
          ]
        }
      ]
    },
    {
      "cell_type": "code",
      "source": [
        "print(p)"
      ],
      "metadata": {
        "colab": {
          "base_uri": "https://localhost:8080/"
        },
        "id": "g_sakmFf1u65",
        "outputId": "7aedfca3-3223-48ac-c448-30351e18a729"
      },
      "execution_count": null,
      "outputs": [
        {
          "output_type": "stream",
          "name": "stdout",
          "text": [
            "4\n"
          ]
        }
      ]
    },
    {
      "cell_type": "code",
      "source": [
        "nums[p]"
      ],
      "metadata": {
        "colab": {
          "base_uri": "https://localhost:8080/"
        },
        "id": "WH__J8i82EYu",
        "outputId": "71ff6f3c-c1b5-480c-9f3e-359caa3129ba"
      },
      "execution_count": null,
      "outputs": [
        {
          "output_type": "execute_result",
          "data": {
            "text/plain": [
              "1"
            ]
          },
          "metadata": {},
          "execution_count": 8
        }
      ]
    },
    {
      "cell_type": "code",
      "source": [
        "1.a + b > c \n",
        "2.a + c > b \n",
        "3.b + c > a  "
      ],
      "metadata": {
        "id": "soLX7FMA2N5Y",
        "colab": {
          "base_uri": "https://localhost:8080/",
          "height": 134
        },
        "outputId": "64beb972-ec8c-459e-90e3-124dacf5a95b"
      },
      "execution_count": null,
      "outputs": [
        {
          "output_type": "error",
          "ename": "SyntaxError",
          "evalue": "ignored",
          "traceback": [
            "\u001b[0;36m  File \u001b[0;32m\"<ipython-input-1-5a70762a201d>\"\u001b[0;36m, line \u001b[0;32m1\u001b[0m\n\u001b[0;31m    1.a + b > c\u001b[0m\n\u001b[0m      ^\u001b[0m\n\u001b[0;31mSyntaxError\u001b[0m\u001b[0;31m:\u001b[0m invalid syntax\n"
          ]
        }
      ]
    },
    {
      "cell_type": "code",
      "source": [
        "def checkValidity(a, b, c):\n",
        "  if (a + b <= c) or (a + c <= b) or (b + c <= a) :\n",
        "    return False\n",
        "  else:\n",
        "    return True\n",
        "def Hello(a,b,c):\n",
        "  p = [a,b,c]\n",
        "  if len(p)==len(set(p)):\n",
        "    return True\n",
        "  else:\n",
        "    return False\n",
        "\n",
        "n = int(input())\n",
        "for i in range(0,n):\n",
        "  a,b,c = map(int,input().split())\n",
        "  if checkValidity(b,a,c) and Hello(a,b,c):\n",
        "    print(\"YES\")\n",
        "  else:\n",
        "    print(\"NO\")"
      ],
      "metadata": {
        "id": "FmZzNQ7BN_MS"
      },
      "execution_count": null,
      "outputs": []
    },
    {
      "cell_type": "code",
      "source": [
        "a = [2,1,3,1]\n",
        "a.sort()\n",
        "r = 0\n",
        "ans = 0\n",
        "for i in range(1,len(a)+1):\n",
        "  if i in a:\n",
        "    a.remove(i)\n",
        "  else:\n",
        "    p =  i-a[0]\n",
        "    if p<0:\n",
        "      ans = -1\n",
        "      break\n",
        "    else:\n",
        "      a.remove(a[0])\n",
        "      r = r + p\n",
        "if ans==-1:\n",
        "  print(ans)\n",
        "else:\n",
        "  print(r)\n",
        "    # r.append(i)\n"
      ],
      "metadata": {
        "colab": {
          "base_uri": "https://localhost:8080/"
        },
        "id": "KJjf-WdfWiV2",
        "outputId": "50e8b4c4-6cd1-443b-aff6-444dada111ff"
      },
      "execution_count": null,
      "outputs": [
        {
          "output_type": "stream",
          "name": "stdout",
          "text": [
            "3\n"
          ]
        }
      ]
    },
    {
      "cell_type": "code",
      "source": [
        "k = 3\n",
        "dish = [1,3,2,2,4,1,3,5]\n",
        "time = [3,3,0,1,2,4,1,4]"
      ],
      "metadata": {
        "id": "yGVMDHKKW-iO"
      },
      "execution_count": null,
      "outputs": []
    },
    {
      "cell_type": "code",
      "source": [
        "t = int(input())\n",
        "for s in range(0,t):\n",
        "  n,k = map(int,input().split())\n",
        "  dish = list(map(int,input().split()))\n",
        "  time = list(map(int,input().split()))\n",
        "  p = {}\n",
        "  for i in range(len(dish)):\n",
        "    if dish[i] in p.keys():\n",
        "      p[dish[i]] = min(p[dish[i]],time[i])\n",
        "    else:\n",
        "      p[dish[i]] = time[i]\n",
        "  if len(p)>=k:\n",
        "    q = sorted(list(p.values()))\n",
        "    print(sum(q[:k]))\n",
        "  else:\n",
        "    print(-1)"
      ],
      "metadata": {
        "id": "63iElswOW_ky"
      },
      "execution_count": null,
      "outputs": []
    },
    {
      "cell_type": "code",
      "source": [
        "def Rite(N):\n",
        "  alphabet = \"abcdefghijklmnopqrstuvwxyz\"\n",
        "  str = \"\"\n",
        "  if 25 < N:\n",
        "    p = N//26\n",
        "    q = N%26\n",
        "    str = p*alphabet\n",
        "  else:\n",
        "    q = N\n",
        "  return str,q"
      ],
      "metadata": {
        "id": "R5L1BxHrer81"
      },
      "execution_count": null,
      "outputs": []
    },
    {
      "cell_type": "code",
      "source": [
        "def create_string(N: int) -> str:\n",
        "  alphabet = \"abcdefghijklmnopqrstuvwxyz\"\n",
        "  string,q = Rite(N) \n",
        "  if q % 2 == 0:\n",
        "    if q != 0:\n",
        "      string += alphabet[:q//2] + alphabet[-q//2:]\n",
        "  else:\n",
        "    if sum(map(int, str(N))) % 2 == 0:\n",
        "      string += alphabet[:(q+1)//2] + alphabet[-((q-1)//2):]\n",
        "    else:\n",
        "      string += alphabet[:(q-1)//2] + alphabet[-((q+1)//2):]\n",
        "  return string\n"
      ],
      "metadata": {
        "id": "fvJ9DgjPesn5"
      },
      "execution_count": null,
      "outputs": []
    },
    {
      "cell_type": "code",
      "source": [
        "create_string(26)"
      ],
      "metadata": {
        "colab": {
          "base_uri": "https://localhost:8080/",
          "height": 36
        },
        "id": "6SKK5crU1dEj",
        "outputId": "ea871e0e-befe-4183-b172-5efa793819e1"
      },
      "execution_count": null,
      "outputs": [
        {
          "output_type": "execute_result",
          "data": {
            "text/plain": [
              "'abcdefghijklmnopqrstuvwxyz'"
            ],
            "application/vnd.google.colaboratory.intrinsic+json": {
              "type": "string"
            }
          },
          "metadata": {},
          "execution_count": 29
        }
      ]
    },
    {
      "cell_type": "code",
      "source": [
        "sum(map(int, str(13)))"
      ],
      "metadata": {
        "colab": {
          "base_uri": "https://localhost:8080/"
        },
        "id": "ysX6Tm1E1k0V",
        "outputId": "2739cb58-907b-411b-f1d2-a10de7eddabf"
      },
      "execution_count": null,
      "outputs": [
        {
          "output_type": "execute_result",
          "data": {
            "text/plain": [
              "4"
            ]
          },
          "metadata": {},
          "execution_count": 5
        }
      ]
    },
    {
      "cell_type": "code",
      "source": [
        "p = 4*\"abbb\""
      ],
      "metadata": {
        "id": "wyl8ohHL1vHO"
      },
      "execution_count": null,
      "outputs": []
    },
    {
      "cell_type": "code",
      "source": [
        "Rite(26)"
      ],
      "metadata": {
        "colab": {
          "base_uri": "https://localhost:8080/"
        },
        "id": "4DiLAMPz2lD2",
        "outputId": "242759e5-8904-4cdb-82af-b5a2ba16b875"
      },
      "execution_count": null,
      "outputs": [
        {
          "output_type": "execute_result",
          "data": {
            "text/plain": [
              "('abcdefghijklmnopqrstuvwxyz', 0)"
            ]
          },
          "metadata": {},
          "execution_count": 26
        }
      ]
    },
    {
      "cell_type": "code",
      "source": [
        "57%26"
      ],
      "metadata": {
        "colab": {
          "base_uri": "https://localhost:8080/"
        },
        "id": "2AA-wIAe2l4Z",
        "outputId": "c9ef88c2-62e6-4034-de18-b1ed034a9d03"
      },
      "execution_count": null,
      "outputs": [
        {
          "output_type": "execute_result",
          "data": {
            "text/plain": [
              "5"
            ]
          },
          "metadata": {},
          "execution_count": 24
        }
      ]
    },
    {
      "cell_type": "code",
      "source": [
        "text1 = \"abc\"\n",
        "text2 = \"def\""
      ],
      "metadata": {
        "id": "-m2V3HkX5fI1"
      },
      "execution_count": null,
      "outputs": []
    },
    {
      "cell_type": "code",
      "source": [
        "p = {}\n",
        "for i in range(len(text1)):\n",
        "  if text1[i] in p.keys():\n",
        "    p[text1[i]] += 1\n",
        "  else:\n",
        "    p[text1[i]] = 1\n",
        "ans = 0\n",
        "for j in range(len(text2)):\n",
        "  if text2[j] in p.keys():\n",
        "    if p[text2[j]]>0:\n",
        "      ans = ans + 1\n",
        "      p[text2[j]] -= 1\n",
        "    else:\n",
        "      del p[text2[j]]\n",
        "      continue\n",
        " \n",
        "print(ans)"
      ],
      "metadata": {
        "colab": {
          "base_uri": "https://localhost:8080/"
        },
        "id": "Da5VSxHQ7lb9",
        "outputId": "829a3f65-ba3a-482b-f6f4-8055b1dd97c9"
      },
      "execution_count": null,
      "outputs": [
        {
          "output_type": "stream",
          "name": "stdout",
          "text": [
            "0\n"
          ]
        }
      ]
    },
    {
      "cell_type": "code",
      "source": [
        "from collections import deque\n",
        "def solve():\n",
        "  n = int(input())\n",
        "  s = input()\n",
        "  ones = deque()\n",
        "  zeros = deque()\n",
        "  for i in range(2*n):\n",
        "    if s[i] == \"1\":\n",
        "      ones.append(i+1)\n",
        "    else:\n",
        "      zeros.append(i+1)\n",
        "  if len(ones) == 0 or len(zeros) == 0:\n",
        "    print(-1)\n",
        "    return \n",
        "  p = []\n",
        "  for i in range(n):\n",
        "    if len(ones) != 0:\n",
        "      p.append(ones.popleft())\n",
        "      continue\n",
        "    if len(zeros) != 0:\n",
        "       p.append(zeros.popleft())\n",
        "  p = sorted(p)\n",
        "  for i in p:\n",
        "    print(i, end=\" \")\n",
        "  print()"
      ],
      "metadata": {
        "id": "X23H7nuc9lOP"
      },
      "execution_count": null,
      "outputs": []
    },
    {
      "cell_type": "code",
      "source": [
        "solve()"
      ],
      "metadata": {
        "colab": {
          "base_uri": "https://localhost:8080/"
        },
        "id": "NwYBvCzJscw6",
        "outputId": "2f00d382-ccc0-4450-abdb-25252a204e19"
      },
      "execution_count": null,
      "outputs": [
        {
          "output_type": "stream",
          "name": "stdout",
          "text": [
            "1\n",
            "1 1\n",
            "1 \n"
          ]
        }
      ]
    },
    {
      "cell_type": "code",
      "source": [
        "n=5\n",
        "nums=[1,3,2,4,5]\n",
        "\n",
        "seen,res=[0]*n,0\n",
        "\n",
        "for i in range(n):\n",
        "    \n",
        "    tmp=0\n",
        "\n",
        "    for j in range(i+1,n):\n",
        "        tmp+=seen[nums[j]-1]*(nums[j]<nums[i])\n",
        "        print(seen)\n",
        "        print(tmp)\n",
        "        res+=tmp*(nums[j]>nums[i])\n",
        "        \n",
        "    for j in range(nums[i]-1,n): # i did not use segment/fenwick tree here for simplicity\n",
        "        seen[j]+=1\n",
        "        \n",
        "print(res)"
      ],
      "metadata": {
        "id": "qdfLDXFzsjEn",
        "colab": {
          "base_uri": "https://localhost:8080/"
        },
        "outputId": "93c977e6-508e-4980-f636-872dc8ebca2e"
      },
      "execution_count": null,
      "outputs": [
        {
          "output_type": "stream",
          "name": "stdout",
          "text": [
            "[0, 0, 0, 0, 0]\n",
            "0\n",
            "[0, 0, 0, 0, 0]\n",
            "0\n",
            "[0, 0, 0, 0, 0]\n",
            "0\n",
            "[0, 0, 0, 0, 0]\n",
            "0\n",
            "[1, 1, 1, 1, 1]\n",
            "1\n",
            "[1, 1, 1, 1, 1]\n",
            "1\n",
            "[1, 1, 1, 1, 1]\n",
            "1\n",
            "[1, 1, 2, 2, 2]\n",
            "0\n",
            "[1, 1, 2, 2, 2]\n",
            "0\n",
            "[1, 2, 3, 3, 3]\n",
            "0\n",
            "2\n"
          ]
        }
      ]
    },
    {
      "cell_type": "code",
      "source": [
        "print(seen)"
      ],
      "metadata": {
        "colab": {
          "base_uri": "https://localhost:8080/"
        },
        "id": "kRJW8DfhangS",
        "outputId": "94d6065d-00a9-4e99-ff4b-054dee716aae"
      },
      "execution_count": null,
      "outputs": [
        {
          "output_type": "stream",
          "name": "stdout",
          "text": [
            "[1, 2, 3, 4, 5]\n"
          ]
        }
      ]
    },
    {
      "cell_type": "code",
      "source": [
        "tokens = [\"2\",\"1\",\"+\",\"3\",\"*\"]"
      ],
      "metadata": {
        "id": "XLvOC88Qa4mZ"
      },
      "execution_count": null,
      "outputs": []
    },
    {
      "cell_type": "code",
      "source": [
        "r = []\n",
        "p = [\"+\",\"-\",\"/\",\"*\"]\n",
        "for i in range(len(tokens)):\n",
        "  if tokens[i] not in p:\n",
        "    r.append(int(tokens[i]))\n",
        "  else:\n",
        "    e1 = r.pop()\n",
        "    e2 = r.pop()\n",
        "    if tokens[i]==p[0]:\n",
        "      r.append(e1+e2)\n",
        "    elif tokens[i]==p[1]:\n",
        "      r.append(e1-e2)\n",
        "    elif tokens[i]==p[2]:\n",
        "      r.append(int(e2/e1))\n",
        "    else:\n",
        "      r.append(e1*e2)\n",
        "\n",
        "\n",
        "\n",
        "\n"
      ],
      "metadata": {
        "id": "HDeqwTt_gZSc"
      },
      "execution_count": null,
      "outputs": []
    },
    {
      "cell_type": "code",
      "source": [
        "n,m = map(int,input().split())\n",
        "r = []\n",
        "for i in range(n):\n",
        "  r.append(list(input()))"
      ],
      "metadata": {
        "colab": {
          "base_uri": "https://localhost:8080/"
        },
        "id": "Wq1bIpQkh1Uf",
        "outputId": "966623a2-6b28-4c92-ef8c-f93aefd70b5b"
      },
      "execution_count": null,
      "outputs": [
        {
          "name": "stdout",
          "output_type": "stream",
          "text": [
            "5 5\n",
            "ooooo\n",
            "oooxx\n",
            "xxooo\n",
            "oxoxo\n",
            "xxxxx\n"
          ]
        }
      ]
    },
    {
      "cell_type": "code",
      "source": [
        "r"
      ],
      "metadata": {
        "colab": {
          "base_uri": "https://localhost:8080/"
        },
        "id": "IuX197NbiJjY",
        "outputId": "ebc0ecd0-420d-481b-e09a-379f566779f0"
      },
      "execution_count": null,
      "outputs": [
        {
          "output_type": "execute_result",
          "data": {
            "text/plain": [
              "[['o', 'o', 'o', 'o', 'o'],\n",
              " ['o', 'o', 'o', 'x', 'x'],\n",
              " ['x', 'x', 'o', 'o', 'o'],\n",
              " ['o', 'x', 'o', 'x', 'o'],\n",
              " ['x', 'x', 'x', 'x', 'x']]"
            ]
          },
          "metadata": {},
          "execution_count": 3
        }
      ]
    },
    {
      "cell_type": "code",
      "source": [
        "n,m = map(int,input().split())\n",
        "r = []\n",
        "for i in range(n):\n",
        "  r.append(list(input()))\n",
        "ans = 0\n",
        "for _ in range(len(r)-1):\n",
        "  for j in range(_+1,len(r)):\n",
        "    q = 0\n",
        "    for k in range(len(r[0])):\n",
        "      if r[_][k]==\"o\" or r[j][k]==\"o\":\n",
        "        q = q+1\n",
        "      else:\n",
        "        break\n",
        "    if q==len(r[0]):\n",
        "      ans = ans+1\n",
        "\n",
        "print(ans)\n",
        "      "
      ],
      "metadata": {
        "colab": {
          "base_uri": "https://localhost:8080/"
        },
        "id": "Spef-GwnIYGa",
        "outputId": "9fd82aed-781f-4625-8f75-be6e735576d0"
      },
      "execution_count": null,
      "outputs": [
        {
          "output_type": "stream",
          "name": "stdout",
          "text": [
            "5\n"
          ]
        }
      ]
    },
    {
      "cell_type": "code",
      "source": [
        "x = '\"a,b\"c,d'"
      ],
      "metadata": {
        "id": "Mq3EE4o_I5yW"
      },
      "execution_count": null,
      "outputs": []
    },
    {
      "cell_type": "code",
      "source": [
        "n = int(input())\n",
        "p = list(input())"
      ],
      "metadata": {
        "colab": {
          "base_uri": "https://localhost:8080/"
        },
        "id": "ZQd6SjSkLIXs",
        "outputId": "1f5e8e89-6d2b-40df-e942-63a97a17c792"
      },
      "execution_count": null,
      "outputs": [
        {
          "name": "stdout",
          "output_type": "stream",
          "text": [
            "5\n",
            "\"a,b\"c,d\n"
          ]
        }
      ]
    },
    {
      "cell_type": "code",
      "source": [
        "n = int(input())\n",
        "p = list(input())\n",
        "q = 0\n",
        "for i in range(8):\n",
        "  if p[i]=='\"':\n",
        "    q = q+1\n",
        "  if p[i]== ',' and q%2==0:\n",
        "    p[i] = '.'\n",
        "w = ''.join(map(str,p))\n",
        "\n"
      ],
      "metadata": {
        "colab": {
          "base_uri": "https://localhost:8080/"
        },
        "id": "Xrx4KN2MLNGM",
        "outputId": "17d48283-975e-42e5-e25a-bc6a98033e48"
      },
      "execution_count": null,
      "outputs": [
        {
          "output_type": "stream",
          "name": "stdout",
          "text": [
            "['\"', 'a', ',', 'b', '\"', 'c', ',', 'd']\n",
            "['\"', 'a', ',', 'b', '\"', 'c', ',', 'd']\n",
            "['\"', 'a', ',', 'b', '\"', 'c', '.', 'd']\n"
          ]
        }
      ]
    },
    {
      "cell_type": "code",
      "source": [
        "n = int(input())\n",
        "p = list(input())\n",
        "q = 0\n",
        "for i in range(8):\n",
        "  if p[i]=='\"':\n",
        "    q = q+1\n",
        "  if p[i]== ',' and q%2==0:\n",
        "    p[i] = '.'\n",
        "w = ''.join(map(str,p))\n",
        "print(w)"
      ],
      "metadata": {
        "colab": {
          "base_uri": "https://localhost:8080/",
          "height": 277
        },
        "id": "An9YjltCLxVv",
        "outputId": "c227f08a-7f60-4c85-ad90-d3fc03086fae"
      },
      "execution_count": null,
      "outputs": [
        {
          "name": "stdout",
          "output_type": "stream",
          "text": [
            "5\n",
            ",,,,,\n"
          ]
        },
        {
          "output_type": "error",
          "ename": "IndexError",
          "evalue": "ignored",
          "traceback": [
            "\u001b[0;31m---------------------------------------------------------------------------\u001b[0m",
            "\u001b[0;31mIndexError\u001b[0m                                Traceback (most recent call last)",
            "\u001b[0;32m<ipython-input-27-df8e295b46b2>\u001b[0m in \u001b[0;36m<module>\u001b[0;34m\u001b[0m\n\u001b[1;32m      3\u001b[0m \u001b[0mq\u001b[0m \u001b[0;34m=\u001b[0m \u001b[0;36m0\u001b[0m\u001b[0;34m\u001b[0m\u001b[0;34m\u001b[0m\u001b[0m\n\u001b[1;32m      4\u001b[0m \u001b[0;32mfor\u001b[0m \u001b[0mi\u001b[0m \u001b[0;32min\u001b[0m \u001b[0mrange\u001b[0m\u001b[0;34m(\u001b[0m\u001b[0;36m8\u001b[0m\u001b[0;34m)\u001b[0m\u001b[0;34m:\u001b[0m\u001b[0;34m\u001b[0m\u001b[0;34m\u001b[0m\u001b[0m\n\u001b[0;32m----> 5\u001b[0;31m   \u001b[0;32mif\u001b[0m \u001b[0mp\u001b[0m\u001b[0;34m[\u001b[0m\u001b[0mi\u001b[0m\u001b[0;34m]\u001b[0m\u001b[0;34m==\u001b[0m\u001b[0;34m'\"'\u001b[0m\u001b[0;34m:\u001b[0m\u001b[0;34m\u001b[0m\u001b[0;34m\u001b[0m\u001b[0m\n\u001b[0m\u001b[1;32m      6\u001b[0m     \u001b[0mq\u001b[0m \u001b[0;34m=\u001b[0m \u001b[0mq\u001b[0m\u001b[0;34m+\u001b[0m\u001b[0;36m1\u001b[0m\u001b[0;34m\u001b[0m\u001b[0;34m\u001b[0m\u001b[0m\n\u001b[1;32m      7\u001b[0m   \u001b[0;32mif\u001b[0m \u001b[0mp\u001b[0m\u001b[0;34m[\u001b[0m\u001b[0mi\u001b[0m\u001b[0;34m]\u001b[0m\u001b[0;34m==\u001b[0m \u001b[0;34m','\u001b[0m \u001b[0;32mand\u001b[0m \u001b[0mq\u001b[0m\u001b[0;34m%\u001b[0m\u001b[0;36m2\u001b[0m\u001b[0;34m==\u001b[0m\u001b[0;36m0\u001b[0m\u001b[0;34m:\u001b[0m\u001b[0;34m\u001b[0m\u001b[0;34m\u001b[0m\u001b[0m\n",
            "\u001b[0;31mIndexError\u001b[0m: list index out of range"
          ]
        }
      ]
    },
    {
      "cell_type": "code",
      "source": [
        "q"
      ],
      "metadata": {
        "colab": {
          "base_uri": "https://localhost:8080/"
        },
        "id": "vP9yCIxKNGgG",
        "outputId": "15add24a-75dd-4f6a-a6f8-5f99da3d3c49"
      },
      "execution_count": null,
      "outputs": [
        {
          "output_type": "execute_result",
          "data": {
            "text/plain": [
              "2"
            ]
          },
          "metadata": {},
          "execution_count": 24
        }
      ]
    },
    {
      "cell_type": "code",
      "source": [
        "Username: PRPC5067\n",
        "\n",
        "Password: gHbdtqWzgwbX4"
      ],
      "metadata": {
        "id": "Hi6hmrHFNmr9"
      },
      "execution_count": null,
      "outputs": []
    },
    {
      "cell_type": "code",
      "source": [
        "words = [\"nba\",\"cba\",\"dba\"]"
      ],
      "metadata": {
        "id": "ax94oVWNFb_N"
      },
      "execution_count": null,
      "outputs": []
    },
    {
      "cell_type": "code",
      "source": [
        "ans = 0\n",
        "for i in range(len(words)-1):\n",
        "  for  j in range(i+1,len(words)):\n",
        "    p = {}\n",
        "    q = {}\n",
        "    r = 0\n",
        "    for ut in range(len(words[i])):\n",
        "      if words[i][ut] not in p.keys():\n",
        "        p[words[i][ut]] = 1\n",
        "    for utq in range(len(words[j])):\n",
        "      if words[j][utq] not in q.keys():\n",
        "        q[words[j][utq]] = 1\n",
        "    if p == q:\n",
        "      ans = ans + 1\n",
        "      del p\n",
        "      del q\n",
        "    else:\n",
        "      del p \n",
        "      del q\n",
        "print(ans)"
      ],
      "metadata": {
        "colab": {
          "base_uri": "https://localhost:8080/"
        },
        "id": "aK9foTj8FdXn",
        "outputId": "ca5d1d3b-1aaa-4ed6-f2e1-f21694c02ef9"
      },
      "execution_count": null,
      "outputs": [
        {
          "output_type": "stream",
          "name": "stdout",
          "text": [
            "0\n"
          ]
        }
      ]
    },
    {
      "cell_type": "code",
      "source": [
        "def find_prime_factors(n):\n",
        "    prime_factors = []\n",
        "    for i in range(2, n + 1):\n",
        "        while n % i == 0:\n",
        "            prime_factors.append(i)\n",
        "            n = n / i\n",
        "    print(prime_factors)\n",
        "    return prime_factors\n",
        "\n",
        "def smallest_value(n):\n",
        "    while True:\n",
        "        prime_factors = find_prime_factors(n)\n",
        "        sum_prime_factors = sum(prime_factors)\n",
        "        print(sum_prime_factors)\n",
        "        if sum_prime_factors == n:\n",
        "            return n\n",
        "        n = sum_prime_factors\n",
        "\n",
        "print(smallest_value(36))  # should return 2\n"
      ],
      "metadata": {
        "colab": {
          "base_uri": "https://localhost:8080/"
        },
        "id": "ts6EiPAkGvxb",
        "outputId": "bf054d70-f28e-4db0-cefd-61b2ad9de17d"
      },
      "execution_count": null,
      "outputs": [
        {
          "output_type": "stream",
          "name": "stdout",
          "text": [
            "[2, 2, 3, 3]\n",
            "10\n",
            "[2, 5]\n",
            "7\n",
            "[7]\n",
            "7\n",
            "7\n"
          ]
        }
      ]
    },
    {
      "cell_type": "code",
      "source": [
        "tem = [34,80,80,80,34,80,80,80,34,34]"
      ],
      "metadata": {
        "id": "P9H4_v4fI9e1"
      },
      "execution_count": null,
      "outputs": []
    },
    {
      "cell_type": "code",
      "source": [
        "r = []\n",
        "for i in range(len(tem)-1):\n",
        "  for  j in range(i+1,len(tem)):\n",
        "    if max(tem[j:])<=tem[i]:\n",
        "      r.append(0)\n",
        "      break\n",
        "    else:\n",
        "      if tem[i]<tem[j]:\n",
        "        r.append(j-i)\n",
        "        break\n",
        "r.append(0)\n",
        "print(r)"
      ],
      "metadata": {
        "colab": {
          "base_uri": "https://localhost:8080/"
        },
        "id": "J2sCY2WmSPkZ",
        "outputId": "3f14e5b3-8ff4-4511-8fa1-8f024e6850ab"
      },
      "execution_count": null,
      "outputs": [
        {
          "output_type": "stream",
          "name": "stdout",
          "text": [
            "[1, 0, 0, 0, 1, 0, 0, 0, 0, 0]\n"
          ]
        }
      ]
    },
    {
      "cell_type": "code",
      "source": [
        "[1,0,0,0,1,0,0,0,0,0]"
      ],
      "metadata": {
        "colab": {
          "base_uri": "https://localhost:8080/"
        },
        "id": "R_GvTfeWTG7S",
        "outputId": "189da67e-7f02-401f-bb9e-ea85d3a670c1"
      },
      "execution_count": null,
      "outputs": [
        {
          "output_type": "execute_result",
          "data": {
            "text/plain": [
              "[1, 1]"
            ]
          },
          "metadata": {},
          "execution_count": 30
        }
      ]
    },
    {
      "cell_type": "code",
      "source": [
        "def dailyTemperatures(temperatures):\n",
        "    stack = []\n",
        "    n = len(temperatures)\n",
        "    ans = [0] * n\n",
        "    print(ans)\n",
        "    for i in range(n - 1, -1, -1):\n",
        "        while stack and temperatures[i] >= temperatures[stack[-1]]:\n",
        "            stack.pop()\n",
        "        if stack:\n",
        "            ans[i] = stack[-1] - i\n",
        "        stack.append(i)\n",
        "    return ans"
      ],
      "metadata": {
        "id": "vjUfu2RDTKPe"
      },
      "execution_count": null,
      "outputs": []
    },
    {
      "cell_type": "code",
      "source": [
        "print(dailyTemperatures(tem))"
      ],
      "metadata": {
        "colab": {
          "base_uri": "https://localhost:8080/"
        },
        "id": "oTR9dTuaVv0V",
        "outputId": "39b9197f-5a23-4f1c-8396-25279405bd5b"
      },
      "execution_count": null,
      "outputs": [
        {
          "output_type": "stream",
          "name": "stdout",
          "text": [
            "[0, 0, 0, 0, 0, 0, 0, 0, 0, 0]\n",
            "[1, 0, 0, 0, 1, 0, 0, 0, 0, 0]\n"
          ]
        }
      ]
    },
    {
      "cell_type": "code",
      "source": [
        "7&1"
      ],
      "metadata": {
        "id": "9f6SY144V3bR",
        "colab": {
          "base_uri": "https://localhost:8080/"
        },
        "outputId": "26690fb5-e672-4013-a022-0055d0083cdb"
      },
      "execution_count": null,
      "outputs": [
        {
          "output_type": "execute_result",
          "data": {
            "text/plain": [
              "1"
            ]
          },
          "metadata": {},
          "execution_count": 9
        }
      ]
    },
    {
      "cell_type": "code",
      "source": [
        "0^0"
      ],
      "metadata": {
        "colab": {
          "base_uri": "https://localhost:8080/"
        },
        "id": "7YK1FVliFoVw",
        "outputId": "1d9bf374-adf6-4be9-92cd-8ae597e56ae0"
      },
      "execution_count": null,
      "outputs": [
        {
          "output_type": "execute_result",
          "data": {
            "text/plain": [
              "0"
            ]
          },
          "metadata": {},
          "execution_count": 10
        }
      ]
    },
    {
      "cell_type": "code",
      "source": [
        "def bitwise_and_xor(A, B):\n",
        "    results = []\n",
        "    for query in B:\n",
        "        11, r1, 12, r2 = query\n",
        "        x1 = A[11]\n",
        "        for i in range(11+1, r1+1):\n",
        "            x1 &= A[i]\n",
        "        x2 = A[12]\n",
        "        for i in range(12+1, r2+1):\n",
        "            x2 &= A[i]\n",
        "        results.append(x1 ^ x2)\n",
        "    return results"
      ],
      "metadata": {
        "colab": {
          "base_uri": "https://localhost:8080/",
          "height": 134
        },
        "id": "TLqHgrdVF8w7",
        "outputId": "e37e59c0-384f-4bc8-a1ea-e1b6476336b6"
      },
      "execution_count": null,
      "outputs": [
        {
          "output_type": "error",
          "ename": "SyntaxError",
          "evalue": "ignored",
          "traceback": [
            "\u001b[0;36m  File \u001b[0;32m\"<ipython-input-11-b236c403d605>\"\u001b[0;36m, line \u001b[0;32m4\u001b[0m\n\u001b[0;31m    11, r1, 12, r2 = query\u001b[0m\n\u001b[0m    ^\u001b[0m\n\u001b[0;31mSyntaxError\u001b[0m\u001b[0;31m:\u001b[0m cannot assign to literal\n"
          ]
        }
      ]
    },
    {
      "cell_type": "code",
      "source": [
        "def longest_odd_palindrome(S, Q):\n",
        "    results = []\n",
        "    for i in Q:\n",
        "        left = i\n",
        "        right = i\n",
        "        while left > 0 and right < len(S):\n",
        "            if S[left-1] == S[right+1]:\n",
        "                left -= 1\n",
        "                right += 1\n",
        "            else:\n",
        "                break\n",
        "        results.append(right - left - 1)\n",
        "    return results"
      ],
      "metadata": {
        "id": "mP6S3mZMLP30"
      },
      "execution_count": null,
      "outputs": []
    },
    {
      "cell_type": "code",
      "source": [
        "longest_odd_palindrome(\"aaaaa\",[2,3])"
      ],
      "metadata": {
        "colab": {
          "base_uri": "https://localhost:8080/",
          "height": 295
        },
        "id": "hfFVkdggM05-",
        "outputId": "4440fa1c-925d-4656-942f-742e5a0e7e6a"
      },
      "execution_count": null,
      "outputs": [
        {
          "output_type": "error",
          "ename": "IndexError",
          "evalue": "ignored",
          "traceback": [
            "\u001b[0;31m---------------------------------------------------------------------------\u001b[0m",
            "\u001b[0;31mIndexError\u001b[0m                                Traceback (most recent call last)",
            "\u001b[0;32m<ipython-input-13-7458b1ff3cf1>\u001b[0m in \u001b[0;36m<module>\u001b[0;34m\u001b[0m\n\u001b[0;32m----> 1\u001b[0;31m \u001b[0mlongest_odd_palindrome\u001b[0m\u001b[0;34m(\u001b[0m\u001b[0;34m\"aaaaa\"\u001b[0m\u001b[0;34m,\u001b[0m \u001b[0;34m[\u001b[0m\u001b[0;36m2\u001b[0m\u001b[0;34m,\u001b[0m\u001b[0;36m3\u001b[0m\u001b[0;34m]\u001b[0m\u001b[0;34m)\u001b[0m\u001b[0;34m\u001b[0m\u001b[0;34m\u001b[0m\u001b[0m\n\u001b[0m",
            "\u001b[0;32m<ipython-input-12-8300ba061206>\u001b[0m in \u001b[0;36mlongest_odd_palindrome\u001b[0;34m(S, Q)\u001b[0m\n\u001b[1;32m      5\u001b[0m         \u001b[0mright\u001b[0m \u001b[0;34m=\u001b[0m \u001b[0mi\u001b[0m\u001b[0;34m\u001b[0m\u001b[0;34m\u001b[0m\u001b[0m\n\u001b[1;32m      6\u001b[0m         \u001b[0;32mwhile\u001b[0m \u001b[0mleft\u001b[0m \u001b[0;34m>\u001b[0m \u001b[0;36m0\u001b[0m \u001b[0;32mand\u001b[0m \u001b[0mright\u001b[0m \u001b[0;34m<\u001b[0m \u001b[0mlen\u001b[0m\u001b[0;34m(\u001b[0m\u001b[0mS\u001b[0m\u001b[0;34m)\u001b[0m\u001b[0;34m:\u001b[0m\u001b[0;34m\u001b[0m\u001b[0;34m\u001b[0m\u001b[0m\n\u001b[0;32m----> 7\u001b[0;31m             \u001b[0;32mif\u001b[0m \u001b[0mS\u001b[0m\u001b[0;34m[\u001b[0m\u001b[0mleft\u001b[0m\u001b[0;34m-\u001b[0m\u001b[0;36m1\u001b[0m\u001b[0;34m]\u001b[0m \u001b[0;34m==\u001b[0m \u001b[0mS\u001b[0m\u001b[0;34m[\u001b[0m\u001b[0mright\u001b[0m\u001b[0;34m+\u001b[0m\u001b[0;36m1\u001b[0m\u001b[0;34m]\u001b[0m\u001b[0;34m:\u001b[0m\u001b[0;34m\u001b[0m\u001b[0;34m\u001b[0m\u001b[0m\n\u001b[0m\u001b[1;32m      8\u001b[0m                 \u001b[0mleft\u001b[0m \u001b[0;34m-=\u001b[0m \u001b[0;36m1\u001b[0m\u001b[0;34m\u001b[0m\u001b[0;34m\u001b[0m\u001b[0m\n\u001b[1;32m      9\u001b[0m                 \u001b[0mright\u001b[0m \u001b[0;34m+=\u001b[0m \u001b[0;36m1\u001b[0m\u001b[0;34m\u001b[0m\u001b[0;34m\u001b[0m\u001b[0m\n",
            "\u001b[0;31mIndexError\u001b[0m: string index out of range"
          ]
        }
      ]
    },
    {
      "cell_type": "code",
      "source": [
        "#s = [\"paras\",  \"priyanshu\", \"manan\", \"eesha\", \"aayush\", \"akshay\"]\n",
        "s = [\"paras\",  \"priyanshu\", \"pratik\", \"manan\", \"eesha\", \"aayush\", \"akshay\"]"
      ],
      "metadata": {
        "id": "SPlBPLSKM9Nx"
      },
      "execution_count": null,
      "outputs": []
    },
    {
      "cell_type": "code",
      "source": [
        "p = {}\n",
        "for i in range(len(s)):\n",
        "  if s[i][0] not in p.keys():\n",
        "    p[s[i][0]] = 0\n",
        "  else:\n",
        "    p[s[i][0]] += 1\n",
        "ans = 0\n",
        "for j in p:\n",
        "  if p[j] > 1:\n",
        "    ans = ans + p[j]"
      ],
      "metadata": {
        "id": "1Rf90dtEc-dq"
      },
      "execution_count": null,
      "outputs": []
    },
    {
      "cell_type": "code",
      "source": [
        "p"
      ],
      "metadata": {
        "colab": {
          "base_uri": "https://localhost:8080/"
        },
        "id": "sy3ftfoXda0J",
        "outputId": "87ee20ac-8bba-4511-8f87-34e075e044db"
      },
      "execution_count": null,
      "outputs": [
        {
          "output_type": "execute_result",
          "data": {
            "text/plain": [
              "{'p': 2, 'm': 0, 'e': 0, 'a': 1}"
            ]
          },
          "metadata": {},
          "execution_count": 10
        }
      ]
    },
    {
      "cell_type": "code",
      "source": [
        "ans = 0\n",
        "for j in p:\n",
        "  if p[j] > 1:\n",
        "    ans = ans + p[j]\n",
        "print(ans)\n",
        "\n",
        "\n",
        "# dict[i] for i in dict if dict[i] >= x"
      ],
      "metadata": {
        "colab": {
          "base_uri": "https://localhost:8080/"
        },
        "id": "8Emd8gtWdbwM",
        "outputId": "9a21880d-f3a4-4fa3-a63f-5a50f441007c"
      },
      "execution_count": null,
      "outputs": [
        {
          "output_type": "stream",
          "name": "stdout",
          "text": [
            "2\n"
          ]
        }
      ]
    },
    {
      "cell_type": "code",
      "source": [
        "k = 9\n",
        "r = [1,2,2,3,4]\n",
        "n = 5"
      ],
      "metadata": {
        "id": "_a9-7jzKkROl"
      },
      "execution_count": null,
      "outputs": []
    },
    {
      "cell_type": "code",
      "source": [
        "ans = 0\n",
        "while(k >= min(r)):\n",
        "  for i in range(n):\n",
        "    if k>r[-i-1]:\n",
        "      ans += k//r[-1-i]\n",
        "      k = k%r[-1-i]\n",
        "      break\n",
        "print(ans)"
      ],
      "metadata": {
        "colab": {
          "base_uri": "https://localhost:8080/",
          "height": 241
        },
        "id": "oZ2TR0OoeVe-",
        "outputId": "7ae2af72-6114-458c-d2fb-440633cd61a8"
      },
      "execution_count": null,
      "outputs": [
        {
          "output_type": "error",
          "ename": "KeyboardInterrupt",
          "evalue": "ignored",
          "traceback": [
            "\u001b[0;31m---------------------------------------------------------------------------\u001b[0m",
            "\u001b[0;31mKeyboardInterrupt\u001b[0m                         Traceback (most recent call last)",
            "\u001b[0;32m<ipython-input-18-21ed9968d6f4>\u001b[0m in \u001b[0;36m<module>\u001b[0;34m\u001b[0m\n\u001b[1;32m      2\u001b[0m \u001b[0;32mwhile\u001b[0m\u001b[0;34m(\u001b[0m\u001b[0mk\u001b[0m \u001b[0;34m>=\u001b[0m \u001b[0mmin\u001b[0m\u001b[0;34m(\u001b[0m\u001b[0mr\u001b[0m\u001b[0;34m)\u001b[0m\u001b[0;34m)\u001b[0m\u001b[0;34m:\u001b[0m\u001b[0;34m\u001b[0m\u001b[0;34m\u001b[0m\u001b[0m\n\u001b[1;32m      3\u001b[0m   \u001b[0;32mfor\u001b[0m \u001b[0mi\u001b[0m \u001b[0;32min\u001b[0m \u001b[0mrange\u001b[0m\u001b[0;34m(\u001b[0m\u001b[0mn\u001b[0m\u001b[0;34m)\u001b[0m\u001b[0;34m:\u001b[0m\u001b[0;34m\u001b[0m\u001b[0;34m\u001b[0m\u001b[0m\n\u001b[0;32m----> 4\u001b[0;31m     \u001b[0;32mif\u001b[0m \u001b[0mk\u001b[0m\u001b[0;34m>\u001b[0m\u001b[0mr\u001b[0m\u001b[0;34m[\u001b[0m\u001b[0;34m-\u001b[0m\u001b[0mi\u001b[0m\u001b[0;34m-\u001b[0m\u001b[0;36m1\u001b[0m\u001b[0;34m]\u001b[0m\u001b[0;34m:\u001b[0m\u001b[0;34m\u001b[0m\u001b[0;34m\u001b[0m\u001b[0m\n\u001b[0m\u001b[1;32m      5\u001b[0m       \u001b[0mans\u001b[0m \u001b[0;34m+=\u001b[0m \u001b[0mk\u001b[0m\u001b[0;34m//\u001b[0m\u001b[0mr\u001b[0m\u001b[0;34m[\u001b[0m\u001b[0;34m-\u001b[0m\u001b[0;36m1\u001b[0m\u001b[0;34m-\u001b[0m\u001b[0mi\u001b[0m\u001b[0;34m]\u001b[0m\u001b[0;34m\u001b[0m\u001b[0;34m\u001b[0m\u001b[0m\n\u001b[1;32m      6\u001b[0m       \u001b[0mk\u001b[0m \u001b[0;34m=\u001b[0m \u001b[0mk\u001b[0m\u001b[0;34m%\u001b[0m\u001b[0mr\u001b[0m\u001b[0;34m[\u001b[0m\u001b[0;34m-\u001b[0m\u001b[0;36m1\u001b[0m\u001b[0;34m-\u001b[0m\u001b[0mi\u001b[0m\u001b[0;34m]\u001b[0m\u001b[0;34m\u001b[0m\u001b[0;34m\u001b[0m\u001b[0m\n",
            "\u001b[0;31mKeyboardInterrupt\u001b[0m: "
          ]
        }
      ]
    },
    {
      "cell_type": "code",
      "source": [
        "n = 3\n",
        "arr = [1, 3, -1]"
      ],
      "metadata": {
        "id": "G8lHiJYsFFxQ"
      },
      "execution_count": null,
      "outputs": []
    },
    {
      "cell_type": "code",
      "source": [
        "import math \n",
        "p = [0]*(math.factorial(len(arr)))"
      ],
      "metadata": {
        "id": "x7IYhrJbkY20"
      },
      "execution_count": null,
      "outputs": []
    },
    {
      "cell_type": "code",
      "source": [
        "p = [0]*(math.factorial(len(arr)))\n",
        "for i in range(len(arr)-1):\n",
        "  for j in range(i+1,len(arr)):\n",
        "    p[i+j] = abs(arr[i]-arr[j])+abs(i-j)\n",
        "return max(p)"
      ],
      "metadata": {
        "id": "11wRxvPQFJtV"
      },
      "execution_count": null,
      "outputs": []
    },
    {
      "cell_type": "code",
      "source": [
        "print(max(p))"
      ],
      "metadata": {
        "colab": {
          "base_uri": "https://localhost:8080/"
        },
        "id": "MKnvRNVRGcqj",
        "outputId": "ad140fb0-1a25-43a1-9d5b-896542b5cbb3"
      },
      "execution_count": null,
      "outputs": [
        {
          "output_type": "stream",
          "name": "stdout",
          "text": [
            "5\n"
          ]
        }
      ]
    },
    {
      "cell_type": "code",
      "source": [
        "def max_diff(arr):\n",
        "  max_diff = [[0] * len(arr) for _ in range(len(arr))]\n",
        "  min_diff = [[0] * len(arr) for _ in range(len(arr))]\n",
        "  for i in range(len(arr)):\n",
        "    for j in range(i + 1, len(arr)):\n",
        "      max_diff[i][j] = max(max_diff[i][j], max(max_diff[i][j - 1], abs(arr[i] - arr[j]) + abs(i - j)))\n",
        "      min_diff[i][j] = min(min_diff[i][j], min(min_diff[i][j - 1], abs(arr[i] - arr[j]) + abs(i - j)))\n",
        " \n",
        "  # Return the maximum value in the max_diff array.\n",
        "  return max(max_diff[i])\n"
      ],
      "metadata": {
        "id": "_7TuifNrGpi0"
      },
      "execution_count": null,
      "outputs": []
    },
    {
      "cell_type": "code",
      "source": [
        "max_diff(arr)"
      ],
      "metadata": {
        "colab": {
          "base_uri": "https://localhost:8080/"
        },
        "id": "ItGLW2PkJjyk",
        "outputId": "8e2fadd3-002f-473c-b21f-db3097697d13"
      },
      "execution_count": null,
      "outputs": [
        {
          "output_type": "execute_result",
          "data": {
            "text/plain": [
              "0"
            ]
          },
          "metadata": {},
          "execution_count": 13
        }
      ]
    },
    {
      "cell_type": "code",
      "source": [
        "def max_diff(arr):\n",
        "  # Initialize the max_diff and min_diff arrays.\n",
        "  max_diff = [[0] * len(arr) for _ in range(len(arr))]\n",
        "  min_diff = [[0] * len(arr) for _ in range(len(arr))]\n",
        " \n",
        "  # Iterate through the array and update the max_diff and min_diff arrays.\n",
        "  for i in range(len(arr)):\n",
        "    for j in range(i + 1, len(arr)):\n",
        "      max_diff[i][j] = max(max_diff[i][j], max(max_diff[i][j - 1], abs(arr[i] - arr[j]) + abs(i - j)))\n",
        "      min_diff[i][j] = min(min_diff[i][j], min(min_diff[i][j - 1], abs(arr[i] - arr[j]) + abs(i - j)))\n",
        " \n",
        "  # Return the maximum value in the max_diff array.\n",
        "  return max(max_diff[i][j])\n"
      ],
      "metadata": {
        "id": "aDZqWvj_JoR_"
      },
      "execution_count": null,
      "outputs": []
    },
    {
      "cell_type": "code",
      "source": [
        "arr = [1, 3, -1]\n",
        "max_diff(arr)"
      ],
      "metadata": {
        "colab": {
          "base_uri": "https://localhost:8080/",
          "height": 277
        },
        "id": "G85cqAeZJyNs",
        "outputId": "020eb797-692e-46f7-9487-053fa1882515"
      },
      "execution_count": null,
      "outputs": [
        {
          "output_type": "error",
          "ename": "TypeError",
          "evalue": "ignored",
          "traceback": [
            "\u001b[0;31m---------------------------------------------------------------------------\u001b[0m",
            "\u001b[0;31mTypeError\u001b[0m                                 Traceback (most recent call last)",
            "\u001b[0;32m<ipython-input-17-23e7dc4ecf6c>\u001b[0m in \u001b[0;36m<module>\u001b[0;34m\u001b[0m\n\u001b[1;32m      1\u001b[0m \u001b[0marr\u001b[0m \u001b[0;34m=\u001b[0m \u001b[0;34m[\u001b[0m\u001b[0;36m1\u001b[0m\u001b[0;34m,\u001b[0m \u001b[0;36m3\u001b[0m\u001b[0;34m,\u001b[0m \u001b[0;34m-\u001b[0m\u001b[0;36m1\u001b[0m\u001b[0;34m]\u001b[0m\u001b[0;34m\u001b[0m\u001b[0;34m\u001b[0m\u001b[0m\n\u001b[0;32m----> 2\u001b[0;31m \u001b[0mmax_diff\u001b[0m\u001b[0;34m(\u001b[0m\u001b[0marr\u001b[0m\u001b[0;34m)\u001b[0m\u001b[0;34m\u001b[0m\u001b[0;34m\u001b[0m\u001b[0m\n\u001b[0m",
            "\u001b[0;32m<ipython-input-16-aeada62aac65>\u001b[0m in \u001b[0;36mmax_diff\u001b[0;34m(arr)\u001b[0m\n\u001b[1;32m     11\u001b[0m \u001b[0;34m\u001b[0m\u001b[0m\n\u001b[1;32m     12\u001b[0m   \u001b[0;31m# Return the maximum value in the max_diff array.\u001b[0m\u001b[0;34m\u001b[0m\u001b[0;34m\u001b[0m\u001b[0;34m\u001b[0m\u001b[0m\n\u001b[0;32m---> 13\u001b[0;31m   \u001b[0;32mreturn\u001b[0m \u001b[0mmax\u001b[0m\u001b[0;34m(\u001b[0m\u001b[0mmax_diff\u001b[0m\u001b[0;34m[\u001b[0m\u001b[0mi\u001b[0m\u001b[0;34m]\u001b[0m\u001b[0;34m[\u001b[0m\u001b[0mj\u001b[0m\u001b[0;34m]\u001b[0m\u001b[0;34m)\u001b[0m\u001b[0;34m\u001b[0m\u001b[0;34m\u001b[0m\u001b[0m\n\u001b[0m",
            "\u001b[0;31mTypeError\u001b[0m: 'int' object is not iterable"
          ]
        }
      ]
    },
    {
      "cell_type": "code",
      "source": [
        "pmax = -float(\"inf\")\n",
        "pmin = float(\"inf\")\n",
        "qmax = -float(\"inf\")\n",
        "qmin = float(\"inf\")\n",
        "for i in range(len(arr)):\n",
        "  pmax = max(pmax,arr[i]-i)\n",
        "  pmin = max(pmin,arr[i]-i)\n",
        "  qmax = max(qmax,arr[i]+i)\n",
        "  qmin = max(qmin,arr[i]+i)\n",
        "if n == 1:\n",
        "  return 0\n",
        "else:\n",
        "  return max(pmax-pmin,qmax-qmin)"
      ],
      "metadata": {
        "id": "Er5XZWhZKxsl"
      },
      "execution_count": null,
      "outputs": []
    },
    {
      "cell_type": "code",
      "source": [
        "int maxDistance(int arr[], int n) \n",
        "\n",
        "    { \n",
        "\n",
        "        int mx1 = -1e9 ,mn1 = 1e9, mn2 = 1e9, mx2 = -1e9;\n",
        "\n",
        "        \n",
        "\n",
        "        for(int i=0; i<n; i++){\n",
        "\n",
        "            mx1 = max(mx1, arr[i] - i);\n",
        "\n",
        "            mn1 = min(mn1, arr[i] - i);\n",
        "\n",
        "            mx2 = max(mx2, arr[i] + i);\n",
        "\n",
        "            mn2 = min(mn2, arr[i] + i);\n",
        "\n",
        "        }\n",
        "\n",
        "        if(n==1) return 0;\n",
        "\n",
        "        return max(mx1-mn1,mx2-mn2);\n",
        "\n",
        "    } "
      ],
      "metadata": {
        "id": "5R_-NyCXJ3qZ"
      },
      "execution_count": null,
      "outputs": []
    },
    {
      "cell_type": "code",
      "source": [
        "rooms = [[1],[2],[3],[]]\n",
        "key = {0}"
      ],
      "metadata": {
        "id": "2Oj70bu9NYno"
      },
      "execution_count": null,
      "outputs": []
    },
    {
      "cell_type": "code",
      "source": [
        "p = True\n",
        "for i in range(len(rooms)):\n",
        "  if i in key:\n",
        "    for j in range(0,len(rooms[i])):\n",
        "      key.add(rooms[i][j])\n",
        "      #key.append(rooms[i][j])\n",
        "    key.remove(i)\n",
        "  else:\n",
        "    p = False\n",
        "    break\n",
        "    \n",
        "print(p)"
      ],
      "metadata": {
        "colab": {
          "base_uri": "https://localhost:8080/"
        },
        "id": "aLa-w_IrNZld",
        "outputId": "755acb80-8992-4108-90a3-b73b05ee122f"
      },
      "execution_count": null,
      "outputs": [
        {
          "output_type": "stream",
          "name": "stdout",
          "text": [
            "True\n"
          ]
        }
      ]
    },
    {
      "cell_type": "code",
      "source": [
        "cro = \"croakcroak\"\n",
        "r = [\"c\",'r','o','a','k']"
      ],
      "metadata": {
        "id": "TwCLkT0jPzgx"
      },
      "execution_count": null,
      "outputs": []
    },
    {
      "cell_type": "code",
      "source": [
        "for d in cro:\n",
        "  if d != \"k\":\n",
        "    "
      ],
      "metadata": {
        "id": "bfAAwbYW3crl"
      },
      "execution_count": null,
      "outputs": []
    },
    {
      "cell_type": "code",
      "source": [
        "p = {}\n",
        "q = True\n",
        "for i in range(len(croakOfFrogs)):\n",
        "  if croakOfFrogs[i] not in p.keys() and croakOfFrogs[i] in r:\n",
        "    p[croakOfFrogs[i]] = 1\n",
        "  elif croakOfFrogs[i] in p.keys():\n",
        "    p[croakOfFrogs[i]] += 1\n",
        "  else:\n",
        "    q = False\n",
        "if len(set(list(p.values()))==1 and p[\"c\"] == len(croakOfFrogs)//5:\n",
        "  q = True\n",
        "else:\n",
        "  q = False\n"
      ],
      "metadata": {
        "id": "Oro00vr_zdP2"
      },
      "execution_count": null,
      "outputs": []
    },
    {
      "cell_type": "code",
      "source": [
        "class Solution:\n",
        "    def minNumberOfFrogs(self, croakOfFrogs: str) -> int:\n",
        "      c = r = o = a = k = max_frog_croak = present_frog_croak = 0\n",
        "        for i, v in enumerate(croakOfFrogs):\n",
        "            if v == 'c':\n",
        "                c += 1\n",
        "                present_frog_croak += 1\n",
        "            elif v == 'r':\n",
        "                r += 1\n",
        "            elif v == 'o':\n",
        "                o += 1\n",
        "            elif v == 'a':\n",
        "                a += 1\n",
        "            else:\n",
        "                k += 1\n",
        "                present_frog_croak -= 1\n",
        "\n",
        "            max_frog_croak = max(max_frog_croak, present_frog_croak)\n",
        "            if c < r or r < o or o < a or a < k:\n",
        "                return -1\n",
        "        if present_frog_croak == 0 and c == r and r == o and o == a and a == k:\n",
        "            return max_frog_croak\n",
        "        return -1"
      ],
      "metadata": {
        "id": "PmXAm_Y83OV3"
      },
      "execution_count": null,
      "outputs": []
    },
    {
      "cell_type": "code",
      "source": [
        "n = 4\n",
        "dislikes = [[1,2],[1,3],[2,4]]"
      ],
      "metadata": {
        "id": "evJinZwGiWh8"
      },
      "execution_count": null,
      "outputs": []
    },
    {
      "cell_type": "code",
      "source": [
        "r"
      ],
      "metadata": {
        "colab": {
          "base_uri": "https://localhost:8080/"
        },
        "id": "bdauO7-gPFBg",
        "outputId": "953359a1-cb23-4167-a01c-bd0d3e5506f6"
      },
      "execution_count": null,
      "outputs": [
        {
          "output_type": "execute_result",
          "data": {
            "text/plain": [
              "[0, 0, 0, 0, 0, 0, 0, 0]"
            ]
          },
          "metadata": {},
          "execution_count": 3
        }
      ]
    },
    {
      "cell_type": "code",
      "source": [
        "\n",
        "\n",
        "#p = [2,3,3,3,2]\n"
      ],
      "metadata": {
        "id": "RbrRSpu2iYNJ"
      },
      "execution_count": null,
      "outputs": []
    },
    {
      "cell_type": "code",
      "source": [
        "p = [1,3,2,3,2,2,2,3]\n",
        "r = [0]*len(p)\n",
        "d = 0\n",
        "ans = 0\n",
        "for i in range(len(p)):\n",
        "  d += 1\n",
        "  #ans = d + ans\n",
        "  q = p[i]\n",
        "  g = 0\n",
        "  for _ in range(i,len(p)):\n",
        "    if g==q:\n",
        "      break\n",
        "    else:\n",
        "      if p[_]==q:\n",
        "        if r[_]==0:\n",
        "          r[_]=d\n",
        "          g +=1\n",
        "        else:\n",
        "          continue\n",
        "     #ans = d + ans\n",
        "print(r)\n",
        "\n",
        "\n"
      ],
      "metadata": {
        "colab": {
          "base_uri": "https://localhost:8080/"
        },
        "id": "iXLdFhypNghf",
        "outputId": "9f9e3ea2-48eb-4c7a-82c5-92bb71831840"
      },
      "execution_count": null,
      "outputs": [
        {
          "output_type": "stream",
          "name": "stdout",
          "text": [
            "[1, 2, 3, 2, 3, 5, 5, 2]\n"
          ]
        }
      ]
    },
    {
      "cell_type": "code",
      "source": [
        "r"
      ],
      "metadata": {
        "id": "h-o3A4B1P1VR"
      },
      "execution_count": null,
      "outputs": []
    },
    {
      "cell_type": "code",
      "source": [
        "sum(set(r))"
      ],
      "metadata": {
        "colab": {
          "base_uri": "https://localhost:8080/"
        },
        "id": "0J4bCIioP5P-",
        "outputId": "8458a122-de28-4368-a881-36b73d58682d"
      },
      "execution_count": null,
      "outputs": [
        {
          "output_type": "execute_result",
          "data": {
            "text/plain": [
              "11"
            ]
          },
          "metadata": {},
          "execution_count": 11
        }
      ]
    },
    {
      "cell_type": "code",
      "source": [
        "A = [4, 7, 4, 11, 2, 7, 7]\n",
        "B = []\n",
        "\n",
        "for i in range(len(A)):\n",
        "    for j in range(A[i]):\n",
        "        B.append(i)\n",
        "print(B)"
      ],
      "metadata": {
        "colab": {
          "base_uri": "https://localhost:8080/"
        },
        "id": "c7qW3ILjXwhZ",
        "outputId": "9b0ad872-5466-4c9e-c623-4a6825135e4b"
      },
      "execution_count": null,
      "outputs": [
        {
          "output_type": "stream",
          "name": "stdout",
          "text": [
            "[0, 0, 0, 0, 1, 1, 1, 1, 1, 1, 1, 2, 2, 2, 2, 3, 3, 3, 3, 3, 3, 3, 3, 3, 3, 3, 4, 4, 5, 5, 5, 5, 5, 5, 5, 6, 6, 6, 6, 6, 6, 6]\n"
          ]
        }
      ]
    },
    {
      "cell_type": "code",
      "source": [
        "def min_distance(S: str) -> int:\n",
        "    n = len(S)\n",
        "    min_distance = n + 1  # Initialize minimum distance to a large value\n",
        "\n",
        "    for i in range(n):\n",
        "        if S[i] == '1':\n",
        "            for j in range(i+1, n):\n",
        "                if S[j] == '1':\n",
        "                    distance = j - i - 1  # Distance between the two 1s\n",
        "                    min_distance = min(min_distance, distance)\n",
        "\n",
        "    return min_distance"
      ],
      "metadata": {
        "id": "6chgVzIJZTkW"
      },
      "execution_count": null,
      "outputs": []
    },
    {
      "cell_type": "code",
      "source": [
        "min_distance(\"0100101\")"
      ],
      "metadata": {
        "colab": {
          "base_uri": "https://localhost:8080/"
        },
        "id": "iMk5w7IjpzgH",
        "outputId": "8b2692ab-2743-4842-ca28-530ca8987dc4"
      },
      "execution_count": null,
      "outputs": [
        {
          "output_type": "execute_result",
          "data": {
            "text/plain": [
              "1"
            ]
          },
          "metadata": {},
          "execution_count": 4
        }
      ]
    },
    {
      "cell_type": "code",
      "source": [
        "#arr = [6,-1,-3,4,-2,2,4,6,-12,-7]\n",
        "arr = [0,0,5,0,0]\n",
        "n = len(arr)"
      ],
      "metadata": {
        "id": "OjCJX9FZp7LA"
      },
      "execution_count": null,
      "outputs": []
    },
    {
      "cell_type": "code",
      "source": [
        "ans = 0\n",
        "for i in range(0,n):\n",
        "  p = 0\n",
        "  for j in range(i,n):\n",
        "    p = arr[j] + p\n",
        "    if p==0:\n",
        "      ans = ans+1\n",
        "print(ans)"
      ],
      "metadata": {
        "colab": {
          "base_uri": "https://localhost:8080/"
        },
        "id": "zZgF6wVA6j6F",
        "outputId": "b65ae2d0-0dd5-48f3-b095-ae56869956f3"
      },
      "execution_count": null,
      "outputs": [
        {
          "output_type": "stream",
          "name": "stdout",
          "text": [
            "6\n"
          ]
        }
      ]
    },
    {
      "cell_type": "code",
      "source": [
        "ans = 0\n",
        "sum_count = {0: 0}\n",
        "p = 0\n",
        "for i in range(n):\n",
        "  p += arr[i]\n",
        "  if p in sum_count:\n",
        "    sum_count[p] = sum_count[p] + 1\n",
        "    ans += sum_count[p]\n",
        "print(ans)"
      ],
      "metadata": {
        "colab": {
          "base_uri": "https://localhost:8080/"
        },
        "id": "6bzuUtZh7E_o",
        "outputId": "aff0bc0e-84f8-4789-9587-4d7f88817c38"
      },
      "execution_count": null,
      "outputs": [
        {
          "output_type": "stream",
          "name": "stdout",
          "text": [
            "3\n"
          ]
        }
      ]
    },
    {
      "cell_type": "code",
      "source": [
        "sum_count"
      ],
      "metadata": {
        "colab": {
          "base_uri": "https://localhost:8080/"
        },
        "id": "c42osL0982fs",
        "outputId": "5afe5114-2578-4608-db88-8fa5975d5db4"
      },
      "execution_count": null,
      "outputs": [
        {
          "output_type": "execute_result",
          "data": {
            "text/plain": [
              "{0: 2}"
            ]
          },
          "metadata": {},
          "execution_count": 16
        }
      ]
    },
    {
      "cell_type": "markdown",
      "source": [
        "arr = [6,-1,-3,4,-2,2,4,6,-12,-7]\n"
      ],
      "metadata": {
        "id": "g9DUB8tF_j6t"
      }
    },
    {
      "cell_type": "code",
      "source": [
        "count = 0\n",
        "sum_count = {0: 1}\n",
        "cum_sum = 0\n",
        "for x in arr:\n",
        "  cum_sum += x\n",
        "  #print(cum_sum)\n",
        "  if cum_sum in sum_count:\n",
        "    count += sum_count[cum_sum]\n",
        "  else:\n",
        "    sum_count[cum_sum] = 0\n",
        "  sum_count[cum_sum] += 1\n"
      ],
      "metadata": {
        "colab": {
          "base_uri": "https://localhost:8080/"
        },
        "id": "J03yTN7m-qDH",
        "outputId": "07414063-f82e-4252-cf11-6c56074155f4"
      },
      "execution_count": null,
      "outputs": [
        {
          "output_type": "stream",
          "name": "stdout",
          "text": [
            "0\n",
            "0\n",
            "{0: 3, 5: 0}\n",
            "5\n",
            "5\n",
            "6\n"
          ]
        }
      ]
    },
    {
      "cell_type": "code",
      "source": [
        "q = [1,3,2,3,2,2,2,3]"
      ],
      "metadata": {
        "id": "uctZvH_H_NyX"
      },
      "execution_count": null,
      "outputs": []
    },
    {
      "cell_type": "code",
      "source": [
        "p = {}\n",
        "ans = 1\n",
        "for i in q:\n",
        "  if i not in p.keys():\n",
        "    p[i] = 1\n",
        "  else:\n",
        "    p[i] += 1\n",
        "\n",
        "x = {}\n",
        "y = {}\n",
        "j =1\n",
        "d = []\n",
        "for i in q:\n",
        "  if i not in x.keys() or i not in y.keys() or y[i]==0:\n",
        "    x[i]=j\n",
        "    j +=1\n",
        "    y[i] = i\n",
        "  d.append(x[i])\n",
        "  y[i] -= 1\n",
        "d12 = 0\n",
        "for j in p.keys():\n",
        "  if p[j]%j != 0:\n",
        "    d12 = -1\n",
        "if d12 == -1:\n",
        "  print(d12)\n",
        "else:\n",
        "  print(*d)\n",
        "\n",
        "\n",
        "\n",
        "\n"
      ],
      "metadata": {
        "colab": {
          "base_uri": "https://localhost:8080/"
        },
        "id": "awVgOioxdHn7",
        "outputId": "f227fb2f-cdc8-4067-a571-f9a3b83e41fc"
      },
      "execution_count": null,
      "outputs": [
        {
          "output_type": "stream",
          "name": "stdout",
          "text": [
            "1 2 3 2 3 4 4 2\n"
          ]
        }
      ]
    },
    {
      "cell_type": "code",
      "source": [
        "import numpy as np\n",
        "nums = [-1,1,0,-3,3]"
      ],
      "metadata": {
        "id": "68RV8D7JkOlL"
      },
      "execution_count": null,
      "outputs": []
    },
    {
      "cell_type": "code",
      "source": [
        "p = [0]*len(nums)"
      ],
      "metadata": {
        "id": "ACbntcE7kWB5"
      },
      "execution_count": null,
      "outputs": []
    },
    {
      "cell_type": "code",
      "source": [
        "for i in range(len(nums)):\n",
        "  result1 = np.prod(np.array(p[:i]))\n",
        "  result2 = np.prod(np.array(p[i+1:]))\n",
        "  print(result1,result2)\n",
        "  if nums[i] != 0:\n",
        "    p[i] = result1*result2//nums[i]\n",
        "  else:\n",
        "    p[i] = result1*result2\n",
        "print(p)"
      ],
      "metadata": {
        "colab": {
          "base_uri": "https://localhost:8080/"
        },
        "id": "ov3ryvH7B2NX",
        "outputId": "b8342d8c-b75d-481f-c694-c48287a3aa34"
      },
      "execution_count": null,
      "outputs": [
        {
          "output_type": "stream",
          "name": "stdout",
          "text": [
            "1.0 -0.0\n",
            "0.0 0.0\n",
            "0.0 0.0\n",
            "0.0 -0.0\n",
            "0.0 1.0\n",
            "[0.0, 0.0, 0.0, 0.0, 0.0]\n"
          ]
        }
      ]
    },
    {
      "cell_type": "code",
      "source": [
        "def productExceptSelf(self, nums: List[int]) -> List[int]:\n",
        "        zero_count = 0\n",
        "        product = 1\n",
        "        l = len(nums)\n",
        "        for i in range(l):\n",
        "            if nums[i] == 0:\n",
        "                zero_count += 1\n",
        "            else:\n",
        "                product *= nums[i]\n",
        "        if zero_count >= 2:\n",
        "            return [0] * l\n",
        "        else:\n",
        "            final_list = []\n",
        "            for i in range(l):\n",
        "                if nums[i] == 0:\n",
        "                    final_list.append(product)\n",
        "                else:\n",
        "                    if zero_count > 0:\n",
        "                        final_list.append(0)\n",
        "                    else:\n",
        "                        final_list.append(product//nums[i])\n",
        "            return final_list"
      ],
      "metadata": {
        "id": "4zPDcZj2CyfD"
      },
      "execution_count": null,
      "outputs": []
    },
    {
      "cell_type": "code",
      "source": [
        "[\"BrowserHistory\",\"visit\",\"visit\",\"visit\",\"back\",\"back\",\"forward\",\"visit\",\"forward\",\"back\",\"back\"]\n",
        "[[\"leetcode.com\"],[\"google.com\"],[\"facebook.com\"],[\"youtube.com\"],[1],[1],[1],[\"linkedin.com\"],[2],[2],[7]]"
      ],
      "metadata": {
        "id": "DSC2IrKvLdPk"
      },
      "execution_count": null,
      "outputs": []
    },
    {
      "cell_type": "code",
      "source": [
        "class BrowserHistory:\n",
        "    def __init__(self, homepage: str):\n",
        "        self.stack = [homepage]\n",
        "        self.curr = 0\n",
        "\n",
        "    def visit(self, url: str):\n",
        "        while len(self.stack) > self.curr+1:\n",
        "            self.stack.pop()\n",
        "        self.stack.append(url)\n",
        "        self.curr = len(self.stack) - 1\n",
        "        \n",
        "    def back(self, steps: int):\n",
        "        self.curr = max(0, self.curr - steps)\n",
        "        return self.stack[self.curr]\n",
        "\n",
        "    def forward(self, steps: int):\n",
        "        self.curr = min(self.curr + steps, len(self.stack) - 1)\n",
        "\t\treturn self.stack[self.curr]"
      ],
      "metadata": {
        "id": "cNvaXeTMLKzB"
      },
      "execution_count": null,
      "outputs": []
    },
    {
      "cell_type": "code",
      "source": [
        "from collections import deque\n",
        "\n",
        "def bfs(graph, start):\n",
        "    # maintain a queue of vertices to be visited\n",
        "    queue = deque([start])\n",
        "    # maintain a set of visited vertices\n",
        "    seen = set([start])\n",
        "\n",
        "    while queue:\n",
        "        # get the next vertex to visit\n",
        "        vertex = queue.popleft()\n",
        "        # do something with the vertex (e.g., print it)\n",
        "        print(vertex)\n",
        "        # add all of its neighbors to the queue\n",
        "        for neighbor in graph[vertex]:\n",
        "            if neighbor not in seen:\n",
        "                queue.append(neighbor)\n",
        "                seen.add(neighbor)\n",
        "\n",
        "# test the function\n",
        "graph = {\n",
        "    'A': ['B', 'C'],\n",
        "    'B': ['A', 'C', 'D'],\n",
        "    'C': ['A', 'B', 'D'],\n",
        "    'D': ['B', 'C']\n",
        "}\n",
        "bfs(graph, 'A')\n"
      ],
      "metadata": {
        "colab": {
          "base_uri": "https://localhost:8080/"
        },
        "id": "XPJwUAZl4xnj",
        "outputId": "cd69bf2e-4d32-42b6-8947-6f5afef27dbb"
      },
      "execution_count": null,
      "outputs": [
        {
          "output_type": "stream",
          "name": "stdout",
          "text": [
            "A\n",
            "B\n",
            "C\n",
            "D\n"
          ]
        }
      ]
    },
    {
      "cell_type": "code",
      "source": [
        "Edges=[[0,2],[0,3],[1,3],[2,3]]"
      ],
      "metadata": {
        "id": "ShFoYPtk4y9O"
      },
      "execution_count": null,
      "outputs": []
    },
    {
      "cell_type": "code",
      "source": [
        "prices = [1,2,3,0,2]\n",
        "r = []\n",
        "p = 0\n",
        "for i in range(len(prices)):\n",
        "  for j in range(i+1,len(prices)):\n",
        "    if prices[i]<prices[j]:\n",
        "      r.append(prices[j]-prices[i])"
      ],
      "metadata": {
        "id": "S191RIdn9rJF"
      },
      "execution_count": null,
      "outputs": []
    },
    {
      "cell_type": "code",
      "source": [
        "r"
      ],
      "metadata": {
        "colab": {
          "base_uri": "https://localhost:8080/"
        },
        "id": "jKDH7mYK-D9C",
        "outputId": "f87ca543-b666-4d07-9e01-85060c160b91"
      },
      "execution_count": null,
      "outputs": [
        {
          "output_type": "execute_result",
          "data": {
            "text/plain": [
              "[1, 2, 1, 1, 2]"
            ]
          },
          "metadata": {},
          "execution_count": 6
        }
      ]
    },
    {
      "cell_type": "code",
      "source": [
        "def maxProfit(prices):\n",
        "    if not prices:\n",
        "        return 0\n",
        "\n",
        "    profit = 0\n",
        "    buy = prices[0]\n",
        "    for i in range(1, len(prices)):\n",
        "        if prices[i] > buy:\n",
        "            profit += prices[i] - buy\n",
        "            buy = prices[i] - 1\n",
        "        else:\n",
        "            buy = prices[i]\n",
        "    return profit"
      ],
      "metadata": {
        "id": "2CotYeJB757Q"
      },
      "execution_count": null,
      "outputs": []
    },
    {
      "cell_type": "code",
      "source": [
        "maxProfit(prices)"
      ],
      "metadata": {
        "colab": {
          "base_uri": "https://localhost:8080/"
        },
        "id": "gM4XgCgO77KY",
        "outputId": "c17ad81b-9c3b-4039-d52c-1c83f7d6beb0"
      },
      "execution_count": null,
      "outputs": [
        {
          "output_type": "execute_result",
          "data": {
            "text/plain": [
              "5"
            ]
          },
          "metadata": {},
          "execution_count": 3
        }
      ]
    },
    {
      "cell_type": "code",
      "source": [
        "arr = [3, 1, 5, 8]\n",
        "#arr = [1,10]\n",
        "print(arr)\n",
        "arr.sort()\n",
        "print(arr)"
      ],
      "metadata": {
        "colab": {
          "base_uri": "https://localhost:8080/"
        },
        "id": "Gzmn52N98BVa",
        "outputId": "6ac20670-b3ec-4f72-fed7-a065844098d1"
      },
      "execution_count": null,
      "outputs": [
        {
          "output_type": "stream",
          "name": "stdout",
          "text": [
            "[3, 1, 5, 8]\n",
            "[1, 3, 5, 8]\n"
          ]
        }
      ]
    },
    {
      "cell_type": "code",
      "source": [
        "\n",
        "if len(arr)>2:\n",
        "  ans = 0\n",
        "  p = len(arr)-1-1\n",
        "  while(p>0):\n",
        "    ans = ans + arr[0]*arr[1]*arr[2]\n",
        "    arr.pop(1)\n",
        "    p = p-1\n",
        "  ans = arr[0]*arr[1] + arr[1] + ans\n",
        "else:\n",
        "  if len(arr)==2:\n",
        "    ans = arr[0]*arr[1] + arr[1]\n",
        "  elif len(arr)==1:\n",
        "    ans = arr[0]\n",
        "  else:\n",
        "    ans = 0\n",
        "print(ans)\n"
      ],
      "metadata": {
        "colab": {
          "base_uri": "https://localhost:8080/"
        },
        "id": "OQjnKnIqD77K",
        "outputId": "531f668f-5c87-413f-ca03-fe4f61ed04a8"
      },
      "execution_count": null,
      "outputs": [
        {
          "output_type": "stream",
          "name": "stdout",
          "text": [
            "20\n"
          ]
        }
      ]
    },
    {
      "cell_type": "code",
      "source": [
        "dp = {}\n",
        "def backtrack(i,total):\n",
        "  if i == len(nums):\n",
        "    return 1 if total == target else 0\n",
        "  if (i,total) in dp:\n",
        "    return dp[(i,total)]\n",
        "  dp[(i,total)] = (backtrack(i+1,total-nums[i])) + (backtrack(i+1,total+nums[i]))\n",
        "  return dp[(i,total)]\n",
        " return backtrack(0,0)"
      ],
      "metadata": {
        "id": "hH3ciceTLeYa"
      },
      "execution_count": null,
      "outputs": []
    },
    {
      "cell_type": "code",
      "source": [
        "target = 5\n",
        "def backtrack(i):\n",
        "  if i ==0:\n",
        "    return 0\n",
        "  elif i == 1:\n",
        "    return 1\n",
        "  elif i==2:\n",
        "    return 2\n",
        "  else:\n",
        "    return backtrack(i-1) + backtrack(i-2)\n",
        "print(backtrack(5))"
      ],
      "metadata": {
        "colab": {
          "base_uri": "https://localhost:8080/"
        },
        "id": "XzkGP_hXo4IV",
        "outputId": "b831cb8d-3274-4af3-f31a-f55967938af8"
      },
      "execution_count": null,
      "outputs": [
        {
          "output_type": "stream",
          "name": "stdout",
          "text": [
            "8\n"
          ]
        }
      ]
    },
    {
      "cell_type": "code",
      "source": [
        "Arr=[-1000, -1000, -1000, 1000, 1000, 1000]\n",
        "#Arr = [5, -4, 1, -3, 1]"
      ],
      "metadata": {
        "id": "pPcMV4PMqmhc"
      },
      "execution_count": null,
      "outputs": []
    },
    {
      "cell_type": "code",
      "source": [
        "ans = 0\n",
        "for i in range(len(Arr)-1):\n",
        "  for j in range(i+1,len(Arr)):\n",
        "    if Arr[i]*Arr[j]<0:\n",
        "      if abs(Arr[i])>abs(Arr[j]):\n",
        "        ans += abs((j-i)*(Arr[j]))\n",
        "        Arr[i] = Arr[i]+Arr[j]\n",
        "        Arr[j]=0\n",
        "      else:\n",
        "        ans += abs((j-i)*(Arr[i]))\n",
        "        Arr[j] = Arr[j]+Arr[i]\n",
        "        Arr[i]=0\n",
        "\n"
      ],
      "metadata": {
        "colab": {
          "base_uri": "https://localhost:8080/"
        },
        "id": "pWNpmhmASlfX",
        "outputId": "c383175b-d37e-441f-c4dc-d77373161302"
      },
      "execution_count": null,
      "outputs": [
        {
          "output_type": "stream",
          "name": "stdout",
          "text": [
            "3000 [0, -1000, -1000, 0, 1000, 1000]\n",
            "6000 [0, 0, -1000, 0, 0, 1000]\n",
            "9000 [0, 0, 0, 0, 0, 0]\n"
          ]
        }
      ]
    },
    {
      "cell_type": "code",
      "source": [
        "ans"
      ],
      "metadata": {
        "colab": {
          "base_uri": "https://localhost:8080/"
        },
        "id": "X6lywibpT999",
        "outputId": "90cef890-9861-42ad-e7e8-785208373a28"
      },
      "execution_count": null,
      "outputs": [
        {
          "output_type": "execute_result",
          "data": {
            "text/plain": [
              "16000"
            ]
          },
          "metadata": {},
          "execution_count": 4
        }
      ]
    },
    {
      "cell_type": "code",
      "source": [
        "for i in range(5-1,-1,-2):\n",
        "  print(i)"
      ],
      "metadata": {
        "colab": {
          "base_uri": "https://localhost:8080/"
        },
        "id": "ZvbHTp4YUCPx",
        "outputId": "5821e20d-f34f-4aad-bd22-d470e1011283"
      },
      "execution_count": null,
      "outputs": [
        {
          "output_type": "stream",
          "name": "stdout",
          "text": [
            "4\n",
            "2\n",
            "0\n"
          ]
        }
      ]
    },
    {
      "cell_type": "code",
      "source": [
        "import functools\n",
        "\n",
        "@functools.lru_cache(maxsize=None)\n",
        "def factorial(n):\n",
        "    if n == 0:\n",
        "        return 1\n",
        "    else:\n",
        "        return n * factorial(n - 1)\n"
      ],
      "metadata": {
        "id": "wsGA37rJkeU8"
      },
      "execution_count": null,
      "outputs": []
    },
    {
      "cell_type": "code",
      "source": [
        "N = int(input())\n",
        "Q12 = list(map(int,input().split()))\n",
        "Q = int(input())\n",
        "r = []\n",
        "for _ in range(Q):\n",
        "  r.append(list(map(int,input().split())))\n",
        "for i in range(Q):\n",
        "  if r[i][0]==2:\n",
        "    print(Q12[r[i][1]-1])\n",
        "  else:\n",
        "    Q12[r[i][1]-1] = r[i][2]"
      ],
      "metadata": {
        "colab": {
          "base_uri": "https://localhost:8080/"
        },
        "id": "LlUyULARGbMS",
        "outputId": "c79543ba-cf93-49c3-ae0b-711de1019a82"
      },
      "execution_count": null,
      "outputs": [
        {
          "name": "stdout",
          "output_type": "stream",
          "text": [
            "3\n",
            "1 3 5\n",
            "7\n",
            "2 2\n",
            "2 3\n",
            "1 3 0\n",
            "2 3\n",
            "1 2 8\n",
            "2 2\n",
            "2 1\n"
          ]
        }
      ]
    },
    {
      "cell_type": "code",
      "source": [
        "r\n",
        "Q12 = A\n",
        "print(Q)"
      ],
      "metadata": {
        "colab": {
          "base_uri": "https://localhost:8080/"
        },
        "id": "1D0yEHysHwIw",
        "outputId": "6168c3f2-1d95-40a3-d1b3-4d6a8490e408"
      },
      "execution_count": null,
      "outputs": [
        {
          "output_type": "stream",
          "name": "stdout",
          "text": [
            "7\n"
          ]
        }
      ]
    },
    {
      "cell_type": "code",
      "source": [
        "for i in range(Q):\n",
        "  if r[i][0]==2:\n",
        "    print(Q12[r[i][1]-1])\n",
        "  else:\n",
        "    Q12[r[i][1]-1] = r[i][2]\n"
      ],
      "metadata": {
        "colab": {
          "base_uri": "https://localhost:8080/"
        },
        "id": "SS5D-IhEH7rc",
        "outputId": "703a257a-057d-4d77-ac93-af4ad9a66505"
      },
      "execution_count": null,
      "outputs": [
        {
          "output_type": "stream",
          "name": "stdout",
          "text": [
            "3\n",
            "5\n",
            "0\n",
            "8\n",
            "1\n"
          ]
        }
      ]
    },
    {
      "cell_type": "code",
      "source": [
        "p = int(input())\n",
        "q = str(p)\n",
        "ans = 0\n",
        "a = 0\n",
        "for i in range(len(str(p))):\n",
        "  if q[i]==\"0\":\n",
        "    if a ==1:\n",
        "      a=0\n",
        "    else:\n",
        "      ans += 1\n",
        "      a += 1\n",
        "  else:\n",
        "    a = 0\n",
        "    ans += 1\n",
        "print(ans)\n",
        "   "
      ],
      "metadata": {
        "colab": {
          "base_uri": "https://localhost:8080/"
        },
        "id": "N-0vRlW8IrIe",
        "outputId": "c10cfae2-37b3-4ac7-d136-3a57e4537c86"
      },
      "execution_count": null,
      "outputs": [
        {
          "output_type": "stream",
          "name": "stdout",
          "text": [
            "27\n"
          ]
        }
      ]
    },
    {
      "cell_type": "code",
      "source": [
        "stack = []\n",
        "box = set()\n",
        "for c in len(S):\n",
        "  if S[c].isalpha():\n",
        "    if S[c] in box:\n",
        "      return \"NO\"\n",
        "    box.add(c)\n",
        "  elif S[c] == \"(\":\n",
        "    j = c\n",
        "    stack.append(S[c])\n",
        "  else:\n",
        "    if not stack or stack[-1] != \"(\":\n",
        "      return \"NO\"\n",
        "    for i in range(j,c):\n",
        "      if S[i].isalpha():\n",
        "        box.remove(S[i])\n",
        "      else:\n",
        "        stack.pop()"
      ],
      "metadata": {
        "id": "Y-uKiH8hVFYR"
      },
      "execution_count": null,
      "outputs": []
    },
    {
      "cell_type": "code",
      "source": [
        "def canComplete(S: str) -> str:\n",
        "  stack = []\n",
        "  box = set()\n",
        "  for c in range(len(S)):\n",
        "    if S[c].isalpha():\n",
        "      if S[c] in box:\n",
        "        return \"NO\"\n",
        "      box.add(c)\n",
        "    elif S[c] == \"(\":\n",
        "      j = c\n",
        "      stack.append(S[c])\n",
        "    else:\n",
        "      if not stack or stack[-1] != \"(\":\n",
        "        return \"NO\"\n",
        "      for i in range(j,c):\n",
        "        print(S[i])\n",
        "        if S[i].isalpha():\n",
        "          if S[i] in box:\n",
        "            box.remove(S[i])\n",
        "          else:\n",
        "            return \"NO\"\n",
        "        else:\n",
        "          stack.pop()\n",
        "  return \"YES\" if not stack else \"NO\"\n"
      ],
      "metadata": {
        "id": "F9nTw7F4Kad2"
      },
      "execution_count": null,
      "outputs": []
    },
    {
      "cell_type": "code",
      "source": [
        "jku = \"((a)ba)\"\n",
        "canComplete(jku)"
      ],
      "metadata": {
        "colab": {
          "base_uri": "https://localhost:8080/",
          "height": 72
        },
        "id": "tyB1vAzKRFhp",
        "outputId": "7fca5211-faaa-4501-829a-cedd74633299"
      },
      "execution_count": null,
      "outputs": [
        {
          "output_type": "stream",
          "name": "stdout",
          "text": [
            "(\n",
            "a\n"
          ]
        },
        {
          "output_type": "execute_result",
          "data": {
            "text/plain": [
              "'NO'"
            ],
            "application/vnd.google.colaboratory.intrinsic+json": {
              "type": "string"
            }
          },
          "metadata": {},
          "execution_count": 35
        }
      ]
    },
    {
      "cell_type": "code",
      "source": [
        "forts = [1,0,0,-1,0,0,0,0,1]"
      ],
      "metadata": {
        "id": "kWhhk-GTRLia"
      },
      "execution_count": null,
      "outputs": []
    },
    {
      "cell_type": "code",
      "source": [
        "p = \"this student is not studious\"\n",
        "r = list(map(str,p.split()))\n",
        "print(r)\n",
        "if "
      ],
      "metadata": {
        "colab": {
          "base_uri": "https://localhost:8080/"
        },
        "id": "t7CtW4PfpYt5",
        "outputId": "b94a88fa-8e99-46f7-e785-6fc0053afd0f"
      },
      "execution_count": null,
      "outputs": [
        {
          "output_type": "stream",
          "name": "stdout",
          "text": [
            "['this', 'student', 'is', 'not', 'studious']\n"
          ]
        }
      ]
    },
    {
      "cell_type": "code",
      "source": [
        "ans = 0\n",
        "p1 = False\n",
        "q1 = False\n",
        "\n",
        "for i in range(len(forts)):\n",
        "  if forts[i]==1:\n",
        "    if q1:\n",
        "      ans = max(ans,abs(r2-i)-1)\n",
        "      q1 = False\n",
        "    p1 = True\n",
        "    r1 = i\n",
        "      \n",
        "  elif forts[i]==-1:\n",
        "    if p1:\n",
        "      ans = max(ans,abs(r1-i)-1)\n",
        "      p1 = False\n",
        "    r2 = i\n",
        "    q1 = True\n",
        "      \n",
        "print(ans)\n"
      ],
      "metadata": {
        "colab": {
          "base_uri": "https://localhost:8080/"
        },
        "id": "iymXkhR0jYW7",
        "outputId": "01c969d2-e99b-4b57-ceb4-ced6e441ed85"
      },
      "execution_count": null,
      "outputs": [
        {
          "output_type": "stream",
          "name": "stdout",
          "text": [
            "4\n"
          ]
        }
      ]
    },
    {
      "cell_type": "code",
      "source": [
        "pos = [\"xrezzxgdvg\",\"bcgx\",\"wcfzmfosr\"]\n",
        "neg = [\"qyouhus\",\"ukou\",\"eirhfbt\",\"qciw\",\"for\"]\n",
        "report = [\"bcgx bcgx eirhfbt kvcrym bcgx cxzs eirhfbt wcfzmfosr v qciw\",\"bcgx xrezzxgdvg bcgx xrezzxgdvg wcfzmfosr chap qyouhus biyt wcfzmfosr qciw\",\"xrezzxgdvg wcfzmfosr ukou qcr clnj xrezzxgdvg gvtkvb qciw hi wcfzmfosr\",\"for for mnxpqrdth bcgx bcgx qciw wcfzmfosr lspvgjvk wcfzmfosr eirhfbt\",\"loxyg bcgx jwdesdu xrezzxgdvg wcfzmfosr rrych qyouhus wcfzmfosr klcwo xrezzxgdvg\",\"rvbd wcfzmfosr lj xrezzxgdvg xuwguhgyyy fuz eirhfbt ukou h bcgx\",\"bcgx wpmxyvbhc for qciw wcfzmfosr wjdm qyouhus qciw for xrezzxgdvg\",\"bcgx sj xrezzxgdvg yjoklk bcgx hpc xrezzxgdvg lqfrvk xrezzxgdvg wcfzmfosr\",\"qc wcfzmfosr jkjpgjalc tm v wcfzmfosr orgsqjzwa wcfzmfosr hh bfnxcx\"]\n",
        "\n",
        "stu = [686276715,934288178,625397331,519945877,864052244,971253305,512505036,865635090,281613863]\n",
        "\n",
        "k = 9\n"
      ],
      "metadata": {
        "id": "XQH_S4CJl1_L"
      },
      "execution_count": null,
      "outputs": []
    },
    {
      "cell_type": "code",
      "source": [
        "def Marks123(report,pos,neg):\n",
        "  r = list(map(str,report.split()))\n",
        "  r1 = True\n",
        "  ans = 0\n",
        "  for i in r:\n",
        "    if i in pos:\n",
        "      ans += 3\n",
        "    if i in neg:\n",
        "      ans -= 1\n",
        "  return ans\n",
        "stum = {}\n",
        "for i in range(len(stu)):\n",
        "  stum[stu[i]] = Marks123(report[i],pos,neg)\n",
        "s= dict(sorted(stum.items(), key=lambda item: (-item[1], item[0] )))\n",
        "keysList = list(s.keys())\n",
        "print(keysList[:k])\n",
        "\n",
        "  \n"
      ],
      "metadata": {
        "colab": {
          "base_uri": "https://localhost:8080/"
        },
        "id": "sh1hfEynnZ8E",
        "outputId": "3c769fcb-dec0-4d46-d73f-f89e86518830"
      },
      "execution_count": null,
      "outputs": [
        {
          "output_type": "stream",
          "name": "stdout",
          "text": [
            "[865635090, 934288178, 864052244, 625397331, 281613863, 686276715, 519945877, 971253305, 512505036]\n"
          ]
        }
      ]
    },
    {
      "cell_type": "code",
      "source": [
        "s"
      ],
      "metadata": {
        "colab": {
          "base_uri": "https://localhost:8080/"
        },
        "id": "p9JbciS1r8Sc",
        "outputId": "96d098c0-4bc9-4213-a9b1-47ed267fdfc7"
      },
      "execution_count": null,
      "outputs": [
        {
          "output_type": "execute_result",
          "data": {
            "text/plain": [
              "{865635090: 18,\n",
              " 934288178: 16,\n",
              " 864052244: 14,\n",
              " 625397331: 10,\n",
              " 281613863: 9,\n",
              " 686276715: 9,\n",
              " 519945877: 8,\n",
              " 971253305: 7,\n",
              " 512505036: 4}"
            ]
          },
          "metadata": {},
          "execution_count": 79
        }
      ]
    },
    {
      "cell_type": "code",
      "source": [
        "points = {}\n",
        "for i in range(len(report)):\n",
        "  student = stu[i]\n",
        "  r = report[i]\n",
        "  if student not in points:\n",
        "    points[student] = 0\n",
        "  for word in r.split():\n",
        "    if word in pos:\n",
        "      points[student] += 3\n",
        "    elif word in neg:\n",
        "      points[student] -= 1\n",
        "sorted_students = sorted(points.items(), key=lambda x: (-x[1], x[0]))\n",
        "print([student for student, _ in sorted_students[:k]])"
      ],
      "metadata": {
        "colab": {
          "base_uri": "https://localhost:8080/"
        },
        "id": "UZ9qC8k0tUXJ",
        "outputId": "4079f24c-12a2-4a0f-f766-86556c081d7e"
      },
      "execution_count": null,
      "outputs": [
        {
          "output_type": "stream",
          "name": "stdout",
          "text": [
            "[865635090, 934288178, 864052244, 625397331, 281613863, 686276715, 519945877, 971253305, 512505036]\n"
          ]
        }
      ]
    },
    {
      "cell_type": "code",
      "source": [
        "\n"
      ],
      "metadata": {
        "colab": {
          "base_uri": "https://localhost:8080/"
        },
        "id": "PFmAIKc2tXYk",
        "outputId": "6faf5dfa-b284-4fa7-e98a-e105e660c282"
      },
      "execution_count": null,
      "outputs": [
        {
          "output_type": "stream",
          "name": "stdout",
          "text": [
            "[2, 1]\n"
          ]
        }
      ]
    },
    {
      "cell_type": "code",
      "source": [
        "def distribute(divisor1, divisor2, uniqueCnt1, uniqueCnt2):\n",
        "  arr1 = []\n",
        "  arr2 = []\n",
        "  i = 1\n",
        "  while len(set(arr1)) < uniqueCnt1 or len(set(arr2)) < uniqueCnt2:\n",
        "    if i % divisor1 == 0:\n",
        "      arr1.append(i)\n",
        "    elif i % divisor2 == 0:\n",
        "      arr2.append(i)\n",
        "    i += 1\n",
        "  return i - 1"
      ],
      "metadata": {
        "id": "liCrDJEOtjQ-"
      },
      "execution_count": null,
      "outputs": []
    },
    {
      "cell_type": "code",
      "source": [
        "find_max(2,7,1,3)"
      ],
      "metadata": {
        "colab": {
          "base_uri": "https://localhost:8080/"
        },
        "id": "kcKkTUS3z0bH",
        "outputId": "568dbda9-723d-4e43-e749-eb10cab74db9"
      },
      "execution_count": null,
      "outputs": [
        {
          "output_type": "execute_result",
          "data": {
            "text/plain": [
              "0"
            ]
          },
          "metadata": {},
          "execution_count": 89
        }
      ]
    },
    {
      "cell_type": "code",
      "source": [
        "def find_max(divisor1, divisor2, uniqueCnt1, uniqueCnt2):\n",
        "    current_max = 0\n",
        "    for i in range(1, 1000000):  # we can set an upper bound for the loop to avoid an infinite loop\n",
        "        arr1 = []\n",
        "        arr2 = []\n",
        "        # check if i can be divided by divisor1\n",
        "        if i % divisor1 == 0:\n",
        "            arr1.append(i)\n",
        "            uniqueCnt1 -= 1\n",
        "        # check if i can be divided by divisor2\n",
        "        if i % divisor2 == 0:\n",
        "            arr2.append(i)\n",
        "            uniqueCnt2 -= 1\n",
        "        # check if we have reached the required number of unique elements in each array\n",
        "        if uniqueCnt1 == 0 and uniqueCnt2 == 0:\n",
        "            current_max = i\n",
        "            break\n",
        "    return current_max\n"
      ],
      "metadata": {
        "id": "oLkkILmpz86N"
      },
      "execution_count": null,
      "outputs": []
    },
    {
      "cell_type": "code",
      "source": [
        "def count_anagrams(s: str) -> int:\n",
        "    # split the string into a list of words\n",
        "    words = s.split()\n",
        "    # create an empty set to store the permutations\n",
        "    permutations = set()\n",
        "    # iterate through the list of words\n",
        "    for word in words:\n",
        "        # generate all the permutations of the word\n",
        "        perms = permute(word)\n",
        "        # add the permutations to the set\n",
        "        permutations.update(perms)\n",
        "    # return the number of permutations modulo 109 + 7\n",
        "    return len(permutations) % (109 + 7)\n",
        "\n",
        "\n",
        "def permute(word: str):\n",
        "    # base case: if the word has only one character, return the character itself as a permutation\n",
        "    if len(word) == 1:\n",
        "        return [word]\n",
        "    # recursive case: generate the permutations of the first n-1 characters\n",
        "    perms = permute(word[:-1])\n",
        "    # insert the nth character at all possible positions in each permutation\n",
        "    result = []\n",
        "    for perm in perms:\n",
        "        for i in range(len(perm)+1):\n",
        "            result.append(perm[:i] + word[-1] + perm[i:])\n",
        "    return result\n"
      ],
      "metadata": {
        "id": "KlhmlDXV1X2w"
      },
      "execution_count": null,
      "outputs": []
    },
    {
      "cell_type": "code",
      "source": [
        "print(count_anagrams(\"aa\"))"
      ],
      "metadata": {
        "colab": {
          "base_uri": "https://localhost:8080/"
        },
        "id": "3oIqjW5q2Bhe",
        "outputId": "5ce5ae81-5d32-4525-8f9e-7f20c4487760"
      },
      "execution_count": null,
      "outputs": [
        {
          "output_type": "stream",
          "name": "stdout",
          "text": [
            "1\n"
          ]
        }
      ]
    },
    {
      "cell_type": "code",
      "source": [
        "# words = [\"a\",\"b\",\"leetcode\"]\n",
        "# target = \"leetcode\"\n",
        "# startIndex = 0\n",
        "# words = [\"hello\",\"i\",\"am\",\"leetcode\",\"hello\"]\n",
        "# target = \"hello\"\n",
        "# startIndex = 1\n",
        "words = [\"hsdqinnoha\",\"mqhskgeqzr\",\"zemkwvqrww\",\"zemkwvqrww\",\"daljcrktje\",\"fghofclnwp\",\"djwdworyka\",\"cxfpybanhd\",\"fghofclnwp\",\"fghofclnwp\"]\n",
        "target = \"zemkwvqrww\"\n",
        "startIndex = 8"
      ],
      "metadata": {
        "id": "CjyeIjDL2H_b"
      },
      "execution_count": null,
      "outputs": []
    },
    {
      "cell_type": "code",
      "source": [
        "print(words[8])\n",
        "ans = len(words)\n",
        "n = len(words)\n",
        "p = False\n",
        "for i in range(startIndex,startIndex+len(words)):\n",
        "  if words[i%n]==target:\n",
        "    p = True\n",
        "    print(abs(startIndex-i%n),i%n + n -startIndex)"
      ],
      "metadata": {
        "colab": {
          "base_uri": "https://localhost:8080/"
        },
        "id": "mQ0igipbNEZk",
        "outputId": "ce78665a-07ed-4b42-cded-f2be931cf907"
      },
      "execution_count": null,
      "outputs": [
        {
          "output_type": "stream",
          "name": "stdout",
          "text": [
            "fghofclnwp\n",
            "6 4\n",
            "5 5\n"
          ]
        }
      ]
    },
    {
      "cell_type": "code",
      "source": [
        "ans = len(words)\n",
        "n = len(words)\n",
        "p = False\n",
        "for i in range(startIndex,startIndex+len(words)):\n",
        "  if words[i%n]==target:\n",
        "    p = True\n",
        "    print(abs(startIndex-i%n)\n",
        "    # print(abs(len(w+ startIndex))\n",
        "    # ans = min(ans,abs(startIndex-i%n))\n",
        "    # ans = min(ans,abs(len(words)-i+ startIndex))\n",
        "if p:\n",
        "  print(ans)\n",
        "else:\n",
        "  print(-1)"
      ],
      "metadata": {
        "colab": {
          "base_uri": "https://localhost:8080/",
          "height": 134
        },
        "id": "EnbSv-ihLKA0",
        "outputId": "14bf632d-d963-4c11-c5c7-d0cf7707b518"
      },
      "execution_count": null,
      "outputs": [
        {
          "output_type": "error",
          "ename": "SyntaxError",
          "evalue": "ignored",
          "traceback": [
            "\u001b[0;36m  File \u001b[0;32m\"<ipython-input-29-2424daab5922>\"\u001b[0;36m, line \u001b[0;32m11\u001b[0m\n\u001b[0;31m    if p:\u001b[0m\n\u001b[0m        ^\u001b[0m\n\u001b[0;31mSyntaxError\u001b[0m\u001b[0;31m:\u001b[0m invalid syntax\n"
          ]
        }
      ]
    },
    {
      "cell_type": "code",
      "source": [
        "ans = len(words)\n",
        "n = len(words)\n",
        "if startIndex == 0:\n",
        "  for i in range(len(words)):\n",
        "    if words[i]==target:\n",
        "      print(abs(startIndex-i))\n",
        "      ans = min(ans, abs(startIndex - i))\n",
        "      ans = min(ans, abs(i + n-1 - startIndex))\n",
        "print(ans)"
      ],
      "metadata": {
        "colab": {
          "base_uri": "https://localhost:8080/"
        },
        "id": "zWe52XhAI-Hk",
        "outputId": "64ca19c5-c731-4e6a-e3c0-f6a1ad317c43"
      },
      "execution_count": null,
      "outputs": [
        {
          "output_type": "stream",
          "name": "stdout",
          "text": [
            "2\n",
            "2\n"
          ]
        }
      ]
    },
    {
      "cell_type": "code",
      "source": [
        "words = [\"a\",\"b\",\"leetcode\"]\n",
        "target = \"leetcode\"\n",
        "startIndex = 0"
      ],
      "metadata": {
        "id": "sK5mxsBsPgXg"
      },
      "execution_count": null,
      "outputs": []
    },
    {
      "cell_type": "code",
      "source": [
        "n = len(words)\n",
        "ans = len(words)\n",
        "p = False\n",
        "for i in range(startIndex,startIndex+len(words)):\n",
        "  if words[i%n]==target:\n",
        "    p = True\n",
        "    print(ans)\n",
        "    ans = min(ans,abs(startIndex-i%n+1))\n",
        "    print(ans)\n",
        "    ans = min(ans,abs(i%n + n -startIndex))\n",
        "    print(ans)\n",
        "if p:\n",
        "  print(ans)\n",
        "else:\n",
        "  print(-1)"
      ],
      "metadata": {
        "colab": {
          "base_uri": "https://localhost:8080/"
        },
        "id": "JzLx_rKMJkwh",
        "outputId": "56ce0347-a11a-420b-f92e-dc77f4f458ad"
      },
      "execution_count": null,
      "outputs": [
        {
          "output_type": "stream",
          "name": "stdout",
          "text": [
            "3\n",
            "1\n",
            "1\n",
            "1\n"
          ]
        }
      ]
    },
    {
      "cell_type": "code",
      "source": [
        "def shortestDistance(words, target, startIndex):\n",
        "    if target not in words:\n",
        "        return -1\n",
        "    \n",
        "    targetIndex = words.index(target)\n",
        "    distance = abs(startIndex - targetIndex)\n",
        "    \n",
        "    return distance"
      ],
      "metadata": {
        "id": "ugdCR9_oPcCH"
      },
      "execution_count": null,
      "outputs": []
    },
    {
      "cell_type": "code",
      "source": [
        "shortestDistance(words,target,startIndex)"
      ],
      "metadata": {
        "colab": {
          "base_uri": "https://localhost:8080/"
        },
        "id": "Ws7zxyM7QngR",
        "outputId": "9539919b-736a-472c-ca59-3b6df91aafeb"
      },
      "execution_count": null,
      "outputs": [
        {
          "output_type": "execute_result",
          "data": {
            "text/plain": [
              "4"
            ]
          },
          "metadata": {},
          "execution_count": 51
        }
      ]
    },
    {
      "cell_type": "code",
      "source": [
        "def shortestDistance(words, target, startIndex):\n",
        "    n = len(words)\n",
        "    ans = len(words)\n",
        "    targetIndex = -1\n",
        "    for i in range(n):\n",
        "        if words[i] == target:\n",
        "            targetIndex = i\n",
        "            distanceForward = (targetIndex - startIndex + n) % n\n",
        "            distanceBackward = (startIndex - targetIndex + n) % n\n",
        "            ans = min(ans,distanceForward, distanceBackward)\n",
        "    if targetIndex == -1:\n",
        "        return -1\n",
        "    \n",
        "    return ans\n"
      ],
      "metadata": {
        "id": "V6KnbBDBQwTH"
      },
      "execution_count": null,
      "outputs": []
    },
    {
      "cell_type": "code",
      "source": [
        "s = \"aabaaaacaabc\"\n",
        "k = 2"
      ],
      "metadata": {
        "id": "wxypgf60SGAc"
      },
      "execution_count": null,
      "outputs": []
    },
    {
      "cell_type": "code",
      "source": [],
      "metadata": {
        "id": "WMjtW4iEU4dN"
      },
      "execution_count": null,
      "outputs": []
    },
    {
      "cell_type": "code",
      "source": [
        "p = list(s)\n",
        "px = True\n",
        "q = set(p)\n",
        "if \"a\" not in q:\n",
        "  px = False\n",
        "elif \"b\" not in q:\n",
        "  px = False\n",
        "elif \"c\" not in q:\n",
        "  px = False\n",
        "elif (p.count(\"a\")>=k and p.count(\"b\")>=k and p.count(\"c\")>=k)==False:\n",
        "  px = False\n",
        "\n"
      ],
      "metadata": {
        "id": "TLjW-ou5TcBX"
      },
      "execution_count": null,
      "outputs": []
    },
    {
      "cell_type": "code",
      "source": [
        "s = \"aabaaaacaabc\"\n",
        "k = 2\n",
        "p = list(s)\n",
        "px = True\n",
        "q = set(p)\n",
        "if \"a\" not in q:\n",
        "  px = False\n",
        "elif \"b\" not in q:\n",
        "  px = False\n",
        "elif \"c\" not in q:\n",
        "  px = False\n",
        "elif (p.count(\"a\")>=k and p.count(\"b\")>=k and p.count(\"c\")>=k)==False:\n",
        "  px = False\n",
        "if px:\n",
        "  ans = len(p)\n",
        "  k12 = 3*k\n",
        "  i = k\n",
        "  j = 0\n",
        "  for qw in range(0,len(p)):\n",
        "    i = k12 + qw\n",
        "    j = 0\n",
        "    for g in range(0,i):\n",
        "      f =  p[:i] + p[len(p)-j:]\n",
        "      if f.count(\"a\")>=k and f.count(\"b\")>=k and f.count(\"c\")>=k:\n",
        "        ans = min(ans,len(f))\n",
        "        break\n",
        "      i = i-1\n",
        "      j = j +1\n",
        "  print(ans)\n",
        "else:\n",
        "  print(-1)\n",
        "\n"
      ],
      "metadata": {
        "colab": {
          "base_uri": "https://localhost:8080/"
        },
        "id": "TGCTVAffTjiV",
        "outputId": "6c3b4d21-b056-465e-f1d6-60645b3045d2"
      },
      "execution_count": null,
      "outputs": [
        {
          "output_type": "stream",
          "name": "stdout",
          "text": [
            "8\n"
          ]
        }
      ]
    },
    {
      "cell_type": "code",
      "source": [
        "s = \"aabaaaacaabc\"\n",
        "k = 2\n",
        "p = list(s)\n",
        "if \"a\" not in s or \"b\" not in s or \"c\" not in s:\n",
        "  print(-1)\n",
        "elif s.count(\"a\") < k or s.count(\"b\") < k or s.count(\"c\") < k:\n",
        "  print(-1)\n",
        "\n",
        "else:\n",
        "  start = 0\n",
        "  end = len(s) - 1\n",
        "  max_length = 0\n",
        "  while start <= end:\n",
        "    if s[start:end+1].count(\"a\") >= k and s[start:end+1].count(\"b\") >= k and s[start:end+1].count(\"c\") >= k:\n",
        "      max_length = max(max_length, end - start + 1)\n",
        "      start += 1\n",
        "    else:\n",
        "      end -= 1\n",
        "  \n",
        "print(max_length)\n"
      ],
      "metadata": {
        "colab": {
          "base_uri": "https://localhost:8080/"
        },
        "id": "mSm5X110TkHp",
        "outputId": "8fa5d596-80f6-42fb-85ce-27f7cd763e28"
      },
      "execution_count": null,
      "outputs": [
        {
          "output_type": "stream",
          "name": "stdout",
          "text": [
            "12\n"
          ]
        }
      ]
    },
    {
      "cell_type": "code",
      "source": [
        "def min_time(s: str, k: int):\n",
        "    counts = {c: s.count(c) for c in 'abc'}\n",
        "    print(counts)\n",
        "    if any(count < k for count in counts.values()):\n",
        "        return -1\n",
        "    minutes = 0\n",
        "    left = {c: k for c in 'abc'}\n",
        "    print(left)\n",
        "    right = {c: counts[c] - k for c in 'abc'}\n",
        "    print(right)\n",
        "    while left['a'] + left['b'] + left['c'] > 0 and right['a'] + right['b'] + right['c'] > 0:\n",
        "        if left['a'] + left['b'] + left['c'] <= right['a'] + right['b'] + right['c']:\n",
        "            c = s[0]\n",
        "            left[c] -= 1\n",
        "            s = s[1:]\n",
        "        else:\n",
        "            c = s[-1]\n",
        "            right[c] -= 1\n",
        "            s = s[:-1]\n",
        "        minutes += 1\n",
        "\n",
        "    return minutes\n"
      ],
      "metadata": {
        "id": "ONhYY9sEYkdu"
      },
      "execution_count": null,
      "outputs": []
    },
    {
      "cell_type": "code",
      "source": [
        "min_time(s,k)"
      ],
      "metadata": {
        "colab": {
          "base_uri": "https://localhost:8080/"
        },
        "id": "5Rrh-8qcY9gj",
        "outputId": "e651db2e-6cfc-4bf8-9da5-ed915f29b007"
      },
      "execution_count": null,
      "outputs": [
        {
          "output_type": "stream",
          "name": "stdout",
          "text": [
            "{'a': 8, 'b': 2, 'c': 2}\n",
            "{'a': 2, 'b': 2, 'c': 2}\n",
            "{'a': 6, 'b': 0, 'c': 0}\n"
          ]
        },
        {
          "output_type": "execute_result",
          "data": {
            "text/plain": [
              "6"
            ]
          },
          "metadata": {},
          "execution_count": 79
        }
      ]
    },
    {
      "cell_type": "code",
      "source": [
        "def rearrange(s: str, k: int) -> int:\n",
        "    # Dictionary to store the frequency of each character\n",
        "    char_count = {}\n",
        "    for c in s:\n",
        "        if c not in char_count:\n",
        "            char_count[c] = 0\n",
        "        char_count[c] += 1\n",
        "\n",
        "    # Initialize the minimum time needed to rearrange the string\n",
        "    min_time = 0\n",
        "\n",
        "    # Slide the window along the string\n",
        "    for i in range(len(s) - k + 1):\n",
        "        # Update the frequency of each character within the window\n",
        "        window = {}\n",
        "        for j in range(i, i + k):\n",
        "            c = s[j]\n",
        "            if c not in window:\n",
        "                window[c] = 0\n",
        "            window[c] += 1\n",
        "\n",
        "        # Update the minimum time needed to rearrange the string\n",
        "        for c, count in window.items():\n",
        "            min_time += abs(count - (char_count[c] - count))\n",
        "\n",
        "    return min_time\n"
      ],
      "metadata": {
        "id": "7TWz0mT9ZBwO"
      },
      "execution_count": null,
      "outputs": []
    },
    {
      "cell_type": "code",
      "source": [
        "rearrange(s,k)"
      ],
      "metadata": {
        "colab": {
          "base_uri": "https://localhost:8080/"
        },
        "id": "uAByOGwmadD6",
        "outputId": "f8b411fc-be1b-4c82-b683-8ff7df397a51"
      },
      "execution_count": null,
      "outputs": [
        {
          "output_type": "execute_result",
          "data": {
            "text/plain": [
              "50"
            ]
          },
          "metadata": {},
          "execution_count": 81
        }
      ]
    },
    {
      "cell_type": "code",
      "source": [
        "qqe = 10\n",
        "k = 3*2\n",
        "i = k\n",
        "j = 0\n",
        "for qw in range(0,qqe):\n",
        "  i = k + qw\n",
        "  print(i)\n",
        "  j = 0\n",
        "  for g in range(0,i):\n",
        "    i = i-1\n",
        "    j = j +1\n",
        "    print(i,j)\n",
        "\n",
        "    # f =  p[:i] + p[len(p)-j:]\n",
        "    # if f.count(\"a\")>=k and f.count(\"b\")>=k and f.count(\"c\")>=k:\n",
        "      # ans = len(f)\n",
        "      # i = 3*k + 1\n",
        "      # j = 0"
      ],
      "metadata": {
        "colab": {
          "base_uri": "https://localhost:8080/"
        },
        "id": "2wZkaTz8agNE",
        "outputId": "d1724187-7e30-4b5d-b354-846de472719d"
      },
      "execution_count": null,
      "outputs": [
        {
          "output_type": "stream",
          "name": "stdout",
          "text": [
            "6\n",
            "5 1\n",
            "4 2\n",
            "3 3\n",
            "2 4\n",
            "1 5\n",
            "0 6\n",
            "7\n",
            "6 1\n",
            "5 2\n",
            "4 3\n",
            "3 4\n",
            "2 5\n",
            "1 6\n",
            "0 7\n",
            "8\n",
            "7 1\n",
            "6 2\n",
            "5 3\n",
            "4 4\n",
            "3 5\n",
            "2 6\n",
            "1 7\n",
            "0 8\n",
            "9\n",
            "8 1\n",
            "7 2\n",
            "6 3\n",
            "5 4\n",
            "4 5\n",
            "3 6\n",
            "2 7\n",
            "1 8\n",
            "0 9\n",
            "10\n",
            "9 1\n",
            "8 2\n",
            "7 3\n",
            "6 4\n",
            "5 5\n",
            "4 6\n",
            "3 7\n",
            "2 8\n",
            "1 9\n",
            "0 10\n",
            "11\n",
            "10 1\n",
            "9 2\n",
            "8 3\n",
            "7 4\n",
            "6 5\n",
            "5 6\n",
            "4 7\n",
            "3 8\n",
            "2 9\n",
            "1 10\n",
            "0 11\n",
            "12\n",
            "11 1\n",
            "10 2\n",
            "9 3\n",
            "8 4\n",
            "7 5\n",
            "6 6\n",
            "5 7\n",
            "4 8\n",
            "3 9\n",
            "2 10\n",
            "1 11\n",
            "0 12\n",
            "13\n",
            "12 1\n",
            "11 2\n",
            "10 3\n",
            "9 4\n",
            "8 5\n",
            "7 6\n",
            "6 7\n",
            "5 8\n",
            "4 9\n",
            "3 10\n",
            "2 11\n",
            "1 12\n",
            "0 13\n",
            "14\n",
            "13 1\n",
            "12 2\n",
            "11 3\n",
            "10 4\n",
            "9 5\n",
            "8 6\n",
            "7 7\n",
            "6 8\n",
            "5 9\n",
            "4 10\n",
            "3 11\n",
            "2 12\n",
            "1 13\n",
            "0 14\n",
            "15\n",
            "14 1\n",
            "13 2\n",
            "12 3\n",
            "11 4\n",
            "10 5\n",
            "9 6\n",
            "8 7\n",
            "7 8\n",
            "6 9\n",
            "5 10\n",
            "4 11\n",
            "3 12\n",
            "2 13\n",
            "1 14\n",
            "0 15\n"
          ]
        }
      ]
    },
    {
      "cell_type": "code",
      "source": [
        "#  matrix = [[1, 2, 0], [3, 1, 2], \n",
        "# [2, 3, 1]]\n",
        "matrix = [[4, 0, 2],[3, 5, 7],[8, 1, 6]]\n",
        "arr = list(map(list, zip(*matrix)))\n",
        "for i in range(0,len(matrix)-1):\n",
        "  if sum(matrix[i]) != sum(matrix[i+1]):\n",
        "    \n",
        "    if sum(matrix[i]) > sum(matrix[i+1]):\n",
        "      for x in range(0,len(matrix[i])):\n",
        "        if matrix[i+1][x]==0:\n",
        "          matrix[i+1][x] = (sum(matrix[i]) - sum(matrix[i+1]))\n",
        "    else:\n",
        "      for x in range(0,len(matrix[i])):\n",
        "        if matrix[i][x]==0:\n",
        "          matrix[i][x] = (sum(matrix[i+1]) - sum(matrix[i]))"
      ],
      "metadata": {
        "id": "GmyroT6mklB0"
      },
      "execution_count": null,
      "outputs": []
    },
    {
      "cell_type": "code",
      "source": [
        "H(matrix)"
      ],
      "metadata": {
        "colab": {
          "base_uri": "https://localhost:8080/"
        },
        "id": "rdRnjfobA7PJ",
        "outputId": "aa7b5c6b-c0bc-4afe-c04a-9b82e600fb87"
      },
      "execution_count": null,
      "outputs": [
        {
          "output_type": "execute_result",
          "data": {
            "text/plain": [
              "False"
            ]
          },
          "metadata": {},
          "execution_count": 28
        }
      ]
    },
    {
      "cell_type": "code",
      "source": [
        "def H(matrix):\n",
        "  p = True\n",
        "  for i in range(0,len(matrix)-1):\n",
        "    if sum(matrix[i]) == sum(matrix[i+1]):\n",
        "      continue\n",
        "    else:\n",
        "      p = False\n",
        "      break\n",
        "  if p:\n",
        "    ans1 = 0\n",
        "    ans2 = 0\n",
        "    for i in range(0,len(matrix)):\n",
        "      ans1 = ans1+ matrix[i][i]\n",
        "      ans2 += matrix[len(matrix)-1-i][i]\n",
        "      if ans1 != ans2:\n",
        "        p = False\n",
        "        break\n",
        "    if p:\n",
        "      arr = list(map(list, zip(*matrix)))\n",
        "      for i in range(0,len(matrix)-1):\n",
        "        if sum(arr[i]) != sum(arr[i+1]):\n",
        "          p = False\n",
        "          break\n",
        "  return p\n",
        "\n",
        "\n",
        "  \n",
        "  "
      ],
      "metadata": {
        "id": "FNWGAlSvAIHq"
      },
      "execution_count": null,
      "outputs": []
    },
    {
      "cell_type": "code",
      "source": [
        "s1 = \"aabcc\"\n",
        "s2 = \"dbbca\"\n",
        "s3 = \"aadbbbaccc\""
      ],
      "metadata": {
        "id": "e5HaVuSQEUBh"
      },
      "execution_count": null,
      "outputs": []
    },
    {
      "cell_type": "code",
      "source": [
        "if len(s1)+len(s2) == len(s3):\n",
        "  j = 0\n",
        "  sw = 0\n",
        "  p = True\n",
        "  q = True\n",
        "  r = True\n",
        "  for i in range(len(s3)):\n",
        "    if j != len(s1):\n",
        "      if s3[i] == s1[j]:\n",
        "        print(s1[j])\n",
        "        j = j + 1\n",
        "    elif sw != len(s2):\n",
        "      if s3[i]== s2[sw]:\n",
        "        print(s2[sw])\n",
        "        sw = sw+1\n",
        "    else:\n",
        "      print(p)\n",
        "      p = False\n",
        "      break\n",
        "  print(p)\n",
        "else:\n",
        "  print(False)\n"
      ],
      "metadata": {
        "colab": {
          "base_uri": "https://localhost:8080/"
        },
        "id": "06j1kgrHT979",
        "outputId": "cf8295f1-14e0-4cdd-a20a-8d6079237219"
      },
      "execution_count": null,
      "outputs": [
        {
          "output_type": "stream",
          "name": "stdout",
          "text": [
            "a\n",
            "a\n",
            "b\n",
            "c\n",
            "c\n",
            "True\n"
          ]
        }
      ]
    },
    {
      "cell_type": "code",
      "source": [
        "N = 4\n",
        "K = 7\n",
        "GeekNum = [13,7,39,26,43,30,91]\n",
        "if N>K:\n",
        "  dp = [0]*N\n",
        "else:\n",
        "  dp = [0]*K"
      ],
      "metadata": {
        "id": "-GmTKd5jU1W3"
      },
      "execution_count": null,
      "outputs": []
    },
    {
      "cell_type": "code",
      "source": [
        "\n",
        "for i in range(K):\n",
        "  dp[i] = GeekNum[i]\n",
        "for j in range(K,N):\n",
        "  for g in range(1,K+1):\n",
        "    dp[j] += dp[j-g]\n",
        "\n",
        "print(dp[N])"
      ],
      "metadata": {
        "colab": {
          "base_uri": "https://localhost:8080/"
        },
        "id": "0EomaKvJfhN1",
        "outputId": "c0504154-2042-471e-b7c5-a6a63a259837"
      },
      "execution_count": null,
      "outputs": [
        {
          "output_type": "stream",
          "name": "stdout",
          "text": [
            "[0, 1, 2, 3, 6]\n"
          ]
        }
      ]
    },
    {
      "cell_type": "code",
      "source": [
        "\n",
        "n=6\n",
        "arr=[1,2,2,2,1,1]\n",
        "X=2\n",
        "print(count_subarrays(arr, X))\n",
        "# for k in range(0,len(arr)-1):\n",
        "#   for t in range(k+1,len(arr)):\n",
        "#     if len(arr[k:t+1])>=3:\n",
        "#       if gfg(arr[k:t+1],X):\n",
        "#         sd +=1\n",
        "# print(sd)"
      ],
      "metadata": {
        "colab": {
          "base_uri": "https://localhost:8080/"
        },
        "id": "9VMtY1qufUsz",
        "outputId": "4ebfc0f0-0b02-4a0d-90ff-b0ae16588c4e"
      },
      "execution_count": null,
      "outputs": [
        {
          "output_type": "stream",
          "name": "stdout",
          "text": [
            "10\n"
          ]
        }
      ]
    },
    {
      "cell_type": "code",
      "source": [
        "def gfg(p,x):\n",
        "  q = {}\n",
        "  for i in range(len(p)):\n",
        "    if p[i] in q.keys():\n",
        "      q[p[i]] += 1\n",
        "    else:\n",
        "      q[p[i]] = 1\n",
        "  my = list(q.values())\n",
        "  ans = 0\n",
        "  for j in range(len(my)):\n",
        "    if my[j] >= 3:\n",
        "      ans  += 1\n",
        "  return ans==x\n",
        "\n"
      ],
      "metadata": {
        "id": "8KAYBwLjjfR4"
      },
      "execution_count": null,
      "outputs": []
    },
    {
      "cell_type": "code",
      "source": [
        "def goodSubarrays(n, arr, X):\n",
        "    count = 0\n",
        "    for start in range(n):\n",
        "        seen = {}\n",
        "        for end in range(start, n):\n",
        "            element = arr[end]\n",
        "            print(seen)\n",
        "            if element in seen:\n",
        "                seen[element] += 1\n",
        "            else:\n",
        "                seen[element] = 1\n",
        "            if seen[element] == 3:\n",
        "                count += 1\n",
        "                X = X-1\n",
        "            elif seen[element] > 3 and X == 0:\n",
        "                break\n",
        "    return count\n"
      ],
      "metadata": {
        "id": "jB7vbnQrjiGd"
      },
      "execution_count": null,
      "outputs": []
    },
    {
      "cell_type": "code",
      "source": [
        "from collections import defaultdict\n",
        "\n",
        "def count_subarrays(arr, X):\n",
        "    n = len(arr)\n",
        "    frequency = defaultdict(int)\n",
        "    for i in range(n):\n",
        "        frequency[arr[i]] += 1\n",
        "        \n",
        "    count = 0\n",
        "    for i in range(n):\n",
        "        for j in range(i+3, n+1):\n",
        "            num_elements_3_or_more = sum(1 for elem in frequency if frequency[elem] >= 3)\n",
        "            if num_elements_3_or_more == X:\n",
        "                count += 1\n",
        "    return count\n"
      ],
      "metadata": {
        "id": "9yzh3cRCpBfE"
      },
      "execution_count": null,
      "outputs": []
    },
    {
      "cell_type": "code",
      "source": [
        "\n",
        "from collections import Counter\n",
        "n=6\n",
        "arr=[1,2,2,2,1,1]\n",
        "X=2\n",
        "# for i in range(0,len(arr)-X*3+1):\n",
        "#   for j in range(i,len(arr)-X*3+1):\n",
        "#     print(arr[i:X*3+j])\n",
        "# d = Counter(l)"
      ],
      "metadata": {
        "id": "yeEVrlELt69f"
      },
      "execution_count": null,
      "outputs": []
    },
    {
      "cell_type": "code",
      "source": [
        "sd = 0\n",
        "for k12 in range(0,len(arr)-X*3+1):\n",
        "  for j in range(k12,len(arr)-X*3+1):\n",
        "    d = Counter(arr[k12:X*3+j])\n",
        "    ans = 0\n",
        "    for k, v in d.items():\n",
        "      if v >= 3:\n",
        "        ans += 1\n",
        "    if ans==X:\n",
        "      sd +=1\n",
        "print(sd)"
      ],
      "metadata": {
        "colab": {
          "base_uri": "https://localhost:8080/"
        },
        "id": "5ftQTUYkvXZL",
        "outputId": "bffa88fd-b6d0-456c-e7b7-294b6f743d32"
      },
      "execution_count": null,
      "outputs": [
        {
          "output_type": "stream",
          "name": "stdout",
          "text": [
            "1\n"
          ]
        }
      ]
    },
    {
      "cell_type": "code",
      "source": [
        "length = len(nums)\n",
        "        dp = [0] * length\n",
        "        \n",
        "        dp[0] = nums[0]\n",
        "        \n",
        "        for i in range(1, length - 1):\n",
        "            \n",
        "            if dp[i - 1] < i:\n",
        "                return False\n",
        "            \n",
        "            dp[i] = max(i + nums[i], dp[i - 1])\n",
        "            \n",
        "            if dp[i] >= length - 1:\n",
        "                return True\n",
        "        \n",
        "        return dp[length - 2] >= length - 1"
      ],
      "metadata": {
        "id": "bq5C5ULezWF3"
      },
      "execution_count": null,
      "outputs": []
    },
    {
      "cell_type": "code",
      "source": [
        "nums = [2,3,1,1,4]"
      ],
      "metadata": {
        "id": "IfPuBeNDZ1bX"
      },
      "execution_count": null,
      "outputs": []
    },
    {
      "cell_type": "code",
      "source": [
        "dp = [0]*len(nums)\n",
        "dp[0] = nums[0]"
      ],
      "metadata": {
        "id": "Y8zrHPhpaGM2"
      },
      "execution_count": null,
      "outputs": []
    },
    {
      "cell_type": "code",
      "source": [
        "for i in range(1,len(nums)-1):\n",
        "  if i > dp[i-1]:\n",
        "    break\n",
        "  dp[i] = max(i+nums[i],dp[i-1])\n",
        "  if dp[i] >= len(nums):\n",
        "    print(True)\n",
        "  \n",
        "  "
      ],
      "metadata": {
        "id": "aOA5k1N6aL0h"
      },
      "execution_count": null,
      "outputs": []
    },
    {
      "cell_type": "code",
      "source": [
        "dp"
      ],
      "metadata": {
        "colab": {
          "base_uri": "https://localhost:8080/"
        },
        "id": "2CawZrmWa65S",
        "outputId": "d2836ed2-ef40-4118-85c0-ac1b677c0694"
      },
      "execution_count": null,
      "outputs": [
        {
          "output_type": "execute_result",
          "data": {
            "text/plain": [
              "[2, 4, 4, 4, 0]"
            ]
          },
          "metadata": {},
          "execution_count": 10
        }
      ]
    },
    {
      "cell_type": "code",
      "source": [
        "L = 25\n",
        "R = 29"
      ],
      "metadata": {
        "id": "lWo6ebBca-EK"
      },
      "execution_count": null,
      "outputs": []
    },
    {
      "cell_type": "code",
      "source": [
        "ans = 0\n",
        "for i in range(L,R+1):\n",
        "  p = bin(i).replace(\"0b\", \"\")\n",
        "  if  p.count(\"1\")==3:\n",
        "    ans += 1\n",
        "print(ans)"
      ],
      "metadata": {
        "colab": {
          "base_uri": "https://localhost:8080/"
        },
        "id": "A7XjwVdpdLrx",
        "outputId": "e971531f-6c07-4a6d-fa75-a2a03517fda6"
      },
      "execution_count": null,
      "outputs": [
        {
          "output_type": "stream",
          "name": "stdout",
          "text": [
            "3\n"
          ]
        }
      ]
    },
    {
      "cell_type": "code",
      "source": [
        "from itertools import combinations\n",
        "from bisect import bisect_left, bisect_right\n",
        "class Solution:\n",
        "    def solve (self, L, R):\n",
        "        return bisect_right(self.valid, R) - bisect_left(self.valid, L)\n",
        "        \n",
        "    def precompute (self):\n",
        "        self.valid = []\n",
        "        for x, y, z in combinations(range(64), 3):\n",
        "            self.valid.append((1<<x) + (1<<y) + (1<<z))\n",
        "        self.valid.sort()"
      ],
      "metadata": {
        "id": "ZquMWMHzdf-7"
      },
      "execution_count": null,
      "outputs": []
    },
    {
      "cell_type": "code",
      "source": [
        "capacity = [2,3,4,5]\n",
        "rocks = [1,2,4,4]\n",
        "ad = 2"
      ],
      "metadata": {
        "id": "RtZsNDEHzTaS"
      },
      "execution_count": null,
      "outputs": []
    },
    {
      "cell_type": "code",
      "source": [
        "capacity.sort()\n",
        "rocks.sort()"
      ],
      "metadata": {
        "id": "DS6dZvEgzWJQ"
      },
      "execution_count": null,
      "outputs": []
    },
    {
      "cell_type": "code",
      "source": [
        "capacity.sort()\n",
        "rocks.sort()\n",
        "p = []\n",
        "for i in range(len(capacity)):\n",
        "  p.append(capacity[i]-rocks[i])\n",
        "\n",
        "p.sort()\n",
        "ans = 0\n",
        "for i in range(0,len(capacity)):\n",
        "  if p[i] == 0:\n",
        "    ans = ans + 1\n",
        "  else:\n",
        "    if ad>=p[i]:\n",
        "      ad = ad-p[i]\n",
        "      ans = ans + 1\n"
      ],
      "metadata": {
        "id": "t1GbJR8Uzxab"
      },
      "execution_count": null,
      "outputs": []
    },
    {
      "cell_type": "code",
      "source": [
        "ans = 0\n",
        "for i in range(0,len(capacity)):\n",
        "  if p[i] == 0:\n",
        "    ans = ans + 1\n",
        "  else:\n",
        "    if ad>=p[i]:\n",
        "      ad = ad-p[i]\n",
        "      ans = ans + 1\n"
      ],
      "metadata": {
        "id": "bbnwUKByz0pv"
      },
      "execution_count": null,
      "outputs": []
    },
    {
      "cell_type": "code",
      "source": [
        "piles = [4,3,6,7]\n",
        "k = 3\n",
        "x= len(piles)\n",
        "import math\n",
        "math.floor(x)"
      ],
      "metadata": {
        "id": "Z3MTfnkH0Gd5",
        "colab": {
          "base_uri": "https://localhost:8080/"
        },
        "outputId": "eeffcd6a-4f8b-4c81-8420-a90e2ce2e73c"
      },
      "execution_count": null,
      "outputs": [
        {
          "output_type": "execute_result",
          "data": {
            "text/plain": [
              "4"
            ]
          },
          "metadata": {},
          "execution_count": 14
        }
      ]
    },
    {
      "cell_type": "code",
      "source": [
        "p = [5,5,1,5,1,5]"
      ],
      "metadata": {
        "id": "TakUWApbbkqm"
      },
      "execution_count": null,
      "outputs": []
    },
    {
      "cell_type": "code",
      "source": [
        "def H(p):\n",
        "  q = {}\n",
        "  for k in range(0,len(p)):\n",
        "    if p[k] not in q.keys():\n",
        "      q[p[k]] = 1\n",
        "    else:\n",
        "      q[p[k]] += 1\n",
        "  d = list(q.values())\n",
        "  r = True\n",
        "  for k in range(0,len(d)):\n",
        "    if d[k]%2 != 0:\n",
        "      r = False\n",
        "      break\n",
        "  return r\n"
      ],
      "metadata": {
        "id": "L2qwXHScm9B7"
      },
      "execution_count": null,
      "outputs": []
    },
    {
      "cell_type": "code",
      "source": [
        "q\n",
        "d = list(q.values())\n",
        "r = True\n",
        "for k in range(0,len(d)):\n",
        "  if d[k]%2 != 0:\n",
        "    r = False\n",
        "    break\n"
      ],
      "metadata": {
        "id": "0cj_f1UTnLww"
      },
      "execution_count": null,
      "outputs": []
    },
    {
      "cell_type": "code",
      "source": [
        "\n",
        "for i in range(k):\n",
        "  piles.sort()\n",
        "  piles[-1-i] = piles[-1-i] - math.ceil(piles[-i-1]/2)\n",
        "print(sum(piles))\n",
        "  \n",
        "\n",
        "\n",
        "  "
      ],
      "metadata": {
        "colab": {
          "base_uri": "https://localhost:8080/"
        },
        "id": "tHrfsGqQbmej",
        "outputId": "283169c7-b40a-4228-9b02-6d974a267b33"
      },
      "execution_count": null,
      "outputs": [
        {
          "output_type": "stream",
          "name": "stdout",
          "text": [
            "12\n"
          ]
        }
      ]
    },
    {
      "cell_type": "code",
      "source": [
        "p = \"abccda\"\n",
        "l = len(p)\n",
        "r = list(p)\n",
        "q1 = \"\"\n",
        "q2 = \"\"\n",
        "\n",
        "for i2 in range(0,l):\n",
        "  q1\n",
        "  if q1[i2]==q2[i2]:\n",
        "    ans += 1\n",
        "\n",
        "\n"
      ],
      "metadata": {
        "id": "vV6tuc08dCmw"
      },
      "execution_count": null,
      "outputs": []
    },
    {
      "cell_type": "code",
      "source": [
        "print(q1,q2)"
      ],
      "metadata": {
        "colab": {
          "base_uri": "https://localhost:8080/"
        },
        "id": "OhJ4Sg1xquxX",
        "outputId": "901c871f-9076-4f52-feeb-8cc7db519abe"
      },
      "execution_count": null,
      "outputs": [
        {
          "output_type": "stream",
          "name": "stdout",
          "text": [
            "abc adc\n"
          ]
        }
      ]
    },
    {
      "cell_type": "code",
      "source": [
        "sorted(q2)"
      ],
      "metadata": {
        "colab": {
          "base_uri": "https://localhost:8080/"
        },
        "id": "IyRRnVf0qw02",
        "outputId": "11cc70d2-a345-4498-dcd5-d11fb741c7d6"
      },
      "execution_count": null,
      "outputs": [
        {
          "output_type": "execute_result",
          "data": {
            "text/plain": [
              "['a', 'c', 'd']"
            ]
          },
          "metadata": {},
          "execution_count": 8
        }
      ]
    },
    {
      "cell_type": "code",
      "source": [
        "def max_lcs(S):\n",
        "    alice_len = 0\n",
        "    bob_len = 0\n",
        "    common_chars = 0\n",
        "    prev_common_chars = 0\n",
        "    i = 0\n",
        "    while S:\n",
        "        prefix = S[:i+1]\n",
        "        S = S[i+1:]\n",
        "        alice_len += len(prefix)\n",
        "        suffix = S[-i-1:]\n",
        "        S = S[:-i-1]\n",
        "        bob_len += len(suffix)\n",
        "        common_chars = 0\n",
        "        for j in range(min(alice_len, bob_len)):\n",
        "            if alice[j] == bob[j]:\n",
        "                common_chars += 1\n",
        "        i += 1\n",
        "    return max(common_chars, prev_common_chars)\n"
      ],
      "metadata": {
        "id": "5UG3JHFsq8Dm"
      },
      "execution_count": null,
      "outputs": []
    },
    {
      "cell_type": "code",
      "source": [
        "max_lcs(\"abccda\")"
      ],
      "metadata": {
        "colab": {
          "base_uri": "https://localhost:8080/",
          "height": 295
        },
        "id": "orL1yTHZt0Aq",
        "outputId": "cc42eb92-6f05-4b4f-f556-008ccbeef4d4"
      },
      "execution_count": null,
      "outputs": [
        {
          "output_type": "error",
          "ename": "NameError",
          "evalue": "ignored",
          "traceback": [
            "\u001b[0;31m---------------------------------------------------------------------------\u001b[0m",
            "\u001b[0;31mNameError\u001b[0m                                 Traceback (most recent call last)",
            "\u001b[0;32m<ipython-input-12-a201fd2a55e4>\u001b[0m in \u001b[0;36m<module>\u001b[0;34m\u001b[0m\n\u001b[0;32m----> 1\u001b[0;31m \u001b[0mmax_lcs\u001b[0m\u001b[0;34m(\u001b[0m\u001b[0;34m\"abccda\"\u001b[0m\u001b[0;34m)\u001b[0m\u001b[0;34m\u001b[0m\u001b[0;34m\u001b[0m\u001b[0m\n\u001b[0m",
            "\u001b[0;32m<ipython-input-11-dc1e8bc3eba4>\u001b[0m in \u001b[0;36mmax_lcs\u001b[0;34m(S)\u001b[0m\n\u001b[1;32m     14\u001b[0m         \u001b[0mcommon_chars\u001b[0m \u001b[0;34m=\u001b[0m \u001b[0;36m0\u001b[0m\u001b[0;34m\u001b[0m\u001b[0;34m\u001b[0m\u001b[0m\n\u001b[1;32m     15\u001b[0m         \u001b[0;32mfor\u001b[0m \u001b[0mj\u001b[0m \u001b[0;32min\u001b[0m \u001b[0mrange\u001b[0m\u001b[0;34m(\u001b[0m\u001b[0mmin\u001b[0m\u001b[0;34m(\u001b[0m\u001b[0malice_len\u001b[0m\u001b[0;34m,\u001b[0m \u001b[0mbob_len\u001b[0m\u001b[0;34m)\u001b[0m\u001b[0;34m)\u001b[0m\u001b[0;34m:\u001b[0m\u001b[0;34m\u001b[0m\u001b[0;34m\u001b[0m\u001b[0m\n\u001b[0;32m---> 16\u001b[0;31m             \u001b[0;32mif\u001b[0m \u001b[0malice\u001b[0m\u001b[0;34m[\u001b[0m\u001b[0mj\u001b[0m\u001b[0;34m]\u001b[0m \u001b[0;34m==\u001b[0m \u001b[0mbob\u001b[0m\u001b[0;34m[\u001b[0m\u001b[0mj\u001b[0m\u001b[0;34m]\u001b[0m\u001b[0;34m:\u001b[0m\u001b[0;34m\u001b[0m\u001b[0;34m\u001b[0m\u001b[0m\n\u001b[0m\u001b[1;32m     17\u001b[0m                 \u001b[0mcommon_chars\u001b[0m \u001b[0;34m+=\u001b[0m \u001b[0;36m1\u001b[0m\u001b[0;34m\u001b[0m\u001b[0;34m\u001b[0m\u001b[0m\n\u001b[1;32m     18\u001b[0m         \u001b[0mi\u001b[0m \u001b[0;34m+=\u001b[0m \u001b[0;36m1\u001b[0m\u001b[0;34m\u001b[0m\u001b[0;34m\u001b[0m\u001b[0m\n",
            "\u001b[0;31mNameError\u001b[0m: name 'alice' is not defined"
          ]
        }
      ]
    },
    {
      "cell_type": "code",
      "source": [
        "n = 5\n",
        "k = 3\n",
        "j = \"10101\"\n",
        "print(min_flips(\"0110\", 2))"
      ],
      "metadata": {
        "colab": {
          "base_uri": "https://localhost:8080/"
        },
        "id": "3iqu1yYjt5S6",
        "outputId": "f65f16d7-2f9d-45bc-c3c5-19b7b1f4c616"
      },
      "execution_count": null,
      "outputs": [
        {
          "output_type": "stream",
          "name": "stdout",
          "text": [
            "1\n"
          ]
        }
      ]
    },
    {
      "cell_type": "code",
      "source": [
        "def min_flips(S, K):\n",
        "    N = len(S)\n",
        "    dp = [[float('inf')] * (K+1) for _ in range(N+1)]\n",
        "    dp[N][0] = 0\n",
        "    for i in range(N):\n",
        "        dp[i][1] = 1\n",
        "    for i in range(N-1, -1, -1):\n",
        "        for j in range(2, K+1):\n",
        "            dp[i][j] = min(dp[i+1][j], dp[i+1][j-1] + 1)\n",
        "    return min(dp[0][j] for j in range(1, K+1))\n"
      ],
      "metadata": {
        "id": "ck0gdP7MwbER"
      },
      "execution_count": null,
      "outputs": []
    },
    {
      "cell_type": "code",
      "source": [
        "start = [1, 2, 3]\n",
        "end= [4, 4, 6]"
      ],
      "metadata": {
        "id": "KF4S54d7xLYf"
      },
      "execution_count": null,
      "outputs": []
    },
    {
      "cell_type": "code",
      "source": [
        "mp=dict()\n",
        "for i in start:\n",
        "  if i in mp:\n",
        "    mp[i] += 1\n",
        "  else:\n",
        "    mp[i] = 1\n",
        "print(mp)\n",
        "for i in end:\n",
        "  if i in mp:\n",
        "    mp[i] += -1\n",
        "  else:\n",
        "    mp[i] = -1\n",
        "print(mp)\n",
        "print(sorted(mp))\n",
        "c = ans = 0\n",
        "for i in sorted(mp):\n",
        "  print(mp)\n",
        "  c += mp[i]\n",
        "  ans = max(ans,c)\n",
        "print(ans)\n"
      ],
      "metadata": {
        "colab": {
          "base_uri": "https://localhost:8080/"
        },
        "id": "T4GZ6QxSnMZ4",
        "outputId": "a1f28f81-4ddd-412a-8056-646da8ae67d4"
      },
      "execution_count": null,
      "outputs": [
        {
          "output_type": "stream",
          "name": "stdout",
          "text": [
            "{1: 1, 2: 1, 3: 1}\n",
            "{1: 1, 2: 1, 3: 1, 4: -2, 6: -1}\n",
            "[1, 2, 3, 4, 6]\n",
            "{1: 1, 2: 1, 3: 1, 4: -2, 6: -1}\n",
            "{1: 1, 2: 1, 3: 1, 4: -2, 6: -1}\n",
            "{1: 1, 2: 1, 3: 1, 4: -2, 6: -1}\n",
            "{1: 1, 2: 1, 3: 1, 4: -2, 6: -1}\n",
            "{1: 1, 2: 1, 3: 1, 4: -2, 6: -1}\n",
            "3\n"
          ]
        }
      ]
    },
    {
      "cell_type": "code",
      "source": [
        "Z = [x for _,x in sorted(zip(st,en))]\n",
        "p = sorted(st)\n",
        "print(Z,p)\n",
        "ans = 1\n",
        "for i in range(len(st)-1):\n",
        "  if Z[i] <= p[i+1]:\n",
        "    continue\n",
        "  else:\n",
        "    ans = ans + 1\n",
        "print(ans)"
      ],
      "metadata": {
        "colab": {
          "base_uri": "https://localhost:8080/"
        },
        "id": "_IaUZ5CsoACD",
        "outputId": "684410a7-468f-46da-eec0-d8aa6db7e44e"
      },
      "execution_count": null,
      "outputs": [
        {
          "output_type": "stream",
          "name": "stdout",
          "text": [
            "[4, 4, 6] [1, 2, 3]\n"
          ]
        }
      ]
    },
    {
      "cell_type": "code",
      "source": [
        "ans = 1\n",
        "for i in range(len(st)-1):\n",
        "  if Z[i] <= p[i+1]:\n",
        "    continue\n",
        "  else:\n",
        "    ans = ans + 1\n",
        "print(ans)"
      ],
      "metadata": {
        "colab": {
          "base_uri": "https://localhost:8080/"
        },
        "id": "rbprYXLJoCPn",
        "outputId": "ad445c32-ad86-4e30-cfe8-0f5250a570da"
      },
      "execution_count": null,
      "outputs": [
        {
          "output_type": "stream",
          "name": "stdout",
          "text": [
            "3\n"
          ]
        }
      ]
    },
    {
      "cell_type": "code",
      "source": [
        "num = 1248"
      ],
      "metadata": {
        "id": "hwYZfvyqov8B"
      },
      "execution_count": null,
      "outputs": []
    },
    {
      "cell_type": "code",
      "source": [
        "p = str(num)\n",
        "ans = 0\n",
        "for i in p:\n",
        "  if num%int(i)==0:\n",
        "    ans = ans+1\n"
      ],
      "metadata": {
        "id": "xY-v4Gm-MoN2"
      },
      "execution_count": null,
      "outputs": []
    },
    {
      "cell_type": "code",
      "source": [
        "nums = [2,4,3,7,10,6]"
      ],
      "metadata": {
        "id": "ROe4mv7iM3Uf"
      },
      "execution_count": null,
      "outputs": []
    },
    {
      "cell_type": "code",
      "source": [
        "p = {}\n",
        "for i in nums:\n",
        "  j = 2\n",
        "  while i > 1:\n",
        "    while i % j == 0:\n",
        "      if j not in p.keys():\n",
        "        p[j]=1\n",
        "      i /= j\n",
        "    j += 1\n",
        "len(p)\n",
        "\n"
      ],
      "metadata": {
        "id": "qMcATGdtM4Y4"
      },
      "execution_count": null,
      "outputs": []
    },
    {
      "cell_type": "code",
      "source": [
        "len(p)"
      ],
      "metadata": {
        "colab": {
          "base_uri": "https://localhost:8080/"
        },
        "id": "9ZQrT4ePPtV_",
        "outputId": "f650ab8a-cdb2-47dc-a4eb-f8f3ff1d2bc0"
      },
      "execution_count": null,
      "outputs": [
        {
          "output_type": "execute_result",
          "data": {
            "text/plain": [
              "4"
            ]
          },
          "metadata": {},
          "execution_count": 11
        }
      ]
    },
    {
      "cell_type": "code",
      "source": [
        "s = \"238182\"\n",
        "k = 5"
      ],
      "metadata": {
        "id": "UalG_4_MPxxY"
      },
      "execution_count": null,
      "outputs": []
    },
    {
      "cell_type": "code",
      "source": [],
      "metadata": {
        "id": "a3eeBC5wQ2il"
      },
      "execution_count": null,
      "outputs": []
    },
    {
      "cell_type": "code",
      "source": [
        "j = 0\n",
        "p = []\n",
        "k = 0\n",
        "while(j<len(s)-1):\n",
        "  for i in range(1+j, len(s)):\n",
        "    if int(s[j:i]) < k:\n",
        "      print(s[j:i])\n",
        "      k = i\n",
        "      if i==1:\n",
        "        p.append(s[j:i])\n",
        "      else:\n",
        "        p.pop()\n",
        "        p.append(s[j:i])\n",
        "  j = k+1\n",
        "\n"
      ],
      "metadata": {
        "colab": {
          "base_uri": "https://localhost:8080/",
          "height": 241
        },
        "id": "V5-gZaJjXC0W",
        "outputId": "227a3df7-2560-4307-e4d7-2957140c3771"
      },
      "execution_count": null,
      "outputs": [
        {
          "output_type": "error",
          "ename": "KeyboardInterrupt",
          "evalue": "ignored",
          "traceback": [
            "\u001b[0;31m---------------------------------------------------------------------------\u001b[0m",
            "\u001b[0;31mKeyboardInterrupt\u001b[0m                         Traceback (most recent call last)",
            "\u001b[0;32m<ipython-input-21-7f8022fb4a04>\u001b[0m in \u001b[0;36m<module>\u001b[0;34m\u001b[0m\n\u001b[1;32m      3\u001b[0m \u001b[0mk\u001b[0m \u001b[0;34m=\u001b[0m \u001b[0;36m0\u001b[0m\u001b[0;34m\u001b[0m\u001b[0;34m\u001b[0m\u001b[0m\n\u001b[1;32m      4\u001b[0m \u001b[0;32mwhile\u001b[0m\u001b[0;34m(\u001b[0m\u001b[0mj\u001b[0m\u001b[0;34m<\u001b[0m\u001b[0mlen\u001b[0m\u001b[0;34m(\u001b[0m\u001b[0ms\u001b[0m\u001b[0;34m)\u001b[0m\u001b[0;34m-\u001b[0m\u001b[0;36m1\u001b[0m\u001b[0;34m)\u001b[0m\u001b[0;34m:\u001b[0m\u001b[0;34m\u001b[0m\u001b[0;34m\u001b[0m\u001b[0m\n\u001b[0;32m----> 5\u001b[0;31m   \u001b[0;32mfor\u001b[0m \u001b[0mi\u001b[0m \u001b[0;32min\u001b[0m \u001b[0mrange\u001b[0m\u001b[0;34m(\u001b[0m\u001b[0;36m1\u001b[0m\u001b[0;34m+\u001b[0m\u001b[0mj\u001b[0m\u001b[0;34m,\u001b[0m \u001b[0mlen\u001b[0m\u001b[0;34m(\u001b[0m\u001b[0ms\u001b[0m\u001b[0;34m)\u001b[0m\u001b[0;34m)\u001b[0m\u001b[0;34m:\u001b[0m\u001b[0;34m\u001b[0m\u001b[0;34m\u001b[0m\u001b[0m\n\u001b[0m\u001b[1;32m      6\u001b[0m     \u001b[0;32mif\u001b[0m \u001b[0mint\u001b[0m\u001b[0;34m(\u001b[0m\u001b[0ms\u001b[0m\u001b[0;34m[\u001b[0m\u001b[0mj\u001b[0m\u001b[0;34m:\u001b[0m\u001b[0mi\u001b[0m\u001b[0;34m]\u001b[0m\u001b[0;34m)\u001b[0m \u001b[0;34m<\u001b[0m \u001b[0mk\u001b[0m\u001b[0;34m:\u001b[0m\u001b[0;34m\u001b[0m\u001b[0;34m\u001b[0m\u001b[0m\n\u001b[1;32m      7\u001b[0m       \u001b[0mprint\u001b[0m\u001b[0;34m(\u001b[0m\u001b[0ms\u001b[0m\u001b[0;34m[\u001b[0m\u001b[0mj\u001b[0m\u001b[0;34m:\u001b[0m\u001b[0mi\u001b[0m\u001b[0;34m]\u001b[0m\u001b[0;34m)\u001b[0m\u001b[0;34m\u001b[0m\u001b[0;34m\u001b[0m\u001b[0m\n",
            "\u001b[0;31mKeyboardInterrupt\u001b[0m: "
          ]
        }
      ]
    },
    {
      "cell_type": "code",
      "source": [
        "s = \"165462\"\n",
        "k = 60"
      ],
      "metadata": {
        "id": "TYvgZCbRY-16"
      },
      "execution_count": null,
      "outputs": []
    },
    {
      "cell_type": "code",
      "source": [
        "j = 0\n",
        "p = []\n",
        "while(j<len(s)):\n",
        "  for i in range(j, len(s)):\n",
        "    if int(s[j:i+1]) <= k:\n",
        "      if i == j:\n",
        "        print(s[j:i+1])\n",
        "        p.append(s[j:i+1])\n",
        "      else:\n",
        "        print(s[j:i+1])\n",
        "        p.pop()\n",
        "        p.append(s[j:i+1])\n",
        "\n",
        "  j += 1\n",
        "print(p)"
      ],
      "metadata": {
        "colab": {
          "base_uri": "https://localhost:8080/"
        },
        "id": "D2lRgLdGXH68",
        "outputId": "890267a0-3e4b-4a57-ce88-e9e92711441d"
      },
      "execution_count": null,
      "outputs": [
        {
          "output_type": "stream",
          "name": "stdout",
          "text": [
            "1\n",
            "16\n",
            "6\n",
            "5\n",
            "54\n",
            "4\n",
            "46\n",
            "6\n",
            "2\n",
            "['16', '6', '54', '46', '6', '2']\n"
          ]
        }
      ]
    },
    {
      "cell_type": "code",
      "source": [
        "q = p[0]\n",
        "for i in range(1,len(p)):\n",
        "  if s[i-1][-1]==s[i][0]:\n",
        "    r = max(int(s[i-1]),int(s[i]))\n",
        "    print(1)\n",
        "    q +=  str(r)\n",
        "    i = i + 1\n",
        "  else:\n",
        "    q += s[i]\n"
      ],
      "metadata": {
        "id": "JLpFaw0BYH6m"
      },
      "execution_count": null,
      "outputs": []
    },
    {
      "cell_type": "code",
      "source": [
        "q"
      ],
      "metadata": {
        "colab": {
          "base_uri": "https://localhost:8080/",
          "height": 36
        },
        "id": "lWjuTrICeSrn",
        "outputId": "caed05dd-5410-4aaf-cf19-96628e6b5129"
      },
      "execution_count": null,
      "outputs": [
        {
          "output_type": "execute_result",
          "data": {
            "text/plain": [
              "'1665462'"
            ],
            "application/vnd.google.colaboratory.intrinsic+json": {
              "type": "string"
            }
          },
          "metadata": {},
          "execution_count": 43
        }
      ]
    },
    {
      "cell_type": "code",
      "source": [
        "pattern = \"abba\"\n",
        "s = \"dog dog dog dog\"\n",
        "print(zip(pattern,s))"
      ],
      "metadata": {
        "colab": {
          "base_uri": "https://localhost:8080/"
        },
        "id": "Pon6c26rlRc9",
        "outputId": "ba1cc54a-1955-4438-ce14-3de6a53c1dbd"
      },
      "execution_count": null,
      "outputs": [
        {
          "output_type": "stream",
          "name": "stdout",
          "text": [
            "<zip object at 0x7f157d71d3c0>\n"
          ]
        }
      ]
    },
    {
      "cell_type": "code",
      "source": [
        "p = {}\n",
        "q = list(map(str,s.split()))\n",
        "f = True\n",
        "\n",
        "\n",
        "for i in range(len(pattern)):\n",
        "  if pattern[i] not in p.keys():\n",
        "    p[pattern[i]]=q[i]\n",
        "  else:\n",
        "    if p[pattern[i]] != q[i]:\n",
        "      f = False\n",
        "      break\n",
        "print(f)"
      ],
      "metadata": {
        "colab": {
          "base_uri": "https://localhost:8080/"
        },
        "id": "35XCKeIpeaND",
        "outputId": "0c3e0258-f435-4843-b6c5-3ad8454e870f"
      },
      "execution_count": null,
      "outputs": [
        {
          "output_type": "stream",
          "name": "stdout",
          "text": [
            "True\n"
          ]
        }
      ]
    },
    {
      "cell_type": "code",
      "source": [
        "print(p)"
      ],
      "metadata": {
        "colab": {
          "base_uri": "https://localhost:8080/"
        },
        "id": "uHgkdA8TlU6e",
        "outputId": "50ae53bc-0eac-4719-8937-a9a0bc0da012"
      },
      "execution_count": null,
      "outputs": [
        {
          "output_type": "stream",
          "name": "stdout",
          "text": [
            "{'a': 'dog', 'b': 'dog'}\n"
          ]
        }
      ]
    },
    {
      "cell_type": "code",
      "source": [
        "p = {}\n",
        "        q = list(map(str,s.split()))\n",
        "        f = True\n",
        "        if len(set(list(s))) != len(set(q)):\n",
        "            f = False\n",
        "        for i in range(len(pattern)):\n",
        "            if pattern[i] not in p.keys():\n",
        "                p[pattern[i]]=q[i]\n",
        "            else:\n",
        "                if p[pattern[i]] != q[i]:\n",
        "                    f = False\n",
        "                    break\n",
        "        return f"
      ],
      "metadata": {
        "id": "mO2MM1NNlWqv"
      },
      "execution_count": null,
      "outputs": []
    },
    {
      "cell_type": "code",
      "source": [
        "s = \"ylrpqnpzrt\"\n",
        "p = {}\n",
        "for i in range(len(s)):\n",
        "  if s[i] not in p.keys():\n",
        "    p[s[i]] = 1\n",
        "  else:\n",
        "    p[s[i]] += 1\n"
      ],
      "metadata": {
        "id": "zMtS0g2hlOae"
      },
      "execution_count": null,
      "outputs": []
    },
    {
      "cell_type": "code",
      "source": [
        "p1 = sorted(list(s))"
      ],
      "metadata": {
        "id": "fjM8cX3roX89"
      },
      "execution_count": null,
      "outputs": []
    },
    {
      "cell_type": "code",
      "source": [
        "s = \"qpmdqg\"\n",
        "p1 = sorted(list(s))\n",
        "ans = \"p1[0]\"\n",
        "r = 1\n",
        "count = 0\n",
        "for i in range(1,len(p1)):\n",
        "  print(p1[i])\n",
        "  if p1[i-1]==p1[i]:\n",
        "    r = r+1\n",
        "  else:\n",
        "    if r > count:\n",
        "      count = r\n",
        "      ans = p1[i-1]\n",
        "      r = 1\n",
        "    elif r < count:\n",
        "      r = 1\n",
        "    else:\n",
        "      if ord(ans)>ord(p1[i-1]):\n",
        "        ans = p1[i-1]\n",
        "        count = r\n",
        "      else:\n",
        "        count = r\n",
        "        r = 1\n",
        "\n"
      ],
      "metadata": {
        "colab": {
          "base_uri": "https://localhost:8080/"
        },
        "id": "x-9WBl30ohq2",
        "outputId": "0d2e781e-e1a2-42d7-ad8f-4ecc02b17262"
      },
      "execution_count": null,
      "outputs": [
        {
          "output_type": "stream",
          "name": "stdout",
          "text": [
            "g\n",
            "m\n",
            "p\n",
            "q\n",
            "q\n"
          ]
        }
      ]
    },
    {
      "cell_type": "code",
      "source": [
        "ans"
      ],
      "metadata": {
        "colab": {
          "base_uri": "https://localhost:8080/",
          "height": 36
        },
        "id": "FQpMo7tlquCr",
        "outputId": "a3bc1d8f-b4e2-4be5-c463-1437c62cebfd"
      },
      "execution_count": null,
      "outputs": [
        {
          "output_type": "execute_result",
          "data": {
            "text/plain": [
              "'d'"
            ],
            "application/vnd.google.colaboratory.intrinsic+json": {
              "type": "string"
            }
          },
          "metadata": {},
          "execution_count": 23
        }
      ]
    },
    {
      "cell_type": "code",
      "source": [
        "p1"
      ],
      "metadata": {
        "colab": {
          "base_uri": "https://localhost:8080/"
        },
        "id": "df5MZxZVlUE3",
        "outputId": "ec52d1ce-0da0-42c7-9d6e-addb765b0bbb"
      },
      "execution_count": null,
      "outputs": [
        {
          "output_type": "execute_result",
          "data": {
            "text/plain": [
              "['d', 'g', 'm', 'p', 'q', 'q']"
            ]
          },
          "metadata": {},
          "execution_count": 25
        }
      ]
    },
    {
      "cell_type": "code",
      "source": [
        "q = dict(sorted(p.items(), key=lambda x: x[1], reverse=True))"
      ],
      "metadata": {
        "id": "fYnH3UM7lW1_"
      },
      "execution_count": null,
      "outputs": []
    },
    {
      "cell_type": "code",
      "source": [
        "q"
      ],
      "metadata": {
        "colab": {
          "base_uri": "https://localhost:8080/"
        },
        "id": "DEFTZIDFn0yY",
        "outputId": "22f9db23-ab7f-4ae1-ed48-67680a7bad0c"
      },
      "execution_count": null,
      "outputs": [
        {
          "output_type": "execute_result",
          "data": {
            "text/plain": [
              "{'r': 2, 'p': 2, 'y': 1, 'l': 1, 'q': 1, 'n': 1, 'z': 1, 't': 1}"
            ]
          },
          "metadata": {},
          "execution_count": 15
        }
      ]
    },
    {
      "cell_type": "code",
      "source": [
        "sorted(p.values())"
      ],
      "metadata": {
        "colab": {
          "base_uri": "https://localhost:8080/"
        },
        "id": "flYnpv1Vnafn",
        "outputId": "bc7fef94-adac-450a-8cfd-06805aac1554"
      },
      "execution_count": null,
      "outputs": [
        {
          "output_type": "execute_result",
          "data": {
            "text/plain": [
              "[1, 1, 1, 1, 1, 1, 2, 2]"
            ]
          },
          "metadata": {},
          "execution_count": 11
        }
      ]
    },
    {
      "cell_type": "code",
      "source": [],
      "metadata": {
        "id": "8TmtuJ-fndK_"
      },
      "execution_count": null,
      "outputs": []
    }
  ],
  "metadata": {
    "colab": {
      "provenance": [],
      "authorship_tag": "ABX9TyM613a5IXsobKq/4LVT2AQq",
      "include_colab_link": true
    },
    "kernelspec": {
      "display_name": "Python 3",
      "name": "python3"
    },
    "language_info": {
      "name": "python"
    }
  },
  "nbformat": 4,
  "nbformat_minor": 0
}