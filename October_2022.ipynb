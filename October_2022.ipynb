{
  "nbformat": 4,
  "nbformat_minor": 0,
  "metadata": {
    "colab": {
      "provenance": [],
      "authorship_tag": "ABX9TyPELpuUluCB+EVKrhIPV3+e",
      "include_colab_link": true
    },
    "kernelspec": {
      "name": "python3",
      "display_name": "Python 3"
    },
    "language_info": {
      "name": "python"
    }
  },
  "cells": [
    {
      "cell_type": "markdown",
      "metadata": {
        "id": "view-in-github",
        "colab_type": "text"
      },
      "source": [
        "<a href=\"https://colab.research.google.com/github/praveensaharan/rust-calculetor/blob/main/October_2022.ipynb\" target=\"_parent\"><img src=\"https://colab.research.google.com/assets/colab-badge.svg\" alt=\"Open In Colab\"/></a>"
      ]
    },
    {
      "cell_type": "code",
      "execution_count": null,
      "metadata": {
        "id": "lNueotGcgwyt"
      },
      "outputs": [],
      "source": [
        "nums = [8, 7, 10, 11]"
      ]
    },
    {
      "cell_type": "code",
      "source": [
        "nums.count(max(nums))\n"
      ],
      "metadata": {
        "colab": {
          "base_uri": "https://localhost:8080/"
        },
        "id": "NhuR2gRyhRzl",
        "outputId": "3db7cd95-8fc6-4295-d245-61845bd98e71"
      },
      "execution_count": null,
      "outputs": [
        {
          "output_type": "execute_result",
          "data": {
            "text/plain": [
              "1"
            ]
          },
          "metadata": {},
          "execution_count": 6
        }
      ]
    },
    {
      "cell_type": "code",
      "source": [
        "N = 4\n",
        "a = [1, 4, 3, 2]"
      ],
      "metadata": {
        "id": "niHq6eGthXgb"
      },
      "execution_count": null,
      "outputs": []
    },
    {
      "cell_type": "code",
      "source": [
        "flag = True\n",
        "i = 0\n",
        "while(i<N-1):\n",
        "  if flag == True:\n",
        "    if a[i]<a[i+1]:\n",
        "      flag = False\n",
        "      i = i +1 \n",
        "    else:\n",
        "      temp = a[i+1]\n",
        "      a[i+1] = a[i]\n",
        "      a[i] = temp\n",
        "      flag = False\n",
        "      i = i+1\n",
        "  else:\n",
        "    if a[i] > a[i+1]:\n",
        "      flag = True\n",
        "      i = i+1\n",
        "    else:\n",
        "      temp = a[i+1]\n",
        "      a[i+1] = a[i]\n",
        "      a[i] = temp\n",
        "      flag = True\n",
        "      i = i+1\n"
      ],
      "metadata": {
        "id": "IXrogwYKW2tE"
      },
      "execution_count": null,
      "outputs": []
    },
    {
      "cell_type": "code",
      "source": [
        "a"
      ],
      "metadata": {
        "colab": {
          "base_uri": "https://localhost:8080/"
        },
        "id": "fHTPffZ8Z8ut",
        "outputId": "08d3b12f-e228-4775-aeb6-35e915be8d95"
      },
      "execution_count": null,
      "outputs": [
        {
          "output_type": "execute_result",
          "data": {
            "text/plain": [
              "[1, 4, 2, 3]"
            ]
          },
          "metadata": {},
          "execution_count": 10
        }
      ]
    },
    {
      "cell_type": "code",
      "source": [
        "N = 11 \n",
        "a = [1, 3, 5, 8, 9, 2, 6, 7, 6, 8, 9]"
      ],
      "metadata": {
        "id": "62VXhn79aI8A"
      },
      "execution_count": null,
      "outputs": []
    },
    {
      "cell_type": "code",
      "source": [
        "ans = 0\n",
        "p = a[0]\n",
        "r = 0\n",
        "p1 = False\n",
        "for i in range(1,N-1):\n",
        "  if p < a[i]:\n",
        "    p = a[i]\n",
        "    print(p)\n",
        "    ans = ans +1\n",
        "    r = i\n",
        "    p1 = True\n",
        "    break\n",
        "if p1 == True:\n",
        "  for j in range(r,N-1):\n",
        "    if a[j]<a[j+1] and p < a[j+1]:\n",
        "      p = a[j+1]\n",
        "      print(p)\n",
        "      ans = ans + 1"
      ],
      "metadata": {
        "colab": {
          "base_uri": "https://localhost:8080/"
        },
        "id": "biFOy7GdeeUr",
        "outputId": "0cab4523-1b9b-418c-8ce0-db6d3f5a8afb"
      },
      "execution_count": null,
      "outputs": [
        {
          "output_type": "stream",
          "name": "stdout",
          "text": [
            "3\n",
            "5\n",
            "8\n",
            "9\n"
          ]
        }
      ]
    },
    {
      "cell_type": "code",
      "source": [
        "import math\n",
        "def isPowerOfTwo(n):\n",
        "    return (math.ceil(log2(n)) == math.floor(log2(n)))"
      ],
      "metadata": {
        "id": "Io1mVYD0gOlE"
      },
      "execution_count": null,
      "outputs": []
    },
    {
      "cell_type": "code",
      "source": [
        "S = \"fooland\"\n",
        "k = 2\n",
        "n = len(S)\n",
        "if isPowerOfTwo(n):\n",
        "  k = k//2\n",
        "else:\n",
        "  k = k*2\n"
      ],
      "metadata": {
        "colab": {
          "base_uri": "https://localhost:8080/",
          "height": 331
        },
        "id": "meklnrP8gPyl",
        "outputId": "810c590e-4f2a-4d38-8fb9-291902c65096"
      },
      "execution_count": null,
      "outputs": [
        {
          "output_type": "error",
          "ename": "NameError",
          "evalue": "ignored",
          "traceback": [
            "\u001b[0;31m---------------------------------------------------------------------------\u001b[0m",
            "\u001b[0;31mNameError\u001b[0m                                 Traceback (most recent call last)",
            "\u001b[0;32m<ipython-input-41-7fafe2c3597a>\u001b[0m in \u001b[0;36m<module>\u001b[0;34m\u001b[0m\n\u001b[1;32m      2\u001b[0m \u001b[0mk\u001b[0m \u001b[0;34m=\u001b[0m \u001b[0;36m2\u001b[0m\u001b[0;34m\u001b[0m\u001b[0;34m\u001b[0m\u001b[0m\n\u001b[1;32m      3\u001b[0m \u001b[0mn\u001b[0m \u001b[0;34m=\u001b[0m \u001b[0mlen\u001b[0m\u001b[0;34m(\u001b[0m\u001b[0mS\u001b[0m\u001b[0;34m)\u001b[0m\u001b[0;34m\u001b[0m\u001b[0;34m\u001b[0m\u001b[0m\n\u001b[0;32m----> 4\u001b[0;31m \u001b[0;32mif\u001b[0m \u001b[0misPowerOfTwo\u001b[0m\u001b[0;34m(\u001b[0m\u001b[0mn\u001b[0m\u001b[0;34m)\u001b[0m\u001b[0;34m:\u001b[0m\u001b[0;34m\u001b[0m\u001b[0;34m\u001b[0m\u001b[0m\n\u001b[0m\u001b[1;32m      5\u001b[0m   \u001b[0mk\u001b[0m \u001b[0;34m=\u001b[0m \u001b[0mk\u001b[0m\u001b[0;34m//\u001b[0m\u001b[0;36m2\u001b[0m\u001b[0;34m\u001b[0m\u001b[0;34m\u001b[0m\u001b[0m\n\u001b[1;32m      6\u001b[0m \u001b[0;32melse\u001b[0m\u001b[0;34m:\u001b[0m\u001b[0;34m\u001b[0m\u001b[0;34m\u001b[0m\u001b[0m\n",
            "\u001b[0;32m<ipython-input-40-5b3da9551ee0>\u001b[0m in \u001b[0;36misPowerOfTwo\u001b[0;34m(n)\u001b[0m\n\u001b[1;32m      1\u001b[0m \u001b[0;32mimport\u001b[0m \u001b[0mmath\u001b[0m\u001b[0;34m\u001b[0m\u001b[0;34m\u001b[0m\u001b[0m\n\u001b[1;32m      2\u001b[0m \u001b[0;32mdef\u001b[0m \u001b[0misPowerOfTwo\u001b[0m\u001b[0;34m(\u001b[0m\u001b[0mn\u001b[0m\u001b[0;34m)\u001b[0m\u001b[0;34m:\u001b[0m\u001b[0;34m\u001b[0m\u001b[0;34m\u001b[0m\u001b[0m\n\u001b[0;32m----> 3\u001b[0;31m     \u001b[0;32mreturn\u001b[0m \u001b[0;34m(\u001b[0m\u001b[0mmath\u001b[0m\u001b[0;34m.\u001b[0m\u001b[0mceil\u001b[0m\u001b[0;34m(\u001b[0m\u001b[0mlog2\u001b[0m\u001b[0;34m(\u001b[0m\u001b[0mn\u001b[0m\u001b[0;34m)\u001b[0m\u001b[0;34m)\u001b[0m \u001b[0;34m==\u001b[0m \u001b[0mmath\u001b[0m\u001b[0;34m.\u001b[0m\u001b[0mfloor\u001b[0m\u001b[0;34m(\u001b[0m\u001b[0mlog2\u001b[0m\u001b[0;34m(\u001b[0m\u001b[0mn\u001b[0m\u001b[0;34m)\u001b[0m\u001b[0;34m)\u001b[0m\u001b[0;34m)\u001b[0m\u001b[0;34m\u001b[0m\u001b[0;34m\u001b[0m\u001b[0m\n\u001b[0m",
            "\u001b[0;31mNameError\u001b[0m: name 'log2' is not defined"
          ]
        }
      ]
    },
    {
      "cell_type": "code",
      "source": [
        "for i in range(3, len(dist)):\n",
        "            if dist[i - 2] <= dist[i] and dist[i - 1] <= dist[i - 3]:\n",
        "                return True\n",
        "            if i > 3:\n",
        "                if dist[i-3] == dist[i-1] and dist[i-2] <= (dist[i] + dist[i-4]):\n",
        "                    return True\n",
        "            if i > 4:\n",
        "                if dist[i-4] <= dist[i-2] and dist[i-2] <= dist[i] + dist[i-4] and dist[i-3] <= dist[i-1] + dist[i-5] and dist[i-1] <= dist[i-3]:\n",
        "                    return True\n",
        "        return False\n",
        "        "
      ],
      "metadata": {
        "id": "bT2RJ3dlg_5O",
        "colab": {
          "base_uri": "https://localhost:8080/",
          "height": 134
        },
        "outputId": "e2023d98-d3d4-48e0-b5b4-f7c90eab80b1"
      },
      "execution_count": null,
      "outputs": [
        {
          "output_type": "error",
          "ename": "IndentationError",
          "evalue": "ignored",
          "traceback": [
            "\u001b[0;36m  File \u001b[0;32m\"<tokenize>\"\u001b[0;36m, line \u001b[0;32m10\u001b[0m\n\u001b[0;31m    return False\u001b[0m\n\u001b[0m    ^\u001b[0m\n\u001b[0;31mIndentationError\u001b[0m\u001b[0;31m:\u001b[0m unindent does not match any outer indentation level\n"
          ]
        }
      ]
    },
    {
      "cell_type": "code",
      "source": [
        "def pickingNumbers(a):\n",
        "    a = sorted(a)\n",
        "    \n",
        "    ans = 2\n",
        "    temp = 0\n",
        "    benchmark = a[0]\n",
        "    \n",
        "    for num in a:\n",
        "        if abs(num-benchmark) <= 1:\n",
        "            temp += 1\n",
        "        else:\n",
        "            ans = temp if temp > ans else ans\n",
        "            temp = 1\n",
        "            benchmark = num\n",
        "            \n",
        "    return ans if temp < ans else temp"
      ],
      "metadata": {
        "id": "MHExX8NW2C-z"
      },
      "execution_count": null,
      "outputs": []
    },
    {
      "cell_type": "code",
      "source": [
        "p = [4,13,2,3]"
      ],
      "metadata": {
        "id": "Sdwhajko2ELd"
      },
      "execution_count": null,
      "outputs": []
    },
    {
      "cell_type": "code",
      "source": [
        "pickingNumbers(p)"
      ],
      "metadata": {
        "colab": {
          "base_uri": "https://localhost:8080/"
        },
        "id": "VUlGISVU2RKu",
        "outputId": "f5d3879e-5da9-433d-dd04-355cac1f2a0e"
      },
      "execution_count": null,
      "outputs": [
        {
          "output_type": "execute_result",
          "data": {
            "text/plain": [
              "2"
            ]
          },
          "metadata": {},
          "execution_count": 7
        }
      ]
    },
    {
      "cell_type": "code",
      "source": [
        "def pickingNumbers(arr):\n",
        "    result = 0\n",
        "    checked = set()\n",
        "    for i in range(len(arr)):\n",
        "        if i not in checked:\n",
        "            maxCount = max(arr.count(arr[i]) + arr.count(arr[i] + 1), arr.count(arr[i]) + arr.count(arr[i] - 1))\n",
        "            if maxCount > result:\n",
        "                result = maxCount\n",
        "            checked.add(i)\n",
        "    return result"
      ],
      "metadata": {
        "id": "P4ahlPxv2Sbd"
      },
      "execution_count": null,
      "outputs": []
    },
    {
      "cell_type": "code",
      "source": [
        "pickingNumbers(p)"
      ],
      "metadata": {
        "colab": {
          "base_uri": "https://localhost:8080/"
        },
        "id": "SXXeBSIG2xy2",
        "outputId": "57046e78-e314-4ee0-b86e-f46462623781"
      },
      "execution_count": null,
      "outputs": [
        {
          "output_type": "execute_result",
          "data": {
            "text/plain": [
              "2"
            ]
          },
          "metadata": {},
          "execution_count": 9
        }
      ]
    },
    {
      "cell_type": "code",
      "source": [
        "arr = [1,1,2,2,3,3,4,5,6,7]\n",
        "p = {}"
      ],
      "metadata": {
        "id": "Ugat4zImZ-DZ"
      },
      "execution_count": null,
      "outputs": []
    },
    {
      "cell_type": "code",
      "source": [
        "for words in arr:\n",
        "    if words in p.keys():\n",
        "       p[words] += 1\n",
        "    else:\n",
        "       p[words] = 1"
      ],
      "metadata": {
        "id": "TV02fY6a23GX"
      },
      "execution_count": null,
      "outputs": []
    },
    {
      "cell_type": "code",
      "source": [
        "p"
      ],
      "metadata": {
        "colab": {
          "base_uri": "https://localhost:8080/"
        },
        "id": "YcUbEIW0Z525",
        "outputId": "8d0df17e-dc04-43fb-e5b9-8e4fb22b4e97"
      },
      "execution_count": null,
      "outputs": [
        {
          "output_type": "execute_result",
          "data": {
            "text/plain": [
              "{1: 2, 2: 2, 3: 2, 4: 1, 5: 1, 6: 1, 7: 1}"
            ]
          },
          "metadata": {},
          "execution_count": 6
        }
      ]
    },
    {
      "cell_type": "code",
      "source": [
        "class Solution:\n",
        "    def subArrayRanges(self, nums: List[int]) -> int:\n",
        "        n = len(nums)\n",
        "        minsum = maxsum = 0\n",
        "        stack = []\n",
        "        for next_smaller in range(n + 1):\n",
        "            while stack and (next_smaller == n or nums[stack[-1]] > nums[next_smaller]):\n",
        "                i = stack.pop()\n",
        "                prev_smaller = stack[-1] if stack else -1\n",
        "                minsum += nums[i] * (next_smaller - i) * (i - prev_smaller)\n",
        "            stack.append(next_smaller)\n",
        "        stack = []\n",
        "        for next_larger in range(n + 1):\n",
        "            while stack and (next_larger == n or nums[stack[-1]] < nums[next_larger]):\n",
        "                i = stack.pop()\n",
        "                prev_larger = stack[-1] if stack else -1\n",
        "                maxsum += nums[i] * (next_larger - i) * (i - prev_larger)\n",
        "            stack.append(next_larger)\n",
        "        \n",
        "        return maxsum - minsum"
      ],
      "metadata": {
        "id": "O-tzekx3aMRf"
      },
      "execution_count": null,
      "outputs": []
    },
    {
      "cell_type": "code",
      "source": [
        "S = \"aabab\"\n",
        "K = 3"
      ],
      "metadata": {
        "id": "dM4U9RBXyKtM"
      },
      "execution_count": null,
      "outputs": []
    },
    {
      "cell_type": "code",
      "source": [
        "p = list(S)\n",
        "ans = 0\n",
        "for i in range(len(S)-K+1):\n",
        "  print(p[i:i+K])\n",
        "  if len(set(p[i:i+K]))==K-1:\n",
        "    ans = ans+1"
      ],
      "metadata": {
        "colab": {
          "base_uri": "https://localhost:8080/"
        },
        "id": "PJ77pq4XyHfR",
        "outputId": "6e21da59-ba6e-4162-cd03-bfd7b4f81c76"
      },
      "execution_count": null,
      "outputs": [
        {
          "output_type": "stream",
          "name": "stdout",
          "text": [
            "['a', 'a', 'b']\n",
            "['a', 'b', 'a']\n",
            "['b', 'a', 'b']\n"
          ]
        }
      ]
    },
    {
      "cell_type": "code",
      "source": [
        "ans"
      ],
      "metadata": {
        "colab": {
          "base_uri": "https://localhost:8080/"
        },
        "id": "TE7BiiqsyVX0",
        "outputId": "b738dce4-4482-442a-e21c-03e298920564"
      },
      "execution_count": null,
      "outputs": [
        {
          "output_type": "execute_result",
          "data": {
            "text/plain": [
              "3"
            ]
          },
          "metadata": {},
          "execution_count": 9
        }
      ]
    },
    {
      "cell_type": "code",
      "source": [
        "def substringk(s, k):\n",
        "    if not s or k == 0:\n",
        "        return []\n",
        "    \n",
        "    letter, res = {}, set()\n",
        "    start = 0\n",
        "    for i in range(len(s)):\n",
        "        if s[i] in letter and letter[s[i]] >= start:\n",
        "            start = letter[s[i]]+1\n",
        "        letter[s[i]] = i\n",
        "        if i-start+1 == k-1:\n",
        "            res.add(s[start:i+1])\n",
        "            start += 1\n",
        "    return len(res)"
      ],
      "metadata": {
        "id": "CROLbDmCyWXt"
      },
      "execution_count": null,
      "outputs": []
    },
    {
      "cell_type": "code",
      "source": [
        "substringk(\"aabab\",3)"
      ],
      "metadata": {
        "colab": {
          "base_uri": "https://localhost:8080/"
        },
        "id": "yJgrmtoyzdDI",
        "outputId": "ab0781b5-c21f-4f42-a53f-cf4670813241"
      },
      "execution_count": null,
      "outputs": [
        {
          "output_type": "execute_result",
          "data": {
            "text/plain": [
              "2"
            ]
          },
          "metadata": {},
          "execution_count": 12
        }
      ]
    },
    {
      "cell_type": "code",
      "source": [
        "class Solution:\n",
        "    def countOfSubstrings(self, S, K):\n",
        "        ans, dist, n = 0, 0, len(S)\n",
        "        fre = [0]*26\n",
        "        for i in range(K):\n",
        "            fre[ord(S[i])-97] += 1\n",
        "            if(fre[ord(S[i])-97]==1):\n",
        "                dist += 1\n",
        "        \n",
        "        if(dist==K-1):\n",
        "            ans += 1\n",
        "            \n",
        "        for i in range(K, n):\n",
        "            fre[ord(S[i-K])-97] -= 1\n",
        "            if(fre[ord(S[i-K])-97]==0):\n",
        "                dist -= 1\n",
        "            fre[ord(S[i])-97] += 1\n",
        "            if(fre[ord(S[i])-97]==1):\n",
        "                dist += 1\n",
        "            if(dist==K-1):\n",
        "                ans += 1\n",
        "        \n",
        "        return ans"
      ],
      "metadata": {
        "id": "SzE1rGP8zp7f"
      },
      "execution_count": null,
      "outputs": []
    },
    {
      "cell_type": "code",
      "source": [
        "3 3\n",
        "2 1 2\n",
        "2 2 3\n",
        "2 1 3"
      ],
      "metadata": {
        "id": "80mx5fnTssB3"
      },
      "execution_count": null,
      "outputs": []
    },
    {
      "cell_type": "code",
      "source": [
        "n,p = (map(int,input().split()))\n",
        "r = []\n",
        "\n"
      ],
      "metadata": {
        "id": "k3l6DuAjlWAx",
        "colab": {
          "base_uri": "https://localhost:8080/"
        },
        "outputId": "1808adfa-633b-461f-d531-d06dd9d0192f"
      },
      "execution_count": null,
      "outputs": [
        {
          "name": "stdout",
          "output_type": "stream",
          "text": [
            "3 3\n"
          ]
        }
      ]
    },
    {
      "cell_type": "code",
      "source": [
        "for i in range(p):\n",
        "  q = list(map(int,input().split()))\n",
        "  r.append(q)\n",
        "  q.clear()\n",
        "print(r)"
      ],
      "metadata": {
        "colab": {
          "base_uri": "https://localhost:8080/"
        },
        "id": "fSDkdWuCuAOG",
        "outputId": "7d770350-3b12-46dd-e1f1-2744f2dd14fb"
      },
      "execution_count": null,
      "outputs": [
        {
          "output_type": "stream",
          "name": "stdout",
          "text": [
            "2 1 2\n",
            "2 2 3\n",
            "2 1 3\n",
            "[[], [], []]\n"
          ]
        }
      ]
    },
    {
      "cell_type": "code",
      "source": [
        "n = int(input())\n",
        "p = list(map(int,input().split()))"
      ],
      "metadata": {
        "colab": {
          "base_uri": "https://localhost:8080/"
        },
        "id": "IgjR8E_4wutV",
        "outputId": "95ce5a0c-88b9-4a57-e691-299771eeafd6"
      },
      "execution_count": null,
      "outputs": [
        {
          "name": "stdout",
          "output_type": "stream",
          "text": [
            "3\n",
            "2 3 4\n"
          ]
        }
      ]
    },
    {
      "cell_type": "code",
      "source": [
        "\n",
        "r = []\n",
        "q = []\n",
        "for i in range(n):\n",
        "  if p[i]%2==0:\n",
        "    r.append(p[i])\n",
        "  else:\n",
        "    q.append(p[i])\n",
        "sorted(q,reverse=True)\n",
        "sorted(r,reverse=True)\n",
        "if len(r)>1 and len(q)>1:\n",
        "  q1 = max(r[0]+r[1],q[0]+q[1])\n",
        "elif len(r)>1:\n",
        "  q1 = r[0]+r[1]\n",
        "elif len(q)>1:\n",
        "  q1 = q[0]+q[1]\n",
        "else:\n",
        "  q1 = -1\n",
        "print(q1)\n",
        "\n"
      ],
      "metadata": {
        "colab": {
          "base_uri": "https://localhost:8080/"
        },
        "id": "fK1Yu7TVqdsW",
        "outputId": "a70dd671-b637-4b2b-81c8-5554118c401d"
      },
      "execution_count": null,
      "outputs": [
        {
          "output_type": "stream",
          "name": "stdout",
          "text": [
            "6\n"
          ]
        }
      ]
    },
    {
      "cell_type": "code",
      "source": [
        "q = 0\n",
        "for i in range(n):\n",
        "  for j in range(i+1,n):\n",
        "    print(p[i]+p[j])\n",
        "    if (p[i]+p[j])%2==0:\n",
        "      q = max(q,p[i]+p[j])"
      ],
      "metadata": {
        "colab": {
          "base_uri": "https://localhost:8080/"
        },
        "id": "TAhDAxWWwzfi",
        "outputId": "db63fb32-fdd3-44dc-c896-8db2c0ab1dad"
      },
      "execution_count": null,
      "outputs": [
        {
          "output_type": "stream",
          "name": "stdout",
          "text": [
            "5\n",
            "6\n",
            "7\n"
          ]
        }
      ]
    },
    {
      "cell_type": "code",
      "source": [
        "n = 4 \n",
        "arr = [1, 2, 3, 4]"
      ],
      "metadata": {
        "id": "1x4jw9x6xbrn"
      },
      "execution_count": null,
      "outputs": []
    },
    {
      "cell_type": "code",
      "source": [
        "def prob(a):\n",
        "  r = []\n",
        "  if len(a)%2==0:\n",
        "    for i in range(0,len(a)-1,2):\n",
        "      r.append(abs(a[i]-a[i+1]))\n",
        "  else:\n",
        "    w = a[-1]\n",
        "    del a[-1]\n",
        "    for i in range(0,len(a)-1,2):\n",
        "      r.append(abs(a[i]-a[i+1]))\n",
        "    r.append(w)\n",
        "  return r"
      ],
      "metadata": {
        "id": "BqKkqBQAItXY"
      },
      "execution_count": null,
      "outputs": []
    },
    {
      "cell_type": "code",
      "source": [
        "class Solution:\n",
        "    def splitArray(self, nums: List[int], m: int) -> int:\n",
        "        lo, hi = max(nums), sum(nums)\n",
        "        while lo < hi:\n",
        "            mid = (lo+hi)//2\n",
        "            tot, cnt = 0, 1\n",
        "            for num in nums:\n",
        "                if tot+num<=mid: \n",
        "                    tot += num\n",
        "                else:\n",
        "                    tot = num\n",
        "                    cnt += 1\n",
        "            if cnt>m: lo = mid+1\n",
        "            else: hi = mid\n",
        "        return hi"
      ],
      "metadata": {
        "id": "E67FKGP0yZXX",
        "colab": {
          "base_uri": "https://localhost:8080/",
          "height": 367
        },
        "outputId": "f64ee13c-6a87-432c-b45b-c45e6dfa0dae"
      },
      "execution_count": null,
      "outputs": [
        {
          "output_type": "error",
          "ename": "NameError",
          "evalue": "ignored",
          "traceback": [
            "\u001b[0;31m---------------------------------------------------------------------------\u001b[0m",
            "\u001b[0;31mNameError\u001b[0m                                 Traceback (most recent call last)",
            "\u001b[0;32m<ipython-input-25-c2034336a7a1>\u001b[0m in \u001b[0;36m<module>\u001b[0;34m\u001b[0m\n\u001b[0;32m----> 1\u001b[0;31m \u001b[0;32mclass\u001b[0m \u001b[0mSolution\u001b[0m\u001b[0;34m:\u001b[0m\u001b[0;34m\u001b[0m\u001b[0;34m\u001b[0m\u001b[0m\n\u001b[0m\u001b[1;32m      2\u001b[0m     \u001b[0;32mdef\u001b[0m \u001b[0msplitArray\u001b[0m\u001b[0;34m(\u001b[0m\u001b[0mself\u001b[0m\u001b[0;34m,\u001b[0m \u001b[0mnums\u001b[0m\u001b[0;34m:\u001b[0m \u001b[0mList\u001b[0m\u001b[0;34m[\u001b[0m\u001b[0mint\u001b[0m\u001b[0;34m]\u001b[0m\u001b[0;34m,\u001b[0m \u001b[0mm\u001b[0m\u001b[0;34m:\u001b[0m \u001b[0mint\u001b[0m\u001b[0;34m)\u001b[0m \u001b[0;34m->\u001b[0m \u001b[0mint\u001b[0m\u001b[0;34m:\u001b[0m\u001b[0;34m\u001b[0m\u001b[0;34m\u001b[0m\u001b[0m\n\u001b[1;32m      3\u001b[0m         \u001b[0mlo\u001b[0m\u001b[0;34m,\u001b[0m \u001b[0mhi\u001b[0m \u001b[0;34m=\u001b[0m \u001b[0mmax\u001b[0m\u001b[0;34m(\u001b[0m\u001b[0mnums\u001b[0m\u001b[0;34m)\u001b[0m\u001b[0;34m,\u001b[0m \u001b[0msum\u001b[0m\u001b[0;34m(\u001b[0m\u001b[0mnums\u001b[0m\u001b[0;34m)\u001b[0m\u001b[0;34m\u001b[0m\u001b[0;34m\u001b[0m\u001b[0m\n\u001b[1;32m      4\u001b[0m         \u001b[0;32mwhile\u001b[0m \u001b[0mlo\u001b[0m \u001b[0;34m<\u001b[0m \u001b[0mhi\u001b[0m\u001b[0;34m:\u001b[0m\u001b[0;34m\u001b[0m\u001b[0;34m\u001b[0m\u001b[0m\n\u001b[1;32m      5\u001b[0m             \u001b[0mmid\u001b[0m \u001b[0;34m=\u001b[0m \u001b[0;34m(\u001b[0m\u001b[0mlo\u001b[0m\u001b[0;34m+\u001b[0m\u001b[0mhi\u001b[0m\u001b[0;34m)\u001b[0m\u001b[0;34m//\u001b[0m\u001b[0;36m2\u001b[0m\u001b[0;34m\u001b[0m\u001b[0;34m\u001b[0m\u001b[0m\n",
            "\u001b[0;32m<ipython-input-25-c2034336a7a1>\u001b[0m in \u001b[0;36mSolution\u001b[0;34m()\u001b[0m\n\u001b[1;32m      1\u001b[0m \u001b[0;32mclass\u001b[0m \u001b[0mSolution\u001b[0m\u001b[0;34m:\u001b[0m\u001b[0;34m\u001b[0m\u001b[0;34m\u001b[0m\u001b[0m\n\u001b[0;32m----> 2\u001b[0;31m     \u001b[0;32mdef\u001b[0m \u001b[0msplitArray\u001b[0m\u001b[0;34m(\u001b[0m\u001b[0mself\u001b[0m\u001b[0;34m,\u001b[0m \u001b[0mnums\u001b[0m\u001b[0;34m:\u001b[0m \u001b[0mList\u001b[0m\u001b[0;34m[\u001b[0m\u001b[0mint\u001b[0m\u001b[0;34m]\u001b[0m\u001b[0;34m,\u001b[0m \u001b[0mm\u001b[0m\u001b[0;34m:\u001b[0m \u001b[0mint\u001b[0m\u001b[0;34m)\u001b[0m \u001b[0;34m->\u001b[0m \u001b[0mint\u001b[0m\u001b[0;34m:\u001b[0m\u001b[0;34m\u001b[0m\u001b[0;34m\u001b[0m\u001b[0m\n\u001b[0m\u001b[1;32m      3\u001b[0m         \u001b[0mlo\u001b[0m\u001b[0;34m,\u001b[0m \u001b[0mhi\u001b[0m \u001b[0;34m=\u001b[0m \u001b[0mmax\u001b[0m\u001b[0;34m(\u001b[0m\u001b[0mnums\u001b[0m\u001b[0;34m)\u001b[0m\u001b[0;34m,\u001b[0m \u001b[0msum\u001b[0m\u001b[0;34m(\u001b[0m\u001b[0mnums\u001b[0m\u001b[0;34m)\u001b[0m\u001b[0;34m\u001b[0m\u001b[0;34m\u001b[0m\u001b[0m\n\u001b[1;32m      4\u001b[0m         \u001b[0;32mwhile\u001b[0m \u001b[0mlo\u001b[0m \u001b[0;34m<\u001b[0m \u001b[0mhi\u001b[0m\u001b[0;34m:\u001b[0m\u001b[0;34m\u001b[0m\u001b[0;34m\u001b[0m\u001b[0m\n\u001b[1;32m      5\u001b[0m             \u001b[0mmid\u001b[0m \u001b[0;34m=\u001b[0m \u001b[0;34m(\u001b[0m\u001b[0mlo\u001b[0m\u001b[0;34m+\u001b[0m\u001b[0mhi\u001b[0m\u001b[0;34m)\u001b[0m\u001b[0;34m//\u001b[0m\u001b[0;36m2\u001b[0m\u001b[0;34m\u001b[0m\u001b[0;34m\u001b[0m\u001b[0m\n",
            "\u001b[0;31mNameError\u001b[0m: name 'List' is not defined"
          ]
        }
      ]
    },
    {
      "cell_type": "code",
      "source": [
        "for i in range(0,10-1,2):\n",
        "  print(i)"
      ],
      "metadata": {
        "colab": {
          "base_uri": "https://localhost:8080/"
        },
        "id": "v-5GuRVRHieD",
        "outputId": "1beb426d-3dd5-4851-d627-1778e7a94344"
      },
      "execution_count": null,
      "outputs": [
        {
          "output_type": "stream",
          "name": "stdout",
          "text": [
            "0\n",
            "2\n",
            "4\n",
            "6\n",
            "8\n"
          ]
        }
      ]
    },
    {
      "cell_type": "code",
      "source": [
        "5000%23"
      ],
      "metadata": {
        "colab": {
          "base_uri": "https://localhost:8080/"
        },
        "id": "ojrF_QwkHl5M",
        "outputId": "43e80b7f-ed4e-414b-d8d8-e46f924352d0"
      },
      "execution_count": null,
      "outputs": [
        {
          "output_type": "execute_result",
          "data": {
            "text/plain": [
              "9"
            ]
          },
          "metadata": {},
          "execution_count": 1
        }
      ]
    },
    {
      "cell_type": "code",
      "source": [
        "def SieveOfEratosthenes(num):\n",
        "    prime = [True for i in range(num+1)]\n",
        "    p = 2\n",
        "    while (p * p <= num):\n",
        "        if (prime[p] == True):\n",
        "            for i in range(p * p, num+1, p):\n",
        "                prime[i] = False\n",
        "        p += 1\n",
        "    r = []\n",
        "    for p in range(2, num+1):\n",
        "        if prime[p]:\n",
        "          r.append(p)\n",
        "    return r\n",
        "  "
      ],
      "metadata": {
        "id": "cSwjRBw60Mis"
      },
      "execution_count": null,
      "outputs": []
    },
    {
      "cell_type": "code",
      "source": [
        "\n",
        "num = 29\n",
        "flag = False\n",
        "if num > 1:\n",
        "    for i in range(2, num):\n",
        "        if (num % i) == 0:\n",
        "            flag = True\n",
        "            break\n",
        "if flag:\n",
        "    print(num, \"is not a prime number\")\n",
        "else:\n",
        "    print(num, \"is a prime number\")"
      ],
      "metadata": {
        "colab": {
          "base_uri": "https://localhost:8080/"
        },
        "id": "ilz8X-b57Pry",
        "outputId": "6462b675-c6e7-4cf3-919f-5f03091a6e6d"
      },
      "execution_count": null,
      "outputs": [
        {
          "output_type": "stream",
          "name": "stdout",
          "text": [
            "29 is a prime number\n"
          ]
        }
      ]
    },
    {
      "cell_type": "code",
      "source": [
        "p[-3]"
      ],
      "metadata": {
        "colab": {
          "base_uri": "https://localhost:8080/"
        },
        "id": "G7L4xhqt7Tg1",
        "outputId": "d1ff161e-59e4-49a1-9599-f560f26862ca"
      },
      "execution_count": null,
      "outputs": [
        {
          "output_type": "execute_result",
          "data": {
            "text/plain": [
              "99971"
            ]
          },
          "metadata": {},
          "execution_count": 13
        }
      ]
    },
    {
      "cell_type": "code",
      "source": [
        "n = 2\n",
        "logs = [[0,10],[1,20]]\n",
        "p = 0\n",
        "y = 0\n",
        "for i in range(len(logs)):\n",
        "  if i == 0:\n",
        "    r = logs[i][1]\n",
        "  else:\n",
        "    r = logs[i][1]-logs[i-1][1]\n",
        "  if p<r:\n",
        "    p = r\n",
        "    y = logs[i][0]\n",
        "  elif p == r:\n",
        "    y = min(y,logs[i][0])\n"
      ],
      "metadata": {
        "id": "Yg6puK_U75z3"
      },
      "execution_count": null,
      "outputs": []
    },
    {
      "cell_type": "code",
      "source": [
        "pref = [5,2,0,3,1]\n",
        "r = [pref[0]]\n",
        "for i in range(1,len(pref)):\n",
        "  p = \"{0:b}\".format(int(pref[i-1]))\n",
        "  p1 = \"{0:b}\".format(int(pref[i]))\n",
        "  if len(p)>len(p1):\n",
        "    g = len(p1)\n",
        "    while(len(p)!=g):\n",
        "      p1 = '0' + p1\n",
        "      g = g+1\n",
        "  else:\n",
        "    g = len(p)\n",
        "    while(len(p1)!=g):\n",
        "      p = '0' + p\n",
        "      g = g+1\n",
        "  \n",
        "def yed(p1,p):\n",
        "  j = 0\n",
        "  v = \"\"\n",
        "  for j in range(len(p1)):\n",
        "    if p1[j]==p[j]:\n",
        "      v = v + \"0\"\n",
        "    else:\n",
        "      v = v + \"1\"\n",
        "  return int(v,2)\n",
        "\n",
        "\n"
      ],
      "metadata": {
        "colab": {
          "base_uri": "https://localhost:8080/"
        },
        "id": "4p9s4N2oqL5u",
        "outputId": "9ff87ab2-f4fe-4706-cecb-3bb4cf9f6105"
      },
      "execution_count": null,
      "outputs": [
        {
          "output_type": "stream",
          "name": "stdout",
          "text": [
            "7\n",
            "2\n",
            "3\n",
            "2\n"
          ]
        }
      ]
    },
    {
      "cell_type": "code",
      "source": [
        "r "
      ],
      "metadata": {
        "colab": {
          "base_uri": "https://localhost:8080/"
        },
        "id": "avhggXsHqPEV",
        "outputId": "02a04ffe-995f-4ddc-81be-7b4986e4d4be"
      },
      "execution_count": null,
      "outputs": [
        {
          "output_type": "execute_result",
          "data": {
            "text/plain": [
              "[5, 7, 2, 3, 2]"
            ]
          },
          "metadata": {},
          "execution_count": 38
        }
      ]
    },
    {
      "cell_type": "code",
      "source": [
        "\"{0:b}\".format(int(pref[0]))"
      ],
      "metadata": {
        "colab": {
          "base_uri": "https://localhost:8080/",
          "height": 36
        },
        "id": "SV717mAxvULC",
        "outputId": "564023ad-8ed1-4ed0-d326-a53cf1a5fa23"
      },
      "execution_count": null,
      "outputs": [
        {
          "output_type": "execute_result",
          "data": {
            "text/plain": [
              "'101'"
            ],
            "application/vnd.google.colaboratory.intrinsic+json": {
              "type": "string"
            }
          },
          "metadata": {},
          "execution_count": 24
        }
      ]
    },
    {
      "cell_type": "code",
      "source": [
        "\"{0:b}\".format(int(pref[1]))"
      ],
      "metadata": {
        "colab": {
          "base_uri": "https://localhost:8080/",
          "height": 36
        },
        "id": "Ef7cqsGZ1EvI",
        "outputId": "3d5d12c0-81a5-4c27-98e7-f679c98ba373"
      },
      "execution_count": null,
      "outputs": [
        {
          "output_type": "execute_result",
          "data": {
            "text/plain": [
              "'10'"
            ],
            "application/vnd.google.colaboratory.intrinsic+json": {
              "type": "string"
            }
          },
          "metadata": {},
          "execution_count": 25
        }
      ]
    },
    {
      "cell_type": "code",
      "source": [
        " '{0:08b}'.format(7)"
      ],
      "metadata": {
        "colab": {
          "base_uri": "https://localhost:8080/",
          "height": 36
        },
        "id": "66JQyIVG1NSZ",
        "outputId": "acc4d365-540e-4adc-a03c-4b9ce5ebf8f3"
      },
      "execution_count": null,
      "outputs": [
        {
          "output_type": "execute_result",
          "data": {
            "text/plain": [
              "'00000111'"
            ],
            "application/vnd.google.colaboratory.intrinsic+json": {
              "type": "string"
            }
          },
          "metadata": {},
          "execution_count": 28
        }
      ]
    },
    {
      "cell_type": "code",
      "source": [
        "n = 4\n",
        "arr = [\"djfh\", \"gadt\", \"hfjd\", \"tdag\"]\n",
        "m = 0\n",
        "for i in range(n):\n",
        "  if arr[i][::-1] in arr:\n",
        "    m = m +1\n",
        "if m == n:\n",
        "  return True"
      ],
      "metadata": {
        "id": "jVsQwdfb-wJU"
      },
      "execution_count": null,
      "outputs": []
    },
    {
      "cell_type": "code",
      "source": [
        "arr = [\"djfh\", \"gadt\", \"hfjd\", \"tdag\"]\n",
        "i = 0\n",
        "m = len(arr)\n",
        "while(m!=0):\n",
        "  print(arr)\n",
        "  if arr[i][::-1] in arr:\n",
        "    print(arr[i])\n",
        "    if arr[i]==arr[i][::-1]:\n",
        "      arr.remove(arr[i])\n",
        "    else:\n",
        "      arr.remove(arr[i][::-1])\n",
        "      arr.remove(arr[i])\n",
        "  else:\n",
        "    i = i+1\n",
        "  m = len(arr)\n",
        "\n"
      ],
      "metadata": {
        "id": "ueuL0mDf1tO7",
        "colab": {
          "base_uri": "https://localhost:8080/"
        },
        "outputId": "ccc30ef5-26c4-4cec-8621-a5129757654e"
      },
      "execution_count": null,
      "outputs": [
        {
          "output_type": "stream",
          "name": "stdout",
          "text": [
            "['djfh', 'gadt', 'hfjd', 'tdag']\n",
            "djfh\n",
            "['gadt', 'tdag']\n",
            "gadt\n"
          ]
        }
      ]
    },
    {
      "cell_type": "code",
      "source": [
        "n = 3\n",
        "arr = [1, 2, 3]"
      ],
      "metadata": {
        "id": "RSVwkz9H-NVU"
      },
      "execution_count": null,
      "outputs": []
    },
    {
      "cell_type": "code",
      "source": [
        "p = [0]\n",
        "for i in range(1,n):\n",
        "  r = 0\n",
        "  for j in range(0,i):\n",
        "    if arr[i]>arr[j]:\n",
        "      r = r+ arr[j]\n",
        "  p.append(r)\n"
      ],
      "metadata": {
        "id": "OJNtG_-S-XRT"
      },
      "execution_count": null,
      "outputs": []
    },
    {
      "cell_type": "code",
      "source": [
        "5\n",
        "3 5 1 8 9\n",
        "0 3 0 9 17\n",
        "\n",
        "1 4 0 9 17"
      ],
      "metadata": {
        "colab": {
          "base_uri": "https://localhost:8080/"
        },
        "id": "3vONZjziJK3e",
        "outputId": "0503aab7-311e-4257-86a8-cb142a7de19c"
      },
      "execution_count": null,
      "outputs": [
        {
          "output_type": "execute_result",
          "data": {
            "text/plain": [
              "[0, 1, 3]"
            ]
          },
          "metadata": {},
          "execution_count": 46
        }
      ]
    },
    {
      "cell_type": "code",
      "source": [],
      "metadata": {
        "id": "pIyC6FkYJLjY"
      },
      "execution_count": null,
      "outputs": []
    },
    {
      "cell_type": "code",
      "source": [
        "p = [3, 5, 1, 8, 9]\n",
        "q12 = sorted(p)\n",
        "r = [0]\n",
        "q = 0\n",
        "for i in range(1,len(p)):\n",
        "  q = sum(q12[:i])\n",
        "  r.append(q)\n",
        "dic = {}\n",
        "for j in range(0,len(q12)):\n",
        "  dic[q12[j]] = r[j]\n",
        "r12 = []\n",
        "for h in range(len(p)):\n",
        "  r12.append(dic[p[h]])\n",
        "\n"
      ],
      "metadata": {
        "id": "EjRHt-x3KSau"
      },
      "execution_count": null,
      "outputs": []
    },
    {
      "cell_type": "code",
      "source": [
        "int(7) + '0'"
      ],
      "metadata": {
        "id": "jsUQjOOoKUrH",
        "colab": {
          "base_uri": "https://localhost:8080/"
        },
        "outputId": "321ed28a-4d5f-49dd-e24b-2ef1f86d691e"
      },
      "execution_count": null,
      "outputs": [
        {
          "output_type": "error",
          "ename": "TypeError",
          "evalue": "ignored",
          "traceback": [
            "\u001b[0;31m---------------------------------------------------------------------------\u001b[0m",
            "\u001b[0;31mTypeError\u001b[0m                                 Traceback (most recent call last)",
            "\u001b[0;32m<ipython-input-1-d185c3714c1d>\u001b[0m in \u001b[0;36m<module>\u001b[0;34m\u001b[0m\n\u001b[0;32m----> 1\u001b[0;31m \u001b[0mint\u001b[0m\u001b[0;34m(\u001b[0m\u001b[0;36m7\u001b[0m\u001b[0;34m)\u001b[0m \u001b[0;34m+\u001b[0m \u001b[0;34m'0'\u001b[0m\u001b[0;34m\u001b[0m\u001b[0;34m\u001b[0m\u001b[0m\n\u001b[0m",
            "\u001b[0;31mTypeError\u001b[0m: unsupported operand type(s) for +: 'int' and 'str'"
          ]
        }
      ]
    },
    {
      "cell_type": "code",
      "source": [
        "r12"
      ],
      "metadata": {
        "colab": {
          "base_uri": "https://localhost:8080/"
        },
        "id": "3byVCOqfK_WO",
        "outputId": "3295de8d-5158-4d87-a4aa-1fc025c0579b"
      },
      "execution_count": null,
      "outputs": [
        {
          "output_type": "execute_result",
          "data": {
            "text/plain": [
              "[1, 4, 0, 9, 17]"
            ]
          },
          "metadata": {},
          "execution_count": 76
        }
      ]
    },
    {
      "cell_type": "code",
      "source": [
        "s = \"3[b2[ca]]\""
      ],
      "metadata": {
        "id": "r6v56QkSLAci"
      },
      "execution_count": null,
      "outputs": []
    },
    {
      "cell_type": "code",
      "source": [
        "p = []\n",
        "q = \"\"\n",
        "\n",
        "for i in range(len(s)):\n",
        "  if s[i].isdigit():\n",
        "    p.append(s[i])\n",
        "  elif s[i]==\"[\":\n",
        "    \n",
        "\n"
      ],
      "metadata": {
        "colab": {
          "base_uri": "https://localhost:8080/"
        },
        "id": "iVL7HasSMbSf",
        "outputId": "8c9d8d38-e4a1-4469-9761-84acc55a9f62"
      },
      "execution_count": null,
      "outputs": [
        {
          "output_type": "execute_result",
          "data": {
            "text/plain": [
              "{1: 0, 3: 1, 5: 4, 8: 9, 9: 17}"
            ]
          },
          "metadata": {},
          "execution_count": 71
        }
      ]
    },
    {
      "cell_type": "code",
      "source": [
        "W = \"dbfbsdbf\" \n",
        "N = 2\n",
        "X = ['b','s']\n",
        "B= [-100, 45]"
      ],
      "metadata": {
        "id": "heoJ2mGfMcaX"
      },
      "execution_count": null,
      "outputs": []
    },
    {
      "cell_type": "code",
      "source": [],
      "metadata": {
        "id": "S8clIo2bdq_g"
      },
      "execution_count": null,
      "outputs": []
    },
    {
      "cell_type": "code",
      "source": [
        "p = []\n",
        "for i in range(len(W)):\n",
        "  if W[i] in X:\n",
        "    p.append(B[X.index(W[i])])\n",
        "  else:\n",
        "    p.append(ord(W[i]))"
      ],
      "metadata": {
        "id": "Ywgj3tWsc7k-"
      },
      "execution_count": null,
      "outputs": []
    },
    {
      "cell_type": "code",
      "source": [
        "def maxSumSublist(numbers):\n",
        "    if not numbers: return None\n",
        "    \n",
        "    start_index, end_index = -1, 0\n",
        "    current_start_index = -1\n",
        "    max_so_far = 0\n",
        "    current_sum = 0\n",
        "    \n",
        "    for index, number in enumerate(numbers):\n",
        "        current_sum += number\n",
        "        \n",
        "        if current_sum >= max_so_far:\n",
        "            max_so_far = current_sum\n",
        "            start_index = current_start_index\n",
        "            end_index = index\n",
        "            \n",
        "        elif current_sum <= 0:\n",
        "            max_so_far = current_sum\n",
        "            current_sum = 0\n",
        "            current_start_index = index\n",
        "        \n",
        "    return (start_index + 1, end_index + 1)"
      ],
      "metadata": {
        "id": "Dr_BBgYDfHvb"
      },
      "execution_count": null,
      "outputs": []
    },
    {
      "cell_type": "code",
      "source": [
        "x,y = maxSumSublist(p)"
      ],
      "metadata": {
        "id": "BkbQ2y2SdVJh"
      },
      "execution_count": null,
      "outputs": []
    },
    {
      "cell_type": "code",
      "source": [
        "y"
      ],
      "metadata": {
        "colab": {
          "base_uri": "https://localhost:8080/"
        },
        "id": "IE5dbzPedWDX",
        "outputId": "e26f878f-af24-4846-f8ee-8a0ae64a71bb"
      },
      "execution_count": null,
      "outputs": [
        {
          "output_type": "execute_result",
          "data": {
            "text/plain": [
              "8"
            ]
          },
          "metadata": {},
          "execution_count": 12
        }
      ]
    },
    {
      "cell_type": "code",
      "source": [
        "p"
      ],
      "metadata": {
        "colab": {
          "base_uri": "https://localhost:8080/"
        },
        "id": "6Or6A72bfiUf",
        "outputId": "55739ebe-d425-4ced-a3dd-01cbb215994a"
      },
      "execution_count": null,
      "outputs": [
        {
          "output_type": "execute_result",
          "data": {
            "text/plain": [
              "[100, -100, 102, -100, 45, 100, -100, 102]"
            ]
          },
          "metadata": {},
          "execution_count": 13
        }
      ]
    },
    {
      "cell_type": "code",
      "source": [
        "def max_subarray(numbers):\n",
        "    \"\"\"Find a contiguous subarray with the largest sum.\"\"\"\n",
        "    best_sum = 0  # or: float('-inf')\n",
        "    best_start = best_end = 0  # or: None\n",
        "    current_sum = 0\n",
        "    for current_end, x in enumerate(numbers):\n",
        "        if current_sum <= 0:\n",
        "            # Start a new sequence at the current element\n",
        "            current_start = current_end\n",
        "            current_sum = x\n",
        "        else:\n",
        "            # Extend the existing sequence with the current element\n",
        "            current_sum += x\n",
        "\n",
        "        if current_sum > best_sum:\n",
        "            best_sum = current_sum\n",
        "            best_start = current_start\n",
        "            best_end = current_end + 1  # the +1 is to make 'best_end' match Python's slice convention (endpoint excluded)\n",
        "\n",
        "    return best_sum, best_start, best_end"
      ],
      "metadata": {
        "id": "nZuEz2KjfpW-"
      },
      "execution_count": null,
      "outputs": []
    },
    {
      "cell_type": "code",
      "source": [
        "max_subarray(p)"
      ],
      "metadata": {
        "colab": {
          "base_uri": "https://localhost:8080/"
        },
        "id": "fB2Jkti8gzlQ",
        "outputId": "60791574-e9b1-451f-f04f-972cc34be81f"
      },
      "execution_count": null,
      "outputs": [
        {
          "output_type": "execute_result",
          "data": {
            "text/plain": [
              "(149, 2, 8)"
            ]
          },
          "metadata": {},
          "execution_count": 15
        }
      ]
    },
    {
      "cell_type": "code",
      "source": [
        "p = []\n",
        "for i in range(len(W)):\n",
        "  if W[i] in X:\n",
        "    p.append(B[X.index(W[i])])\n",
        "  else:\n",
        "    p.append(ord(W[i]))\n",
        "max_so_far = 0\n",
        "max_ending_here=0\n",
        "start=end=s=0\n",
        "for i in range(len(p)):\n",
        "  c=p[i]\n",
        "  max_ending_here += c\n",
        "  if max_ending_here>max_so_far:\n",
        "    max_so_far=max_ending_here\n",
        "    start=s\n",
        "    end=i\n",
        "  if max_ending_here<0:\n",
        "    max_ending_here=0\n",
        "    s=i+1\n",
        "ans=\"\"\n",
        "for i in range(start,end+1):\n",
        "  ans+=W[i]\n",
        "        "
      ],
      "metadata": {
        "id": "3fumhjv9g3kU"
      },
      "execution_count": null,
      "outputs": []
    },
    {
      "cell_type": "code",
      "source": [
        "arr = [1, 2, 2, 2, 3, 4]\n",
        "p = {}\n",
        "for i in range(len(arr)):\n",
        "  if arr[i] in p.keys():\n",
        "    p[arr[i]] += 1\n",
        "  else:\n",
        "    p[arr[i]] = 1\n"
      ],
      "metadata": {
        "id": "Av30r9mbjM6Y"
      },
      "execution_count": null,
      "outputs": []
    },
    {
      "cell_type": "code",
      "source": [
        "q = sorted(arr, reverse = True)\n",
        "ans  = 0\n",
        "if q[0]-1 in p.keys():\n",
        "  ans = q[0]\n",
        "  p[q[0]-1] -= 1\n"
      ],
      "metadata": {
        "id": "vb_NN3GJjVws"
      },
      "execution_count": null,
      "outputs": []
    },
    {
      "cell_type": "code",
      "source": [
        "max(p, key=p.get)"
      ],
      "metadata": {
        "id": "ROXuQgxLjWdK",
        "colab": {
          "base_uri": "https://localhost:8080/"
        },
        "outputId": "715c59c0-666d-43db-d96a-be500fc16246"
      },
      "execution_count": null,
      "outputs": [
        {
          "output_type": "execute_result",
          "data": {
            "text/plain": [
              "2"
            ]
          },
          "metadata": {},
          "execution_count": 5
        }
      ]
    },
    {
      "cell_type": "code",
      "source": [
        "s = \"abccba\"\n",
        "p = list(s)\n",
        "g = {}\n",
        "j = 0\n",
        "for i in range(len(s)):\n",
        "  if s[i] in g.keys():\n",
        "    g[s[i]] += 1\n",
        "    if int(g[s[i]]) >= 2 and int(g[s[i]]) > j:\n",
        "      j = g[s[i]]\n",
        "      r = s[i]\n",
        "    print(j)\n",
        "\n",
        "  else:\n",
        "    g[s[i]]=1 "
      ],
      "metadata": {
        "id": "Qslg6JhcwXQG",
        "colab": {
          "base_uri": "https://localhost:8080/"
        },
        "outputId": "20bc1260-7d25-4506-d99f-d9575b1c5ef6"
      },
      "execution_count": null,
      "outputs": [
        {
          "output_type": "stream",
          "name": "stdout",
          "text": [
            "2\n",
            "2\n",
            "2\n"
          ]
        }
      ]
    },
    {
      "cell_type": "code",
      "source": [],
      "metadata": {
        "colab": {
          "base_uri": "https://localhost:8080/",
          "height": 36
        },
        "id": "OJ_yeg_aAsnh",
        "outputId": "ceabc5a0-7401-4b7b-cb65-41d410fd11bd"
      },
      "execution_count": null,
      "outputs": [
        {
          "output_type": "execute_result",
          "data": {
            "text/plain": [
              "'c'"
            ],
            "application/vnd.google.colaboratory.intrinsic+json": {
              "type": "string"
            }
          },
          "metadata": {},
          "execution_count": 15
        }
      ]
    },
    {
      "cell_type": "code",
      "source": [
        "s = \"aabbbb\"\n",
        "r = 1\n",
        "p = 0\n",
        "for i in range(len(s)-1):\n",
        "  if s[i]==s[i+1]:\n",
        "    r +=1\n",
        "  else:\n",
        "    if r>p:\n",
        "      p = r\n",
        "      q = i\n",
        "      r = 1\n",
        "    else:\n",
        "      r = 1\n",
        "  if i == len(s)-1:\n",
        "    if r>p:\n",
        "      p = r\n",
        "      q = i\n",
        "\n",
        "\n",
        "\n",
        "    "
      ],
      "metadata": {
        "id": "glo0NAkoAyne"
      },
      "execution_count": null,
      "outputs": []
    },
    {
      "cell_type": "code",
      "source": [
        "s[i]"
      ],
      "metadata": {
        "colab": {
          "base_uri": "https://localhost:8080/",
          "height": 36
        },
        "id": "qzhey468B2UH",
        "outputId": "57e75aaf-ee46-4412-fa1f-e86cb2d37a18"
      },
      "execution_count": null,
      "outputs": [
        {
          "output_type": "execute_result",
          "data": {
            "text/plain": [
              "'b'"
            ],
            "application/vnd.google.colaboratory.intrinsic+json": {
              "type": "string"
            }
          },
          "metadata": {},
          "execution_count": 34
        }
      ]
    },
    {
      "cell_type": "code",
      "source": [
        "p"
      ],
      "metadata": {
        "colab": {
          "base_uri": "https://localhost:8080/"
        },
        "id": "Ls9E-INEB3n9",
        "outputId": "cc953017-ba47-41de-82bc-53bc439df5d8"
      },
      "execution_count": null,
      "outputs": [
        {
          "output_type": "execute_result",
          "data": {
            "text/plain": [
              "2"
            ]
          },
          "metadata": {},
          "execution_count": 35
        }
      ]
    },
    {
      "cell_type": "code",
      "source": [
        "max_key"
      ],
      "metadata": {
        "colab": {
          "base_uri": "https://localhost:8080/",
          "height": 36
        },
        "id": "bp27_414G_WY",
        "outputId": "7c692f54-d1da-4555-c3f0-805841fd649d"
      },
      "execution_count": null,
      "outputs": [
        {
          "output_type": "execute_result",
          "data": {
            "text/plain": [
              "'c'"
            ],
            "application/vnd.google.colaboratory.intrinsic+json": {
              "type": "string"
            }
          },
          "metadata": {},
          "execution_count": 20
        }
      ]
    },
    {
      "cell_type": "code",
      "source": [
        "counter = 1\n",
        "r = 0\n",
        "word=\"abccba\"\n",
        "\n",
        "for i in range(len(word) - 1):\n",
        "  print(r)\n",
        "  if i == len(word)-2:\n",
        "    if word[i] == word[i + 1]:\n",
        "      counter +=1\n",
        "      if counter > r:\n",
        "        r = counter\n",
        "        p = i\n",
        "    else:\n",
        "      if counter > r:\n",
        "        r = counter\n",
        "        p = i\n",
        "  else:\n",
        "    if word[i] == word[i + 1]:\n",
        "      counter += 1\n",
        "    else:\n",
        "      if counter>r:\n",
        "        r = counter\n",
        "        p = i\n",
        "        counter = 1\n",
        "      else:\n",
        "        counter = 1"
      ],
      "metadata": {
        "colab": {
          "base_uri": "https://localhost:8080/"
        },
        "id": "tyci_zgvHCfD",
        "outputId": "bbc3328e-f8b9-4cde-9ec2-7ad5a785fd38"
      },
      "execution_count": null,
      "outputs": [
        {
          "output_type": "stream",
          "name": "stdout",
          "text": [
            "0\n",
            "1\n",
            "1\n",
            "1\n",
            "2\n"
          ]
        }
      ]
    },
    {
      "cell_type": "code",
      "source": [
        "word[p]"
      ],
      "metadata": {
        "colab": {
          "base_uri": "https://localhost:8080/",
          "height": 36
        },
        "id": "0EC1VITtOnUI",
        "outputId": "c3a3436e-be5a-4826-8911-f513294ea125"
      },
      "execution_count": null,
      "outputs": [
        {
          "output_type": "execute_result",
          "data": {
            "text/plain": [
              "'c'"
            ],
            "application/vnd.google.colaboratory.intrinsic+json": {
              "type": "string"
            }
          },
          "metadata": {},
          "execution_count": 51
        }
      ]
    },
    {
      "cell_type": "code",
      "source": [
        "r"
      ],
      "metadata": {
        "colab": {
          "base_uri": "https://localhost:8080/"
        },
        "id": "KrBoiz5COqyQ",
        "outputId": "25b4e664-0fc7-4319-97c8-181c60a58b8a"
      },
      "execution_count": null,
      "outputs": [
        {
          "output_type": "execute_result",
          "data": {
            "text/plain": [
              "2"
            ]
          },
          "metadata": {},
          "execution_count": 52
        }
      ]
    },
    {
      "cell_type": "code",
      "source": [
        "p = []\n",
        "q= 3\n",
        "r = 1\n",
        "for i in range(0,q):\n",
        "  for k in range(0,i+1):\n",
        "    s = k\n",
        "    r = i-k\n",
        "    print(s,r)\n",
        "for k in range(n):\n",
        "  row = 0\n",
        "  col = k\n",
        "        while (col >= 0):\n",
        "            print(matrix[row][col],end = \" \")\n",
        "            row += 1\n",
        "            col -= 1\n",
        "    for j in range(1,n):\n",
        "        col = n - 1\n",
        "        row = j\n",
        "        while (row < n):\n",
        "            print(matrix[row][col],end = \" \")\n",
        "            row += 1\n",
        "            col -= 1\n",
        " "
      ],
      "metadata": {
        "id": "oG23ThmwOsJQ",
        "colab": {
          "base_uri": "https://localhost:8080/"
        },
        "outputId": "ffa8582e-ed6e-489f-826e-76015400ebf9"
      },
      "execution_count": null,
      "outputs": [
        {
          "output_type": "stream",
          "name": "stdout",
          "text": [
            "0 0\n",
            "0 1\n",
            "1 0\n",
            "0 2\n",
            "1 1\n",
            "2 0\n"
          ]
        }
      ]
    },
    {
      "cell_type": "code",
      "source": [
        "countAndSay(1)"
      ],
      "metadata": {
        "colab": {
          "base_uri": "https://localhost:8080/",
          "height": 54
        },
        "id": "dHdZKggPe1Ob",
        "outputId": "37b4ce17-90a9-4737-bd68-c6c6a14f9aaa"
      },
      "execution_count": null,
      "outputs": [
        {
          "output_type": "stream",
          "name": "stdout",
          "text": [
            "1\n"
          ]
        },
        {
          "output_type": "execute_result",
          "data": {
            "text/plain": [
              "'1'"
            ],
            "application/vnd.google.colaboratory.intrinsic+json": {
              "type": "string"
            }
          },
          "metadata": {},
          "execution_count": 35
        }
      ]
    },
    {
      "cell_type": "code",
      "source": [
        "s"
      ],
      "metadata": {
        "colab": {
          "base_uri": "https://localhost:8080/",
          "height": 36
        },
        "id": "vMPhWwuifDjS",
        "outputId": "d0b13c1c-c808-4ce3-bba1-74616943f3ca"
      },
      "execution_count": null,
      "outputs": [
        {
          "output_type": "execute_result",
          "data": {
            "text/plain": [
              "'111221'"
            ],
            "application/vnd.google.colaboratory.intrinsic+json": {
              "type": "string"
            }
          },
          "metadata": {},
          "execution_count": 32
        }
      ]
    },
    {
      "cell_type": "code",
      "source": [
        "n= 4\n",
        "def countAndSay(n):\n",
        "  q = 1\n",
        "  s = \"1\"\n",
        "  while(q<n):\n",
        "    s = prior1(s,len(s))\n",
        "    q= q+1\n",
        "  return s\n",
        "\n"
      ],
      "metadata": {
        "id": "1Q04unqGzV_B"
      },
      "execution_count": null,
      "outputs": []
    },
    {
      "cell_type": "code",
      "source": [
        "\n",
        "def prior1(p,n):\n",
        "  r = 1\n",
        "  s = \"\"\n",
        "  for i in range(n-1):\n",
        "    if i == len(p)-2:\n",
        "      if p[i]==p[i+1]:\n",
        "        r+=1\n",
        "        s = s + str(r) + p[i]\n",
        "      else:\n",
        "        s = s + str(r) + p[i]\n",
        "        s = s + \"1\" + p[i+1]\n",
        "    elif p[i]==p[i+1]:\n",
        "      r+=1\n",
        "    else:\n",
        "      s = s + str(r) + p[i]\n",
        "      r = 1\n",
        "  if len(p)==1:\n",
        "    return \"11\"\n",
        "  else:\n",
        "    return s\n",
        "    \n"
      ],
      "metadata": {
        "id": "yD2t9DDaYV_T"
      },
      "execution_count": null,
      "outputs": []
    },
    {
      "cell_type": "code",
      "source": [
        "prior1(p)"
      ],
      "metadata": {
        "colab": {
          "base_uri": "https://localhost:8080/",
          "height": 36
        },
        "id": "Iz8LVI7BZR75",
        "outputId": "7a07d17c-e3c4-4477-f0fc-22d91d68379e"
      },
      "execution_count": null,
      "outputs": [
        {
          "output_type": "execute_result",
          "data": {
            "text/plain": [
              "'11'"
            ],
            "application/vnd.google.colaboratory.intrinsic+json": {
              "type": "string"
            }
          },
          "metadata": {},
          "execution_count": 16
        }
      ]
    },
    {
      "cell_type": "code",
      "source": [
        "n=10\n",
        "r = 0\n",
        "p = True\n",
        "for i in range(2,n):\n",
        "  for j in range(2,i//2 + 1):\n",
        "    if i%j==0:\n",
        "      p=False\n",
        "      break\n",
        "      \n",
        "  if p:\n",
        "    r = r+1\n",
        "  else:\n",
        "    p=True"
      ],
      "metadata": {
        "id": "BsHG63axZSjf"
      },
      "execution_count": null,
      "outputs": []
    },
    {
      "cell_type": "code",
      "source": [
        "r"
      ],
      "metadata": {
        "colab": {
          "base_uri": "https://localhost:8080/"
        },
        "id": "P5uPo3qZW85O",
        "outputId": "5a334f07-7e68-4a95-e55c-49b37ccda178"
      },
      "execution_count": null,
      "outputs": [
        {
          "output_type": "execute_result",
          "data": {
            "text/plain": [
              "4"
            ]
          },
          "metadata": {},
          "execution_count": 18
        }
      ]
    },
    {
      "cell_type": "code",
      "source": [
        "words = [\"the\",\"day\",\"is\",\"sunny\",\"the\",\"the\",\"is\",\"is\"]"
      ],
      "metadata": {
        "id": "2siU6lV_XGx2"
      },
      "execution_count": null,
      "outputs": []
    },
    {
      "cell_type": "code",
      "source": [
        "p = {}\n",
        "for i in range(len(words)):\n",
        "  if words[i] in p.keys():\n",
        "    p[words[i]]+=1\n",
        "  else:\n",
        "    p[words[i]]=1"
      ],
      "metadata": {
        "id": "0xMWf4mJELLw"
      },
      "execution_count": null,
      "outputs": []
    },
    {
      "cell_type": "code",
      "source": [
        "p\n"
      ],
      "metadata": {
        "colab": {
          "base_uri": "https://localhost:8080/"
        },
        "id": "iN4An47uEMuN",
        "outputId": "f01811a0-3688-410f-895c-90555cdbd261"
      },
      "execution_count": null,
      "outputs": [
        {
          "output_type": "execute_result",
          "data": {
            "text/plain": [
              "{'the': 3, 'day': 1, 'is': 3, 'sunny': 1}"
            ]
          },
          "metadata": {},
          "execution_count": 15
        }
      ]
    },
    {
      "cell_type": "code",
      "source": [
        "res = sorted(p, key=lambda x: (-p[x], x))"
      ],
      "metadata": {
        "id": "86FWyP6jFAEs"
      },
      "execution_count": null,
      "outputs": []
    },
    {
      "cell_type": "code",
      "source": [
        "t = int(input())\n",
        "n,m = list(map(int, input().split()))\n",
        "r = []\n",
        "for _ in range(m):\n",
        "  r.append(list(map(int, input().split())))\n"
      ],
      "metadata": {
        "colab": {
          "base_uri": "https://localhost:8080/"
        },
        "id": "7JcUIxB9Geck",
        "outputId": "0c48bbb4-3772-4b20-a46a-f11b81d6471c"
      },
      "execution_count": null,
      "outputs": [
        {
          "name": "stdout",
          "output_type": "stream",
          "text": [
            "2\n",
            "2 2\n",
            "2 5\n",
            "4 5\n"
          ]
        }
      ]
    },
    {
      "cell_type": "code",
      "source": [
        "r"
      ],
      "metadata": {
        "id": "tI_5btucGpeN",
        "colab": {
          "base_uri": "https://localhost:8080/"
        },
        "outputId": "dc8ccf4d-042e-4be0-f5e4-1fb4c220516a"
      },
      "execution_count": null,
      "outputs": [
        {
          "output_type": "execute_result",
          "data": {
            "text/plain": [
              "[[2, 5], [4, 5]]"
            ]
          },
          "metadata": {},
          "execution_count": 3
        }
      ]
    },
    {
      "cell_type": "code",
      "source": [
        "def dominantPairs(n, arr):\n",
        "  start_time = time.time()\n",
        "  k = 5\n",
        "  p = 0\n",
        "  prt = sorted(arr[:n//2])\n",
        "  prt2 = sorted(arr[n//2:])\n",
        "  for i in range(0,n//2):\n",
        "    if prt[i]>=5*prt2[0] and prt[i]>=5*prt2[n//2-1]:\n",
        "      p = (n//2-i)*n//2 + p\n",
        "      break\n",
        "    else:\n",
        "      for j in range(0,n//2):\n",
        "        if prt[i]>=5*prt2[j]:\n",
        "          p = p+1\n",
        "  return p"
      ],
      "metadata": {
        "id": "HR35sbau3Noc"
      },
      "execution_count": null,
      "outputs": []
    },
    {
      "cell_type": "code",
      "source": [
        "a = [10,8,2,1,1,2]\n",
        "\n",
        "\n",
        "import time\n",
        "\n",
        "\n",
        "dominantPairs(len(a),a)"
      ],
      "metadata": {
        "colab": {
          "base_uri": "https://localhost:8080/"
        },
        "id": "AIuLa9epKgRy",
        "outputId": "8415c98d-6999-4d7a-b6e1-f08302685ed2"
      },
      "execution_count": null,
      "outputs": [
        {
          "output_type": "stream",
          "name": "stdout",
          "text": [
            "[2, 8, 10]\n",
            "2\n",
            "2\n",
            "2\n",
            "8\n",
            "8\n",
            "8\n",
            "0.005043506622314453 s\n"
          ]
        },
        {
          "output_type": "execute_result",
          "data": {
            "text/plain": [
              "5"
            ]
          },
          "metadata": {},
          "execution_count": 32
        }
      ]
    },
    {
      "cell_type": "code",
      "source": [
        "n = len(a)\n",
        "prt = a[:n//2]\n",
        "prt2 = a[n//2:]\n",
        "sorted(prt)"
      ],
      "metadata": {
        "colab": {
          "base_uri": "https://localhost:8080/"
        },
        "id": "9p17nsaoKqtV",
        "outputId": "c958c044-bc38-4b97-d66c-5211c7415018"
      },
      "execution_count": null,
      "outputs": [
        {
          "output_type": "execute_result",
          "data": {
            "text/plain": [
              "[2, 8, 10]"
            ]
          },
          "metadata": {},
          "execution_count": 11
        }
      ]
    },
    {
      "cell_type": "code",
      "source": [
        "sorted(prt2)"
      ],
      "metadata": {
        "colab": {
          "base_uri": "https://localhost:8080/"
        },
        "id": "C5YjSfNKL4z-",
        "outputId": "d4460da6-41a9-4805-9652-afcaf491df83"
      },
      "execution_count": null,
      "outputs": [
        {
          "output_type": "execute_result",
          "data": {
            "text/plain": [
              "[1, 1, 2]"
            ]
          },
          "metadata": {},
          "execution_count": 12
        }
      ]
    },
    {
      "cell_type": "code",
      "source": [],
      "metadata": {
        "id": "hmmhX7XdO-TC"
      },
      "execution_count": null,
      "outputs": []
    },
    {
      "cell_type": "code",
      "source": [
        "def fort2(arr1):\n",
        "  p = {}\n",
        "  q = True\n",
        "  for i in range(0,len(arr1)):\n",
        "    if arr1[i] in p.keys():\n",
        "      q = False\n",
        "      break\n",
        "    else:\n",
        "      p[arr1[i]]=1\n",
        "  return q\n",
        "\n",
        "\n",
        "\n",
        "def fort(arr1,arr2):\n",
        "  p = {}\n",
        "  q = True\n",
        "  for i in range(0,len(arr1)):\n",
        "    if arr1[i] in p.keys():\n",
        "      q = False\n",
        "      break\n",
        "    else:\n",
        "      p[arr1[i]]=1\n",
        "  if q:\n",
        "    for j in range(0,len(arr2)):\n",
        "      if arr2[j] in p.keys() and q:\n",
        "        q = False\n",
        "        break\n",
        "      else:\n",
        "        p[arr2[j]]=1\n",
        "  return q\n",
        "\n"
      ],
      "metadata": {
        "id": "Gz6RekjoMxOr"
      },
      "execution_count": null,
      "outputs": []
    },
    {
      "cell_type": "code",
      "source": [
        "arr = [\"un\",\"iq\",\"ue\"]\n",
        "\n",
        "p = []\n",
        "for i in range(len(arr)):\n",
        "  if fort2(arr[i]):\n",
        "    p.append(arr[i])"
      ],
      "metadata": {
        "id": "l93v3z76L5iU"
      },
      "execution_count": null,
      "outputs": []
    },
    {
      "cell_type": "code",
      "source": [
        "fort(arr[0],arr[1])"
      ],
      "metadata": {
        "colab": {
          "base_uri": "https://localhost:8080/"
        },
        "id": "rEvcguUHN8oj",
        "outputId": "b763ab85-45bb-4281-9292-6d113e749f5c"
      },
      "execution_count": null,
      "outputs": [
        {
          "output_type": "execute_result",
          "data": {
            "text/plain": [
              "True"
            ]
          },
          "metadata": {},
          "execution_count": 23
        }
      ]
    },
    {
      "cell_type": "code",
      "source": [
        "fort2(\"asu\")"
      ],
      "metadata": {
        "colab": {
          "base_uri": "https://localhost:8080/"
        },
        "id": "J6YYN8KsOGf8",
        "outputId": "8eb1d9d6-75d0-4eb2-8a8d-710c503f31ab"
      },
      "execution_count": null,
      "outputs": [
        {
          "output_type": "execute_result",
          "data": {
            "text/plain": [
              "True"
            ]
          },
          "metadata": {},
          "execution_count": 25
        }
      ]
    },
    {
      "cell_type": "code",
      "source": [
        "p"
      ],
      "metadata": {
        "colab": {
          "base_uri": "https://localhost:8080/"
        },
        "id": "jla7Tci-PtdO",
        "outputId": "06cba1dc-9a57-4e26-8e18-e702933c09b2"
      },
      "execution_count": null,
      "outputs": [
        {
          "output_type": "execute_result",
          "data": {
            "text/plain": [
              "['un', 'iq', 'ue']"
            ]
          },
          "metadata": {},
          "execution_count": 27
        }
      ]
    },
    {
      "cell_type": "code",
      "source": [],
      "metadata": {
        "id": "IhMkugjRQDKR"
      },
      "execution_count": null,
      "outputs": []
    }
  ]
}