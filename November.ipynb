{
  "nbformat": 4,
  "nbformat_minor": 0,
  "metadata": {
    "colab": {
      "provenance": [],
      "authorship_tag": "ABX9TyPdGUONQEDm4dVJzxly+5aF",
      "include_colab_link": true
    },
    "kernelspec": {
      "name": "python3",
      "display_name": "Python 3"
    },
    "language_info": {
      "name": "python"
    }
  },
  "cells": [
    {
      "cell_type": "markdown",
      "metadata": {
        "id": "view-in-github",
        "colab_type": "text"
      },
      "source": [
        "<a href=\"https://colab.research.google.com/github/praveensaharan/rust-calculetor/blob/main/November.ipynb\" target=\"_parent\"><img src=\"https://colab.research.google.com/assets/colab-badge.svg\" alt=\"Open In Colab\"/></a>"
      ]
    },
    {
      "cell_type": "markdown",
      "source": [
        "\n",
        "\n",
        "```\n",
        "# This is formatted as code\n",
        "```Please do the below assignment and submit the GitHub link containing the code and a 1-2 minute Loom video link of you talking about you and the assignment. Talk about your thought process while doing the assignment, how you went about it, why did you do the coding in a certain way and what can be improved. The expected time to code is 4-6 hours. Assignment: Implement a REST API in Python/Flask which will take a given PDF file, angle of rotation, page number. The API should rotate the specified page in the given angle and replace that page back into the PDF. The PDF file can be an image PDF or true PDF (meaning it can be any type of PDF). You can use either a GET or POST, up to you to decide - you can briefly talk about the reasoning. The number of pages in the PDF will remain the same after this process. API inputs: file_path : angle_of_rotation: Multiple of 90 degrees (90/180/270) page_number: 1 to n (n is the number of pages in the pdf file) API Output: PDF file path with rotated pages. Only the specified page mentioned in the input should be rotated, the rest of the pages stays the same. Sample inputs you will have to use and submit the output: file_path: /tmp/test.pdf angle_of_rotation: 90 page_number: 3 Things to submit: 1. GitHub link containing the code 2. 1-2 minute Loom video link of you talking about you and the assignment 3. Converted PDF link (upload to any cloud drive and provide the link)\n",
        "\n"
      ],
      "metadata": {
        "id": "hn0rKICtF4ml"
      }
    },
    {
      "cell_type": "code",
      "execution_count": null,
      "metadata": {
        "id": "g9Ysi1ZUzru3"
      },
      "outputs": [],
      "source": [
        "def super1(n):\n",
        "  q = True\n",
        "  p = str(n)\n",
        "  for i in range(len(p)-1):\n",
        "    if abs(int(p[i])-int(p[i+1]))!=1:\n",
        "      q = False\n",
        "      break\n",
        "  return q"
      ]
    },
    {
      "cell_type": "code",
      "source": [
        "super1(2101534)"
      ],
      "metadata": {
        "colab": {
          "base_uri": "https://localhost:8080/"
        },
        "id": "5E7dp9e-0OuM",
        "outputId": "8e16f018-8fb2-4565-f3f2-95128204461c"
      },
      "execution_count": null,
      "outputs": [
        {
          "output_type": "execute_result",
          "data": {
            "text/plain": [
              "False"
            ]
          },
          "metadata": {},
          "execution_count": 7
        }
      ]
    },
    {
      "cell_type": "code",
      "source": [
        "X = 20"
      ],
      "metadata": {
        "id": "9xbJl0pS1QQ_"
      },
      "execution_count": null,
      "outputs": []
    },
    {
      "cell_type": "code",
      "source": [
        "if X<=10:\n",
        "  print(X)\n",
        "else:\n",
        "  r = 0\n",
        "  for i in range(X,10,-1):\n",
        "    if super1(i):\n",
        "      r = i\n",
        "      break\n",
        "  print(r)"
      ],
      "metadata": {
        "colab": {
          "base_uri": "https://localhost:8080/"
        },
        "id": "EdZdftmQ0Tep",
        "outputId": "0fd19ace-c389-4b15-c21a-3ab2a5d7964d"
      },
      "execution_count": null,
      "outputs": [
        {
          "output_type": "stream",
          "name": "stdout",
          "text": [
            "12\n"
          ]
        }
      ]
    },
    {
      "cell_type": "code",
      "source": [
        "xfor i in range(X,10,-1):\n",
        "  print(i)"
      ],
      "metadata": {
        "colab": {
          "base_uri": "https://localhost:8080/"
        },
        "id": "1dlCUjAx1SJC",
        "outputId": "e0ab11eb-cb1c-468c-dc25-9baeb9ec5ddc"
      },
      "execution_count": null,
      "outputs": [
        {
          "output_type": "stream",
          "name": "stdout",
          "text": [
            "20\n",
            "19\n",
            "18\n",
            "17\n",
            "16\n",
            "15\n",
            "14\n",
            "13\n",
            "12\n",
            "11\n"
          ]
        }
      ]
    },
    {
      "cell_type": "code",
      "source": [
        "s = \"abbaca\"\n",
        "p = []\n",
        "i = 0\n",
        "n = len(s)\n",
        "while(n>i):\n",
        "  if not p:\n",
        "    p.append(s[i])\n",
        "    i = i+1\n",
        "  else:\n",
        "    if p[-1]==s[i]:\n",
        "      p.pop()\n",
        "      i = i+1\n",
        "    else:\n",
        "      p.append(s[i])\n",
        "      i = i+1"
      ],
      "metadata": {
        "id": "fDtX__iq1VJh"
      },
      "execution_count": null,
      "outputs": []
    },
    {
      "cell_type": "code",
      "source": [
        "\"\".join(p)"
      ],
      "metadata": {
        "colab": {
          "base_uri": "https://localhost:8080/",
          "height": 36
        },
        "id": "SlFFVAX0zj-9",
        "outputId": "2bdc7414-4a97-48b6-97d2-234dbfa85203"
      },
      "execution_count": null,
      "outputs": [
        {
          "output_type": "execute_result",
          "data": {
            "text/plain": [
              "'ca'"
            ],
            "application/vnd.google.colaboratory.intrinsic+json": {
              "type": "string"
            }
          },
          "metadata": {},
          "execution_count": 5
        }
      ]
    },
    {
      "cell_type": "code",
      "source": [
        "#p = ['a','b','c','a','k']\n",
        "n = 6\n",
        "p = ['d', 'b', 'c', 'b', 'c', 'a']\n",
        "# for i in range(n):\n",
        "#   p.append(input())\n",
        "k = 2\n",
        "q = {}\n",
        "for i in range(len(p)):\n",
        "  \n",
        "# for i in range(len(p)):\n",
        "#   if p[i] in p[i+1:]:\n",
        "#     continue\n",
        "#   else:\n",
        "#     q.append(p[i])\n",
        "# if len(q)-1>k:\n",
        "#   print(q[k-1])"
      ],
      "metadata": {
        "id": "O8kF4CvDzlUQ"
      },
      "execution_count": null,
      "outputs": []
    },
    {
      "cell_type": "code",
      "source": [
        "q"
      ],
      "metadata": {
        "colab": {
          "base_uri": "https://localhost:8080/"
        },
        "id": "eNtvi8O61guk",
        "outputId": "d31100ea-c248-4c84-a45e-f16583739281"
      },
      "execution_count": null,
      "outputs": [
        {
          "output_type": "execute_result",
          "data": {
            "text/plain": [
              "['d', 'b', 'c', 'a']"
            ]
          },
          "metadata": {},
          "execution_count": 14
        }
      ]
    },
    {
      "cell_type": "code",
      "source": [
        "q"
      ],
      "metadata": {
        "colab": {
          "base_uri": "https://localhost:8080/"
        },
        "id": "rjAIKlRD2nA5",
        "outputId": "e8dd76f6-9843-4977-b19f-3c64d5120189"
      },
      "execution_count": null,
      "outputs": [
        {
          "output_type": "execute_result",
          "data": {
            "text/plain": [
              "['d', 'b', 'c', 'a']"
            ]
          },
          "metadata": {},
          "execution_count": 12
        }
      ]
    },
    {
      "cell_type": "code",
      "source": [
        "from more_itertools import unique_everseen\n",
        "items = [1, 2, 0, 1, 3, 2]\n",
        "p = list(unique_everseen(items))"
      ],
      "metadata": {
        "id": "MBHOsaTE3IQq"
      },
      "execution_count": null,
      "outputs": []
    },
    {
      "cell_type": "code",
      "source": [
        "# for i in range(len(p)):\n",
        "#   if \n",
        "#   if p[i] in items:\n",
        "#     p.remove(p[i])\n",
        "print(p)\n",
        "n = len(p)\n",
        "while(n>i):\n",
        "  if p[i] in items:\n",
        "    p.remove(p[i])\n",
        "  else:\n",
        "    i = i+1"
      ],
      "metadata": {
        "colab": {
          "base_uri": "https://localhost:8080/",
          "height": 259
        },
        "id": "fgF8PrPq4UFt",
        "outputId": "acd57299-54d0-4a29-d3c8-278b28efc6d4"
      },
      "execution_count": null,
      "outputs": [
        {
          "output_type": "stream",
          "name": "stdout",
          "text": [
            "[1, 2, 0, 3]\n"
          ]
        },
        {
          "output_type": "error",
          "ename": "IndexError",
          "evalue": "ignored",
          "traceback": [
            "\u001b[0;31m---------------------------------------------------------------------------\u001b[0m",
            "\u001b[0;31mIndexError\u001b[0m                                Traceback (most recent call last)",
            "\u001b[0;32m<ipython-input-27-043ef776b18c>\u001b[0m in \u001b[0;36m<module>\u001b[0;34m\u001b[0m\n\u001b[1;32m      6\u001b[0m \u001b[0mn\u001b[0m \u001b[0;34m=\u001b[0m \u001b[0mlen\u001b[0m\u001b[0;34m(\u001b[0m\u001b[0mp\u001b[0m\u001b[0;34m)\u001b[0m\u001b[0;34m\u001b[0m\u001b[0;34m\u001b[0m\u001b[0m\n\u001b[1;32m      7\u001b[0m \u001b[0;32mwhile\u001b[0m\u001b[0;34m(\u001b[0m\u001b[0mn\u001b[0m\u001b[0;34m>\u001b[0m\u001b[0mi\u001b[0m\u001b[0;34m)\u001b[0m\u001b[0;34m:\u001b[0m\u001b[0;34m\u001b[0m\u001b[0;34m\u001b[0m\u001b[0m\n\u001b[0;32m----> 8\u001b[0;31m   \u001b[0;32mif\u001b[0m \u001b[0mp\u001b[0m\u001b[0;34m[\u001b[0m\u001b[0mi\u001b[0m\u001b[0;34m]\u001b[0m \u001b[0;32min\u001b[0m \u001b[0mitems\u001b[0m\u001b[0;34m:\u001b[0m\u001b[0;34m\u001b[0m\u001b[0;34m\u001b[0m\u001b[0m\n\u001b[0m\u001b[1;32m      9\u001b[0m     \u001b[0mp\u001b[0m\u001b[0;34m.\u001b[0m\u001b[0mremove\u001b[0m\u001b[0;34m(\u001b[0m\u001b[0mp\u001b[0m\u001b[0;34m[\u001b[0m\u001b[0mi\u001b[0m\u001b[0;34m]\u001b[0m\u001b[0;34m)\u001b[0m\u001b[0;34m\u001b[0m\u001b[0;34m\u001b[0m\u001b[0m\n\u001b[1;32m     10\u001b[0m   \u001b[0;32melse\u001b[0m\u001b[0;34m:\u001b[0m\u001b[0;34m\u001b[0m\u001b[0;34m\u001b[0m\u001b[0m\n",
            "\u001b[0;31mIndexError\u001b[0m: list index out of range"
          ]
        }
      ]
    },
    {
      "cell_type": "code",
      "source": [
        "from collections import Counter\n",
        "p = ['d', 'b', 'c', 'b', 'c', 'a']\n",
        "c = Counter(p)\n",
        "p=[s for s in p if c[s]==1]\n",
        "return k<=len(arr) and arr[k-1] or ''  "
      ],
      "metadata": {
        "id": "AhgZMKrI4mPM"
      },
      "execution_count": null,
      "outputs": []
    },
    {
      "cell_type": "code",
      "source": [
        "c"
      ],
      "metadata": {
        "colab": {
          "base_uri": "https://localhost:8080/"
        },
        "id": "Svs6L_ja5GMJ",
        "outputId": "15a14a3a-5b25-4aeb-9d17-3e7741cf82b2"
      },
      "execution_count": null,
      "outputs": [
        {
          "output_type": "execute_result",
          "data": {
            "text/plain": [
              "Counter({'d': 1, 'b': 2, 'c': 2, 'a': 1})"
            ]
          },
          "metadata": {},
          "execution_count": 29
        }
      ]
    },
    {
      "cell_type": "code",
      "source": [
        "\n"
      ],
      "metadata": {
        "id": "FliL4eId9xzf"
      },
      "execution_count": null,
      "outputs": []
    },
    {
      "cell_type": "code",
      "source": [
        "def prime(num):\n",
        "  p = True\n",
        "  if num > 1:\n",
        "    for i in range(2,num//2+1):\n",
        "      if (num % i) == 0:\n",
        "        p = False\n",
        "        break\n",
        "  else:\n",
        "    p = False\n",
        "  return p"
      ],
      "metadata": {
        "id": "-bBUBQGm69HK"
      },
      "execution_count": null,
      "outputs": []
    },
    {
      "cell_type": "code",
      "source": [
        "q = False\n",
        "for i in range(1,23):\n",
        "  if prime(i) and prime(23-i):\n",
        "    q = True\n",
        "    break\n",
        "print(q)"
      ],
      "metadata": {
        "colab": {
          "base_uri": "https://localhost:8080/"
        },
        "id": "TnikZBXW-Nng",
        "outputId": "5ba5fd67-b9c6-4533-f901-5b64bb1ebc38"
      },
      "execution_count": null,
      "outputs": [
        {
          "output_type": "stream",
          "name": "stdout",
          "text": [
            "False\n"
          ]
        }
      ]
    },
    {
      "cell_type": "code",
      "source": [
        "nums = [10,2,2,0,4,0]\n",
        "r = []\n",
        "for i in range(0,len(nums)//2):\n",
        "  p1 = min(nums)\n",
        "  p2 = max(nums)\n",
        "  nums.remove(min(nums))\n",
        "  nums.remove(max(nums))\n",
        "  r.append((p1+p2)/2)\n",
        "print(len(set(r)))"
      ],
      "metadata": {
        "id": "YBE0p9FY-UMc",
        "colab": {
          "base_uri": "https://localhost:8080/"
        },
        "outputId": "7139bb6b-d5d3-40b4-81d2-11764af4b7e1"
      },
      "execution_count": null,
      "outputs": [
        {
          "output_type": "stream",
          "name": "stdout",
          "text": [
            "2\n"
          ]
        }
      ]
    },
    {
      "cell_type": "code",
      "source": [
        "sorted(nums)"
      ],
      "metadata": {
        "colab": {
          "base_uri": "https://localhost:8080/"
        },
        "id": "2qhslgWuT6UV",
        "outputId": "d8aad288-3a72-411a-c3ff-a118ba719178"
      },
      "execution_count": null,
      "outputs": [
        {
          "output_type": "execute_result",
          "data": {
            "text/plain": [
              "[0, 0, 2, 2, 4, 10]"
            ]
          },
          "metadata": {},
          "execution_count": 25
        }
      ]
    },
    {
      "cell_type": "code",
      "source": [
        "r = []\n",
        "for i in range(0,len(nums)//2):\n",
        "  p1 = nums[i]\n",
        "  p2 = nums[-1-i]\n",
        "  r1 = (p1+p2)/2\n",
        "  r.append(r1)\n",
        "print(len(set(r)))\n"
      ],
      "metadata": {
        "colab": {
          "base_uri": "https://localhost:8080/"
        },
        "id": "OCdScvgKUP-v",
        "outputId": "dba3684d-af8f-462c-878f-2cbbbbb79299"
      },
      "execution_count": null,
      "outputs": [
        {
          "output_type": "stream",
          "name": "stdout",
          "text": [
            "3\n"
          ]
        }
      ]
    },
    {
      "cell_type": "code",
      "source": [
        "r"
      ],
      "metadata": {
        "colab": {
          "base_uri": "https://localhost:8080/"
        },
        "id": "-aBbzYHPWnLO",
        "outputId": "e616086c-d61a-4078-9aef-8eb11e7832d3"
      },
      "execution_count": null,
      "outputs": [
        {
          "output_type": "execute_result",
          "data": {
            "text/plain": [
              "[5.0, 3.0, 1.0]"
            ]
          },
          "metadata": {},
          "execution_count": 29
        }
      ]
    },
    {
      "cell_type": "code",
      "source": [
        "n = len(res)\n",
        "for i in range(n):\n",
        "  "
      ],
      "metadata": {
        "id": "VmGtD5s6URnz"
      },
      "execution_count": null,
      "outputs": []
    },
    {
      "cell_type": "code",
      "source": [
        "n=9\n",
        "#inter=[[1,3],[4,6],[3,4]]\n",
        "inter = [[9, 12],[7, 18],[7, 16],[15, 26],[13, 20],[12, 26],[7, 11],[17, 29],[16, 19]]\n",
        "k=2"
      ],
      "metadata": {
        "id": "hlWYli2zMkU6"
      },
      "execution_count": null,
      "outputs": []
    },
    {
      "cell_type": "code",
      "source": [
        "len(inter)"
      ],
      "metadata": {
        "colab": {
          "base_uri": "https://localhost:8080/"
        },
        "id": "gxXo5tEHMroV",
        "outputId": "95d12703-afdb-4dd4-f39d-21adf87e6498"
      },
      "execution_count": null,
      "outputs": [
        {
          "output_type": "execute_result",
          "data": {
            "text/plain": [
              "9"
            ]
          },
          "metadata": {},
          "execution_count": 16
        }
      ]
    },
    {
      "cell_type": "code",
      "source": [],
      "metadata": {
        "id": "VCRYn53eMuTT"
      },
      "execution_count": null,
      "outputs": []
    },
    {
      "cell_type": "code",
      "source": [
        "p"
      ],
      "metadata": {
        "colab": {
          "base_uri": "https://localhost:8080/"
        },
        "id": "FAdzDVbaO9wh",
        "outputId": "1057a019-bd31-41a3-9540-d6c3d875bc5b"
      },
      "execution_count": null,
      "outputs": [
        {
          "output_type": "execute_result",
          "data": {
            "text/plain": [
              "{1: 1, 2: 1, 3: 2, 4: 2, 5: 1, 6: 1}"
            ]
          },
          "metadata": {},
          "execution_count": 10
        }
      ]
    },
    {
      "cell_type": "code",
      "source": [
        "n=9\n",
        "inter = [[9, 12],[7, 18],[7, 16],[15, 26],[13, 20],[12, 26],[7, 11],[17, 29],[16, 19]]\n",
        "k=2\n",
        "p = {}\n",
        "for i in range(n):\n",
        "  for j in range(inter[i][0],inter[i][1]+1):\n",
        "    if j in p:\n",
        "      p[j] = p[j]+1\n",
        "    else:\n",
        "      p[j]=1\n",
        "r = -1\n",
        "for name, age in p.items():\n",
        "  if age == k:\n",
        "    r = max(r,int(name))\n",
        "print(r)\n",
        "    "
      ],
      "metadata": {
        "colab": {
          "base_uri": "https://localhost:8080/"
        },
        "id": "N528GWQ6NYdT",
        "outputId": "fac9305e-82a5-489f-81d4-581a605822d9"
      },
      "execution_count": null,
      "outputs": [
        {
          "output_type": "stream",
          "name": "stdout",
          "text": [
            "-1\n"
          ]
        }
      ]
    },
    {
      "cell_type": "code",
      "source": [
        "p"
      ],
      "metadata": {
        "colab": {
          "base_uri": "https://localhost:8080/"
        },
        "id": "QmFYspc6NZQp",
        "outputId": "a535e189-fc40-40a2-ebd5-0fcca0c6769f"
      },
      "execution_count": null,
      "outputs": [
        {
          "output_type": "execute_result",
          "data": {
            "text/plain": [
              "{9: 4,\n",
              " 10: 4,\n",
              " 11: 4,\n",
              " 12: 4,\n",
              " 7: 3,\n",
              " 8: 3,\n",
              " 13: 4,\n",
              " 14: 4,\n",
              " 15: 5,\n",
              " 16: 6,\n",
              " 17: 6,\n",
              " 18: 6,\n",
              " 19: 5,\n",
              " 20: 4,\n",
              " 21: 3,\n",
              " 22: 3,\n",
              " 23: 3,\n",
              " 24: 3,\n",
              " 25: 3,\n",
              " 26: 3,\n",
              " 27: 1,\n",
              " 28: 1,\n",
              " 29: 1}"
            ]
          },
          "metadata": {},
          "execution_count": 18
        }
      ]
    },
    {
      "cell_type": "code",
      "source": [
        "S = \"yqvngsjqriyvkdxochqmbgvvzlaigiyeyttgmfwdnwbyzyocffoinlfmxfxdpvjpodxciwixsjvsjkuqrkyewfsvmpabmlsdopfylpweytyhfszwexaccvxqkztzllcbdjcozyuztujzoivtiyxmvxdhwwgjikllunbtnyuisdjhmhcufzgcwjjtiqeqapdwegptgkezpnibumvbledipndxfhpfzsefbtbhffixssynewqqcuarhfpooevpzzvcvyjcduzxmymtwdjyxl\"\n",
        "\n",
        "from collections import Counter\n",
        "c=Counter(list(S))\n",
        "W = \"yqq\"\n",
        "p = True\n",
        "r = float(\"inf\")\n",
        "for i in range(len(W)):\n",
        "  r = min(r,c[W[i]])\n",
        "print(r)"
      ],
      "metadata": {
        "id": "gAk0py_zO3Ab",
        "colab": {
          "base_uri": "https://localhost:8080/"
        },
        "outputId": "209b147e-34d9-438a-e74e-1d060b141869"
      },
      "execution_count": null,
      "outputs": [
        {
          "output_type": "stream",
          "name": "stdout",
          "text": [
            "9\n"
          ]
        }
      ]
    },
    {
      "cell_type": "code",
      "source": [
        "c"
      ],
      "metadata": {
        "colab": {
          "base_uri": "https://localhost:8080/"
        },
        "id": "zlGWLQYWRpeH",
        "outputId": "808e4dbe-0f6d-4b68-ee2f-8677c86ba79d"
      },
      "execution_count": null,
      "outputs": [
        {
          "output_type": "execute_result",
          "data": {
            "text/plain": [
              "Counter({'y': 17,\n",
              "         'q': 9,\n",
              "         'v': 14,\n",
              "         'n': 8,\n",
              "         'g': 8,\n",
              "         's': 10,\n",
              "         'j': 12,\n",
              "         'r': 3,\n",
              "         'i': 14,\n",
              "         'k': 6,\n",
              "         'd': 13,\n",
              "         'x': 13,\n",
              "         'o': 9,\n",
              "         'c': 12,\n",
              "         'h': 8,\n",
              "         'm': 10,\n",
              "         'b': 9,\n",
              "         'z': 14,\n",
              "         'l': 10,\n",
              "         'a': 5,\n",
              "         'e': 11,\n",
              "         't': 11,\n",
              "         'f': 15,\n",
              "         'w': 12,\n",
              "         'p': 12,\n",
              "         'u': 9})"
            ]
          },
          "metadata": {},
          "execution_count": 4
        }
      ]
    },
    {
      "cell_type": "code",
      "source": [
        "N = 4\n",
        "arr = [8,8,8,8]\n",
        "#arr = [5, 4, 5, 5, 6, 7, 8, 8, 8, 7, 6]"
      ],
      "metadata": {
        "id": "bjgIsShFRq7M"
      },
      "execution_count": null,
      "outputs": []
    },
    {
      "cell_type": "code",
      "source": [
        "\n",
        "if N==1:\n",
        "  print(1)\n",
        "  #return 1\n",
        "else:\n",
        "  p = arr[0]\n",
        "  r = 1\n",
        "  q = 0\n",
        "  for i in range(1,N):\n",
        "    if abs(arr[i]-p)<=1:\n",
        "      r = r+1\n",
        "    else:\n",
        "      r = 1\n",
        "      p = arr[i]\n",
        "    q = max(q,r)\n",
        "  print(q)"
      ],
      "metadata": {
        "colab": {
          "base_uri": "https://localhost:8080/"
        },
        "id": "D-JigYVwhZCy",
        "outputId": "0d6f0c2e-3d8f-4450-d458-39f3fdcdb994"
      },
      "execution_count": null,
      "outputs": [
        {
          "output_type": "stream",
          "name": "stdout",
          "text": [
            "4\n"
          ]
        }
      ]
    },
    {
      "cell_type": "code",
      "source": [
        "q"
      ],
      "metadata": {
        "colab": {
          "base_uri": "https://localhost:8080/"
        },
        "id": "wAmypjAXiUMA",
        "outputId": "6e40ed9f-6d53-4419-f7c5-0493b1984715"
      },
      "execution_count": null,
      "outputs": [
        {
          "output_type": "execute_result",
          "data": {
            "text/plain": [
              "5"
            ]
          },
          "metadata": {},
          "execution_count": 4
        }
      ]
    },
    {
      "cell_type": "code",
      "source": [
        "S = \"geeksforgeeks\""
      ],
      "metadata": {
        "id": "3HDNX6sYih4b"
      },
      "execution_count": null,
      "outputs": []
    },
    {
      "cell_type": "code",
      "source": [
        "from collections import Counter\n",
        "c = Counter(S)"
      ],
      "metadata": {
        "id": "iHGJHv5z2zdy"
      },
      "execution_count": null,
      "outputs": []
    },
    {
      "cell_type": "code",
      "source": [
        "p = max(c.values())\n",
        "q = min(c.values())\n",
        "r = p-q"
      ],
      "metadata": {
        "id": "e-Wa0T2K3Klx"
      },
      "execution_count": null,
      "outputs": []
    },
    {
      "cell_type": "code",
      "source": [
        "c"
      ],
      "metadata": {
        "colab": {
          "base_uri": "https://localhost:8080/"
        },
        "id": "1IldG8Lv7H2p",
        "outputId": "3d707428-8896-4f02-9996-1ee89f0d4868"
      },
      "execution_count": null,
      "outputs": [
        {
          "output_type": "execute_result",
          "data": {
            "text/plain": [
              "Counter({'g': 2, 'e': 4, 'k': 2, 's': 2, 'f': 1, 'o': 1, 'r': 1})"
            ]
          },
          "metadata": {},
          "execution_count": 34
        }
      ]
    },
    {
      "cell_type": "code",
      "source": [
        "for i in range(len(S)-1): \n",
        "  c[S[i]] = c[S[i]]-1\n",
        "  print(c)\n",
        "  if c[S[i]]==0:\n",
        "    del c[S[i]]\n",
        "  print(c)\n",
        "  p = max(c.values())\n",
        "  q = min(c.values())\n",
        "  print(r)\n",
        "  r = r + p-q\n",
        "\n",
        "  "
      ],
      "metadata": {
        "colab": {
          "base_uri": "https://localhost:8080/"
        },
        "id": "tMvAcg493Lsq",
        "outputId": "1b8e4f97-799c-4c12-aafc-be2c9b83cbd6"
      },
      "execution_count": null,
      "outputs": [
        {
          "output_type": "stream",
          "name": "stdout",
          "text": [
            "Counter({'e': 4, 'k': 2, 's': 2, 'g': 1, 'f': 1, 'o': 1, 'r': 1})\n",
            "Counter({'e': 4, 'k': 2, 's': 2, 'g': 1, 'f': 1, 'o': 1, 'r': 1})\n",
            "3\n",
            "Counter({'e': 3, 'k': 2, 's': 2, 'g': 1, 'f': 1, 'o': 1, 'r': 1})\n",
            "Counter({'e': 3, 'k': 2, 's': 2, 'g': 1, 'f': 1, 'o': 1, 'r': 1})\n",
            "6\n",
            "Counter({'e': 2, 'k': 2, 's': 2, 'g': 1, 'f': 1, 'o': 1, 'r': 1})\n",
            "Counter({'e': 2, 'k': 2, 's': 2, 'g': 1, 'f': 1, 'o': 1, 'r': 1})\n",
            "8\n",
            "Counter({'e': 2, 's': 2, 'g': 1, 'k': 1, 'f': 1, 'o': 1, 'r': 1})\n",
            "Counter({'e': 2, 's': 2, 'g': 1, 'k': 1, 'f': 1, 'o': 1, 'r': 1})\n",
            "9\n",
            "Counter({'e': 2, 'g': 1, 'k': 1, 's': 1, 'f': 1, 'o': 1, 'r': 1})\n",
            "Counter({'e': 2, 'g': 1, 'k': 1, 's': 1, 'f': 1, 'o': 1, 'r': 1})\n",
            "10\n",
            "Counter({'e': 2, 'g': 1, 'k': 1, 's': 1, 'o': 1, 'r': 1, 'f': 0})\n",
            "Counter({'e': 2, 'g': 1, 'k': 1, 's': 1, 'o': 1, 'r': 1})\n",
            "11\n",
            "Counter({'e': 2, 'g': 1, 'k': 1, 's': 1, 'r': 1, 'o': 0})\n",
            "Counter({'e': 2, 'g': 1, 'k': 1, 's': 1, 'r': 1})\n",
            "12\n",
            "Counter({'e': 2, 'g': 1, 'k': 1, 's': 1, 'r': 0})\n",
            "Counter({'e': 2, 'g': 1, 'k': 1, 's': 1})\n",
            "13\n",
            "Counter({'e': 2, 'k': 1, 's': 1, 'g': 0})\n",
            "Counter({'e': 2, 'k': 1, 's': 1})\n",
            "14\n",
            "Counter({'e': 1, 'k': 1, 's': 1})\n",
            "Counter({'e': 1, 'k': 1, 's': 1})\n",
            "15\n",
            "Counter({'k': 1, 's': 1, 'e': 0})\n",
            "Counter({'k': 1, 's': 1})\n",
            "15\n",
            "Counter({'s': 1, 'k': 0})\n",
            "Counter({'s': 1})\n",
            "15\n"
          ]
        }
      ]
    },
    {
      "cell_type": "markdown",
      "source": [
        "https://discord.gg/U8vg2nqX93\n"
      ],
      "metadata": {
        "id": "kepkR22tMWER"
      }
    },
    {
      "cell_type": "code",
      "source": [
        "h"
      ],
      "metadata": {
        "colab": {
          "base_uri": "https://localhost:8080/",
          "height": 169
        },
        "id": "ON8Klq1B4xzH",
        "outputId": "0244c4b4-9721-4377-e92b-ff4bf9b09b23"
      },
      "execution_count": null,
      "outputs": [
        {
          "output_type": "error",
          "ename": "NameError",
          "evalue": "ignored",
          "traceback": [
            "\u001b[0;31m---------------------------------------------------------------------------\u001b[0m",
            "\u001b[0;31mNameError\u001b[0m                                 Traceback (most recent call last)",
            "\u001b[0;32m<ipython-input-1-244aa7266b3f>\u001b[0m in \u001b[0;36m<module>\u001b[0;34m\u001b[0m\n\u001b[0;32m----> 1\u001b[0;31m \u001b[0mh\u001b[0m\u001b[0;34m\u001b[0m\u001b[0;34m\u001b[0m\u001b[0m\n\u001b[0m",
            "\u001b[0;31mNameError\u001b[0m: name 'h' is not defined"
          ]
        }
      ]
    },
    {
      "cell_type": "code",
      "source": [
        "ax1 = -2\n",
        "ay1 = -2\n",
        "ax2 = 2\n",
        "ay2 = 2\n",
        "bx1 = -2\n",
        "by1 = -2\n",
        "bx2 = 2\n",
        "by2 = 2"
      ],
      "metadata": {
        "id": "FOjXPIqZ68Z-"
      },
      "execution_count": null,
      "outputs": []
    },
    {
      "cell_type": "code",
      "source": [
        "p = []\n",
        "p.append(max(ax1,ax2))\n",
        "p.append(min(ax1,ax2))\n",
        "p.append(max(ay1,ay2))\n",
        "p.append(min(ay1,ay2))\n",
        "p.append(max(bx1,bx2))\n",
        "p.append(min(bx1,bx2))\n",
        "p.append(max(by1,by2))\n",
        "p.append(min(by1,by2))"
      ],
      "metadata": {
        "id": "HVEjX3stMmbA"
      },
      "execution_count": null,
      "outputs": []
    },
    {
      "cell_type": "code",
      "source": [
        "p"
      ],
      "metadata": {
        "colab": {
          "base_uri": "https://localhost:8080/"
        },
        "id": "5U4oiB_WObM9",
        "outputId": "5cafc43c-896f-4b5d-eb0f-cf29381bad23"
      },
      "execution_count": null,
      "outputs": [
        {
          "output_type": "execute_result",
          "data": {
            "text/plain": [
              "[2, -2, 2, -2, 2, -2, 2, -2]"
            ]
          },
          "metadata": {},
          "execution_count": 33
        }
      ]
    },
    {
      "cell_type": "code",
      "source": [
        "def areamax(a,a1,b,b1):\n",
        "  return abs((a-a1)*(b-b1))"
      ],
      "metadata": {
        "id": "-zK2hLB1MMuS"
      },
      "execution_count": null,
      "outputs": []
    },
    {
      "cell_type": "code",
      "source": [
        "def area(axmax,axmin,aymax,aymin,bxmax,bxmin,bymax,bymin):\n",
        "  dx = min(axmax, bxmax) - max(axmin, bxmin)\n",
        "  dy = min(aymax, bymax) - max(aymin, bymin)\n",
        "  if (dx>=0) and (dy>=0):\n",
        "    return dx*dy\n",
        "  else:\n",
        "    return 0\n"
      ],
      "metadata": {
        "id": "peMCTio6M13b"
      },
      "execution_count": null,
      "outputs": []
    },
    {
      "cell_type": "code",
      "source": [
        "areamax(p[4],p[5],p[6],p[7])"
      ],
      "metadata": {
        "colab": {
          "base_uri": "https://localhost:8080/"
        },
        "id": "YpMXASLrPMIQ",
        "outputId": "84920c57-bd08-469f-ba14-7ddd43bd8e52"
      },
      "execution_count": null,
      "outputs": [
        {
          "output_type": "execute_result",
          "data": {
            "text/plain": [
              "16"
            ]
          },
          "metadata": {},
          "execution_count": 36
        }
      ]
    },
    {
      "cell_type": "code",
      "source": [
        "area(p[0],p[1],p[2],p[3],p[4],p[5],p[6],p[7])"
      ],
      "metadata": {
        "colab": {
          "base_uri": "https://localhost:8080/"
        },
        "id": "rgWgAaLEPP5M",
        "outputId": "e0ef5de4-794a-4cba-dba4-322efb4818a0"
      },
      "execution_count": null,
      "outputs": [
        {
          "output_type": "execute_result",
          "data": {
            "text/plain": [
              "16"
            ]
          },
          "metadata": {},
          "execution_count": 37
        }
      ]
    },
    {
      "cell_type": "code",
      "source": [
        "areamax(p[0],p[1],p[2],p[3])"
      ],
      "metadata": {
        "colab": {
          "base_uri": "https://localhost:8080/"
        },
        "id": "twfw2NOcPKNL",
        "outputId": "016f4f63-f11c-45d3-aa98-09af786ed709"
      },
      "execution_count": null,
      "outputs": [
        {
          "output_type": "execute_result",
          "data": {
            "text/plain": [
              "16"
            ]
          },
          "metadata": {},
          "execution_count": 38
        }
      ]
    },
    {
      "cell_type": "code",
      "source": [
        "r = areamax(p[0],p[1],p[2],p[3]) + areamax(p[4],p[5],p[6],p[7]) - area(p[0],p[1],p[2],p[3],p[4],p[5],p[6],p[7])"
      ],
      "metadata": {
        "id": "yzNXsYjcNXsG"
      },
      "execution_count": null,
      "outputs": []
    },
    {
      "cell_type": "code",
      "source": [
        "x = 121"
      ],
      "metadata": {
        "id": "vBqC386QO_yd"
      },
      "execution_count": null,
      "outputs": []
    },
    {
      "cell_type": "code",
      "source": [
        "p = str(121)\n",
        "q = True\n",
        "for i in range(len(p)):\n",
        "  r = x%10\n",
        "  print(r)\n",
        "  print(int(p[i]))\n",
        "  if r != int(p[i]):\n",
        "    q = False\n",
        "    break\n",
        "  x = x//10"
      ],
      "metadata": {
        "colab": {
          "base_uri": "https://localhost:8080/"
        },
        "id": "-KhcFCqyPAmz",
        "outputId": "39fa3d39-d37f-4d59-ef22-3ee0ab8c3afc"
      },
      "execution_count": null,
      "outputs": [
        {
          "output_type": "stream",
          "name": "stdout",
          "text": [
            "1\n",
            "1\n",
            "2\n",
            "2\n",
            "1\n",
            "1\n"
          ]
        }
      ]
    },
    {
      "cell_type": "code",
      "source": [
        "q"
      ],
      "metadata": {
        "colab": {
          "base_uri": "https://localhost:8080/"
        },
        "id": "F3iA3L5mTSSJ",
        "outputId": "f36527a8-4567-409b-e181-d9decf8aa696"
      },
      "execution_count": null,
      "outputs": [
        {
          "output_type": "execute_result",
          "data": {
            "text/plain": [
              "True"
            ]
          },
          "metadata": {},
          "execution_count": 68
        }
      ]
    },
    {
      "cell_type": "code",
      "source": [
        "s =\"   fly me   to   the moon  \"\n"
      ],
      "metadata": {
        "id": "MoU8KjZtTfHt"
      },
      "execution_count": null,
      "outputs": []
    },
    {
      "cell_type": "code",
      "source": [
        "p = list(s.split(\" \"))"
      ],
      "metadata": {
        "id": "ai34kDh4saYV"
      },
      "execution_count": null,
      "outputs": []
    },
    {
      "cell_type": "code",
      "source": [
        "q = list(filter(lambda a: a != \"\", p))"
      ],
      "metadata": {
        "id": "2fYSdlaZsdxa"
      },
      "execution_count": null,
      "outputs": []
    },
    {
      "cell_type": "code",
      "source": [
        "q"
      ],
      "metadata": {
        "colab": {
          "base_uri": "https://localhost:8080/"
        },
        "id": "ypdHj9Fbs14u",
        "outputId": "7c387e54-7690-427f-8132-995423e281ea"
      },
      "execution_count": null,
      "outputs": [
        {
          "output_type": "execute_result",
          "data": {
            "text/plain": [
              "['fly', 'me', 'to', 'the', 'moon']"
            ]
          },
          "metadata": {},
          "execution_count": 20
        }
      ]
    },
    {
      "cell_type": "code",
      "source": [
        "import time\n",
        "def SieveOfEratosthenes(n):\n",
        "  prime = [True for i in range(n+1)]\n",
        "  p = 2\n",
        "  while(p * p <= n):\n",
        "    if (prime[p] == True):\n",
        "      for i in range(p * p, n + 1, p):\n",
        "        prime[i] = False\n",
        "    p += 1\n",
        "  c = 0\n",
        "  for p in range(2, n):\n",
        "    if prime[p]:\n",
        "      c += 1\n",
        "  return c\n",
        "t0 = time.time()\n",
        "c = SieveOfEratosthenes(100000)\n",
        "print(\"Total prime numbers in range:\", c)"
      ],
      "metadata": {
        "colab": {
          "base_uri": "https://localhost:8080/"
        },
        "id": "XtGlg7QJ6Apv",
        "outputId": "e7dc3b12-249f-4183-a363-a508efb37eed"
      },
      "execution_count": null,
      "outputs": [
        {
          "output_type": "stream",
          "name": "stdout",
          "text": [
            "Total prime numbers in range: 9592\n"
          ]
        }
      ]
    },
    {
      "cell_type": "code",
      "source": [
        "def is_prime(n):\n",
        "  if n <= 1:\n",
        "    return False\n",
        "  for i in range(2, n):\n",
        "    if n % i == 0:\n",
        "      return False\n",
        "  return True\n",
        "p = 14\n",
        "if p <=6:\n",
        "  print(1)\n",
        "else:\n",
        "  for i in range(6,n):\n",
        "    if n%i==0:\n",
        "      if is_prime(i):\n",
        "        break\n",
        "        print(0)\n"
      ],
      "metadata": {
        "id": "ReD0itnvt_vz"
      },
      "execution_count": null,
      "outputs": []
    },
    {
      "cell_type": "code",
      "source": [
        "strs = [\"flower\",\"flow\",\"flight\"]"
      ],
      "metadata": {
        "id": "g_I-OpJUSrKU"
      },
      "execution_count": null,
      "outputs": []
    },
    {
      "cell_type": "code",
      "source": [
        "strs.sort()"
      ],
      "metadata": {
        "id": "EBDaFhjGT87c"
      },
      "execution_count": null,
      "outputs": []
    },
    {
      "cell_type": "code",
      "source": [
        "strs"
      ],
      "metadata": {
        "colab": {
          "base_uri": "https://localhost:8080/"
        },
        "id": "pxg5jM94T_Wv",
        "outputId": "dc7cd5bb-64df-433c-dce6-1533ca6af7b0"
      },
      "execution_count": null,
      "outputs": [
        {
          "output_type": "execute_result",
          "data": {
            "text/plain": [
              "['flight', 'flow', 'flower']"
            ]
          },
          "metadata": {},
          "execution_count": 3
        }
      ]
    },
    {
      "cell_type": "code",
      "source": [
        "digits = [4,3,2,1]"
      ],
      "metadata": {
        "id": "aKUYN8AiSs5S"
      },
      "execution_count": null,
      "outputs": []
    },
    {
      "cell_type": "code",
      "source": [
        "\n",
        "x = \"\"\n",
        "for i in range(len(digits)):\n",
        "  x = x + str(digits[i])\n",
        "p = str(int(x) + 1)\n",
        "p1 = []\n",
        "for i in range(len(p)):\n",
        "  p1.append(p[i])"
      ],
      "metadata": {
        "id": "Y6u18924WqI0"
      },
      "execution_count": null,
      "outputs": []
    },
    {
      "cell_type": "code",
      "source": [
        "p = str(int(x) + 1)"
      ],
      "metadata": {
        "id": "PlCrS5lBW6jN"
      },
      "execution_count": null,
      "outputs": []
    },
    {
      "cell_type": "code",
      "source": [
        "p"
      ],
      "metadata": {
        "colab": {
          "base_uri": "https://localhost:8080/",
          "height": 36
        },
        "id": "wWKeUquQXQ88",
        "outputId": "4b153f9a-518c-4105-914f-170219098e9c"
      },
      "execution_count": null,
      "outputs": [
        {
          "output_type": "execute_result",
          "data": {
            "text/plain": [
              "'4322'"
            ],
            "application/vnd.google.colaboratory.intrinsic+json": {
              "type": "string"
            }
          },
          "metadata": {},
          "execution_count": 12
        }
      ]
    },
    {
      "cell_type": "code",
      "source": [
        "n,k = map(int,input().split())\n",
        "p = list(map(int,input().split()))\n",
        "def gef(p,k):\n",
        "  for i in range(k):\n",
        "    p.pop(0)\n",
        "    p.append(0)\n",
        "  return p\n",
        "print(gef(p,k))"
      ],
      "metadata": {
        "id": "otK0KgatW99_",
        "colab": {
          "base_uri": "https://localhost:8080/"
        },
        "outputId": "42221b80-b9fc-4612-d220-b0956001b463"
      },
      "execution_count": null,
      "outputs": [
        {
          "output_type": "stream",
          "name": "stdout",
          "text": [
            "3 2\n",
            "2 2 5\n",
            "[5, 0, 0]\n"
          ]
        }
      ]
    },
    {
      "cell_type": "code",
      "source": [
        "print(*p)"
      ],
      "metadata": {
        "colab": {
          "base_uri": "https://localhost:8080/"
        },
        "id": "Zk2IED4MXDmT",
        "outputId": "fc12ec7c-4e6f-4037-eb28-af2c07b306e1"
      },
      "execution_count": null,
      "outputs": [
        {
          "output_type": "stream",
          "name": "stdout",
          "text": [
            "5 0 0\n"
          ]
        }
      ]
    },
    {
      "cell_type": "code",
      "source": [
        "H,M = map(int,input().split())"
      ],
      "metadata": {
        "id": "bQhmq8XeXYaa",
        "colab": {
          "base_uri": "https://localhost:8080/"
        },
        "outputId": "d6e0aa64-bddc-4666-b2fa-071bef11a907"
      },
      "execution_count": null,
      "outputs": [
        {
          "name": "stdout",
          "output_type": "stream",
          "text": [
            "02 20\n"
          ]
        }
      ]
    },
    {
      "cell_type": "code",
      "source": [
        "H,M = map(int,input().split())\n",
        "def timer1(H,M):\n",
        "  p = str(H)\n",
        "  q = str(M)\n",
        "  if H<10:\n",
        "    p = str(0) + p\n",
        "  if M<10:\n",
        "    q = str(0) + q\n",
        "  q1 = False\n",
        "  if (int(p[0]+ q[0])<24 and int(q[1]+ p[1])<60) and (int(p[0]+ p[1])<24 and int(q[0]+ q[1])<60):\n",
        "    q1 = True\n",
        "  return q1\n",
        "\n",
        "if timer1(H,M):\n",
        "  aq = H\n",
        "  aw = M\n",
        "else:\n",
        "  while not timer1(H,M):\n",
        "    w = H*60 + M +1\n",
        "    H = w//60\n",
        "    M = w%60\n",
        "    if H>23:\n",
        "      H=0\n",
        "    if timer1(H,M):\n",
        "      aq = H\n",
        "      aw = M\n",
        "      break\n",
        "\n",
        "p112 = str(aq)\n",
        "if aq<10:\n",
        "  p112 = str(0) + p112\n",
        "print(int(p),aw)"
      ],
      "metadata": {
        "colab": {
          "base_uri": "https://localhost:8080/"
        },
        "id": "r7GxPO08DF-b",
        "outputId": "320153da-22ec-43fa-b715-1a7bc0cb89e5"
      },
      "execution_count": null,
      "outputs": [
        {
          "output_type": "stream",
          "name": "stdout",
          "text": [
            "2 20\n"
          ]
        }
      ]
    },
    {
      "cell_type": "code",
      "source": [
        "p1 = str(H)\n",
        "q1 = str(M)\n",
        "if H<10:\n",
        "  p1 = str(0) + p1\n",
        "if M<10:\n",
        "  q1 = str(0) + q1"
      ],
      "metadata": {
        "id": "PvPdNFEy7-vh"
      },
      "execution_count": null,
      "outputs": []
    },
    {
      "cell_type": "code",
      "source": [
        "# def convert_time(hrs, min):\n",
        "#   min= hrs*60+min\n",
        "#   return min"
      ],
      "metadata": {
        "id": "zqLnZ1gH9ADu"
      },
      "execution_count": null,
      "outputs": []
    },
    {
      "cell_type": "code",
      "source": [
        "if timer1(H,M):\n",
        "  print(H, M)\n",
        "else:\n",
        "  while not timer1(H,M):\n",
        "    w = H*60 + M +1\n",
        "    H = w//60\n",
        "    M = w%60\n",
        "    if H>23:\n",
        "      H=0\n",
        "    if timer1(H,M):\n",
        "      break\n",
        "      print(H,M)\n",
        "\n",
        "\n",
        "\n"
      ],
      "metadata": {
        "colab": {
          "base_uri": "https://localhost:8080/",
          "height": 367
        },
        "id": "CwCi5Z7s5TRT",
        "outputId": "a63186e1-3e7e-48c4-bf14-856c9afccc54"
      },
      "execution_count": null,
      "outputs": [
        {
          "output_type": "error",
          "ename": "TypeError",
          "evalue": "ignored",
          "traceback": [
            "\u001b[0;31m---------------------------------------------------------------------------\u001b[0m",
            "\u001b[0;31mTypeError\u001b[0m                                 Traceback (most recent call last)",
            "\u001b[0;32m<ipython-input-8-a88077893af3>\u001b[0m in \u001b[0;36m<module>\u001b[0;34m\u001b[0m\n\u001b[0;32m----> 1\u001b[0;31m \u001b[0;32mif\u001b[0m \u001b[0mtimer1\u001b[0m\u001b[0;34m(\u001b[0m\u001b[0mH\u001b[0m\u001b[0;34m,\u001b[0m\u001b[0mM\u001b[0m\u001b[0;34m)\u001b[0m\u001b[0;34m:\u001b[0m\u001b[0;34m\u001b[0m\u001b[0;34m\u001b[0m\u001b[0m\n\u001b[0m\u001b[1;32m      2\u001b[0m   \u001b[0mprint\u001b[0m\u001b[0;34m(\u001b[0m\u001b[0mH\u001b[0m\u001b[0;34m,\u001b[0m \u001b[0mM\u001b[0m\u001b[0;34m)\u001b[0m\u001b[0;34m\u001b[0m\u001b[0;34m\u001b[0m\u001b[0m\n\u001b[1;32m      3\u001b[0m \u001b[0;32melse\u001b[0m\u001b[0;34m:\u001b[0m\u001b[0;34m\u001b[0m\u001b[0;34m\u001b[0m\u001b[0m\n\u001b[1;32m      4\u001b[0m   \u001b[0;32mwhile\u001b[0m \u001b[0;32mnot\u001b[0m \u001b[0mtimer1\u001b[0m\u001b[0;34m(\u001b[0m\u001b[0mH\u001b[0m\u001b[0;34m,\u001b[0m\u001b[0mM\u001b[0m\u001b[0;34m)\u001b[0m\u001b[0;34m:\u001b[0m\u001b[0;34m\u001b[0m\u001b[0;34m\u001b[0m\u001b[0m\n\u001b[1;32m      5\u001b[0m     \u001b[0mw\u001b[0m \u001b[0;34m=\u001b[0m \u001b[0mH\u001b[0m\u001b[0;34m*\u001b[0m\u001b[0;36m60\u001b[0m \u001b[0;34m+\u001b[0m \u001b[0mM\u001b[0m\u001b[0;34m\u001b[0m\u001b[0;34m\u001b[0m\u001b[0m\n",
            "\u001b[0;32m<ipython-input-7-86dd33409b8c>\u001b[0m in \u001b[0;36mtimer1\u001b[0;34m(H, M)\u001b[0m\n\u001b[1;32m      7\u001b[0m     \u001b[0mq1\u001b[0m \u001b[0;34m=\u001b[0m \u001b[0mstr\u001b[0m\u001b[0;34m(\u001b[0m\u001b[0;36m0\u001b[0m\u001b[0;34m)\u001b[0m \u001b[0;34m+\u001b[0m \u001b[0mq1\u001b[0m\u001b[0;34m\u001b[0m\u001b[0;34m\u001b[0m\u001b[0m\n\u001b[1;32m      8\u001b[0m   \u001b[0mq\u001b[0m \u001b[0;34m=\u001b[0m \u001b[0;32mFalse\u001b[0m\u001b[0;34m\u001b[0m\u001b[0;34m\u001b[0m\u001b[0m\n\u001b[0;32m----> 9\u001b[0;31m   \u001b[0;32mif\u001b[0m \u001b[0;34m(\u001b[0m\u001b[0mint\u001b[0m\u001b[0;34m(\u001b[0m\u001b[0mp\u001b[0m\u001b[0;34m[\u001b[0m\u001b[0;36m0\u001b[0m\u001b[0;34m]\u001b[0m\u001b[0;34m+\u001b[0m \u001b[0mq\u001b[0m\u001b[0;34m[\u001b[0m\u001b[0;36m0\u001b[0m\u001b[0;34m]\u001b[0m\u001b[0;34m)\u001b[0m\u001b[0;34m<\u001b[0m\u001b[0;36m24\u001b[0m \u001b[0;32mand\u001b[0m \u001b[0mint\u001b[0m\u001b[0;34m(\u001b[0m\u001b[0mq\u001b[0m\u001b[0;34m[\u001b[0m\u001b[0;36m1\u001b[0m\u001b[0;34m]\u001b[0m\u001b[0;34m+\u001b[0m \u001b[0mp\u001b[0m\u001b[0;34m[\u001b[0m\u001b[0;36m1\u001b[0m\u001b[0;34m]\u001b[0m\u001b[0;34m)\u001b[0m\u001b[0;34m<\u001b[0m\u001b[0;36m60\u001b[0m\u001b[0;34m)\u001b[0m \u001b[0;32mand\u001b[0m \u001b[0;34m(\u001b[0m\u001b[0mint\u001b[0m\u001b[0;34m(\u001b[0m\u001b[0mp\u001b[0m\u001b[0;34m[\u001b[0m\u001b[0;36m0\u001b[0m\u001b[0;34m]\u001b[0m\u001b[0;34m+\u001b[0m \u001b[0mp\u001b[0m\u001b[0;34m[\u001b[0m\u001b[0;36m1\u001b[0m\u001b[0;34m]\u001b[0m\u001b[0;34m)\u001b[0m\u001b[0;34m<\u001b[0m\u001b[0;36m24\u001b[0m \u001b[0;32mand\u001b[0m \u001b[0mint\u001b[0m\u001b[0;34m(\u001b[0m\u001b[0mq\u001b[0m\u001b[0;34m[\u001b[0m\u001b[0;36m0\u001b[0m\u001b[0;34m]\u001b[0m\u001b[0;34m+\u001b[0m \u001b[0mq\u001b[0m\u001b[0;34m[\u001b[0m\u001b[0;36m1\u001b[0m\u001b[0;34m]\u001b[0m\u001b[0;34m)\u001b[0m\u001b[0;34m<\u001b[0m\u001b[0;36m60\u001b[0m\u001b[0;34m)\u001b[0m\u001b[0;34m:\u001b[0m\u001b[0;34m\u001b[0m\u001b[0;34m\u001b[0m\u001b[0m\n\u001b[0m\u001b[1;32m     10\u001b[0m     \u001b[0mq\u001b[0m \u001b[0;34m=\u001b[0m \u001b[0;32mTrue\u001b[0m\u001b[0;34m\u001b[0m\u001b[0;34m\u001b[0m\u001b[0m\n\u001b[1;32m     11\u001b[0m   \u001b[0;32mreturn\u001b[0m \u001b[0mq\u001b[0m\u001b[0;34m\u001b[0m\u001b[0;34m\u001b[0m\u001b[0m\n",
            "\u001b[0;31mTypeError\u001b[0m: 'bool' object is not subscriptable"
          ]
        }
      ]
    },
    {
      "cell_type": "code",
      "source": [
        "def timer1(H,M):\n",
        "  p1 = str(H)\n",
        "  q1 = str(M)\n",
        "  if H<10:\n",
        "    p1 = str(0) + p1\n",
        "  if M<10:\n",
        "    q1 = str(0) + q1\n",
        "  q = False\n",
        "  if (int(p[0]+ q[0])<24 and int(q[1]+ p[1])<60) and (int(p[0]+ p[1])<24 and int(q[0]+ q[1])<60):\n",
        "    q = True\n",
        "  return q\n"
      ],
      "metadata": {
        "id": "6eHbPbL15LTV"
      },
      "execution_count": null,
      "outputs": []
    },
    {
      "cell_type": "code",
      "source": [
        "import math\n",
        "lcm = 2*5//math.gcd(2,5)"
      ],
      "metadata": {
        "id": "l81VTPuJ7PYP"
      },
      "execution_count": null,
      "outputs": []
    },
    {
      "cell_type": "code",
      "source": [
        "arr = [1,1,1,1,1]\n",
        "n = len(arr)"
      ],
      "metadata": {
        "id": "Sfpk8uZWnpyA"
      },
      "execution_count": null,
      "outputs": []
    },
    {
      "cell_type": "code",
      "source": [
        "ans = 0\n",
        "for i in range( 0 ,n-2):\n",
        "  for j in range( i+1 ,n-1):\n",
        "    for k in range( j+1, n):\n",
        "      if (arr[i] != arr[j] and  arr[j] != arr[k] and arr[i] != arr[k]):\n",
        "        ans+=1\n",
        "print(ans)"
      ],
      "metadata": {
        "id": "S_yYCDbmoTtR",
        "colab": {
          "base_uri": "https://localhost:8080/"
        },
        "outputId": "2adbb7a0-6b9e-47ac-c9ec-2d4c6e2cd766"
      },
      "execution_count": null,
      "outputs": [
        {
          "output_type": "stream",
          "name": "stdout",
          "text": [
            "0\n"
          ]
        }
      ]
    },
    {
      "cell_type": "code",
      "source": [
        "S = \"gg\"\n"
      ],
      "metadata": {
        "id": "LB-OlD-m-XDS"
      },
      "execution_count": null,
      "outputs": []
    },
    {
      "cell_type": "code",
      "source": [
        "from math import sqrt\n",
        "p = {}\n",
        "q = []\n",
        "ans = 0\n",
        "r = 0\n",
        "for i in range(len(S)):\n",
        "  if S[i] in p:\n",
        "    p[S[i]]= p[S[i]]+1\n",
        "  else:\n",
        "    ans = ans + 1\n",
        "    p[S[i]]=1\n",
        "  if i%2==0:\n",
        "    n = ans\n",
        "    prime_flag = 0\n",
        "    if(n > 1):\n",
        "      for i in range(2, int(sqrt(n)) + 1):\n",
        "        if (n % i == 0):\n",
        "          prime_flag = 1\n",
        "          break\n",
        "      if (prime_flag == 0):\n",
        "        r = r+1"
      ],
      "metadata": {
        "id": "BOuz-ExlxF79"
      },
      "execution_count": null,
      "outputs": []
    },
    {
      "cell_type": "code",
      "source": [
        "r"
      ],
      "metadata": {
        "colab": {
          "base_uri": "https://localhost:8080/"
        },
        "id": "Ymj4vbaqy-IJ",
        "outputId": "2af58528-46bb-4fdd-af36-230126b02dc1"
      },
      "execution_count": null,
      "outputs": [
        {
          "output_type": "execute_result",
          "data": {
            "text/plain": [
              "0"
            ]
          },
          "metadata": {},
          "execution_count": 15
        }
      ]
    },
    {
      "cell_type": "code",
      "source": [
        "n = 4\n",
        "r = 1\n",
        "p = \n",
        "while(n!=1):\n",
        "  if n%p==0:\n",
        "    n = n//p\n",
        "    r = r + p\n",
        "  else:\n",
        "    p = p+1"
      ],
      "metadata": {
        "id": "w0ag-yBMzFOo"
      },
      "execution_count": null,
      "outputs": []
    },
    {
      "cell_type": "code",
      "source": [
        "r"
      ],
      "metadata": {
        "colab": {
          "base_uri": "https://localhost:8080/"
        },
        "id": "WFzhf2RZ0hBe",
        "outputId": "b0d43545-df80-4db4-c72b-32c385763fe0"
      },
      "execution_count": null,
      "outputs": [
        {
          "output_type": "execute_result",
          "data": {
            "text/plain": [
              "5"
            ]
          },
          "metadata": {},
          "execution_count": 8
        }
      ]
    },
    {
      "cell_type": "code",
      "source": [
        "arr = [3,1,2,4]\n",
        "n = len(arr)\n",
        "ans = 0"
      ],
      "metadata": {
        "id": "VONxPHdY0ijH"
      },
      "execution_count": null,
      "outputs": []
    },
    {
      "cell_type": "code",
      "source": [
        "n = len(arr)\n",
        "i = 1\n",
        "for i in range(1,len(arr)):\n",
        "  n = len(arr)\n",
        "  while(n>0):\n",
        "    for k in range(n):\n",
        "      print(arr[k:k+i])\n",
        "      #ans = ans + min(arr[k:k+i])\n",
        "    n = n-1"
      ],
      "metadata": {
        "colab": {
          "base_uri": "https://localhost:8080/"
        },
        "id": "oevsDU_VbGhz",
        "outputId": "8cf0bda0-ca67-4064-ab56-ef289398de1d"
      },
      "execution_count": null,
      "outputs": [
        {
          "output_type": "stream",
          "name": "stdout",
          "text": [
            "[3]\n",
            "[1]\n",
            "[2]\n",
            "[4]\n",
            "[3]\n",
            "[1]\n",
            "[2]\n",
            "[3]\n",
            "[1]\n",
            "[3]\n",
            "[3, 1]\n",
            "[1, 2]\n",
            "[2, 4]\n",
            "[4]\n",
            "[3, 1]\n",
            "[1, 2]\n",
            "[2, 4]\n",
            "[3, 1]\n",
            "[1, 2]\n",
            "[3, 1]\n",
            "[3, 1, 2]\n",
            "[1, 2, 4]\n",
            "[2, 4]\n",
            "[4]\n",
            "[3, 1, 2]\n",
            "[1, 2, 4]\n",
            "[2, 4]\n",
            "[3, 1, 2]\n",
            "[1, 2, 4]\n",
            "[3, 1, 2]\n"
          ]
        }
      ]
    },
    {
      "cell_type": "code",
      "source": [
        "#from IPython.core.interactiveshell import no_op\n",
        "arr = [3,1,2,4]\n",
        "ans = 0\n",
        "k = 1\n",
        "n = len(arr)-k+1\n",
        "while(k<len(arr)+1):\n",
        "  n = n-1\n",
        "  for i in range(0,n+1):\n",
        "    ans = ans + min(arr[i:i+k])\n",
        "  k = k+1\n",
        "  "
      ],
      "metadata": {
        "id": "DBZpXx6qb7CV"
      },
      "execution_count": null,
      "outputs": []
    },
    {
      "cell_type": "code",
      "source": [
        "ans"
      ],
      "metadata": {
        "colab": {
          "base_uri": "https://localhost:8080/"
        },
        "id": "NiWyFlwqeDm4",
        "outputId": "5674db5c-78c9-440c-b9fa-a6d9fb28ddce"
      },
      "execution_count": null,
      "outputs": [
        {
          "output_type": "execute_result",
          "data": {
            "text/plain": [
              "17"
            ]
          },
          "metadata": {},
          "execution_count": 26
        }
      ]
    },
    {
      "cell_type": "code",
      "source": [
        "N = 8\n",
        "temp = list(format(N, \"b\"))\n",
        "p = temp.count(\"1\")\n",
        "ans = 0\n",
        "for i in range(1,N):\n",
        "  tro = list(format(i, \"b\"))\n",
        "  print(tro)\n",
        "  pwe = tro.count(\"1\")\n",
        "  if pwe == p:\n",
        "    ans  = ans + 1\n"
      ],
      "metadata": {
        "colab": {
          "base_uri": "https://localhost:8080/"
        },
        "id": "mMu6QCusfUl9",
        "outputId": "a90f823c-3bea-4632-a27e-508fe094f9eb"
      },
      "execution_count": null,
      "outputs": [
        {
          "output_type": "stream",
          "name": "stdout",
          "text": [
            "['1']\n",
            "['1', '0']\n",
            "['1', '1']\n",
            "['1', '0', '0']\n",
            "['1', '0', '1']\n",
            "['1', '1', '0']\n",
            "['1', '1', '1']\n"
          ]
        }
      ]
    },
    {
      "cell_type": "code",
      "source": [
        "n = 4\n",
        "q = -1\n",
        "p = [i for i in range(1,n+1)]\n",
        "r = n//2\n",
        "for i in range(r,n+1):\n",
        "  if sum(p[:i+1]) == sum(p[i:]):\n",
        "    q = p[i]"
      ],
      "metadata": {
        "id": "WlaRbV5Xl19G"
      },
      "execution_count": null,
      "outputs": []
    },
    {
      "cell_type": "code",
      "source": [
        "q"
      ],
      "metadata": {
        "id": "SE8SZEWHEdGD",
        "outputId": "31e9fcb6-afcf-4299-d9d4-6754ce5eda18",
        "colab": {
          "base_uri": "https://localhost:8080/"
        }
      },
      "execution_count": null,
      "outputs": [
        {
          "output_type": "execute_result",
          "data": {
            "text/plain": [
              "-1"
            ]
          },
          "metadata": {},
          "execution_count": 19
        }
      ]
    },
    {
      "cell_type": "code",
      "source": [
        "p = [i for i in range(1,n+1)]\n",
        "left = sum(p)\n",
        "right = 0\n",
        "while(left != right or left > right):\n",
        "  print(right)\n",
        "  right = right + p.pop()\n",
        "  left = sum(p)\n"
      ],
      "metadata": {
        "colab": {
          "base_uri": "https://localhost:8080/",
          "height": 385
        },
        "id": "qoIsXzOX-Umz",
        "outputId": "3a9f7a0e-4abe-4408-f1d8-a9a198dc3c2e"
      },
      "execution_count": null,
      "outputs": [
        {
          "output_type": "stream",
          "name": "stdout",
          "text": [
            "0\n",
            "8\n",
            "15\n",
            "21\n",
            "26\n",
            "30\n",
            "33\n",
            "35\n",
            "36\n"
          ]
        },
        {
          "output_type": "error",
          "ename": "IndexError",
          "evalue": "ignored",
          "traceback": [
            "\u001b[0;31m---------------------------------------------------------------------------\u001b[0m",
            "\u001b[0;31mIndexError\u001b[0m                                Traceback (most recent call last)",
            "\u001b[0;32m<ipython-input-13-c3da076dcbab>\u001b[0m in \u001b[0;36m<module>\u001b[0;34m\u001b[0m\n\u001b[1;32m      4\u001b[0m \u001b[0;32mwhile\u001b[0m\u001b[0;34m(\u001b[0m\u001b[0mleft\u001b[0m \u001b[0;34m!=\u001b[0m \u001b[0mright\u001b[0m \u001b[0;32mor\u001b[0m \u001b[0mleft\u001b[0m \u001b[0;34m>\u001b[0m \u001b[0mright\u001b[0m\u001b[0;34m)\u001b[0m\u001b[0;34m:\u001b[0m\u001b[0;34m\u001b[0m\u001b[0;34m\u001b[0m\u001b[0m\n\u001b[1;32m      5\u001b[0m   \u001b[0mprint\u001b[0m\u001b[0;34m(\u001b[0m\u001b[0mright\u001b[0m\u001b[0;34m)\u001b[0m\u001b[0;34m\u001b[0m\u001b[0;34m\u001b[0m\u001b[0m\n\u001b[0;32m----> 6\u001b[0;31m   \u001b[0mright\u001b[0m \u001b[0;34m=\u001b[0m \u001b[0mright\u001b[0m \u001b[0;34m+\u001b[0m \u001b[0mp\u001b[0m\u001b[0;34m.\u001b[0m\u001b[0mpop\u001b[0m\u001b[0;34m(\u001b[0m\u001b[0;34m)\u001b[0m\u001b[0;34m\u001b[0m\u001b[0;34m\u001b[0m\u001b[0m\n\u001b[0m\u001b[1;32m      7\u001b[0m   \u001b[0mleft\u001b[0m \u001b[0;34m=\u001b[0m \u001b[0msum\u001b[0m\u001b[0;34m(\u001b[0m\u001b[0mp\u001b[0m\u001b[0;34m)\u001b[0m\u001b[0;34m\u001b[0m\u001b[0;34m\u001b[0m\u001b[0m\n",
            "\u001b[0;31mIndexError\u001b[0m: pop from empty list"
          ]
        }
      ]
    },
    {
      "cell_type": "code",
      "source": [
        "p.pop()"
      ],
      "metadata": {
        "colab": {
          "base_uri": "https://localhost:8080/"
        },
        "id": "inmgxb9t-Vh3",
        "outputId": "fb645d73-2ef2-4af2-efa1-c2000c776b58"
      },
      "execution_count": null,
      "outputs": [
        {
          "output_type": "execute_result",
          "data": {
            "text/plain": [
              "7"
            ]
          },
          "metadata": {},
          "execution_count": 11
        }
      ]
    },
    {
      "cell_type": "code",
      "source": [
        "arr = [9,0,3,4]\n",
        "arr.append(0)\n",
        "arr.insert(0, 0)\n",
        "for i in range(len(arr)-1):\n",
        "  if arr[i]!=0 and arr[i+1]==0:\n",
        "    ans  = ans +1 "
      ],
      "metadata": {
        "id": "u0EGRzvt_SCc"
      },
      "execution_count": null,
      "outputs": []
    },
    {
      "cell_type": "code",
      "source": [
        "arr"
      ],
      "metadata": {
        "colab": {
          "base_uri": "https://localhost:8080/"
        },
        "id": "Rqsg9krUXsT5",
        "outputId": "70d8ebc7-c914-40f3-fe08-5bc599dd5e8e"
      },
      "execution_count": null,
      "outputs": [
        {
          "output_type": "execute_result",
          "data": {
            "text/plain": [
              "[0, 9, 0, 3, 4, 0]"
            ]
          },
          "metadata": {},
          "execution_count": 17
        }
      ]
    },
    {
      "cell_type": "code",
      "source": [
        "ans = 0\n",
        "p = 0\n",
        "for i in range(len(arr)-1):\n",
        "  if arr[i]!=0 and arr[i+1]!=0:\n",
        "    if i==len(arr)-2:\n",
        "      ans = ans + 1\n",
        "    else:\n",
        "      continue\n",
        "  elif arr[i]!=0 and arr[i+1]==0:\n",
        "    ans  = ans + 1\n",
        "  elif arr[i]==0 and arr[i+1]!=0:\n",
        "    ans  = ans + 1\n",
        "  else:\n",
        "    p = p+1\n",
        "if p==len(arr):\n",
        "  print(0)\n",
        "else:\n",
        "  print(ans)\n"
      ],
      "metadata": {
        "colab": {
          "base_uri": "https://localhost:8080/"
        },
        "id": "MgrK1_mwTRSb",
        "outputId": "2533eb44-758d-4b39-ada9-104fb51567c4"
      },
      "execution_count": null,
      "outputs": [
        {
          "output_type": "stream",
          "name": "stdout",
          "text": [
            "3\n"
          ]
        }
      ]
    },
    {
      "cell_type": "code",
      "source": [
        "a = [1, 2, 5, -7, 2, 3]\n",
        "a.append(-1)\n",
        "p = {}\n",
        "p1 = []\n",
        "q = 0\n",
        "for i in range(len(a)):\n",
        "  if a[i]>=0:\n",
        "    p1.append(a[i])\n",
        "    # p1 = p1 + a[i]\n",
        "    q = q + a[i]\n",
        "  else:\n",
        "    if not p1 in p:\n",
        "      p[p1] = q\n",
        "    else:\n",
        "      p[p1] =max(p[p1],q)\n",
        "\n",
        "\n",
        "    # p.append(p1)\n",
        "    # p1 = []\n",
        "\n",
        "    # if p1>p:\n",
        "    #   p = p1\n",
        "    #   p1 = 0\n",
        "    # elif p1 = p:\n",
        "    #   if q<q1:\n"
      ],
      "metadata": {
        "id": "vkJhSyi7VKK0",
        "colab": {
          "base_uri": "https://localhost:8080/",
          "height": 241
        },
        "outputId": "2ae4c3d5-5739-4287-8a42-1f392995068b"
      },
      "execution_count": null,
      "outputs": [
        {
          "output_type": "error",
          "ename": "TypeError",
          "evalue": "ignored",
          "traceback": [
            "\u001b[0;31m---------------------------------------------------------------------------\u001b[0m",
            "\u001b[0;31mTypeError\u001b[0m                                 Traceback (most recent call last)",
            "\u001b[0;32m<ipython-input-6-2c6c436293c7>\u001b[0m in \u001b[0;36m<module>\u001b[0;34m\u001b[0m\n\u001b[1;32m     10\u001b[0m     \u001b[0mq\u001b[0m \u001b[0;34m=\u001b[0m \u001b[0mq\u001b[0m \u001b[0;34m+\u001b[0m \u001b[0ma\u001b[0m\u001b[0;34m[\u001b[0m\u001b[0mi\u001b[0m\u001b[0;34m]\u001b[0m\u001b[0;34m\u001b[0m\u001b[0;34m\u001b[0m\u001b[0m\n\u001b[1;32m     11\u001b[0m   \u001b[0;32melse\u001b[0m\u001b[0;34m:\u001b[0m\u001b[0;34m\u001b[0m\u001b[0;34m\u001b[0m\u001b[0m\n\u001b[0;32m---> 12\u001b[0;31m     \u001b[0;32mif\u001b[0m \u001b[0;32mnot\u001b[0m \u001b[0mp1\u001b[0m \u001b[0;32min\u001b[0m \u001b[0mp\u001b[0m\u001b[0;34m:\u001b[0m\u001b[0;34m\u001b[0m\u001b[0;34m\u001b[0m\u001b[0m\n\u001b[0m\u001b[1;32m     13\u001b[0m       \u001b[0mp\u001b[0m\u001b[0;34m[\u001b[0m\u001b[0mp1\u001b[0m\u001b[0;34m]\u001b[0m \u001b[0;34m=\u001b[0m \u001b[0mq\u001b[0m\u001b[0;34m\u001b[0m\u001b[0;34m\u001b[0m\u001b[0m\n\u001b[1;32m     14\u001b[0m     \u001b[0;32melse\u001b[0m\u001b[0;34m:\u001b[0m\u001b[0;34m\u001b[0m\u001b[0;34m\u001b[0m\u001b[0m\n",
            "\u001b[0;31mTypeError\u001b[0m: unhashable type: 'list'"
          ]
        }
      ]
    },
    {
      "cell_type": "code",
      "source": [
        "max_so_far = 0\n",
        "max_right_here = 0\n",
        "start = 0\n",
        "end = 0\n",
        "s = 0\n",
        "for i in range(0, n):\n",
        "  if arr[i] < 0:\n",
        "    s = i + 1\n",
        "    max_right_here = 0\n",
        "  else:\n",
        "    max_right_here += arr[i]\n",
        "  if max_right_here > max_so_far:\n",
        "    max_so_far = max_right_here\n",
        "    start = s\n",
        "    end = i\n",
        "\n",
        "r = []\n",
        "for i in range(start, end + 1):\n",
        "    r.append(arr[i])"
      ],
      "metadata": {
        "colab": {
          "base_uri": "https://localhost:8080/"
        },
        "id": "nWNZaE8o7NUN",
        "outputId": "050fb32f-b992-48be-fd87-60fbf91464ab"
      },
      "execution_count": null,
      "outputs": [
        {
          "output_type": "execute_result",
          "data": {
            "text/plain": [
              "[[1, 2, 5], [2, 3]]"
            ]
          },
          "metadata": {},
          "execution_count": 5
        }
      ]
    },
    {
      "cell_type": "code",
      "source": [
        "for i in MyList:\n",
        "  if not i in count:\n",
        "    count[i] = 1\n",
        "  else:\n",
        "    count[i] +=1"
      ],
      "metadata": {
        "id": "plhmLxQX7XID"
      },
      "execution_count": null,
      "outputs": []
    },
    {
      "cell_type": "code",
      "source": [
        "arr = [1,2,2,1,1,3]\n",
        "p={}\n",
        "for i in range(len(arr)):\n",
        "  if arr[i] not in p:\n",
        "    p[arr[i]]=1\n",
        "  else:\n",
        "    p[arr[i]]=p[arr[i]]+1"
      ],
      "metadata": {
        "id": "GQVES3EYuSSV"
      },
      "execution_count": null,
      "outputs": []
    },
    {
      "cell_type": "code",
      "source": [
        "p"
      ],
      "metadata": {
        "colab": {
          "base_uri": "https://localhost:8080/"
        },
        "id": "HwcBYceBuXpw",
        "outputId": "fa6ddafe-d9f3-46b6-e000-409614708428"
      },
      "execution_count": null,
      "outputs": [
        {
          "output_type": "execute_result",
          "data": {
            "text/plain": [
              "{1: 3, 2: 2, 3: 1}"
            ]
          },
          "metadata": {},
          "execution_count": 6
        }
      ]
    },
    {
      "cell_type": "code",
      "source": [
        "k = {}\n",
        "q = True\n",
        "for key, value in p.items():\n",
        "  if value not in k:\n",
        "    k[value] = [key]\n",
        "  else:\n",
        "    q = False\n",
        "    break\n",
        "    "
      ],
      "metadata": {
        "id": "c7yxXE--udMk"
      },
      "execution_count": null,
      "outputs": []
    },
    {
      "cell_type": "code",
      "source": [
        "k"
      ],
      "metadata": {
        "colab": {
          "base_uri": "https://localhost:8080/"
        },
        "id": "1O-fPk0hxJCo",
        "outputId": "5c78c563-8387-4bfd-b68e-37f8a03e9784"
      },
      "execution_count": null,
      "outputs": [
        {
          "output_type": "execute_result",
          "data": {
            "text/plain": [
              "{3: [1], 2: [2], 1: [3]}"
            ]
          },
          "metadata": {},
          "execution_count": 8
        }
      ]
    },
    {
      "cell_type": "code",
      "source": [
        "arr=[10,20,30,40,50,60,70,80,90,100,110]"
      ],
      "metadata": {
        "id": "ASiI5A3qxWEL"
      },
      "execution_count": null,
      "outputs": []
    },
    {
      "cell_type": "code",
      "source": [
        "arr.reverse()"
      ],
      "metadata": {
        "id": "kZvojvQcSVrq"
      },
      "execution_count": null,
      "outputs": []
    },
    {
      "cell_type": "code",
      "source": [
        "arr.reverse()\n",
        "for i in range(len(arr)//2):\n",
        "  p = arr.pop()\n",
        "  arr.insert(2*i+1,p)\n"
      ],
      "metadata": {
        "id": "NdXpvzdJSaFj"
      },
      "execution_count": null,
      "outputs": []
    },
    {
      "cell_type": "code",
      "source": [],
      "metadata": {
        "colab": {
          "base_uri": "https://localhost:8080/"
        },
        "id": "61RY1HJHS_Qe",
        "outputId": "47647161-44ab-46bc-f05d-cd5823554d24"
      },
      "execution_count": null,
      "outputs": [
        {
          "output_type": "execute_result",
          "data": {
            "text/plain": [
              "[110, 10, 100, 20, 90, 30, 80, 40, 70, 50, 60]"
            ]
          },
          "metadata": {},
          "execution_count": 4
        }
      ]
    },
    {
      "cell_type": "code",
      "source": [],
      "metadata": {
        "id": "iJcIKlNWTAST"
      },
      "execution_count": null,
      "outputs": []
    }
  ]
}