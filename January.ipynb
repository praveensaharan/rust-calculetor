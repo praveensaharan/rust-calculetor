{
  "cells": [
    {
      "cell_type": "markdown",
      "metadata": {
        "id": "view-in-github",
        "colab_type": "text"
      },
      "source": [
        "<a href=\"https://colab.research.google.com/github/praveensaharan/rust-calculetor/blob/main/January.ipynb\" target=\"_parent\"><img src=\"https://colab.research.google.com/assets/colab-badge.svg\" alt=\"Open In Colab\"/></a>"
      ]
    },
    {
      "cell_type": "code",
      "execution_count": null,
      "metadata": {
        "colab": {
          "base_uri": "https://localhost:8080/"
        },
        "id": "x4KeidGBP-aP",
        "outputId": "4f1fff0e-8032-4ae0-d713-b9b23b71ca38"
      },
      "outputs": [
        {
          "data": {
            "text/plain": [
              "65"
            ]
          },
          "execution_count": 2,
          "metadata": {},
          "output_type": "execute_result"
        }
      ],
      "source": [
        "ord(\"A\")"
      ]
    },
    {
      "cell_type": "code",
      "execution_count": null,
      "metadata": {
        "colab": {
          "base_uri": "https://localhost:8080/"
        },
        "id": "KaEE3hfgROk6",
        "outputId": "41788913-770d-4741-e5f6-098e9546859f"
      },
      "outputs": [
        {
          "data": {
            "text/plain": [
              "122"
            ]
          },
          "execution_count": 4,
          "metadata": {},
          "output_type": "execute_result"
        }
      ],
      "source": [
        "ord(\"z\")"
      ]
    },
    {
      "cell_type": "code",
      "execution_count": null,
      "metadata": {
        "id": "QFWw1QxCRQYZ"
      },
      "outputs": [],
      "source": [
        "left = 10\n",
        "right = 19"
      ]
    },
    {
      "cell_type": "code",
      "execution_count": null,
      "metadata": {
        "id": "pPSrNDkhYMSj"
      },
      "outputs": [],
      "source": [
        "p = []\n",
        "for i in range(left, right+1):\n",
        "    for j in range(2, i):\n",
        "        if i%j == 0:\n",
        "            break\n",
        "    else:\n",
        "      p.append(i)\n",
        "\n",
        "r = float(\"inf\")\n",
        "r1 = 0\n",
        "r2 = 0\n",
        "for i in range(1,len(p)):\n",
        "  qw = p[i]-p[i-1]\n",
        "  if p[i]-p[i-1]<r:\n",
        "    r = p[i]-p[i-1]\n",
        "    r1 = p[i-1]\n",
        "    r2 = p[i]\n",
        "  elif qw == r:\n",
        "    if r1>p[i-1]:\n",
        "      r1 = p[i-1]\n",
        "      r2 = p[i]\n"
      ]
    },
    {
      "cell_type": "code",
      "execution_count": null,
      "metadata": {
        "id": "B04DhvxsYpLx"
      },
      "outputs": [],
      "source": [
        "r = float(\"inf\")\n",
        "r1 = 0\n",
        "r2 = 0\n",
        "for i in range(1,len(p)):\n",
        "  qw = p[i]-p[i-1]\n",
        "  if p[i]-p[i-1]<r:\n",
        "    r = p[i]-p[i-1]\n",
        "    r1 = p[i-1]\n",
        "    r2 = p[i]\n",
        "  elif qw == r:\n",
        "    if r1>p[i-1]:\n",
        "      r1 = p[i-1]\n",
        "      r2 = p[i]\n"
      ]
    },
    {
      "cell_type": "code",
      "execution_count": null,
      "metadata": {
        "colab": {
          "base_uri": "https://localhost:8080/"
        },
        "id": "lnQDQEMBY1mS",
        "outputId": "4292fc97-4fe5-41d9-d52c-c91a9a89be0d"
      },
      "outputs": [
        {
          "name": "stdout",
          "output_type": "stream",
          "text": [
            "11 13 2\n"
          ]
        }
      ],
      "source": [
        "print(r1,r2,r)"
      ]
    },
    {
      "cell_type": "code",
      "execution_count": null,
      "metadata": {
        "id": "TaZpozsUZz2m"
      },
      "outputs": [],
      "source": [
        "strs = [\"zyx\",\"wvu\",\"tsr\"]"
      ]
    },
    {
      "cell_type": "code",
      "execution_count": null,
      "metadata": {
        "colab": {
          "base_uri": "https://localhost:8080/"
        },
        "id": "ytMu6_bklr8G",
        "outputId": "bddbbe29-6bd1-4cf5-9ea6-20f842bb1f82"
      },
      "outputs": [
        {
          "name": "stdout",
          "output_type": "stream",
          "text": [
            "z w\n",
            "y v\n",
            "x u\n",
            "w t\n",
            "v s\n",
            "u r\n",
            "{0, 1, 2}\n"
          ]
        }
      ],
      "source": [
        "p = set()\n",
        "for i in range(1,len(strs[0])):\n",
        "  for j in range(0,len(strs)):\n",
        "    if ord(strs[i-1][j]) > ord(strs[i][j]):\n",
        "      p.add(j)\n",
        "    print(strs[i-1][j],strs[i][j])\n",
        "    # if ord(strs[i-1][j])\n",
        "print(p)"
      ]
    },
    {
      "cell_type": "code",
      "execution_count": null,
      "metadata": {
        "colab": {
          "base_uri": "https://localhost:8080/"
        },
        "id": "pjSP34m_mvaR",
        "outputId": "ef93b59a-6852-463b-d6b8-f97bcdbcc2be"
      },
      "outputs": [
        {
          "data": {
            "text/plain": [
              "[1]"
            ]
          },
          "execution_count": 10,
          "metadata": {},
          "output_type": "execute_result"
        }
      ],
      "source": [
        "p"
      ]
    },
    {
      "cell_type": "code",
      "execution_count": null,
      "metadata": {
        "id": "-hEWNilkn9Vk"
      },
      "outputs": [],
      "source": [
        "nums = [4,3,2,6]"
      ]
    },
    {
      "cell_type": "code",
      "execution_count": null,
      "metadata": {
        "id": "NKPsUwrqJa35"
      },
      "outputs": [],
      "source": [
        "p = 0\n",
        "ans = 0\n",
        "for j in range(len(nums)):\n",
        "  for i in range(len(nums)):\n",
        "    p += nums[i]*i\n",
        "  if ans<p:\n",
        "    ans = p\n",
        "  p = 0\n",
        "  q = nums.pop(0)\n",
        "  nums.append(q)\n"
      ]
    },
    {
      "cell_type": "code",
      "execution_count": null,
      "metadata": {
        "colab": {
          "base_uri": "https://localhost:8080/"
        },
        "id": "AAYUIUeoJ65r",
        "outputId": "28ee4ee4-0e54-4868-d3fa-3e4a2b7caad6"
      },
      "outputs": [
        {
          "data": {
            "text/plain": [
              "26"
            ]
          },
          "execution_count": 8,
          "metadata": {},
          "output_type": "execute_result"
        }
      ],
      "source": [
        "ans"
      ]
    },
    {
      "cell_type": "code",
      "execution_count": null,
      "metadata": {
        "id": "K32yLVjsJ8Yo"
      },
      "outputs": [],
      "source": [
        "nums = [1,2,3]"
      ]
    },
    {
      "cell_type": "code",
      "execution_count": null,
      "metadata": {
        "id": "g7D4kFOPJamp"
      },
      "outputs": [],
      "source": [
        "i = len(nums)\n",
        "while(i>=1):\n",
        "  if nums[i-1]%nums[i-2] != 0:\n",
        "    nums.pop()\n",
        "  i = i-1\n",
        "    "
      ]
    },
    {
      "cell_type": "code",
      "execution_count": null,
      "metadata": {
        "colab": {
          "base_uri": "https://localhost:8080/"
        },
        "id": "oLc2QQ0wKL8P",
        "outputId": "e18ab607-110d-479a-cb80-699d98503d13"
      },
      "outputs": [
        {
          "data": {
            "text/plain": [
              "[1]"
            ]
          },
          "execution_count": 14,
          "metadata": {},
          "output_type": "execute_result"
        }
      ],
      "source": [
        "nums"
      ]
    },
    {
      "cell_type": "code",
      "execution_count": null,
      "metadata": {
        "id": "yU-NvOwSKM9a"
      },
      "outputs": [],
      "source": [
        "tasks = [2,2,3,3,2,4,4,4,4,4]"
      ]
    },
    {
      "cell_type": "code",
      "execution_count": null,
      "metadata": {
        "id": "5tzm8-tln_qL"
      },
      "outputs": [],
      "source": [
        "p = {}\n",
        "for i in tasks:\n",
        "  if i not in p.keys():\n",
        "    p[i] = 1\n",
        "  else:\n",
        "    p[i] += 1\n",
        "\n",
        "ans = 0\n",
        "q = 0\n",
        "for i in p:\n",
        "  print(p[i])\n",
        "  if p[i]>1:\n",
        "    if He(p[i])==-1:\n",
        "      q = -1\n",
        "    else:\n",
        "      ans = ans + He(p[i])\n",
        "if q==-1:\n",
        "  print(-1)\n",
        "else:\n",
        "  print(ans)"
      ]
    },
    {
      "cell_type": "code",
      "execution_count": null,
      "metadata": {
        "id": "oULK3j46pr2A"
      },
      "outputs": [],
      "source": [
        "def He(n):\n",
        "  if n==2:\n",
        "    return 1\n",
        "  elif n==3:\n",
        "    return 1\n",
        "  else:\n",
        "    if n%3==1:\n",
        "      return -1\n",
        "    elif n%3==2:\n",
        "      return n//3 + 1\n",
        "    else:\n",
        "      return n//3\n"
      ]
    },
    {
      "cell_type": "code",
      "execution_count": null,
      "metadata": {
        "colab": {
          "base_uri": "https://localhost:8080/"
        },
        "id": "Eikq3n3goNNa",
        "outputId": "cbdfde14-6933-4d0b-947c-7ec248da7cac"
      },
      "outputs": [
        {
          "name": "stdout",
          "output_type": "stream",
          "text": [
            "3\n",
            "2\n",
            "5\n",
            "4\n"
          ]
        }
      ],
      "source": [
        "\n",
        "ans = 0\n",
        "q = 0\n",
        "for i in p:\n",
        "  print(p[i])\n",
        "  if p[i]>1:\n",
        "    if He(p[i])==-1:\n",
        "      q = -1\n",
        "    else:\n",
        "      ans = ans + He(p[i])\n",
        "if q==-1:\n",
        "  print(-1)\n",
        "else:\n",
        "  print(ans)\n"
      ]
    },
    {
      "cell_type": "code",
      "execution_count": null,
      "metadata": {
        "id": "7ZzfQdHBoW7k"
      },
      "outputs": [],
      "source": [
        "n = 4\n",
        "arr = [0,1,1,0]"
      ]
    },
    {
      "cell_type": "code",
      "execution_count": null,
      "metadata": {
        "id": "4nNKBRnjN1nz"
      },
      "outputs": [],
      "source": [
        "ans = 0\n",
        "p = 0\n",
        "q = 0\n",
        "p1 = 1\n",
        "q1 = 0\n",
        "for i in range(len(arr)):\n",
        "  if arr[i]==1:\n",
        "    \n",
        "    if p1==1 and q1 == 0:\n",
        "      q += 1\n",
        "    else:\n",
        "      if q1==1:\n",
        "        q += 1\n",
        "      else:\n",
        "        ans = max(q,ans)\n",
        "  else:\n",
        "    p1 = 0\n",
        "    q1 = 1\n",
        "    if p1 == 0 and q1==1:\n",
        "      q += 1\n",
        "\n",
        "\n",
        "\n"
      ]
    },
    {
      "cell_type": "code",
      "execution_count": null,
      "metadata": {
        "id": "QrFBHaGfRxZh"
      },
      "outputs": [],
      "source": [
        "def max_ones(n, arr):\n",
        "  result = n\n",
        "  left = 0\n",
        "  right = 0\n",
        "  zero_count = 0\n",
        "  while right < n:\n",
        "    if arr[right] == 0:\n",
        "      zero_count += 1\n",
        "    while zero_count > 1:\n",
        "      if arr[left] == 0:\n",
        "        zero_count -= 1\n",
        "      left += 1\n",
        "    result = max(result, right - left + 1)\n",
        "    right += 1\n",
        "\n",
        "  return result\n"
      ]
    },
    {
      "cell_type": "code",
      "execution_count": null,
      "metadata": {
        "colab": {
          "base_uri": "https://localhost:8080/"
        },
        "id": "IEzDZwAySYch",
        "outputId": "75b1ebb6-925f-4589-e8c7-0e99e62664ea"
      },
      "outputs": [
        {
          "data": {
            "text/plain": [
              "4"
            ]
          },
          "execution_count": 5,
          "metadata": {},
          "output_type": "execute_result"
        }
      ],
      "source": [
        "max_ones(n, arr)"
      ]
    },
    {
      "cell_type": "code",
      "execution_count": null,
      "metadata": {
        "id": "Bq83yWbMZcdq"
      },
      "outputs": [],
      "source": [
        "n = 5\n",
        "arr = [1,0,0,0,1]"
      ]
    },
    {
      "cell_type": "code",
      "execution_count": null,
      "metadata": {
        "id": "9WLJr-EIjptu"
      },
      "outputs": [],
      "source": [
        "def H(left,right,arr,n):\n"
      ]
    },
    {
      "cell_type": "code",
      "execution_count": null,
      "metadata": {
        "colab": {
          "background_save": true,
          "base_uri": "https://localhost:8080/"
        },
        "id": "dTQwCixvSazH",
        "outputId": "0a89a715-a647-4e68-a902-dc51c6e5fee6"
      },
      "outputs": [
        {
          "name": "stdout",
          "output_type": "stream",
          "text": [
            "123\n",
            "123\n",
            "123\n",
            "123\n",
            "123\n",
            "0\n"
          ]
        }
      ],
      "source": [
        "n = 5\n",
        "arr = [1,0,0,0,1]\n",
        "result = n\n",
        "left = 0\n",
        "right = 1\n",
        "ans = 0\n",
        "while right < n:\n",
        "  p = True\n",
        "  q = True\n",
        "  # while(arr[left]==0 and right<n):\n",
        "  #   if arr[right]==0 and p and q:\n",
        "  #     right += 1\n",
        "  #   elif arr[right]==0 and not p:\n",
        "  #     q = False\n",
        "  #     if arr[right-1]==1:\n",
        "  #       p1 = right\n",
        "  #     right += 1\n",
        "  #   elif arr[right]==1 and not p and not q:\n",
        "  #     ans = max(ans,right-left-1)\n",
        "  #     left = p1\n",
        "  #     print(123)\n",
        "  #     break\n",
        "  #   elif arr[right]==0 and q:\n",
        "  #     p = False\n",
        "  #     right += 1\n",
        "      \n",
        "  while(arr[left]==1 and right<n):\n",
        "    if arr[right]==1 and p and q:\n",
        "      right += 1\n",
        "    elif arr[right]==1 and not p:\n",
        "      q = False\n",
        "      if arr[right-1]==0:\n",
        "        p1 = right\n",
        "      right += 1\n",
        "    elif arr[right]==0 and not p and not q:\n",
        "      ans = max(ans,right-left-1)\n",
        "      left = p1\n",
        "      print(123)\n",
        "      break\n",
        "    elif arr[right]==0 and q:\n",
        "      p = False\n",
        "      right += 1\n",
        "\n",
        "print(ans)  \n",
        "  "
      ]
    },
    {
      "cell_type": "code",
      "execution_count": null,
      "metadata": {
        "colab": {
          "base_uri": "https://localhost:8080/"
        },
        "id": "gpTydOfDZJVF",
        "outputId": "40434455-6515-495e-bf9a-6c9714f39ffb"
      },
      "outputs": [
        {
          "data": {
            "text/plain": [
              "0"
            ]
          },
          "execution_count": 35,
          "metadata": {},
          "output_type": "execute_result"
        }
      ],
      "source": [
        "ans"
      ]
    },
    {
      "cell_type": "code",
      "execution_count": null,
      "metadata": {
        "colab": {
          "base_uri": "https://localhost:8080/"
        },
        "id": "lkmlBzSnaH4o",
        "outputId": "9d339bac-5558-48f7-d62f-6a16f9adbd02"
      },
      "outputs": [
        {
          "data": {
            "text/plain": [
              "4"
            ]
          },
          "execution_count": 33,
          "metadata": {},
          "output_type": "execute_result"
        }
      ],
      "source": [
        "left"
      ]
    },
    {
      "cell_type": "code",
      "execution_count": null,
      "metadata": {
        "id": "BFt8TeXxaQwq"
      },
      "outputs": [],
      "source": [
        "a = [1, 1, 1, 1]\n",
        "k = 1\n",
        "ans = 0\n",
        "for i in range(len(a)-k):\n",
        "  for j in range(i+k,len(a)):\n",
        "    if a[i]==a[j]:\n",
        "      ans += 1\n",
        "print(ans)"
      ]
    },
    {
      "cell_type": "code",
      "execution_count": null,
      "metadata": {
        "colab": {
          "base_uri": "https://localhost:8080/"
        },
        "id": "tscOjKrViSTl",
        "outputId": "93201e9c-5f0b-452a-c20c-6b3d3abf6672"
      },
      "outputs": [
        {
          "data": {
            "text/plain": [
              "3"
            ]
          },
          "execution_count": 44,
          "metadata": {},
          "output_type": "execute_result"
        }
      ],
      "source": [
        "count_pairs(a, k)"
      ]
    },
    {
      "cell_type": "code",
      "execution_count": null,
      "metadata": {
        "colab": {
          "base_uri": "https://localhost:8080/"
        },
        "id": "fOHOlCJzgVxl",
        "outputId": "b71df4b3-f968-496c-90fb-c99ed9bde3f0"
      },
      "outputs": [
        {
          "name": "stdout",
          "output_type": "stream",
          "text": [
            "6\n"
          ]
        }
      ],
      "source": [
        "for i in range(len(a)-k):\n",
        "  for j in range(i+k,len(a)):\n",
        "    if a[i]==a[j]:\n",
        "      ans += 1\n",
        "print(ans)"
      ]
    },
    {
      "cell_type": "code",
      "execution_count": null,
      "metadata": {
        "id": "avKPJrxrgvZJ"
      },
      "outputs": [],
      "source": [
        "def count_pairs(a, k):\n",
        "    # sort the list\n",
        "    a.sort()\n",
        "\n",
        "    ans = 0\n",
        "    for i, x in enumerate(a):\n",
        "        # use binary search to find the next occurrence of x that is at least k indices away\n",
        "        j = binary_search(a, x, i+k, len(a)-1)\n",
        "        if j != -1:\n",
        "            ans += 1\n",
        "    return ans\n",
        "\n",
        "def binary_search(a, x, low, high):\n",
        "    if low > high:\n",
        "        return -1\n",
        "\n",
        "    mid = (low + high) // 2\n",
        "    if a[mid] == x and (mid == len(a)-1 or a[mid+1] != x):\n",
        "        return mid\n",
        "    elif a[mid] <= x:\n",
        "        return binary_search(a, x, mid+1, high)\n",
        "    else:\n",
        "        return binary_search(a, x, low, mid-1)\n"
      ]
    },
    {
      "cell_type": "code",
      "execution_count": null,
      "metadata": {
        "id": "qzlg9RipiPVq"
      },
      "outputs": [],
      "source": [
        "s1 = \"abccba\""
      ]
    },
    {
      "cell_type": "code",
      "source": [
        "s = \"abc\"\n",
        "p = len(s1)//3\n",
        "s2 = \"\"\n",
        "for i in range(p):\n",
        "  s2 += s\n",
        "if s1[0]==\"a\":\n",
        "  if s1==s2:\n",
        "    print(1)\n",
        "  else:\n",
        "    print(0)\n",
        "elif s1[0]==\"b\":\n",
        "  s2 += \"a\"\n",
        "  if s1==s2[1:]:\n",
        "    print(1)\n",
        "  else:\n",
        "    print(0)\n",
        "elif s1[0]==\"c\":\n",
        "  s2 += \"ab\"\n",
        "  if s1==s2[2:]:\n",
        "    print(1)\n",
        "  else:\n",
        "    print(0)\n",
        "\n"
      ],
      "metadata": {
        "id": "HdX7bVQAYPc1"
      },
      "execution_count": null,
      "outputs": []
    },
    {
      "cell_type": "code",
      "source": [
        "s2"
      ],
      "metadata": {
        "colab": {
          "base_uri": "https://localhost:8080/",
          "height": 36
        },
        "id": "yqAHqJ9XYnYA",
        "outputId": "abad720a-8a37-4aa2-d97d-f6faad421c9e"
      },
      "execution_count": null,
      "outputs": [
        {
          "output_type": "execute_result",
          "data": {
            "text/plain": [
              "'abcabc'"
            ],
            "application/vnd.google.colaboratory.intrinsic+json": {
              "type": "string"
            }
          },
          "metadata": {},
          "execution_count": 3
        }
      ]
    },
    {
      "cell_type": "code",
      "source": [
        "if s1[0]==\"a\":\n",
        "  if s1==s2:\n",
        "    print(1)\n",
        "  else:\n",
        "    print(0)\n",
        "elif s1[0]==\"b\":\n",
        "  s2 += \"a\"\n",
        "  if s1==s2[1:]:\n",
        "    print(1)\n",
        "  else:\n",
        "    print(0)\n",
        "elif s1[0]==\"c\":\n",
        "  s2 += \"ab\"\n",
        "  if s1==s2[2:]:\n",
        "    print(1)\n",
        "  else:\n",
        "    print(0)"
      ],
      "metadata": {
        "id": "1MfnSZAZYpNT"
      },
      "execution_count": null,
      "outputs": []
    },
    {
      "cell_type": "code",
      "source": [
        "points = [[1,2],[2,3],[3,4],[4,5]]"
      ],
      "metadata": {
        "id": "MI9OLEj6zBto"
      },
      "execution_count": null,
      "outputs": []
    },
    {
      "cell_type": "code",
      "source": [
        "p = {}\n",
        "ans = 0\n",
        "for i in range(len(points)):\n",
        "  q = 1\n",
        "  r = 0\n",
        "  for j in range(points[i][0],points[i][1]+1):\n",
        "    if j in p.keys():\n",
        "      q = 0\n",
        "    else:\n",
        "      p[j] = 1\n",
        "  if q==1:\n",
        "    ans += 1\n",
        "print(ans)\n",
        "  \n"
      ],
      "metadata": {
        "colab": {
          "base_uri": "https://localhost:8080/"
        },
        "id": "9LZBBhIAzLkp",
        "outputId": "62e2a984-fd5a-4d8d-ecbb-63c461672597"
      },
      "execution_count": null,
      "outputs": [
        {
          "output_type": "stream",
          "name": "stdout",
          "text": [
            "1\n"
          ]
        }
      ]
    },
    {
      "cell_type": "code",
      "source": [
        "ans"
      ],
      "metadata": {
        "colab": {
          "base_uri": "https://localhost:8080/"
        },
        "id": "e9xdjtch8lc8",
        "outputId": "679f3e76-9a25-4ba2-cc73-2f1dce35d7ca"
      },
      "execution_count": null,
      "outputs": [
        {
          "output_type": "execute_result",
          "data": {
            "text/plain": [
              "2"
            ]
          },
          "metadata": {},
          "execution_count": 18
        }
      ]
    },
    {
      "cell_type": "code",
      "source": [
        "p = \"011:15\"\n",
        "r = p.index(':')\n",
        "s = int(p[:r])*60 + int(p[r+1:])\n"
      ],
      "metadata": {
        "id": "KYZ-6_iH8xya"
      },
      "execution_count": null,
      "outputs": []
    },
    {
      "cell_type": "code",
      "source": [
        "s"
      ],
      "metadata": {
        "colab": {
          "base_uri": "https://localhost:8080/"
        },
        "id": "d9LZWOPPCYx9",
        "outputId": "736aade8-70d8-40df-af16-1a7a87f3b24d"
      },
      "execution_count": null,
      "outputs": [
        {
          "output_type": "execute_result",
          "data": {
            "text/plain": [
              "675"
            ]
          },
          "metadata": {},
          "execution_count": 36
        }
      ]
    },
    {
      "cell_type": "code",
      "source": [
        "matrix = [[1,2,3],[4,5,6],[7,8,9]]"
      ],
      "metadata": {
        "id": "HBtGZPm0C20s"
      },
      "execution_count": null,
      "outputs": []
    },
    {
      "cell_type": "code",
      "source": [
        "print(zip(*matrix))"
      ],
      "metadata": {
        "colab": {
          "base_uri": "https://localhost:8080/"
        },
        "id": "0aStDTKsVS7p",
        "outputId": "99c9ce91-b6a9-4cad-beb1-9579d6d0d254"
      },
      "execution_count": null,
      "outputs": [
        {
          "output_type": "stream",
          "name": "stdout",
          "text": [
            "<zip object at 0x7f176896f080>\n"
          ]
        }
      ]
    },
    {
      "cell_type": "code",
      "source": [
        "matrix"
      ],
      "metadata": {
        "colab": {
          "base_uri": "https://localhost:8080/"
        },
        "id": "8KyeonmpVeUD",
        "outputId": "3b47b18c-ff60-4edc-c631-01b55caa9a9a"
      },
      "execution_count": null,
      "outputs": [
        {
          "output_type": "execute_result",
          "data": {
            "text/plain": [
              "[[1, 2, 3], [4, 5, 6], [7, 8, 9]]"
            ]
          },
          "metadata": {},
          "execution_count": 4
        }
      ]
    },
    {
      "cell_type": "code",
      "source": [
        "import numpy\n",
        "a = [[1, 2, 3], [4, 5, 6], [7, 8, 9]]\n",
        "p = numpy.transpose(a)"
      ],
      "metadata": {
        "id": "k4XUMO-DVfib"
      },
      "execution_count": null,
      "outputs": []
    },
    {
      "cell_type": "code",
      "source": [
        "p"
      ],
      "metadata": {
        "colab": {
          "base_uri": "https://localhost:8080/"
        },
        "id": "iOEs2ztUV-Fd",
        "outputId": "0dd60d44-775a-4c84-d3f5-55c1180ad22a"
      },
      "execution_count": null,
      "outputs": [
        {
          "output_type": "execute_result",
          "data": {
            "text/plain": [
              "array([[1, 4, 7],\n",
              "       [2, 5, 8],\n",
              "       [3, 6, 9]])"
            ]
          },
          "metadata": {},
          "execution_count": 8
        }
      ]
    },
    {
      "cell_type": "code",
      "source": [
        "import numpy as np\n",
        "first_answer = np.transpose(matrix)\n",
        "matrix = [list(i)[::-1] for i in zip(*matrix)]"
      ],
      "metadata": {
        "id": "W-j70kJTWBfw"
      },
      "execution_count": null,
      "outputs": []
    },
    {
      "cell_type": "code",
      "source": [
        "matrix"
      ],
      "metadata": {
        "colab": {
          "base_uri": "https://localhost:8080/"
        },
        "id": "0uc5pbulWIF3",
        "outputId": "aed1fe15-fd95-49ea-9bf4-7726f646d2c3"
      },
      "execution_count": null,
      "outputs": [
        {
          "output_type": "execute_result",
          "data": {
            "text/plain": [
              "[[7, 4, 1], [8, 5, 2], [9, 6, 3]]"
            ]
          },
          "metadata": {},
          "execution_count": 18
        }
      ]
    },
    {
      "cell_type": "code",
      "source": [
        "class Solution:\n",
        "    def rotate(self, A):\n",
        "        A[:] = map(list, zip(*A[::-1]))"
      ],
      "metadata": {
        "id": "8iftEynlWK74"
      },
      "execution_count": null,
      "outputs": []
    },
    {
      "cell_type": "code",
      "source": [
        "se = \"leetcode exercises sound delightful\""
      ],
      "metadata": {
        "id": "XYveyd30Xtca"
      },
      "execution_count": null,
      "outputs": []
    },
    {
      "cell_type": "code",
      "source": [
        "x = se.split()\n",
        "# q = True\n",
        "# for i in range(0,len(x)):\n",
        "#   if x[i][0].lower() != x[i-1][-1].lower():\n",
        "#     q=False\n",
        "#     break"
      ],
      "metadata": {
        "id": "QLWYmLCvZfMq"
      },
      "execution_count": null,
      "outputs": []
    },
    {
      "cell_type": "code",
      "source": [
        "x.append(x[0])"
      ],
      "metadata": {
        "id": "LB9-emR2ZnbR"
      },
      "execution_count": null,
      "outputs": []
    },
    {
      "cell_type": "code",
      "source": [
        "x = se.split()\n",
        "x.append(x[0])\n",
        "q = True\n",
        "for i in range(1,len(x)):\n",
        "  if x[i][0].lower() != x[i-1][-1].lower():\n",
        "    q = False\n",
        "    break"
      ],
      "metadata": {
        "id": "Z9lIu8HeZqUE"
      },
      "execution_count": null,
      "outputs": []
    },
    {
      "cell_type": "code",
      "source": [
        "nums = [-34,7,7,-18,27,2,37,-50,-36,-7,31,23,5,-10,-3,45,20,-16,38,6]"
      ],
      "metadata": {
        "id": "Rl5GGYsdZv79"
      },
      "execution_count": null,
      "outputs": []
    },
    {
      "cell_type": "code",
      "source": [
        "p = {}\n",
        "q = -1\n",
        "\n",
        "p1 = []\n",
        "for i in range(len(nums)):\n",
        "  if nums[i] in p.keys():\n",
        "    p[nums[i]] = nums[i]\n",
        "  else:\n",
        "    if -nums[i] in p.keys():\n",
        "      p1.append(abs(nums[i]))\n",
        "    p[nums[i]] = nums[i]\n",
        "for i in range(0,len(p1)):\n",
        "  q = max(p1[i],q)\n",
        "    \n",
        "    \n",
        "print(q,p,p1)"
      ],
      "metadata": {
        "colab": {
          "base_uri": "https://localhost:8080/"
        },
        "id": "nC0MPu9pbHzc",
        "outputId": "dfb731c6-d0a0-458b-a50b-c482120ad332"
      },
      "execution_count": null,
      "outputs": [
        {
          "output_type": "stream",
          "name": "stdout",
          "text": [
            "7 {-34: -34, 7: 7, -18: -18, 27: 27, 2: 2, 37: 37, -50: -50, -36: -36, -7: -7, 31: 31, 23: 23, 5: 5, -10: -10, -3: -3, 45: 45, 20: 20, -16: -16, 38: 38, 6: 6} [7]\n"
          ]
        }
      ]
    },
    {
      "cell_type": "code",
      "source": [
        "for i in range(0,len(p1)):\n",
        "  if p[p1[i]]==0:\n",
        "    q = max(p1[i],q)"
      ],
      "metadata": {
        "id": "aQdDWCe1bLk1"
      },
      "execution_count": null,
      "outputs": []
    },
    {
      "cell_type": "code",
      "source": [
        "q"
      ],
      "metadata": {
        "colab": {
          "base_uri": "https://localhost:8080/"
        },
        "id": "O5tnxo2LcNt0",
        "outputId": "6a63e6ed-5d8e-432c-a40c-f290f461a860"
      },
      "execution_count": null,
      "outputs": [
        {
          "output_type": "execute_result",
          "data": {
            "text/plain": [
              "7"
            ]
          },
          "metadata": {},
          "execution_count": 34
        }
      ]
    },
    {
      "cell_type": "code",
      "source": [
        "time = \"??:??\""
      ],
      "metadata": {
        "id": "TZrp1FpYcnnC"
      },
      "execution_count": null,
      "outputs": []
    },
    {
      "cell_type": "code",
      "source": [
        "H(\"25:69\")"
      ],
      "metadata": {
        "colab": {
          "base_uri": "https://localhost:8080/"
        },
        "id": "tZWVEvorJc10",
        "outputId": "8f6cf82c-c4ac-4245-b3bd-ae2f989d0339"
      },
      "execution_count": null,
      "outputs": [
        {
          "output_type": "execute_result",
          "data": {
            "text/plain": [
              "False"
            ]
          },
          "metadata": {},
          "execution_count": 7
        }
      ]
    },
    {
      "cell_type": "code",
      "source": [
        "e = time.count(\"?\")\n"
      ],
      "metadata": {
        "id": "vuC8RQu3Jcq7"
      },
      "execution_count": null,
      "outputs": []
    },
    {
      "cell_type": "code",
      "source": [
        "def H(s):\n",
        "  p = False\n",
        "  if 00 <= int(s[0:2]) <= 23 and 00 <= int(s[3:5]) <= 59:\n",
        "    p = True\n",
        "  return p \n"
      ],
      "metadata": {
        "id": "TiAS0COmIYPb"
      },
      "execution_count": null,
      "outputs": []
    },
    {
      "cell_type": "code",
      "source": [
        "t = 1\n",
        "if time[3] == \"?\": t *= 6\n",
        "if time[4] == \"?\": t *= 10\n",
        "if time[0:2]== \"??\":\n",
        "  t *= 24\n",
        "elif time[0] == \"?\" and time[1] != \"?\" :\n",
        "  if time[1] in [\"4\",\"5\",\"6\",\"7\",\"8\",\"9\"]:\n",
        "    t *= 2\n",
        "  else:\n",
        "    t *=3\n",
        "elif time[1] == \"?\" and time[0] != \"?\":\n",
        "  if time[0] in [\"3\",\"2\",\"4\",\"5\",\"6\",\"7\",\"8\",\"9\"]:\n",
        "    t *= 4\n",
        "  else:\n",
        "    t *=10\n",
        "\n",
        "\n",
        "\n"
      ],
      "metadata": {
        "id": "U2Jq0b3pfRYT"
      },
      "execution_count": null,
      "outputs": []
    },
    {
      "cell_type": "code",
      "source": [
        "class Solution:\n",
        "    def canCompleteCircuit(self, gas: List[int], cost: List[int]) -> int:\n",
        "        if sum(gas)< sum(cost):\n",
        "            return -1\n",
        "        \n",
        "        curr_tank, start, n = 0, 0, len(gas)\n",
        "        for i in range(n):\n",
        "            curr_tank += gas[i] - cost[i]\n",
        "            if curr_tank < 0:\n",
        "                start = i + 1\n",
        "                curr_tank = 0 \n",
        "        return start"
      ],
      "metadata": {
        "colab": {
          "base_uri": "https://localhost:8080/"
        },
        "id": "Vlu8yZGKKDzI",
        "outputId": "09800236-400a-4de3-e5c9-73dacc2c7666"
      },
      "execution_count": null,
      "outputs": [
        {
          "output_type": "execute_result",
          "data": {
            "text/plain": [
              "[0, 1, 3, 4]"
            ]
          },
          "metadata": {},
          "execution_count": 13
        }
      ]
    },
    {
      "cell_type": "code",
      "source": [
        "gas1 = [2,3,4]\n",
        "cost1 = [3,4,3]"
      ],
      "metadata": {
        "id": "TEfrl-C6KFD6"
      },
      "execution_count": null,
      "outputs": []
    },
    {
      "cell_type": "code",
      "source": [
        "gas1.append(gas1[0])\n",
        "cost1.append(cost1[0])\n",
        "p = -1\n",
        "for i in range(0,len(gas1)-1):\n",
        "  if H(gas1,cost1):\n",
        "    p = i\n",
        "    break\n",
        "  gas1.pop(0)\n",
        "  cost1.pop(0)\n",
        "  gas1.append(gas1[0])\n",
        "  cost1.append(cost1[0])\n",
        "print(p)"
      ],
      "metadata": {
        "colab": {
          "base_uri": "https://localhost:8080/"
        },
        "id": "ddJ1D7rM5VCq",
        "outputId": "64146185-9da0-42b6-83c7-39246301bc06"
      },
      "execution_count": null,
      "outputs": [
        {
          "output_type": "stream",
          "name": "stdout",
          "text": [
            "2\n",
            "2\n",
            "2\n",
            "1\n",
            "3\n",
            "3\n",
            "2\n",
            "1\n",
            "4\n",
            "3\n",
            "2\n",
            "2\n",
            "2\n",
            "1\n",
            "1\n",
            "1\n",
            "-1\n"
          ]
        }
      ]
    },
    {
      "cell_type": "code",
      "source": [
        "def H(gas,cost):\n",
        "  r = True\n",
        "  tank = gas[0]\n",
        "  for i in range(1,len(gas)):\n",
        "    print(tank)\n",
        "    if i== len(gas)-1:\n",
        "      tank= tank-gas[i]\n",
        "    else:\n",
        "      tank = tank - cost[i-1] + gas[i]\n",
        "    if tank < 0:\n",
        "      r = False\n",
        "      break\n",
        "  return r\n",
        "  "
      ],
      "metadata": {
        "id": "eGztxL9P1A4j"
      },
      "execution_count": null,
      "outputs": []
    },
    {
      "cell_type": "code",
      "source": [
        "p = -1\n",
        "for i in range(len(gas1)):\n",
        "  if H(gas1,cost1,i+1):\n",
        "    p= i\n",
        "    break\n",
        "print(p)\n",
        "  \n"
      ],
      "metadata": {
        "colab": {
          "base_uri": "https://localhost:8080/"
        },
        "id": "bmu25JHz38Jc",
        "outputId": "2fe25edd-36c7-45c2-b22f-82925014e952"
      },
      "execution_count": null,
      "outputs": [
        {
          "output_type": "stream",
          "name": "stdout",
          "text": [
            "[1, 2, 3, 4, 5, 1, 1, 2, 1, 2, 3, 1, 2, 3, 4, 1, 2, 3, 4, 5, 1] [3, 4, 5, 1, 2, 3, 3, 4, 3, 4, 5, 3, 4, 5, 1, 3, 4, 5, 1, 2, 3]\n",
            "[1, 2, 3, 4, 5, 1, 1, 2, 1, 2, 3, 1, 2, 3, 4, 1, 2, 3, 4, 5, 1, 1, 2] [3, 4, 5, 1, 2, 3, 3, 4, 3, 4, 5, 3, 4, 5, 1, 3, 4, 5, 1, 2, 3, 3, 4]\n",
            "[1, 2, 3, 4, 5, 1, 1, 2, 1, 2, 3, 1, 2, 3, 4, 1, 2, 3, 4, 5, 1, 1, 2, 1, 2, 3] [3, 4, 5, 1, 2, 3, 3, 4, 3, 4, 5, 3, 4, 5, 1, 3, 4, 5, 1, 2, 3, 3, 4, 3, 4, 5]\n",
            "[1, 2, 3, 4, 5, 1, 1, 2, 1, 2, 3, 1, 2, 3, 4, 1, 2, 3, 4, 5, 1, 1, 2, 1, 2, 3, 1, 2, 3, 4] [3, 4, 5, 1, 2, 3, 3, 4, 3, 4, 5, 3, 4, 5, 1, 3, 4, 5, 1, 2, 3, 3, 4, 3, 4, 5, 3, 4, 5, 1]\n",
            "[1, 2, 3, 4, 5, 1, 1, 2, 1, 2, 3, 1, 2, 3, 4, 1, 2, 3, 4, 5, 1, 1, 2, 1, 2, 3, 1, 2, 3, 4, 1, 2, 3, 4, 5] [3, 4, 5, 1, 2, 3, 3, 4, 3, 4, 5, 3, 4, 5, 1, 3, 4, 5, 1, 2, 3, 3, 4, 3, 4, 5, 3, 4, 5, 1, 3, 4, 5, 1, 2]\n",
            "[1, 2, 3, 4, 5, 1, 1, 2, 1, 2, 3, 1, 2, 3, 4, 1, 2, 3, 4, 5, 1, 1, 2, 1, 2, 3, 1, 2, 3, 4, 1, 2, 3, 4, 5, 1, 2, 3, 4, 5, 1] [3, 4, 5, 1, 2, 3, 3, 4, 3, 4, 5, 3, 4, 5, 1, 3, 4, 5, 1, 2, 3, 3, 4, 3, 4, 5, 3, 4, 5, 1, 3, 4, 5, 1, 2, 3, 4, 5, 1, 2, 3]\n",
            "[1, 2, 3, 4, 5, 1, 1, 2, 1, 2, 3, 1, 2, 3, 4, 1, 2, 3, 4, 5, 1, 1, 2, 1, 2, 3, 1, 2, 3, 4, 1, 2, 3, 4, 5, 1, 2, 3, 4, 5, 1, 1, 2, 3, 4, 5, 1, 1] [3, 4, 5, 1, 2, 3, 3, 4, 3, 4, 5, 3, 4, 5, 1, 3, 4, 5, 1, 2, 3, 3, 4, 3, 4, 5, 3, 4, 5, 1, 3, 4, 5, 1, 2, 3, 4, 5, 1, 2, 3, 3, 4, 5, 1, 2, 3, 3]\n",
            "[1, 2, 3, 4, 5, 1, 1, 2, 1, 2, 3, 1, 2, 3, 4, 1, 2, 3, 4, 5, 1, 1, 2, 1, 2, 3, 1, 2, 3, 4, 1, 2, 3, 4, 5, 1, 2, 3, 4, 5, 1, 1, 2, 3, 4, 5, 1, 1, 1, 2, 3, 4, 5, 1, 1, 2] [3, 4, 5, 1, 2, 3, 3, 4, 3, 4, 5, 3, 4, 5, 1, 3, 4, 5, 1, 2, 3, 3, 4, 3, 4, 5, 3, 4, 5, 1, 3, 4, 5, 1, 2, 3, 4, 5, 1, 2, 3, 3, 4, 5, 1, 2, 3, 3, 3, 4, 5, 1, 2, 3, 3, 4]\n",
            "[1, 2, 3, 4, 5, 1, 1, 2, 1, 2, 3, 1, 2, 3, 4, 1, 2, 3, 4, 5, 1, 1, 2, 1, 2, 3, 1, 2, 3, 4, 1, 2, 3, 4, 5, 1, 2, 3, 4, 5, 1, 1, 2, 3, 4, 5, 1, 1, 1, 2, 3, 4, 5, 1, 1, 2, 1, 2, 3, 4, 5, 1, 1, 2, 1] [3, 4, 5, 1, 2, 3, 3, 4, 3, 4, 5, 3, 4, 5, 1, 3, 4, 5, 1, 2, 3, 3, 4, 3, 4, 5, 3, 4, 5, 1, 3, 4, 5, 1, 2, 3, 4, 5, 1, 2, 3, 3, 4, 5, 1, 2, 3, 3, 3, 4, 5, 1, 2, 3, 3, 4, 3, 4, 5, 1, 2, 3, 3, 4, 3]\n",
            "[1, 2, 3, 4, 5, 1, 1, 2, 1, 2, 3, 1, 2, 3, 4, 1, 2, 3, 4, 5, 1, 1, 2, 1, 2, 3, 1, 2, 3, 4, 1, 2, 3, 4, 5, 1, 2, 3, 4, 5, 1, 1, 2, 3, 4, 5, 1, 1, 1, 2, 3, 4, 5, 1, 1, 2, 1, 2, 3, 4, 5, 1, 1, 2, 1, 1, 2, 3, 4, 5, 1, 1, 2, 1, 2] [3, 4, 5, 1, 2, 3, 3, 4, 3, 4, 5, 3, 4, 5, 1, 3, 4, 5, 1, 2, 3, 3, 4, 3, 4, 5, 3, 4, 5, 1, 3, 4, 5, 1, 2, 3, 4, 5, 1, 2, 3, 3, 4, 5, 1, 2, 3, 3, 3, 4, 5, 1, 2, 3, 3, 4, 3, 4, 5, 1, 2, 3, 3, 4, 3, 3, 4, 5, 1, 2, 3, 3, 4, 3, 4]\n",
            "[1, 2, 3, 4, 5, 1, 1, 2, 1, 2, 3, 1, 2, 3, 4, 1, 2, 3, 4, 5, 1, 1, 2, 1, 2, 3, 1, 2, 3, 4, 1, 2, 3, 4, 5, 1, 2, 3, 4, 5, 1, 1, 2, 3, 4, 5, 1, 1, 1, 2, 3, 4, 5, 1, 1, 2, 1, 2, 3, 4, 5, 1, 1, 2, 1, 1, 2, 3, 4, 5, 1, 1, 2, 1, 2, 1, 2, 3, 4, 5, 1, 1, 2, 1, 2, 3] [3, 4, 5, 1, 2, 3, 3, 4, 3, 4, 5, 3, 4, 5, 1, 3, 4, 5, 1, 2, 3, 3, 4, 3, 4, 5, 3, 4, 5, 1, 3, 4, 5, 1, 2, 3, 4, 5, 1, 2, 3, 3, 4, 5, 1, 2, 3, 3, 3, 4, 5, 1, 2, 3, 3, 4, 3, 4, 5, 1, 2, 3, 3, 4, 3, 3, 4, 5, 1, 2, 3, 3, 4, 3, 4, 3, 4, 5, 1, 2, 3, 3, 4, 3, 4, 5]\n",
            "[1, 2, 3, 4, 5, 1, 1, 2, 1, 2, 3, 1, 2, 3, 4, 1, 2, 3, 4, 5, 1, 1, 2, 1, 2, 3, 1, 2, 3, 4, 1, 2, 3, 4, 5, 1, 2, 3, 4, 5, 1, 1, 2, 3, 4, 5, 1, 1, 1, 2, 3, 4, 5, 1, 1, 2, 1, 2, 3, 4, 5, 1, 1, 2, 1, 1, 2, 3, 4, 5, 1, 1, 2, 1, 2, 1, 2, 3, 4, 5, 1, 1, 2, 1, 2, 3, 1, 2, 3, 4, 5, 1, 1, 2, 1, 2, 3, 1] [3, 4, 5, 1, 2, 3, 3, 4, 3, 4, 5, 3, 4, 5, 1, 3, 4, 5, 1, 2, 3, 3, 4, 3, 4, 5, 3, 4, 5, 1, 3, 4, 5, 1, 2, 3, 4, 5, 1, 2, 3, 3, 4, 5, 1, 2, 3, 3, 3, 4, 5, 1, 2, 3, 3, 4, 3, 4, 5, 1, 2, 3, 3, 4, 3, 3, 4, 5, 1, 2, 3, 3, 4, 3, 4, 3, 4, 5, 1, 2, 3, 3, 4, 3, 4, 5, 3, 4, 5, 1, 2, 3, 3, 4, 3, 4, 5, 3]\n",
            "[1, 2, 3, 4, 5, 1, 1, 2, 1, 2, 3, 1, 2, 3, 4, 1, 2, 3, 4, 5, 1, 1, 2, 1, 2, 3, 1, 2, 3, 4, 1, 2, 3, 4, 5, 1, 2, 3, 4, 5, 1, 1, 2, 3, 4, 5, 1, 1, 1, 2, 3, 4, 5, 1, 1, 2, 1, 2, 3, 4, 5, 1, 1, 2, 1, 1, 2, 3, 4, 5, 1, 1, 2, 1, 2, 1, 2, 3, 4, 5, 1, 1, 2, 1, 2, 3, 1, 2, 3, 4, 5, 1, 1, 2, 1, 2, 3, 1, 1, 2, 3, 4, 5, 1, 1, 2, 1, 2, 3, 1, 2] [3, 4, 5, 1, 2, 3, 3, 4, 3, 4, 5, 3, 4, 5, 1, 3, 4, 5, 1, 2, 3, 3, 4, 3, 4, 5, 3, 4, 5, 1, 3, 4, 5, 1, 2, 3, 4, 5, 1, 2, 3, 3, 4, 5, 1, 2, 3, 3, 3, 4, 5, 1, 2, 3, 3, 4, 3, 4, 5, 1, 2, 3, 3, 4, 3, 3, 4, 5, 1, 2, 3, 3, 4, 3, 4, 3, 4, 5, 1, 2, 3, 3, 4, 3, 4, 5, 3, 4, 5, 1, 2, 3, 3, 4, 3, 4, 5, 3, 3, 4, 5, 1, 2, 3, 3, 4, 3, 4, 5, 3, 4]\n",
            "[1, 2, 3, 4, 5, 1, 1, 2, 1, 2, 3, 1, 2, 3, 4, 1, 2, 3, 4, 5, 1, 1, 2, 1, 2, 3, 1, 2, 3, 4, 1, 2, 3, 4, 5, 1, 2, 3, 4, 5, 1, 1, 2, 3, 4, 5, 1, 1, 1, 2, 3, 4, 5, 1, 1, 2, 1, 2, 3, 4, 5, 1, 1, 2, 1, 1, 2, 3, 4, 5, 1, 1, 2, 1, 2, 1, 2, 3, 4, 5, 1, 1, 2, 1, 2, 3, 1, 2, 3, 4, 5, 1, 1, 2, 1, 2, 3, 1, 1, 2, 3, 4, 5, 1, 1, 2, 1, 2, 3, 1, 2, 1, 2, 3, 4, 5, 1, 1, 2, 1, 2, 3, 1, 2, 3] [3, 4, 5, 1, 2, 3, 3, 4, 3, 4, 5, 3, 4, 5, 1, 3, 4, 5, 1, 2, 3, 3, 4, 3, 4, 5, 3, 4, 5, 1, 3, 4, 5, 1, 2, 3, 4, 5, 1, 2, 3, 3, 4, 5, 1, 2, 3, 3, 3, 4, 5, 1, 2, 3, 3, 4, 3, 4, 5, 1, 2, 3, 3, 4, 3, 3, 4, 5, 1, 2, 3, 3, 4, 3, 4, 3, 4, 5, 1, 2, 3, 3, 4, 3, 4, 5, 3, 4, 5, 1, 2, 3, 3, 4, 3, 4, 5, 3, 3, 4, 5, 1, 2, 3, 3, 4, 3, 4, 5, 3, 4, 3, 4, 5, 1, 2, 3, 3, 4, 3, 4, 5, 3, 4, 5]\n",
            "[1, 2, 3, 4, 5, 1, 1, 2, 1, 2, 3, 1, 2, 3, 4, 1, 2, 3, 4, 5, 1, 1, 2, 1, 2, 3, 1, 2, 3, 4, 1, 2, 3, 4, 5, 1, 2, 3, 4, 5, 1, 1, 2, 3, 4, 5, 1, 1, 1, 2, 3, 4, 5, 1, 1, 2, 1, 2, 3, 4, 5, 1, 1, 2, 1, 1, 2, 3, 4, 5, 1, 1, 2, 1, 2, 1, 2, 3, 4, 5, 1, 1, 2, 1, 2, 3, 1, 2, 3, 4, 5, 1, 1, 2, 1, 2, 3, 1, 1, 2, 3, 4, 5, 1, 1, 2, 1, 2, 3, 1, 2, 1, 2, 3, 4, 5, 1, 1, 2, 1, 2, 3, 1, 2, 3, 1, 2, 3, 4, 5, 1, 1, 2, 1, 2, 3, 1, 2, 3, 4] [3, 4, 5, 1, 2, 3, 3, 4, 3, 4, 5, 3, 4, 5, 1, 3, 4, 5, 1, 2, 3, 3, 4, 3, 4, 5, 3, 4, 5, 1, 3, 4, 5, 1, 2, 3, 4, 5, 1, 2, 3, 3, 4, 5, 1, 2, 3, 3, 3, 4, 5, 1, 2, 3, 3, 4, 3, 4, 5, 1, 2, 3, 3, 4, 3, 3, 4, 5, 1, 2, 3, 3, 4, 3, 4, 3, 4, 5, 1, 2, 3, 3, 4, 3, 4, 5, 3, 4, 5, 1, 2, 3, 3, 4, 3, 4, 5, 3, 3, 4, 5, 1, 2, 3, 3, 4, 3, 4, 5, 3, 4, 3, 4, 5, 1, 2, 3, 3, 4, 3, 4, 5, 3, 4, 5, 3, 4, 5, 1, 2, 3, 3, 4, 3, 4, 5, 3, 4, 5, 1]\n",
            "[1, 2, 3, 4, 5, 1, 1, 2, 1, 2, 3, 1, 2, 3, 4, 1, 2, 3, 4, 5, 1, 1, 2, 1, 2, 3, 1, 2, 3, 4, 1, 2, 3, 4, 5, 1, 2, 3, 4, 5, 1, 1, 2, 3, 4, 5, 1, 1, 1, 2, 3, 4, 5, 1, 1, 2, 1, 2, 3, 4, 5, 1, 1, 2, 1, 1, 2, 3, 4, 5, 1, 1, 2, 1, 2, 1, 2, 3, 4, 5, 1, 1, 2, 1, 2, 3, 1, 2, 3, 4, 5, 1, 1, 2, 1, 2, 3, 1, 1, 2, 3, 4, 5, 1, 1, 2, 1, 2, 3, 1, 2, 1, 2, 3, 4, 5, 1, 1, 2, 1, 2, 3, 1, 2, 3, 1, 2, 3, 4, 5, 1, 1, 2, 1, 2, 3, 1, 2, 3, 4, 1, 2, 3, 4, 5, 1, 1, 2, 1, 2, 3, 1, 2, 3, 4, 1] [3, 4, 5, 1, 2, 3, 3, 4, 3, 4, 5, 3, 4, 5, 1, 3, 4, 5, 1, 2, 3, 3, 4, 3, 4, 5, 3, 4, 5, 1, 3, 4, 5, 1, 2, 3, 4, 5, 1, 2, 3, 3, 4, 5, 1, 2, 3, 3, 3, 4, 5, 1, 2, 3, 3, 4, 3, 4, 5, 1, 2, 3, 3, 4, 3, 3, 4, 5, 1, 2, 3, 3, 4, 3, 4, 3, 4, 5, 1, 2, 3, 3, 4, 3, 4, 5, 3, 4, 5, 1, 2, 3, 3, 4, 3, 4, 5, 3, 3, 4, 5, 1, 2, 3, 3, 4, 3, 4, 5, 3, 4, 3, 4, 5, 1, 2, 3, 3, 4, 3, 4, 5, 3, 4, 5, 3, 4, 5, 1, 2, 3, 3, 4, 3, 4, 5, 3, 4, 5, 1, 3, 4, 5, 1, 2, 3, 3, 4, 3, 4, 5, 3, 4, 5, 1, 3]\n",
            "[1, 2, 3, 4, 5, 1, 1, 2, 1, 2, 3, 1, 2, 3, 4, 1, 2, 3, 4, 5, 1, 1, 2, 1, 2, 3, 1, 2, 3, 4, 1, 2, 3, 4, 5, 1, 2, 3, 4, 5, 1, 1, 2, 3, 4, 5, 1, 1, 1, 2, 3, 4, 5, 1, 1, 2, 1, 2, 3, 4, 5, 1, 1, 2, 1, 1, 2, 3, 4, 5, 1, 1, 2, 1, 2, 1, 2, 3, 4, 5, 1, 1, 2, 1, 2, 3, 1, 2, 3, 4, 5, 1, 1, 2, 1, 2, 3, 1, 1, 2, 3, 4, 5, 1, 1, 2, 1, 2, 3, 1, 2, 1, 2, 3, 4, 5, 1, 1, 2, 1, 2, 3, 1, 2, 3, 1, 2, 3, 4, 5, 1, 1, 2, 1, 2, 3, 1, 2, 3, 4, 1, 2, 3, 4, 5, 1, 1, 2, 1, 2, 3, 1, 2, 3, 4, 1, 1, 2, 3, 4, 5, 1, 1, 2, 1, 2, 3, 1, 2, 3, 4, 1, 2] [3, 4, 5, 1, 2, 3, 3, 4, 3, 4, 5, 3, 4, 5, 1, 3, 4, 5, 1, 2, 3, 3, 4, 3, 4, 5, 3, 4, 5, 1, 3, 4, 5, 1, 2, 3, 4, 5, 1, 2, 3, 3, 4, 5, 1, 2, 3, 3, 3, 4, 5, 1, 2, 3, 3, 4, 3, 4, 5, 1, 2, 3, 3, 4, 3, 3, 4, 5, 1, 2, 3, 3, 4, 3, 4, 3, 4, 5, 1, 2, 3, 3, 4, 3, 4, 5, 3, 4, 5, 1, 2, 3, 3, 4, 3, 4, 5, 3, 3, 4, 5, 1, 2, 3, 3, 4, 3, 4, 5, 3, 4, 3, 4, 5, 1, 2, 3, 3, 4, 3, 4, 5, 3, 4, 5, 3, 4, 5, 1, 2, 3, 3, 4, 3, 4, 5, 3, 4, 5, 1, 3, 4, 5, 1, 2, 3, 3, 4, 3, 4, 5, 3, 4, 5, 1, 3, 3, 4, 5, 1, 2, 3, 3, 4, 3, 4, 5, 3, 4, 5, 1, 3, 4]\n",
            "[1, 2, 3, 4, 5, 1, 1, 2, 1, 2, 3, 1, 2, 3, 4, 1, 2, 3, 4, 5, 1, 1, 2, 1, 2, 3, 1, 2, 3, 4, 1, 2, 3, 4, 5, 1, 2, 3, 4, 5, 1, 1, 2, 3, 4, 5, 1, 1, 1, 2, 3, 4, 5, 1, 1, 2, 1, 2, 3, 4, 5, 1, 1, 2, 1, 1, 2, 3, 4, 5, 1, 1, 2, 1, 2, 1, 2, 3, 4, 5, 1, 1, 2, 1, 2, 3, 1, 2, 3, 4, 5, 1, 1, 2, 1, 2, 3, 1, 1, 2, 3, 4, 5, 1, 1, 2, 1, 2, 3, 1, 2, 1, 2, 3, 4, 5, 1, 1, 2, 1, 2, 3, 1, 2, 3, 1, 2, 3, 4, 5, 1, 1, 2, 1, 2, 3, 1, 2, 3, 4, 1, 2, 3, 4, 5, 1, 1, 2, 1, 2, 3, 1, 2, 3, 4, 1, 1, 2, 3, 4, 5, 1, 1, 2, 1, 2, 3, 1, 2, 3, 4, 1, 2, 1, 2, 3, 4, 5, 1, 1, 2, 1, 2, 3, 1, 2, 3, 4, 1, 2, 3] [3, 4, 5, 1, 2, 3, 3, 4, 3, 4, 5, 3, 4, 5, 1, 3, 4, 5, 1, 2, 3, 3, 4, 3, 4, 5, 3, 4, 5, 1, 3, 4, 5, 1, 2, 3, 4, 5, 1, 2, 3, 3, 4, 5, 1, 2, 3, 3, 3, 4, 5, 1, 2, 3, 3, 4, 3, 4, 5, 1, 2, 3, 3, 4, 3, 3, 4, 5, 1, 2, 3, 3, 4, 3, 4, 3, 4, 5, 1, 2, 3, 3, 4, 3, 4, 5, 3, 4, 5, 1, 2, 3, 3, 4, 3, 4, 5, 3, 3, 4, 5, 1, 2, 3, 3, 4, 3, 4, 5, 3, 4, 3, 4, 5, 1, 2, 3, 3, 4, 3, 4, 5, 3, 4, 5, 3, 4, 5, 1, 2, 3, 3, 4, 3, 4, 5, 3, 4, 5, 1, 3, 4, 5, 1, 2, 3, 3, 4, 3, 4, 5, 3, 4, 5, 1, 3, 3, 4, 5, 1, 2, 3, 3, 4, 3, 4, 5, 3, 4, 5, 1, 3, 4, 3, 4, 5, 1, 2, 3, 3, 4, 3, 4, 5, 3, 4, 5, 1, 3, 4, 5]\n",
            "[1, 2, 3, 4, 5, 1, 1, 2, 1, 2, 3, 1, 2, 3, 4, 1, 2, 3, 4, 5, 1, 1, 2, 1, 2, 3, 1, 2, 3, 4, 1, 2, 3, 4, 5, 1, 2, 3, 4, 5, 1, 1, 2, 3, 4, 5, 1, 1, 1, 2, 3, 4, 5, 1, 1, 2, 1, 2, 3, 4, 5, 1, 1, 2, 1, 1, 2, 3, 4, 5, 1, 1, 2, 1, 2, 1, 2, 3, 4, 5, 1, 1, 2, 1, 2, 3, 1, 2, 3, 4, 5, 1, 1, 2, 1, 2, 3, 1, 1, 2, 3, 4, 5, 1, 1, 2, 1, 2, 3, 1, 2, 1, 2, 3, 4, 5, 1, 1, 2, 1, 2, 3, 1, 2, 3, 1, 2, 3, 4, 5, 1, 1, 2, 1, 2, 3, 1, 2, 3, 4, 1, 2, 3, 4, 5, 1, 1, 2, 1, 2, 3, 1, 2, 3, 4, 1, 1, 2, 3, 4, 5, 1, 1, 2, 1, 2, 3, 1, 2, 3, 4, 1, 2, 1, 2, 3, 4, 5, 1, 1, 2, 1, 2, 3, 1, 2, 3, 4, 1, 2, 3, 1, 2, 3, 4, 5, 1, 1, 2, 1, 2, 3, 1, 2, 3, 4, 1, 2, 3, 4] [3, 4, 5, 1, 2, 3, 3, 4, 3, 4, 5, 3, 4, 5, 1, 3, 4, 5, 1, 2, 3, 3, 4, 3, 4, 5, 3, 4, 5, 1, 3, 4, 5, 1, 2, 3, 4, 5, 1, 2, 3, 3, 4, 5, 1, 2, 3, 3, 3, 4, 5, 1, 2, 3, 3, 4, 3, 4, 5, 1, 2, 3, 3, 4, 3, 3, 4, 5, 1, 2, 3, 3, 4, 3, 4, 3, 4, 5, 1, 2, 3, 3, 4, 3, 4, 5, 3, 4, 5, 1, 2, 3, 3, 4, 3, 4, 5, 3, 3, 4, 5, 1, 2, 3, 3, 4, 3, 4, 5, 3, 4, 3, 4, 5, 1, 2, 3, 3, 4, 3, 4, 5, 3, 4, 5, 3, 4, 5, 1, 2, 3, 3, 4, 3, 4, 5, 3, 4, 5, 1, 3, 4, 5, 1, 2, 3, 3, 4, 3, 4, 5, 3, 4, 5, 1, 3, 3, 4, 5, 1, 2, 3, 3, 4, 3, 4, 5, 3, 4, 5, 1, 3, 4, 3, 4, 5, 1, 2, 3, 3, 4, 3, 4, 5, 3, 4, 5, 1, 3, 4, 5, 3, 4, 5, 1, 2, 3, 3, 4, 3, 4, 5, 3, 4, 5, 1, 3, 4, 5, 1]\n",
            "[1, 2, 3, 4, 5, 1, 1, 2, 1, 2, 3, 1, 2, 3, 4, 1, 2, 3, 4, 5, 1, 1, 2, 1, 2, 3, 1, 2, 3, 4, 1, 2, 3, 4, 5, 1, 2, 3, 4, 5, 1, 1, 2, 3, 4, 5, 1, 1, 1, 2, 3, 4, 5, 1, 1, 2, 1, 2, 3, 4, 5, 1, 1, 2, 1, 1, 2, 3, 4, 5, 1, 1, 2, 1, 2, 1, 2, 3, 4, 5, 1, 1, 2, 1, 2, 3, 1, 2, 3, 4, 5, 1, 1, 2, 1, 2, 3, 1, 1, 2, 3, 4, 5, 1, 1, 2, 1, 2, 3, 1, 2, 1, 2, 3, 4, 5, 1, 1, 2, 1, 2, 3, 1, 2, 3, 1, 2, 3, 4, 5, 1, 1, 2, 1, 2, 3, 1, 2, 3, 4, 1, 2, 3, 4, 5, 1, 1, 2, 1, 2, 3, 1, 2, 3, 4, 1, 1, 2, 3, 4, 5, 1, 1, 2, 1, 2, 3, 1, 2, 3, 4, 1, 2, 1, 2, 3, 4, 5, 1, 1, 2, 1, 2, 3, 1, 2, 3, 4, 1, 2, 3, 1, 2, 3, 4, 5, 1, 1, 2, 1, 2, 3, 1, 2, 3, 4, 1, 2, 3, 4, 1, 2, 3, 4, 5, 1, 1, 2, 1, 2, 3, 1, 2, 3, 4, 1, 2, 3, 4, 5] [3, 4, 5, 1, 2, 3, 3, 4, 3, 4, 5, 3, 4, 5, 1, 3, 4, 5, 1, 2, 3, 3, 4, 3, 4, 5, 3, 4, 5, 1, 3, 4, 5, 1, 2, 3, 4, 5, 1, 2, 3, 3, 4, 5, 1, 2, 3, 3, 3, 4, 5, 1, 2, 3, 3, 4, 3, 4, 5, 1, 2, 3, 3, 4, 3, 3, 4, 5, 1, 2, 3, 3, 4, 3, 4, 3, 4, 5, 1, 2, 3, 3, 4, 3, 4, 5, 3, 4, 5, 1, 2, 3, 3, 4, 3, 4, 5, 3, 3, 4, 5, 1, 2, 3, 3, 4, 3, 4, 5, 3, 4, 3, 4, 5, 1, 2, 3, 3, 4, 3, 4, 5, 3, 4, 5, 3, 4, 5, 1, 2, 3, 3, 4, 3, 4, 5, 3, 4, 5, 1, 3, 4, 5, 1, 2, 3, 3, 4, 3, 4, 5, 3, 4, 5, 1, 3, 3, 4, 5, 1, 2, 3, 3, 4, 3, 4, 5, 3, 4, 5, 1, 3, 4, 3, 4, 5, 1, 2, 3, 3, 4, 3, 4, 5, 3, 4, 5, 1, 3, 4, 5, 3, 4, 5, 1, 2, 3, 3, 4, 3, 4, 5, 3, 4, 5, 1, 3, 4, 5, 1, 3, 4, 5, 1, 2, 3, 3, 4, 3, 4, 5, 3, 4, 5, 1, 3, 4, 5, 1, 2]\n",
            "-1\n"
          ]
        }
      ]
    },
    {
      "cell_type": "code",
      "source": [
        "word = \"abcc\""
      ],
      "metadata": {
        "id": "TqF8CLfh4bxP"
      },
      "execution_count": null,
      "outputs": []
    },
    {
      "cell_type": "code",
      "source": [
        "p = {}\n",
        "for i in range(len(word)):\n",
        "  if word[i] not in p.keys():\n",
        "    p[word[i]]=1\n",
        "  else:\n",
        "    p[word[i]] += 1\n",
        "op = list(p.values())\n",
        "print(op)\n",
        "if len(set(op))==2:\n",
        "  print(1)\n",
        "  p12 = False\n",
        "  de = op[0]\n",
        "  for i in range(1,len(op)):\n",
        "    if de != op[i]:\n",
        "      if abs(de-op[i])==1:\n",
        "        p12 = True\n",
        "else:\n",
        "  p12 = False\n",
        "print(p12)\n",
        "  "
      ],
      "metadata": {
        "colab": {
          "base_uri": "https://localhost:8080/"
        },
        "id": "g0GB8j5DoW4M",
        "outputId": "277935ae-0f72-4216-cac5-c54374c9d3ec"
      },
      "execution_count": null,
      "outputs": [
        {
          "output_type": "stream",
          "name": "stdout",
          "text": [
            "[1, 1, 2]\n",
            "1\n",
            "True\n"
          ]
        }
      ]
    },
    {
      "cell_type": "code",
      "source": [
        "\n",
        "        for i in range(len(word)):\n",
        "            \n",
        "            if len(set(Counter(word[:i]+word[i+1:]).values()))==1:\n",
        "                return True\n",
        "        \n",
        "        return False\n",
        "if set(op)==2:\n",
        "  p12 = False\n",
        "  de = op[0]\n",
        "  for i in range(1,len(op)):\n",
        "    if de != op[i]:\n",
        "      if abs(de-op[i])==1:\n",
        "        p12 = True\n",
        "else:\n",
        "  p12 = False\n",
        "  \n",
        "\n"
      ],
      "metadata": {
        "id": "Tw2wlXtSokB9"
      },
      "execution_count": null,
      "outputs": []
    },
    {
      "cell_type": "code",
      "source": [
        "aA = \"08-15\"\n",
        "lA = \"08-18\"\n",
        "aB = \"08-16\"\n",
        "lB = \"08-19\""
      ],
      "metadata": {
        "id": "UnY3FZntorO8"
      },
      "execution_count": null,
      "outputs": []
    },
    {
      "cell_type": "code",
      "source": [
        "def H(j):\n",
        "  q = [31,29,31,30,31,30,31,31,30,31,30,31]\n",
        "  p1= int(j[0:2])\n",
        "  p2 = int(j[3:5])\n",
        "  return p2 + sum(q[:p1])\n",
        "q1 = []\n",
        "q2 = []\n",
        "for i in range(H(aA), H(lA)+1):\n",
        "  q1.append(i)\n",
        "for i in range(H(aB),H(lB)+1):\n",
        "  q2.append(i)\n",
        "print(len(list(set(q1).intersection(q2))))"
      ],
      "metadata": {
        "colab": {
          "base_uri": "https://localhost:8080/"
        },
        "id": "fzG3rKTzvfbR",
        "outputId": "17a52c84-7fa5-4065-c32b-99120ff929c7"
      },
      "execution_count": null,
      "outputs": [
        {
          "output_type": "stream",
          "name": "stdout",
          "text": [
            "3\n"
          ]
        }
      ]
    },
    {
      "cell_type": "code",
      "source": [
        "q[1:2]"
      ],
      "metadata": {
        "colab": {
          "base_uri": "https://localhost:8080/",
          "height": 169
        },
        "id": "dx4YdXIKwYAE",
        "outputId": "190b223b-3019-4351-8ef4-c679eb7e5aff"
      },
      "execution_count": null,
      "outputs": [
        {
          "output_type": "error",
          "ename": "NameError",
          "evalue": "ignored",
          "traceback": [
            "\u001b[0;31m---------------------------------------------------------------------------\u001b[0m",
            "\u001b[0;31mNameError\u001b[0m                                 Traceback (most recent call last)",
            "\u001b[0;32m<ipython-input-22-1f16eb25dfc1>\u001b[0m in \u001b[0;36m<module>\u001b[0;34m\u001b[0m\n\u001b[0;32m----> 1\u001b[0;31m \u001b[0mq\u001b[0m\u001b[0;34m[\u001b[0m\u001b[0;36m1\u001b[0m\u001b[0;34m:\u001b[0m\u001b[0;36m2\u001b[0m\u001b[0;34m]\u001b[0m\u001b[0;34m\u001b[0m\u001b[0;34m\u001b[0m\u001b[0m\n\u001b[0m",
            "\u001b[0;31mNameError\u001b[0m: name 'q' is not defined"
          ]
        }
      ]
    },
    {
      "cell_type": "code",
      "source": [
        "p1= int(lA[0:2])\n",
        "p2 = int(lA[0:2])\n",
        "p3= int(aB[0:2])\n",
        "p4 = int(lB[0:2])"
      ],
      "metadata": {
        "id": "fWWimCQooro_"
      },
      "execution_count": null,
      "outputs": []
    },
    {
      "cell_type": "code",
      "source": [
        "if p1 in [1,3,5,7,8,10,12]\n",
        "class Solution:\n",
        "    def countDaysTogether(self, arriveAlice: str, leaveAlice: str, arriveBob: str, leaveBob: str) -> int:\n",
        "        return max(0, self.getDate(min(leaveAlice, leaveBob)) - self.getDate(max(arriveAlice, arriveBob)) + 1)\n",
        "    \n",
        "    def getDate(self, date):\n",
        "        monthList = [31, 28, 31, 30, 31, 30, 31, 31, 30, 31, 30, 31]\n",
        "        month = int(date[:2])\n",
        "        days = int(date[3:])\n",
        "        return sum(monthList[: month - 1]) + days"
      ],
      "metadata": {
        "id": "dyx2W9F5u4EU"
      },
      "execution_count": null,
      "outputs": []
    },
    {
      "cell_type": "code",
      "source": [
        "nums = [4,2,4]"
      ],
      "metadata": {
        "id": "FeqXKBRt1ijM"
      },
      "execution_count": null,
      "outputs": []
    },
    {
      "cell_type": "code",
      "source": [
        "for i in range(0,len(nums)-1):\n",
        "  for j in range(i+1,len(nums)-1):\n",
        "    print(nums[i:i+2],nums[j:j+2])"
      ],
      "metadata": {
        "colab": {
          "base_uri": "https://localhost:8080/"
        },
        "id": "BnCu--U11YK2",
        "outputId": "aac5b9df-194e-48f1-c9b0-92773abf3e7f"
      },
      "execution_count": null,
      "outputs": [
        {
          "output_type": "stream",
          "name": "stdout",
          "text": [
            "[4, 2] [2, 4]\n"
          ]
        }
      ]
    },
    {
      "cell_type": "code",
      "source": [
        "4\n",
        "3\n",
        "1 2 3\n",
        "2\n",
        "20 23\n",
        "10\n",
        "6 10 4 1 5 9 8 6 5 1\n",
        "1\n",
        "1000000000"
      ],
      "metadata": {
        "id": "aIJiCfsj1gXp"
      },
      "execution_count": null,
      "outputs": []
    },
    {
      "cell_type": "code",
      "source": [
        "n = int(input())\n",
        "p = []\n",
        "for i in range(0,n):\n",
        "  p2 = int(input())\n",
        "  p1 = list(map(int,input().split()))\n",
        "  p = 0\n",
        "  for i in range(0,p2):\n",
        "    if p1[i]%2 != 0:\n",
        "      p += 1\n",
        "  print(p)"
      ],
      "metadata": {
        "colab": {
          "base_uri": "https://localhost:8080/",
          "height": 409
        },
        "id": "vMx3Bg_wKX7T",
        "outputId": "48adbf3d-2376-4068-b07d-f40bf27df951"
      },
      "execution_count": null,
      "outputs": [
        {
          "name": "stdout",
          "output_type": "stream",
          "text": [
            "2\n"
          ]
        },
        {
          "output_type": "error",
          "ename": "KeyboardInterrupt",
          "evalue": "ignored",
          "traceback": [
            "\u001b[0;31m---------------------------------------------------------------------------\u001b[0m",
            "\u001b[0;31mKeyboardInterrupt\u001b[0m                         Traceback (most recent call last)",
            "\u001b[0;32m<ipython-input-2-810ebcf85cac>\u001b[0m in \u001b[0;36m<module>\u001b[0;34m\u001b[0m\n\u001b[1;32m      2\u001b[0m \u001b[0mp\u001b[0m \u001b[0;34m=\u001b[0m \u001b[0;34m[\u001b[0m\u001b[0;34m]\u001b[0m\u001b[0;34m\u001b[0m\u001b[0;34m\u001b[0m\u001b[0m\n\u001b[1;32m      3\u001b[0m \u001b[0;32mfor\u001b[0m \u001b[0mi\u001b[0m \u001b[0;32min\u001b[0m \u001b[0mrange\u001b[0m\u001b[0;34m(\u001b[0m\u001b[0;36m0\u001b[0m\u001b[0;34m,\u001b[0m\u001b[0mn\u001b[0m\u001b[0;34m)\u001b[0m\u001b[0;34m:\u001b[0m\u001b[0;34m\u001b[0m\u001b[0;34m\u001b[0m\u001b[0m\n\u001b[0;32m----> 4\u001b[0;31m   \u001b[0mp1\u001b[0m \u001b[0;34m=\u001b[0m \u001b[0mlist\u001b[0m\u001b[0;34m(\u001b[0m\u001b[0mmap\u001b[0m\u001b[0;34m(\u001b[0m\u001b[0mint\u001b[0m\u001b[0;34m,\u001b[0m\u001b[0minput\u001b[0m\u001b[0;34m(\u001b[0m\u001b[0;34m)\u001b[0m\u001b[0;34m.\u001b[0m\u001b[0msplit\u001b[0m\u001b[0;34m(\u001b[0m\u001b[0;34m)\u001b[0m\u001b[0;34m)\u001b[0m\u001b[0;34m)\u001b[0m\u001b[0;34m\u001b[0m\u001b[0;34m\u001b[0m\u001b[0m\n\u001b[0m\u001b[1;32m      5\u001b[0m   \u001b[0mp\u001b[0m \u001b[0;34m=\u001b[0m \u001b[0;36m0\u001b[0m\u001b[0;34m\u001b[0m\u001b[0;34m\u001b[0m\u001b[0m\n\u001b[1;32m      6\u001b[0m   \u001b[0;32mfor\u001b[0m \u001b[0mi\u001b[0m \u001b[0;32min\u001b[0m \u001b[0mrange\u001b[0m\u001b[0;34m(\u001b[0m\u001b[0;36m0\u001b[0m\u001b[0;34m,\u001b[0m\u001b[0mlen\u001b[0m\u001b[0;34m(\u001b[0m\u001b[0mp1\u001b[0m\u001b[0;34m)\u001b[0m\u001b[0;34m)\u001b[0m\u001b[0;34m:\u001b[0m\u001b[0;34m\u001b[0m\u001b[0;34m\u001b[0m\u001b[0m\n",
            "\u001b[0;32m/usr/local/lib/python3.8/dist-packages/ipykernel/kernelbase.py\u001b[0m in \u001b[0;36mraw_input\u001b[0;34m(self, prompt)\u001b[0m\n\u001b[1;32m    858\u001b[0m                 \u001b[0;34m\"raw_input was called, but this frontend does not support input requests.\"\u001b[0m\u001b[0;34m\u001b[0m\u001b[0;34m\u001b[0m\u001b[0m\n\u001b[1;32m    859\u001b[0m             )\n\u001b[0;32m--> 860\u001b[0;31m         return self._input_request(str(prompt),\n\u001b[0m\u001b[1;32m    861\u001b[0m             \u001b[0mself\u001b[0m\u001b[0;34m.\u001b[0m\u001b[0m_parent_ident\u001b[0m\u001b[0;34m,\u001b[0m\u001b[0;34m\u001b[0m\u001b[0;34m\u001b[0m\u001b[0m\n\u001b[1;32m    862\u001b[0m             \u001b[0mself\u001b[0m\u001b[0;34m.\u001b[0m\u001b[0m_parent_header\u001b[0m\u001b[0;34m,\u001b[0m\u001b[0;34m\u001b[0m\u001b[0;34m\u001b[0m\u001b[0m\n",
            "\u001b[0;32m/usr/local/lib/python3.8/dist-packages/ipykernel/kernelbase.py\u001b[0m in \u001b[0;36m_input_request\u001b[0;34m(self, prompt, ident, parent, password)\u001b[0m\n\u001b[1;32m    902\u001b[0m             \u001b[0;32mexcept\u001b[0m \u001b[0mKeyboardInterrupt\u001b[0m\u001b[0;34m:\u001b[0m\u001b[0;34m\u001b[0m\u001b[0;34m\u001b[0m\u001b[0m\n\u001b[1;32m    903\u001b[0m                 \u001b[0;31m# re-raise KeyboardInterrupt, to truncate traceback\u001b[0m\u001b[0;34m\u001b[0m\u001b[0;34m\u001b[0m\u001b[0;34m\u001b[0m\u001b[0m\n\u001b[0;32m--> 904\u001b[0;31m                 \u001b[0;32mraise\u001b[0m \u001b[0mKeyboardInterrupt\u001b[0m\u001b[0;34m(\u001b[0m\u001b[0;34m\"Interrupted by user\"\u001b[0m\u001b[0;34m)\u001b[0m \u001b[0;32mfrom\u001b[0m \u001b[0;32mNone\u001b[0m\u001b[0;34m\u001b[0m\u001b[0;34m\u001b[0m\u001b[0m\n\u001b[0m\u001b[1;32m    905\u001b[0m             \u001b[0;32mexcept\u001b[0m \u001b[0mException\u001b[0m \u001b[0;32mas\u001b[0m \u001b[0me\u001b[0m\u001b[0;34m:\u001b[0m\u001b[0;34m\u001b[0m\u001b[0;34m\u001b[0m\u001b[0m\n\u001b[1;32m    906\u001b[0m                 \u001b[0mself\u001b[0m\u001b[0;34m.\u001b[0m\u001b[0mlog\u001b[0m\u001b[0;34m.\u001b[0m\u001b[0mwarning\u001b[0m\u001b[0;34m(\u001b[0m\u001b[0;34m\"Invalid Message:\"\u001b[0m\u001b[0;34m,\u001b[0m \u001b[0mexc_info\u001b[0m\u001b[0;34m=\u001b[0m\u001b[0;32mTrue\u001b[0m\u001b[0;34m)\u001b[0m\u001b[0;34m\u001b[0m\u001b[0;34m\u001b[0m\u001b[0m\n",
            "\u001b[0;31mKeyboardInterrupt\u001b[0m: Interrupted by user"
          ]
        }
      ]
    },
    {
      "cell_type": "code",
      "source": [
        "n = 2023"
      ],
      "metadata": {
        "id": "x_o_tBwMLG06"
      },
      "execution_count": null,
      "outputs": []
    },
    {
      "cell_type": "code",
      "source": [
        "s = SieveOfEratosthenes(n//4+1)\n",
        "for i in range(len(s)):\n",
        "  if n//(s[i]*s[i]) in s:\n",
        "    if n == s[i]*s[i]*(n//(s[i]*s[i])):\n",
        "      print(s[i],n//(s[i]*s[i]))"
      ],
      "metadata": {
        "id": "FtrAfKr-QAY9"
      },
      "execution_count": null,
      "outputs": []
    },
    {
      "cell_type": "code",
      "source": [
        "for i in range(len(s)):\n",
        "  if n//(s[i]*s[i]) in s:\n",
        "    if n == s[i]*s[i]*(n//(s[i]*s[i])):\n",
        "      print(s[i],n//(s[i]*s[i]))"
      ],
      "metadata": {
        "colab": {
          "base_uri": "https://localhost:8080/"
        },
        "id": "O7nOAaSaQP_S",
        "outputId": "7b0f75b7-27d4-4f33-b969-6ae0462b5ae3"
      },
      "execution_count": null,
      "outputs": [
        {
          "output_type": "stream",
          "name": "stdout",
          "text": [
            "17 7\n"
          ]
        }
      ]
    },
    {
      "cell_type": "code",
      "source": [
        "def H(f,r,n):\n",
        "  return n == f*f*r\n"
      ],
      "metadata": {
        "id": "1lKW3TRFOB8a"
      },
      "execution_count": null,
      "outputs": []
    },
    {
      "cell_type": "code",
      "source": [
        "def SieveOfEratosthenes(num):\n",
        "    prime = [True for i in range(num+1)]\n",
        "    p = 2\n",
        "    while (p * p <= num):\n",
        "        if (prime[p] == True):\n",
        "            for i in range(p * p, num+1, p):\n",
        "                prime[i] = False\n",
        "        p += 1\n",
        "    q = []\n",
        "    for p in range(2, num+1):\n",
        "        if prime[p]:\n",
        "          q.append(p)\n",
        "    return q"
      ],
      "metadata": {
        "id": "fRG4qdrkOYhi"
      },
      "execution_count": null,
      "outputs": []
    },
    {
      "cell_type": "code",
      "source": [
        "SieveOfEratosthenes(12)\n"
      ],
      "metadata": {
        "colab": {
          "base_uri": "https://localhost:8080/"
        },
        "id": "ebsZKt9YPpQg",
        "outputId": "4a598d58-7f9f-4bc0-a89f-a2450c77b3af"
      },
      "execution_count": null,
      "outputs": [
        {
          "output_type": "execute_result",
          "data": {
            "text/plain": [
              "[2, 3, 5, 7, 11]"
            ]
          },
          "metadata": {},
          "execution_count": 6
        }
      ]
    },
    {
      "cell_type": "code",
      "source": [
        "def SieveOfEratosthenes(num):\n",
        "    prime = [True for i in range(num+1)]\n",
        "    p = 2\n",
        "    while (p * p <= num):\n",
        "        if (prime[p] == True):\n",
        "            for i in range(p * p, num+1, p):\n",
        "                prime[i] = False\n",
        "        p += 1\n",
        "    q = []\n",
        "    for p in range(2, num+1):\n",
        "        if prime[p]:\n",
        "          q.append(p)\n",
        "    return q\n",
        " \n",
        " \n",
        "n = int(input())\n",
        "pi = []\n",
        "for k in  range(n):\n",
        "  kq = int(input())\n",
        "  pi.append(kq)\n",
        "s = SieveOfEratosthenes(max(pi)//4+1)\n",
        "for kw in range(len(pi)):\n",
        "  for i in range(0,len(s)):\n",
        "    if pi[kw]//(s[i]*s[i]) in s:\n",
        "      if pi[kw] == s[i]*s[i]*(pi[kw]//(s[i]*s[i])):\n",
        "        print(s[i],pi[kw]//(s[i]*s[i]))\n",
        "        break"
      ],
      "metadata": {
        "colab": {
          "base_uri": "https://localhost:8080/"
        },
        "id": "C5V7fgKlPsNn",
        "outputId": "24176139-75ae-40b6-bfe0-845e9cf06877"
      },
      "execution_count": null,
      "outputs": [
        {
          "output_type": "stream",
          "name": "stdout",
          "text": [
            "3\n",
            "2023\n",
            "63\n",
            "63\n",
            "17 7\n",
            "3 7\n",
            "3 7\n"
          ]
        }
      ]
    },
    {
      "cell_type": "code",
      "source": [
        "pi"
      ],
      "metadata": {
        "colab": {
          "base_uri": "https://localhost:8080/"
        },
        "id": "GHUnRMyHTDSF",
        "outputId": "037c8db2-67f6-4b64-82d4-3b8f71dadf2f"
      },
      "execution_count": null,
      "outputs": [
        {
          "output_type": "execute_result",
          "data": {
            "text/plain": [
              "[2023, 63, 63]"
            ]
          },
          "metadata": {},
          "execution_count": 18
        }
      ]
    },
    {
      "cell_type": "code",
      "source": [
        "3\n",
        "2023\n",
        "63\n",
        "1059872604593911"
      ],
      "metadata": {
        "id": "V7yRq0ckSbcu"
      },
      "execution_count": null,
      "outputs": []
    },
    {
      "cell_type": "code",
      "source": [
        "length = 1000\n",
        "width = 35\n",
        "height = 700\n",
        "mass = 300"
      ],
      "metadata": {
        "id": "dyUX8eutrWCI"
      },
      "execution_count": null,
      "outputs": []
    },
    {
      "cell_type": "code",
      "source": [
        "p = []\n",
        "if length>=10**4 or width>=10**4 or height>=10**4 or length*width*height>=10**9:\n",
        "  p.append(\"Bulky\")\n",
        "if mass>=100:\n",
        "  p.append(\"Heavy\")\n",
        "if len(p)==2:\n",
        "  return \"Both\"\n",
        "elif len(p)==1:\n",
        "  return p[0]\n",
        "else:\n",
        "  return \"Neither\"\n",
        "\n"
      ],
      "metadata": {
        "id": "_P_ScONkrZxK"
      },
      "execution_count": null,
      "outputs": []
    },
    {
      "cell_type": "code",
      "source": [
        "class DataStream:\n",
        "    def __init__(self, value: int, k: int):\n",
        "        self.value = value\n",
        "        self.k = k\n",
        "        self.queue12 = []\n",
        "\n",
        "    def consec(self, num: int) -> bool:\n",
        "        self.queue12.append(num)\n",
        "        if len(self.queue12) >= self.k and self.queue12[-1]==self.value:\n",
        "          return True\n",
        "        else:\n",
        "          return False\n"
      ],
      "metadata": {
        "id": "at8OYOL_v6TB"
      },
      "execution_count": null,
      "outputs": []
    },
    {
      "cell_type": "code",
      "source": [
        "1|4"
      ],
      "metadata": {
        "colab": {
          "base_uri": "https://localhost:8080/"
        },
        "id": "SGqbRftL2uw_",
        "outputId": "39b7b934-1d22-44aa-d898-a6704e3c8659"
      },
      "execution_count": null,
      "outputs": [
        {
          "output_type": "execute_result",
          "data": {
            "text/plain": [
              "5"
            ]
          },
          "metadata": {},
          "execution_count": 2
        }
      ]
    },
    {
      "cell_type": "code",
      "source": [
        "1&4"
      ],
      "metadata": {
        "colab": {
          "base_uri": "https://localhost:8080/"
        },
        "id": "kaaCz2xM2xJ7",
        "outputId": "fa8a3620-5a9b-4cc8-ca16-52dafdebfc2b"
      },
      "execution_count": null,
      "outputs": [
        {
          "output_type": "execute_result",
          "data": {
            "text/plain": [
              "0"
            ]
          },
          "metadata": {},
          "execution_count": 3
        }
      ]
    },
    {
      "cell_type": "code",
      "source": [
        "nums = [15,45,20,2,34,35,5,44,32,30]"
      ],
      "metadata": {
        "id": "cLNQfz4O21zN"
      },
      "execution_count": null,
      "outputs": []
    },
    {
      "cell_type": "code",
      "source": [
        "p = 0\n",
        "for i in range(0, len(nums)-2):\n",
        "  p ^= ((nums[i+1]|nums[i+2])&nums[i])\n",
        "print(p)"
      ],
      "metadata": {
        "colab": {
          "base_uri": "https://localhost:8080/"
        },
        "id": "FpC2UcHn6m-1",
        "outputId": "fdd52d4b-a813-4edc-cd63-78924205edbe"
      },
      "execution_count": null,
      "outputs": [
        {
          "output_type": "stream",
          "name": "stdout",
          "text": [
            "32\n"
          ]
        }
      ]
    },
    {
      "cell_type": "code",
      "source": [
        "p = 0\n",
        "for i in range(0,len(nums)-2):\n",
        "  print(i,i+1,i+2)\n",
        "  \n",
        "  # p = p^((nums[i]|nums[i+1])&nums[i+2])\n",
        "print(p)\n"
      ],
      "metadata": {
        "colab": {
          "base_uri": "https://localhost:8080/"
        },
        "id": "f0rmSys324EN",
        "outputId": "b2ed75a5-4a41-4e9a-d6f3-04783a00f714"
      },
      "execution_count": null,
      "outputs": [
        {
          "output_type": "stream",
          "name": "stdout",
          "text": [
            "34\n"
          ]
        }
      ]
    },
    {
      "cell_type": "code",
      "source": [
        "1^1"
      ],
      "metadata": {
        "colab": {
          "base_uri": "https://localhost:8080/"
        },
        "id": "CZ63Yw0P3Nbz",
        "outputId": "7c6d4285-1028-4f21-bfa8-c0064fb9921c"
      },
      "execution_count": null,
      "outputs": [
        {
          "output_type": "execute_result",
          "data": {
            "text/plain": [
              "0"
            ]
          },
          "metadata": {},
          "execution_count": 8
        }
      ]
    },
    {
      "cell_type": "code",
      "source": [
        "1^2"
      ],
      "metadata": {
        "colab": {
          "base_uri": "https://localhost:8080/"
        },
        "id": "sz00cpiO5kHx",
        "outputId": "57ff494e-e818-442b-fd30-fc7d601d1a47"
      },
      "execution_count": null,
      "outputs": [
        {
          "output_type": "execute_result",
          "data": {
            "text/plain": [
              "3"
            ]
          },
          "metadata": {},
          "execution_count": 9
        }
      ]
    },
    {
      "cell_type": "code",
      "source": [
        "1^0"
      ],
      "metadata": {
        "colab": {
          "base_uri": "https://localhost:8080/"
        },
        "id": "D3f2tTLZ5m0n",
        "outputId": "03c77a1f-a75d-4788-e68e-ba2120c0e666"
      },
      "execution_count": null,
      "outputs": [
        {
          "output_type": "execute_result",
          "data": {
            "text/plain": [
              "1"
            ]
          },
          "metadata": {},
          "execution_count": 10
        }
      ]
    },
    {
      "cell_type": "code",
      "source": [
        "xor_beauty(nums)"
      ],
      "metadata": {
        "colab": {
          "base_uri": "https://localhost:8080/"
        },
        "id": "UTv9eF8b5pFY",
        "outputId": "c7efaeef-5d90-471c-e105-2f713c5be66c"
      },
      "execution_count": null,
      "outputs": [
        {
          "output_type": "execute_result",
          "data": {
            "text/plain": [
              "8"
            ]
          },
          "metadata": {},
          "execution_count": 20
        }
      ]
    },
    {
      "cell_type": "code",
      "source": [
        "def xor_beauty(nums):\n",
        "    if not nums:\n",
        "        return 0\n",
        "\n",
        "    n = len(nums)\n",
        "    if n == 1:\n",
        "        return nums[0]\n",
        "\n",
        "    mid = n // 2\n",
        "    left = xor_beauty(nums[:mid])\n",
        "    right = xor_beauty(nums[mid:])\n",
        "\n",
        "    result = left ^ right\n",
        "    for i in range(mid):\n",
        "        for j in range(mid, n):\n",
        "            result ^= ((nums[i] | nums[j]) & right)\n",
        "            result ^= ((nums[i] | nums[j]) & left)\n",
        "\n",
        "    return result\n"
      ],
      "metadata": {
        "id": "EwuiCjuX5qn6"
      },
      "execution_count": null,
      "outputs": []
    },
    {
      "cell_type": "code",
      "source": [
        "nums = [-3,-2,-1,0,0,1,2]"
      ],
      "metadata": {
        "id": "T3bhAj6O8rMr"
      },
      "execution_count": null,
      "outputs": []
    },
    {
      "cell_type": "code",
      "source": [
        "p = 0\n",
        "q = 0\n",
        "for i in range(len(nums)):\n",
        "  if nums[i] < 0:\n",
        "    p += 1\n",
        "  elif nums[i] > 0:\n",
        "    q += 1\n",
        "# return max(p,q)\n"
      ],
      "metadata": {
        "id": "DV1DlwR9Odao"
      },
      "execution_count": null,
      "outputs": []
    },
    {
      "cell_type": "code",
      "source": [
        "print(max(p,q))"
      ],
      "metadata": {
        "colab": {
          "base_uri": "https://localhost:8080/"
        },
        "id": "9pk7evUGO0Z9",
        "outputId": "93f83695-b430-4c5e-d19d-cce8c68484df"
      },
      "execution_count": null,
      "outputs": [
        {
          "output_type": "stream",
          "name": "stdout",
          "text": [
            "3\n"
          ]
        }
      ]
    },
    {
      "cell_type": "code",
      "source": [
        "import math\n",
        "nums = [10,10,10,10,10]\n",
        "k = 5"
      ],
      "metadata": {
        "id": "Mv4Zhr5_O23K"
      },
      "execution_count": null,
      "outputs": []
    },
    {
      "cell_type": "code",
      "source": [
        "import math\n",
        "nums = [10,10,10,10,10]\n",
        "k = 5\n",
        "def select_max(nums):\n",
        "    max_index = 0\n",
        "    max_value = 0\n",
        "    for i in range(len(nums)):\n",
        "        if nums[i] > max_value:\n",
        "            max_index = i\n",
        "            max_value = nums[i]\n",
        "    return max_index\n",
        "score = 0\n",
        "for i in range(k):\n",
        "  max_index = select_max(nums)\n",
        "  score += nums[max_index]\n",
        "  nums[max_index] = math.ceil(nums[max_index] / 3)\n",
        "print(score)\n"
      ],
      "metadata": {
        "id": "KAnqFil_SLiN"
      },
      "execution_count": null,
      "outputs": []
    },
    {
      "cell_type": "code",
      "source": [
        "score = 0\n",
        "for i in range(k):\n",
        "  max_index = select_max(nums)\n",
        "  score += nums[max_index]\n",
        "  nums[max_index] = math.ceil(nums[max_index] / 3)\n",
        "print(score)\n"
      ],
      "metadata": {
        "colab": {
          "base_uri": "https://localhost:8080/"
        },
        "id": "tXTzNfsJP81M",
        "outputId": "f8b876cf-bbc2-4c98-d781-47ef1493c885"
      },
      "execution_count": null,
      "outputs": [
        {
          "output_type": "stream",
          "name": "stdout",
          "text": [
            "50\n"
          ]
        }
      ]
    },
    {
      "cell_type": "code",
      "source": [
        "import math\n",
        "import heapq\n",
        "\n",
        "nums = [1,10,3,3,3]\n",
        "k = 3\n",
        "score = 0\n",
        "heap = list(nums)\n",
        "heapq._heapify_max(heap)\n",
        "print(heap)\n",
        "for i in range(k):\n",
        "  max_value = heapq._heappop_max(heap)\n",
        "  print(max_value)\n",
        "  score += max_value\n",
        "  heapq.heappush(heap, math.ceil(max_value / 3))\n",
        "\n",
        "print(score)\n"
      ],
      "metadata": {
        "colab": {
          "base_uri": "https://localhost:8080/"
        },
        "id": "yTuOcS6HSIrM",
        "outputId": "b650bcdf-b1f6-4a4f-f63e-c6a9aa0af8cf"
      },
      "execution_count": null,
      "outputs": [
        {
          "output_type": "stream",
          "name": "stdout",
          "text": [
            "[10, 3, 3, 3, 1]\n",
            "10\n",
            "3\n",
            "1\n",
            "14\n"
          ]
        }
      ]
    },
    {
      "cell_type": "code",
      "source": [
        "print(heap)"
      ],
      "metadata": {
        "colab": {
          "base_uri": "https://localhost:8080/"
        },
        "id": "iRH7e_JRTHeO",
        "outputId": "1d65f4e9-2c36-430e-fb94-20cd605a475b"
      },
      "execution_count": null,
      "outputs": [
        {
          "output_type": "stream",
          "name": "stdout",
          "text": [
            "[1, 4, 1, 3, 3]\n"
          ]
        }
      ]
    },
    {
      "cell_type": "code",
      "source": [
        "import heapq\n",
        "heap = [10, 5, 7, 3, 4]\n",
        "\n",
        "for i in range(len(heap)):\n",
        "  heap[i] = -heap[i]\n",
        "heapq.heapify(heap)\n",
        "\n",
        "max_elem = heapq.heappop(heap)\n",
        "max_elem = -max_elem\n",
        "print(max_elem)  # prints 10\n"
      ],
      "metadata": {
        "colab": {
          "base_uri": "https://localhost:8080/"
        },
        "id": "0Mtb7ftlTMa6",
        "outputId": "e34deb04-d895-4660-cd3e-2c04a15684ad"
      },
      "execution_count": null,
      "outputs": [
        {
          "output_type": "stream",
          "name": "stdout",
          "text": [
            "10\n"
          ]
        }
      ]
    },
    {
      "cell_type": "code",
      "source": [
        "print(-heap)"
      ],
      "metadata": {
        "colab": {
          "base_uri": "https://localhost:8080/",
          "height": 169
        },
        "id": "hUDhqPlEWrN-",
        "outputId": "3345d2aa-407e-4ca2-c63b-db73a19cf5ab"
      },
      "execution_count": null,
      "outputs": [
        {
          "output_type": "error",
          "ename": "TypeError",
          "evalue": "ignored",
          "traceback": [
            "\u001b[0;31m---------------------------------------------------------------------------\u001b[0m",
            "\u001b[0;31mTypeError\u001b[0m                                 Traceback (most recent call last)",
            "\u001b[0;32m<ipython-input-30-e2bd84a786c6>\u001b[0m in \u001b[0;36m<module>\u001b[0;34m\u001b[0m\n\u001b[0;32m----> 1\u001b[0;31m \u001b[0mprint\u001b[0m\u001b[0;34m(\u001b[0m\u001b[0;34m-\u001b[0m\u001b[0mheap\u001b[0m\u001b[0;34m)\u001b[0m\u001b[0;34m\u001b[0m\u001b[0;34m\u001b[0m\u001b[0m\n\u001b[0m",
            "\u001b[0;31mTypeError\u001b[0m: bad operand type for unary -: 'list'"
          ]
        }
      ]
    },
    {
      "cell_type": "code",
      "source": [
        "import math\n",
        "import heapq\n",
        "\n",
        "nums = [1,10,3,3,3]\n",
        "k = 3\n",
        "score = 0\n",
        "for i in range(len(nums)):\n",
        "  nums[i] = -nums[i]\n",
        "heap = list(nums)\n",
        "heapq.heapify(heap)\n",
        "for i in range(k):\n",
        "  max_value = heapq.heappop(heap)\n",
        "  score += -max_value\n",
        "  q = math.ceil(-max_value / 3)\n",
        "  heapq.heappush(heap,-q )\n",
        "\n",
        "print(score)\n"
      ],
      "metadata": {
        "colab": {
          "base_uri": "https://localhost:8080/"
        },
        "id": "SqXK66S5WsqP",
        "outputId": "54a324da-438f-4cee-e76f-905233fc982b"
      },
      "execution_count": null,
      "outputs": [
        {
          "output_type": "stream",
          "name": "stdout",
          "text": [
            "17\n"
          ]
        }
      ]
    },
    {
      "cell_type": "code",
      "source": [
        "from collections import Counter"
      ],
      "metadata": {
        "id": "CMySBmP4XN9P"
      },
      "execution_count": null,
      "outputs": []
    },
    {
      "cell_type": "code",
      "source": [
        "def isSwapPossible(word1, word2):\n",
        "    for i in range(len(word1)):\n",
        "        for j in range(len(word2)):\n",
        "            p = list(word1)\n",
        "            q = list(word2)\n",
        "            temp = p[i]\n",
        "            p[i] = q[j]\n",
        "            q[j] = temp\n",
        "            set1 = set()\n",
        "            set2 = set()\n",
        "            for i in range(0,len(word1)):\n",
        "                set1.add(p[i])\n",
        "            for j in range(0,len(word2)):\n",
        "                set2.add(q[j])\n",
        "            if len(set1) == len(set2):\n",
        "                return True\n",
        "    return False\n"
      ],
      "metadata": {
        "id": "2xBBiZ0RXSZI"
      },
      "execution_count": null,
      "outputs": []
    },
    {
      "cell_type": "code",
      "source": [
        "word1 = \"bcd\"\n",
        "word2 = \"aa\""
      ],
      "metadata": {
        "id": "5MlEEZPGZSkk"
      },
      "execution_count": null,
      "outputs": []
    },
    {
      "cell_type": "code",
      "source": [
        "from collections import Counter\n",
        "print(len(Counter(word1)))"
      ],
      "metadata": {
        "colab": {
          "base_uri": "https://localhost:8080/"
        },
        "id": "pRBj2Sxeh5E5",
        "outputId": "fcb474ac-d7d4-4de4-9fe2-2c1504a48829"
      },
      "execution_count": null,
      "outputs": [
        {
          "output_type": "stream",
          "name": "stdout",
          "text": [
            "3\n"
          ]
        }
      ]
    },
    {
      "cell_type": "code",
      "source": [
        "isSwapPossible(word1, word2)"
      ],
      "metadata": {
        "colab": {
          "base_uri": "https://localhost:8080/"
        },
        "id": "fzr2hIZRZH0r",
        "outputId": "a67e4145-475c-4d48-eeb3-a202c825dd8f"
      },
      "execution_count": null,
      "outputs": [
        {
          "output_type": "stream",
          "name": "stdout",
          "text": [
            "['b', 'c', 'd'] ['a', 'a']\n",
            "['a', 'c', 'd'] ['b', 'a']\n",
            "3 2\n",
            "['b', 'c', 'd'] ['a', 'a']\n",
            "['b', 'c', 'a'] ['a', 'd']\n",
            "3 2\n",
            "['b', 'c', 'd'] ['a', 'a']\n",
            "['b', 'a', 'd'] ['c', 'a']\n",
            "3 2\n",
            "['b', 'c', 'd'] ['a', 'a']\n",
            "['b', 'c', 'a'] ['a', 'd']\n",
            "3 2\n",
            "['b', 'c', 'd'] ['a', 'a']\n",
            "['b', 'c', 'a'] ['d', 'a']\n",
            "3 2\n",
            "['b', 'c', 'd'] ['a', 'a']\n",
            "['b', 'c', 'a'] ['a', 'd']\n",
            "3 2\n"
          ]
        },
        {
          "output_type": "execute_result",
          "data": {
            "text/plain": [
              "False"
            ]
          },
          "metadata": {},
          "execution_count": 107
        }
      ]
    },
    {
      "cell_type": "code",
      "source": [
        "points = [[1,1],[3,2],[5,3],[4,1],[2,3],[1,4]]"
      ],
      "metadata": {
        "id": "1qk2-h7dZUKk"
      },
      "execution_count": null,
      "outputs": []
    },
    {
      "cell_type": "code",
      "source": [
        "ans = 0\n",
        "for i in range(0,len(points)-1):\n",
        "  for j in range(i+1,len(points)):\n",
        "    kj = H(points[i],points[j],points)\n",
        "    if kj =\n",
        "    ans = (ans,H(points[i],points[j],points))"
      ],
      "metadata": {
        "colab": {
          "base_uri": "https://localhost:8080/"
        },
        "id": "Ho7oemAIGUOZ",
        "outputId": "063e981e-29eb-4876-d0ab-e015d488c310"
      },
      "execution_count": null,
      "outputs": [
        {
          "output_type": "stream",
          "name": "stdout",
          "text": [
            "[1, 1] [3, 2]\n",
            "[1, 1] [5, 3]\n",
            "[1, 1] [4, 1]\n",
            "[1, 1] [2, 3]\n",
            "[1, 1] [1, 4]\n",
            "[3, 2] [5, 3]\n",
            "[3, 2] [4, 1]\n",
            "[3, 2] [2, 3]\n",
            "[3, 2] [1, 4]\n",
            "[5, 3] [4, 1]\n",
            "[5, 3] [2, 3]\n",
            "[5, 3] [1, 4]\n",
            "[4, 1] [2, 3]\n",
            "[4, 1] [1, 4]\n",
            "[2, 3] [1, 4]\n"
          ]
        }
      ]
    },
    {
      "cell_type": "code",
      "source": [
        "def H(p,j):\n",
        "  p1 = 0\n",
        "  for i in range(0,len(p)):\n",
        "    if \n"
      ],
      "metadata": {
        "id": "JpSDQqXeFAUi"
      },
      "execution_count": null,
      "outputs": []
    },
    {
      "cell_type": "code",
      "source": [
        "s = \"011101101\""
      ],
      "metadata": {
        "id": "abUYLbO2nngk"
      },
      "execution_count": null,
      "outputs": []
    },
    {
      "cell_type": "code",
      "source": [
        "counts = []\n",
        "i = 0\n",
        "while i < len(s):\n",
        "  if s[i] == '1':\n",
        "    count = 0\n",
        "    while i < len(s) and s[i] == '1':\n",
        "      count += 1\n",
        "      i += 1\n",
        "    counts.append(count)\n",
        "  else:\n",
        "    i += 1\n",
        "if not counts or len(set(counts)):\n",
        "  return 0\n",
        "\n",
        "    # min_count = min(counts)\n",
        "    # max_count = max(counts)\n",
        "    # if max_count - min_count == 1:\n",
        "    #     return 1\n",
        "    # return 2\n"
      ],
      "metadata": {
        "id": "je3HdzLmnKaK"
      },
      "execution_count": null,
      "outputs": []
    },
    {
      "cell_type": "code",
      "source": [
        "print(counts)"
      ],
      "metadata": {
        "colab": {
          "base_uri": "https://localhost:8080/"
        },
        "id": "vWumMoKNnlyu",
        "outputId": "963c5524-a6dd-4be6-ce7f-13cb6c12655b"
      },
      "execution_count": null,
      "outputs": [
        {
          "output_type": "stream",
          "name": "stdout",
          "text": [
            "[3, 2, 1]\n"
          ]
        }
      ]
    },
    {
      "cell_type": "code",
      "source": [
        "m = 2\n",
        "n = 3\n",
        "indices = [[0,1],[1,1]]"
      ],
      "metadata": {
        "id": "IsZ3_9l0nusm"
      },
      "execution_count": null,
      "outputs": []
    },
    {
      "cell_type": "code",
      "source": [
        "\n",
        "matrix = [[0 for i in range(n)] for j in range(m)]\n"
      ],
      "metadata": {
        "id": "V4fdFGUUKSct"
      },
      "execution_count": null,
      "outputs": []
    },
    {
      "cell_type": "code",
      "source": [
        "matrix = [[0 for i in range(n)] for j in range(m)]\n",
        "for i in range(0,len(indices)):\n",
        "  for j in range(0,n):\n",
        "    matrix[indices[i][0]][j] += 1 \n",
        "  for j in range(0,m):\n",
        "    matrix[j][indices[i][1]] += 1 \n",
        "ans = 0\n",
        "for i in range(0,m):\n",
        "  for j in range(0,n):\n",
        "    if matrix[m][n]%2 != 0:\n",
        "      ans += 1\n",
        "\n"
      ],
      "metadata": {
        "colab": {
          "base_uri": "https://localhost:8080/",
          "height": 241
        },
        "id": "Wo1J24WAKs5_",
        "outputId": "165779ba-fbfc-4c93-87c6-90a6eb878987"
      },
      "execution_count": null,
      "outputs": [
        {
          "output_type": "error",
          "ename": "IndexError",
          "evalue": "ignored",
          "traceback": [
            "\u001b[0;31m---------------------------------------------------------------------------\u001b[0m",
            "\u001b[0;31mIndexError\u001b[0m                                Traceback (most recent call last)",
            "\u001b[0;32m<ipython-input-11-0537b381c880>\u001b[0m in \u001b[0;36m<module>\u001b[0;34m\u001b[0m\n\u001b[1;32m      8\u001b[0m \u001b[0;32mfor\u001b[0m \u001b[0mi\u001b[0m \u001b[0;32min\u001b[0m \u001b[0mrange\u001b[0m\u001b[0;34m(\u001b[0m\u001b[0;36m0\u001b[0m\u001b[0;34m,\u001b[0m\u001b[0mm\u001b[0m\u001b[0;34m)\u001b[0m\u001b[0;34m:\u001b[0m\u001b[0;34m\u001b[0m\u001b[0;34m\u001b[0m\u001b[0m\n\u001b[1;32m      9\u001b[0m   \u001b[0;32mfor\u001b[0m \u001b[0mj\u001b[0m \u001b[0;32min\u001b[0m \u001b[0mrange\u001b[0m\u001b[0;34m(\u001b[0m\u001b[0;36m0\u001b[0m\u001b[0;34m,\u001b[0m\u001b[0mn\u001b[0m\u001b[0;34m)\u001b[0m\u001b[0;34m:\u001b[0m\u001b[0;34m\u001b[0m\u001b[0;34m\u001b[0m\u001b[0m\n\u001b[0;32m---> 10\u001b[0;31m     \u001b[0;32mif\u001b[0m \u001b[0mmatrix\u001b[0m\u001b[0;34m[\u001b[0m\u001b[0mm\u001b[0m\u001b[0;34m]\u001b[0m\u001b[0;34m[\u001b[0m\u001b[0mn\u001b[0m\u001b[0;34m]\u001b[0m\u001b[0;34m%\u001b[0m\u001b[0;36m2\u001b[0m \u001b[0;34m!=\u001b[0m \u001b[0;36m0\u001b[0m\u001b[0;34m:\u001b[0m\u001b[0;34m\u001b[0m\u001b[0;34m\u001b[0m\u001b[0m\n\u001b[0m\u001b[1;32m     11\u001b[0m       \u001b[0mans\u001b[0m \u001b[0;34m+=\u001b[0m \u001b[0;36m1\u001b[0m\u001b[0;34m\u001b[0m\u001b[0;34m\u001b[0m\u001b[0m\n\u001b[1;32m     12\u001b[0m \u001b[0;34m\u001b[0m\u001b[0m\n",
            "\u001b[0;31mIndexError\u001b[0m: list index out of range"
          ]
        }
      ]
    },
    {
      "cell_type": "code",
      "source": [
        "ans = 0\n",
        "for k in range(0,m):\n",
        "  for j in range(0,n):\n",
        "    print(m,n)\n",
        "    # if (matrix[m][n])%2 != 0:\n",
        "      # ans += 1"
      ],
      "metadata": {
        "colab": {
          "base_uri": "https://localhost:8080/"
        },
        "id": "m7yicWYpK3k1",
        "outputId": "c08cb55a-c9e4-4fda-c34e-164ab1b5855e"
      },
      "execution_count": null,
      "outputs": [
        {
          "output_type": "stream",
          "name": "stdout",
          "text": [
            "2 3\n",
            "2 3\n",
            "2 3\n",
            "2 3\n",
            "2 3\n",
            "2 3\n"
          ]
        }
      ]
    },
    {
      "cell_type": "code",
      "source": [
        "nums = [1,2,3,4,5]"
      ],
      "metadata": {
        "id": "M3jOdXL8Mgez"
      },
      "execution_count": null,
      "outputs": []
    },
    {
      "cell_type": "code",
      "source": [
        "p = nums[0]\n",
        "ans = 1\n",
        "for i in range(len(nums)):\n",
        "  if p<nums[i]:\n",
        "    p =  nums[i]\n",
        "    ans = ans +1\n",
        "  if ans==3:\n",
        "    break\n",
        "if ans==3:\n",
        "  print(True)\n",
        "else:\n",
        "  print(False)"
      ],
      "metadata": {
        "colab": {
          "base_uri": "https://localhost:8080/"
        },
        "id": "DRN8cxuSOI9e",
        "outputId": "eea5253e-ead7-40a4-d24a-d3acb712104d"
      },
      "execution_count": null,
      "outputs": [
        {
          "output_type": "stream",
          "name": "stdout",
          "text": [
            "True\n"
          ]
        }
      ]
    },
    {
      "cell_type": "code",
      "source": [
        "arr = [4, 5, 4, 1, 3, 7, 6, 3, 3]"
      ],
      "metadata": {
        "id": "K7rU75ACOlfg"
      },
      "execution_count": null,
      "outputs": []
    },
    {
      "cell_type": "code",
      "source": [
        "p = {}\n",
        "ans = 0\n",
        "for i in range(len(arr)):\n",
        "  if arr[i] not in p.keys():\n",
        "    p[arr[i]] = 1\n",
        "  else:\n",
        "    for j in range(1,len(arr)):\n",
        "      if arr[i]-j>0:\n",
        "        if arr[i]-j not in p.keys():\n",
        "          p[arr[i]-j] = 1\n",
        "          ans = ans + j\n",
        "          break\n",
        "        else:\n",
        "          if arr[i]+j not in p.keys():\n",
        "            p[arr[i]+j] = 1\n",
        "            ans = ans + j\n",
        "            break\n",
        "      else:\n",
        "        if arr[i]+j not in p.keys():\n",
        "          p[arr[i]+j] = 1\n",
        "          ans = ans + j\n",
        "          break\n",
        "        \n",
        "\n",
        "\n",
        "\n",
        "\n"
      ],
      "metadata": {
        "id": "Y7LN2TE7cx5n"
      },
      "execution_count": null,
      "outputs": []
    },
    {
      "cell_type": "code",
      "source": [
        "ans"
      ],
      "metadata": {
        "colab": {
          "base_uri": "https://localhost:8080/"
        },
        "id": "-pPvr499esGL",
        "outputId": "8328f9c6-34d8-4015-a6b9-0347e73aee31"
      },
      "execution_count": null,
      "outputs": [
        {
          "output_type": "execute_result",
          "data": {
            "text/plain": [
              "13"
            ]
          },
          "metadata": {},
          "execution_count": 35
        }
      ]
    },
    {
      "cell_type": "code",
      "source": [
        "p"
      ],
      "metadata": {
        "colab": {
          "base_uri": "https://localhost:8080/"
        },
        "id": "90-qKKz1etLo",
        "outputId": "86d62809-bc6c-4083-81e4-9f4915bec71f"
      },
      "execution_count": null,
      "outputs": [
        {
          "output_type": "execute_result",
          "data": {
            "text/plain": [
              "{4: 1, 5: 1, 3: 1, 1: 1, 2: 1, 7: 1, 6: 1, 8: 1, 9: 1}"
            ]
          },
          "metadata": {},
          "execution_count": 36
        }
      ]
    },
    {
      "cell_type": "code",
      "source": [
        "t = int(input())\n",
        "for i in range(t):\n",
        "    n,y = map(int,input().split())\n",
        "    x = list(map(int,input().split()))\n",
        "    p = x[0]\n",
        "    for i in x:\n",
        "      p = p|i\n",
        "    q = -1\n",
        "    for k in range(0,y+1):\n",
        "      if p|k == y:\n",
        "        q = k\n",
        "        break\n",
        "    print(q)\n"
      ],
      "metadata": {
        "id": "eeCVuOgSevy9"
      },
      "execution_count": null,
      "outputs": []
    },
    {
      "cell_type": "code",
      "source": [
        "2|2"
      ],
      "metadata": {
        "colab": {
          "base_uri": "https://localhost:8080/"
        },
        "id": "k5-2xg-ZchNj",
        "outputId": "40255663-5403-4e8a-dc36-1c364b2c7a51"
      },
      "execution_count": null,
      "outputs": [
        {
          "output_type": "execute_result",
          "data": {
            "text/plain": [
              "2"
            ]
          },
          "metadata": {},
          "execution_count": 3
        }
      ]
    },
    {
      "cell_type": "code",
      "source": [
        "1|2|1"
      ],
      "metadata": {
        "colab": {
          "base_uri": "https://localhost:8080/"
        },
        "id": "8EW_c6_Ccigf",
        "outputId": "52ca693d-ccfb-4365-f280-18d9ef8d4df0"
      },
      "execution_count": null,
      "outputs": [
        {
          "output_type": "execute_result",
          "data": {
            "text/plain": [
              "3"
            ]
          },
          "metadata": {},
          "execution_count": 4
        }
      ]
    },
    {
      "cell_type": "code",
      "source": [
        "3^0"
      ],
      "metadata": {
        "colab": {
          "base_uri": "https://localhost:8080/"
        },
        "id": "VOhc8qb4c7ZM",
        "outputId": "58f70d73-8866-47c2-89d7-597e3db40d96"
      },
      "execution_count": null,
      "outputs": [
        {
          "output_type": "execute_result",
          "data": {
            "text/plain": [
              "3"
            ]
          },
          "metadata": {},
          "execution_count": 13
        }
      ]
    },
    {
      "cell_type": "code",
      "source": [
        "import functools\n",
        "t = int(input())\n",
        "for _ in range(t):\n",
        "  n,y = map(int,input().split())\n",
        "  x = list(map(int,input().split()))\n",
        "  p = functools.reduce(lambda i, j: i | j, x)\n",
        "  q = y ^ p\n",
        "  if p|q == y:\n",
        "    print(q)\n",
        "  else:\n",
        "    print(-1)\n"
      ],
      "metadata": {
        "id": "fw41vETBc-Pb"
      },
      "execution_count": null,
      "outputs": []
    },
    {
      "cell_type": "code",
      "source": [
        "x = [1,2,4,2,1]\n",
        "y= 7"
      ],
      "metadata": {
        "id": "SLarIKs8egme"
      },
      "execution_count": null,
      "outputs": []
    },
    {
      "cell_type": "code",
      "source": [
        "import functools\n",
        "p = functools.reduce(lambda i, j: i | j, x)\n",
        "q = y ^ p\n",
        "print(q)"
      ],
      "metadata": {
        "colab": {
          "base_uri": "https://localhost:8080/"
        },
        "id": "13VXLYnbedW7",
        "outputId": "269a56cf-28c4-4086-f10f-acf29ce65d37"
      },
      "execution_count": null,
      "outputs": [
        {
          "output_type": "stream",
          "name": "stdout",
          "text": [
            "0\n"
          ]
        }
      ]
    },
    {
      "cell_type": "code",
      "source": [
        "import math\n",
        "math.gcd(42,18)\n",
        "print(42*18//6)"
      ],
      "metadata": {
        "colab": {
          "base_uri": "https://localhost:8080/"
        },
        "id": "r8TLz6fhenej",
        "outputId": "9ebead7f-17d7-45f6-f316-9e7d7fbc8dbb"
      },
      "execution_count": null,
      "outputs": [
        {
          "output_type": "stream",
          "name": "stdout",
          "text": [
            "126\n"
          ]
        }
      ]
    },
    {
      "cell_type": "code",
      "source": [
        "192//6"
      ],
      "metadata": {
        "colab": {
          "base_uri": "https://localhost:8080/"
        },
        "id": "ff3Pqcy0iRRL",
        "outputId": "fd2835a5-61bc-4f00-95b5-af14697c2de4"
      },
      "execution_count": null,
      "outputs": [
        {
          "output_type": "execute_result",
          "data": {
            "text/plain": [
              "32"
            ]
          },
          "metadata": {},
          "execution_count": 32
        }
      ]
    },
    {
      "cell_type": "code",
      "source": [
        "x = 18\n",
        "y = 42"
      ],
      "metadata": {
        "id": "UmXhIz5ljoUw"
      },
      "execution_count": null,
      "outputs": []
    },
    {
      "cell_type": "code",
      "source": [
        "import math\n",
        "p = math.gcd(x,y)\n",
        "\n",
        "if x != y:\n",
        "  q = abs(x-y)\n",
        "  r = p*q//math.gcd(p,q)\n",
        "  print(r,p,q)\n",
        "  for i in range(r, 10**18, r):\n",
        "    if (i + x)%y == 0 and (i + y)%x == 0:\n",
        "      print(i)\n",
        "      break\n",
        "else:\n",
        "  for i in range(x, 10**18, x):\n",
        "    if (i + x)%y == 0 and (i + y)%x == 0:\n",
        "      print(i)\n",
        "      break\n"
      ],
      "metadata": {
        "colab": {
          "base_uri": "https://localhost:8080/"
        },
        "id": "XvS-cq7cibtP",
        "outputId": "542688af-35db-44ca-b686-ca312b922e6c"
      },
      "execution_count": null,
      "outputs": [
        {
          "output_type": "stream",
          "name": "stdout",
          "text": [
            "24 6 24\n",
            "192\n"
          ]
        }
      ]
    },
    {
      "cell_type": "code",
      "source": [
        "x = 100\n",
        "y =200"
      ],
      "metadata": {
        "id": "91gkl6kwqQqr"
      },
      "execution_count": null,
      "outputs": []
    },
    {
      "cell_type": "code",
      "source": [
        "lcm = (x * y) // math.gcd(x, y)\n",
        "i = lcm\n",
        "print"
      ],
      "metadata": {
        "colab": {
          "base_uri": "https://localhost:8080/"
        },
        "id": "kUD_D06IkufF",
        "outputId": "61b440c0-e503-4375-baaf-4a24022e7579"
      },
      "execution_count": null,
      "outputs": [
        {
          "output_type": "stream",
          "name": "stdout",
          "text": [
            "300\n"
          ]
        }
      ]
    },
    {
      "cell_type": "code",
      "source": [
        "0|4"
      ],
      "metadata": {
        "colab": {
          "base_uri": "https://localhost:8080/"
        },
        "id": "5d1VHogAwarS",
        "outputId": "c371e041-1627-4b2a-e33e-4c7476c48927"
      },
      "execution_count": null,
      "outputs": [
        {
          "output_type": "execute_result",
          "data": {
            "text/plain": [
              "4"
            ]
          },
          "metadata": {},
          "execution_count": 63
        }
      ]
    },
    {
      "cell_type": "code",
      "source": [
        "p = [2,4,1,3]"
      ],
      "metadata": {
        "id": "XorvdO_sp2ol"
      },
      "execution_count": null,
      "outputs": []
    },
    {
      "cell_type": "code",
      "source": [
        "\n",
        "i = 0\n",
        "cost = 0\n",
        "while(i<len(p)):\n",
        "  cost = p[i]|cost\n",
        "  j = min(i+1+p[i],len(p))\n",
        "  if j>=len(p):\n",
        "    j = len(p)-1\n",
        "  if p[j] != 0:\n",
        "    i = j\n",
        "  else:\n",
        "    for k in range(j,i-1,-1):\n",
        "      if k == i:\n",
        "        cost = -1\n",
        "        break\n",
        "      elif p[k] != 0:\n",
        "        i = k\n",
        "\n",
        "\n"
      ],
      "metadata": {
        "colab": {
          "base_uri": "https://localhost:8080/",
          "height": 241
        },
        "id": "-snWPtkJvuit",
        "outputId": "4c991b39-7274-4ae9-ba0c-0c21fdbb3a55"
      },
      "execution_count": null,
      "outputs": [
        {
          "output_type": "error",
          "ename": "KeyboardInterrupt",
          "evalue": "ignored",
          "traceback": [
            "\u001b[0;31m---------------------------------------------------------------------------\u001b[0m",
            "\u001b[0;31mKeyboardInterrupt\u001b[0m                         Traceback (most recent call last)",
            "\u001b[0;32m<ipython-input-68-b9f19222c727>\u001b[0m in \u001b[0;36m<module>\u001b[0;34m\u001b[0m\n\u001b[1;32m      3\u001b[0m \u001b[0;32mwhile\u001b[0m\u001b[0;34m(\u001b[0m\u001b[0mi\u001b[0m\u001b[0;34m<\u001b[0m\u001b[0mlen\u001b[0m\u001b[0;34m(\u001b[0m\u001b[0mp\u001b[0m\u001b[0;34m)\u001b[0m\u001b[0;34m)\u001b[0m\u001b[0;34m:\u001b[0m\u001b[0;34m\u001b[0m\u001b[0;34m\u001b[0m\u001b[0m\n\u001b[1;32m      4\u001b[0m   \u001b[0mcost\u001b[0m \u001b[0;34m=\u001b[0m \u001b[0mp\u001b[0m\u001b[0;34m[\u001b[0m\u001b[0mi\u001b[0m\u001b[0;34m]\u001b[0m\u001b[0;34m|\u001b[0m\u001b[0mcost\u001b[0m\u001b[0;34m\u001b[0m\u001b[0;34m\u001b[0m\u001b[0m\n\u001b[0;32m----> 5\u001b[0;31m   \u001b[0mj\u001b[0m \u001b[0;34m=\u001b[0m \u001b[0mmin\u001b[0m\u001b[0;34m(\u001b[0m\u001b[0mi\u001b[0m\u001b[0;34m+\u001b[0m\u001b[0;36m1\u001b[0m\u001b[0;34m+\u001b[0m\u001b[0mp\u001b[0m\u001b[0;34m[\u001b[0m\u001b[0mi\u001b[0m\u001b[0;34m]\u001b[0m\u001b[0;34m,\u001b[0m\u001b[0mlen\u001b[0m\u001b[0;34m(\u001b[0m\u001b[0mp\u001b[0m\u001b[0;34m)\u001b[0m\u001b[0;34m)\u001b[0m\u001b[0;34m\u001b[0m\u001b[0;34m\u001b[0m\u001b[0m\n\u001b[0m\u001b[1;32m      6\u001b[0m   \u001b[0;32mif\u001b[0m \u001b[0mj\u001b[0m\u001b[0;34m>=\u001b[0m\u001b[0mlen\u001b[0m\u001b[0;34m(\u001b[0m\u001b[0mp\u001b[0m\u001b[0;34m)\u001b[0m\u001b[0;34m:\u001b[0m\u001b[0;34m\u001b[0m\u001b[0;34m\u001b[0m\u001b[0m\n\u001b[1;32m      7\u001b[0m     \u001b[0mj\u001b[0m \u001b[0;34m=\u001b[0m \u001b[0mlen\u001b[0m\u001b[0;34m(\u001b[0m\u001b[0mp\u001b[0m\u001b[0;34m)\u001b[0m\u001b[0;34m-\u001b[0m\u001b[0;36m1\u001b[0m\u001b[0;34m\u001b[0m\u001b[0;34m\u001b[0m\u001b[0m\n",
            "\u001b[0;31mKeyboardInterrupt\u001b[0m: "
          ]
        }
      ]
    },
    {
      "cell_type": "code",
      "source": [
        "i = 5\n",
        "j = 10\n",
        "for k in range(j,i,-1):\n",
        "  print(k)"
      ],
      "metadata": {
        "colab": {
          "base_uri": "https://localhost:8080/"
        },
        "id": "9qejWcdqw6Fo",
        "outputId": "e50814dc-a808-4a99-abbd-0df39e296625"
      },
      "execution_count": null,
      "outputs": [
        {
          "output_type": "stream",
          "name": "stdout",
          "text": [
            "10\n",
            "9\n",
            "8\n",
            "7\n",
            "6\n"
          ]
        }
      ]
    },
    {
      "cell_type": "code",
      "source": [
        "p = int(input())\n",
        "p1 = []\n",
        "p2 = []\n",
        "for _ in range(p):\n",
        "  x,y = map(str,input().split())\n",
        "  p1.append(x)\n",
        "  p2.append(int(y))\n",
        "r = sum(p2)\n",
        "for i in range(p):\n",
        "  print(p1[i],\":\" ,round((p2[i]/r)*100, 2),\"%!\")"
      ],
      "metadata": {
        "id": "PF_Y8RBZw-OU",
        "colab": {
          "base_uri": "https://localhost:8080/"
        },
        "outputId": "b6f4ee80-79ad-4102-d2da-26e5137c4282"
      },
      "execution_count": null,
      "outputs": [
        {
          "output_type": "stream",
          "name": "stdout",
          "text": [
            "bhajpa 45\n",
            "kangress 65\n",
            "aap 87\n",
            "bhajpa: 0%!\n",
            "kangress: 0%!\n",
            "aap: 0%!\n"
          ]
        }
      ]
    },
    {
      "cell_type": "code",
      "source": [
        "for i in range(p):\n",
        "  print(p1[i],\":\" ,round((p2[i]/r)*100, 2),\"%!\")"
      ],
      "metadata": {
        "colab": {
          "base_uri": "https://localhost:8080/"
        },
        "id": "TIiSTIkn4-nT",
        "outputId": "dde6f703-749d-475a-f1d1-8656f9618303"
      },
      "execution_count": null,
      "outputs": [
        {
          "output_type": "stream",
          "name": "stdout",
          "text": [
            "bhajpa : 22.84 %!\n",
            "kangress : 32.99 %!\n",
            "aap : 44.16 %!\n"
          ]
        }
      ]
    },
    {
      "cell_type": "code",
      "source": [
        "p2[0]"
      ],
      "metadata": {
        "colab": {
          "base_uri": "https://localhost:8080/"
        },
        "id": "Oiw_ISxv55j7",
        "outputId": "e4ab4460-0500-4f58-db77-5f6224887d7e"
      },
      "execution_count": null,
      "outputs": [
        {
          "output_type": "execute_result",
          "data": {
            "text/plain": [
              "45"
            ]
          },
          "metadata": {},
          "execution_count": 7
        }
      ]
    },
    {
      "cell_type": "code",
      "source": [
        "r"
      ],
      "metadata": {
        "colab": {
          "base_uri": "https://localhost:8080/"
        },
        "id": "ykczYZ0E6BgQ",
        "outputId": "ff3bd7d0-b85d-4d5e-f9b6-192a5a3b3832"
      },
      "execution_count": null,
      "outputs": [
        {
          "output_type": "execute_result",
          "data": {
            "text/plain": [
              "197"
            ]
          },
          "metadata": {},
          "execution_count": 8
        }
      ]
    },
    {
      "cell_type": "code",
      "source": [
        "p = int(input())\n",
        "p1 = []\n",
        "p2 = []\n",
        "for i in range(p):\n",
        "    x, y = input().split()\n",
        "    p1.append(x)\n",
        "    p2.append(int(y))\n",
        "    \n",
        "total = sum(p2)\n",
        "for i in range(p):\n",
        "    percent = round(p2[i] / total * 100, 2)\n",
        "    print(f\"{p1[i]}: {percent}%!\")\n"
      ],
      "metadata": {
        "id": "-FX-e35f6E2f"
      },
      "execution_count": null,
      "outputs": []
    },
    {
      "cell_type": "code",
      "source": [
        "days = 0\n",
        "salary = 0.01\n",
        "while salary < 1000000:\n",
        "    days += 1\n",
        "    salary *= 2\n",
        "\n",
        "print(\"It will take\", days, \"days to earn a salary of $1,000,000\")\n"
      ],
      "metadata": {
        "colab": {
          "base_uri": "https://localhost:8080/"
        },
        "id": "QtUl5Waj79kL",
        "outputId": "3fd3379b-c891-49b1-fc5c-fdc761f1b759"
      },
      "execution_count": null,
      "outputs": [
        {
          "output_type": "stream",
          "name": "stdout",
          "text": [
            "It will take 27 days to earn a salary of $1,000,000\n"
          ]
        }
      ]
    },
    {
      "cell_type": "markdown",
      "source": [
        "To calculate the actual (planned) output of a plant with an effective capacity of 6,500 and an efficiency of 88%, you can use the following formula:\n",
        "actual output = effective capacity x efficiency\n",
        "So,\n",
        "actual output = 6,500 x 0.88 = 5,720 units\n",
        "\n",
        "To calculate the efficiency of a plant that has an effective capacity of 900 units per day and produces 800 units per day with its product mix, you can use the following formula:\n",
        "efficiency = actual output / effective capacity\n",
        "So,\n",
        "efficiency = 800 / 900 = 0.89 or 89%\n",
        "\n",
        "It should be noted that effective capacity is the maximum output a plant can produce under ideal conditions and efficiency is the percentage of that capacity that is actually being used"
      ],
      "metadata": {
        "id": "c_B4OF8ZURea"
      }
    },
    {
      "cell_type": "code",
      "source": [],
      "metadata": {
        "id": "iZhbOUci7-GF"
      },
      "execution_count": null,
      "outputs": []
    },
    {
      "cell_type": "markdown",
      "source": [
        "The total number of matches would be 66.\n",
        "This can be calculated by using the formula: (n * (n - 1)) / 2, where n is the number of wrestlers. In this case, n = 12.\n",
        "(12 * 11) / 2 = 66"
      ],
      "metadata": {
        "id": "YsZKBhWeUhQM"
      }
    },
    {
      "cell_type": "code",
      "source": [
        "s1 = \"leetcode\"\n",
        "s2 = \"programs\"\n",
        "baseStr = \"sourcecode\""
      ],
      "metadata": {
        "id": "CYpH31dpUh6B"
      },
      "execution_count": null,
      "outputs": []
    },
    {
      "cell_type": "code",
      "source": [
        "p = {}\n",
        "for i in range(len(s1)):\n",
        "  if s2[i] not in p.keys():\n",
        "        p[s2[i]] = s2[i]\n",
        "  else:\n",
        "    if ord(p[s2[i]])>ord(s2[i]):\n",
        "      p[s2[i]] = s2[i]\n",
        "  if s1[i] not in p.keys():\n",
        "        p[s1[i]] = s1[i]\n",
        "  else:\n",
        "    if ord(p[s1[i]])>ord(s1[i]):\n",
        "      p[s1[i]] = s1[i]\n",
        "\n",
        "  if ord(p[s2[i]])>ord(p[s1[i]]):\n",
        "    p[s2[i]] = p[s1[i]]\n",
        "  else:\n",
        "    p[s1[i]] = p[s2[i]]\n",
        "\n",
        "    \n",
        "s = \"\"\n",
        "for i in range(len(baseStr)):\n",
        "  if baseStr[i] in p.keys():\n",
        "    s = s+p[baseStr[i]]\n",
        "  else:\n",
        "    s = s + baseStr[i]\n",
        "\n",
        "\n",
        "\n",
        "\n",
        "  # if ord(s1[i]) < ord(s2[i]):\n",
        "  #   if s2[i] in p.keys():\n",
        "  #     if ord(p[s2[i]]) > ord(s1[i]):\n",
        "  #       p[s2[i]] = s1[i]\n",
        "  #   else:\n",
        "  #     p[s2[i]] = s1[i]\n",
        "  #   if s1[i] in p.keys():\n",
        "  #     if ord(p[s1[i]]) > ord(s1[i]):\n",
        "  #       p[s1[i]] = s1[i]\n",
        "  #   else:\n",
        "  #     p[s1[i]] = s1[i]\n",
        "\n",
        "\n",
        "  # else:\n",
        "  #   if s1[i] in p.keys():\n",
        "  #     if ord(p[s1[i]]) > ord(s2[i]):\n",
        "  #       p[s2[i]] = s2[i]\n",
        "  #   else:\n",
        "  #     p[s1[i]] = s2[i]\n",
        "  #   if s2[i] in p.keys():\n",
        "  #     if ord(p[s2[i]]) > ord(s2[i]):\n",
        "  #       p[s2[i]] = s2[i]\n",
        "  #   else:\n",
        "  #     p[s2[i]] = s2[i]\n",
        "\n",
        "\n"
      ],
      "metadata": {
        "id": "2kma-w5WHK-h"
      },
      "execution_count": null,
      "outputs": []
    },
    {
      "cell_type": "code",
      "source": [
        "p"
      ],
      "metadata": {
        "colab": {
          "base_uri": "https://localhost:8080/"
        },
        "id": "mPUea3AsnKbP",
        "outputId": "16e5ed70-c6c1-41c8-bb5e-84117d3b29cb"
      },
      "execution_count": null,
      "outputs": [
        {
          "output_type": "execute_result",
          "data": {
            "text/plain": [
              "{'p': 'l',\n",
              " 'l': 'l',\n",
              " 'r': 'c',\n",
              " 'e': 'e',\n",
              " 'o': 'a',\n",
              " 'g': 'g',\n",
              " 't': 'g',\n",
              " 'c': 'c',\n",
              " 'a': 'a',\n",
              " 'm': 'd',\n",
              " 'd': 'd',\n",
              " 's': 'e'}"
            ]
          },
          "metadata": {},
          "execution_count": 33
        }
      ]
    },
    {
      "cell_type": "code",
      "source": [
        "s = \"\"\n",
        "for i in range(len(baseStr)):\n",
        "  if baseStr[i] in p.keys():\n",
        "    s = s+p[baseStr[i]]\n",
        "  else:\n",
        "    s = s + baseStr[i]\n"
      ],
      "metadata": {
        "id": "4h1cL-l1SsGQ"
      },
      "execution_count": null,
      "outputs": []
    },
    {
      "cell_type": "code",
      "source": [
        "s"
      ],
      "metadata": {
        "colab": {
          "base_uri": "https://localhost:8080/",
          "height": 36
        },
        "id": "Gyk69qs_SxBB",
        "outputId": "fa27a8c2-6889-4440-d1c5-17b4a272e3bd"
      },
      "execution_count": null,
      "outputs": [
        {
          "output_type": "execute_result",
          "data": {
            "text/plain": [
              "'makkek'"
            ],
            "application/vnd.google.colaboratory.intrinsic+json": {
              "type": "string"
            }
          },
          "metadata": {},
          "execution_count": 30
        }
      ]
    },
    {
      "cell_type": "code",
      "source": [
        "def find(c):\n",
        "  i = ord(c) - ord('a')\n",
        "  while root[i] != i:\n",
        "    i = root[i]\n",
        "  print(root)\n",
        "  return i\n",
        "root = list(range(26))\n",
        "for c1, c2 in zip(s1, s2):\n",
        "  r1 = find(c1)\n",
        "  r2 = find(c2)\n",
        "  if r1 > r2:\n",
        "    r1, r2 = r2, r1\n",
        "  root[r2] = r1\n",
        "         \n",
        "s12 = \"\".join(chr(ord('a') + find(c)) for c in baseStr)"
      ],
      "metadata": {
        "colab": {
          "base_uri": "https://localhost:8080/"
        },
        "id": "P5swjyyRVYwY",
        "outputId": "dfb89c4d-4ee5-4e4f-d789-fa2873bce365"
      },
      "execution_count": null,
      "outputs": [
        {
          "output_type": "stream",
          "name": "stdout",
          "text": [
            "[0, 1, 2, 3, 4, 5, 6, 7, 8, 9, 10, 11, 12, 13, 14, 15, 16, 17, 18, 19, 20, 21, 22, 23, 24, 25]\n",
            "[0, 1, 2, 3, 4, 5, 6, 7, 8, 9, 10, 11, 12, 13, 14, 15, 16, 17, 18, 19, 20, 21, 22, 23, 24, 25]\n",
            "[0, 1, 2, 3, 4, 5, 6, 7, 8, 9, 10, 11, 12, 13, 14, 12, 16, 17, 18, 19, 20, 21, 22, 23, 24, 25]\n",
            "[0, 1, 2, 3, 4, 5, 6, 7, 8, 9, 10, 11, 12, 13, 14, 12, 16, 17, 18, 19, 20, 21, 22, 23, 24, 25]\n",
            "[0, 1, 2, 3, 4, 5, 6, 7, 8, 9, 10, 11, 12, 13, 0, 12, 16, 17, 18, 19, 20, 21, 22, 23, 24, 25]\n",
            "[0, 1, 2, 3, 4, 5, 6, 7, 8, 9, 10, 11, 12, 13, 0, 12, 16, 17, 18, 19, 20, 21, 22, 23, 24, 25]\n",
            "[0, 1, 2, 3, 4, 5, 6, 7, 8, 9, 10, 11, 12, 13, 0, 12, 16, 17, 18, 19, 20, 21, 22, 23, 24, 25]\n",
            "[0, 1, 2, 3, 4, 5, 6, 7, 8, 9, 10, 11, 12, 13, 0, 12, 16, 17, 18, 19, 20, 21, 22, 23, 24, 25]\n",
            "[0, 1, 2, 3, 4, 5, 6, 7, 8, 9, 10, 11, 12, 13, 0, 12, 16, 10, 18, 19, 20, 21, 22, 23, 24, 25]\n",
            "[0, 1, 2, 3, 4, 5, 6, 7, 8, 9, 10, 11, 12, 13, 0, 12, 16, 10, 18, 19, 20, 21, 22, 23, 24, 25]\n",
            "[0, 1, 2, 3, 4, 5, 6, 7, 4, 9, 10, 11, 12, 13, 0, 12, 16, 10, 18, 19, 20, 21, 22, 23, 24, 25]\n",
            "[0, 1, 2, 3, 4, 5, 6, 7, 4, 9, 10, 11, 12, 13, 0, 12, 16, 10, 18, 19, 20, 21, 22, 23, 24, 25]\n",
            "[0, 1, 2, 3, 4, 5, 6, 7, 4, 9, 10, 11, 12, 13, 0, 12, 16, 10, 10, 19, 20, 21, 22, 23, 24, 25]\n",
            "[0, 1, 2, 3, 4, 5, 6, 7, 4, 9, 10, 11, 12, 13, 0, 12, 16, 10, 10, 19, 20, 21, 22, 23, 24, 25]\n",
            "[0, 1, 2, 3, 4, 5, 6, 7, 4, 9, 10, 11, 12, 13, 0, 12, 16, 10, 10, 19, 20, 21, 22, 23, 24, 25]\n",
            "[0, 1, 2, 3, 4, 5, 6, 7, 4, 9, 10, 11, 12, 13, 0, 12, 16, 10, 10, 19, 20, 21, 22, 23, 24, 25]\n",
            "[0, 1, 2, 3, 4, 5, 6, 7, 4, 9, 10, 11, 12, 13, 0, 12, 16, 10, 10, 19, 20, 21, 22, 23, 24, 25]\n",
            "[0, 1, 2, 3, 4, 5, 6, 7, 4, 9, 10, 11, 12, 13, 0, 12, 16, 10, 10, 19, 20, 21, 22, 23, 24, 25]\n"
          ]
        }
      ]
    },
    {
      "cell_type": "code",
      "source": [
        "s12"
      ],
      "metadata": {
        "colab": {
          "base_uri": "https://localhost:8080/",
          "height": 36
        },
        "id": "GAiuR_W8Veu2",
        "outputId": "9f2fee89-8599-4f53-c2e9-4ed45a920cc3"
      },
      "execution_count": null,
      "outputs": [
        {
          "output_type": "execute_result",
          "data": {
            "text/plain": [
              "'makkek'"
            ],
            "application/vnd.google.colaboratory.intrinsic+json": {
              "type": "string"
            }
          },
          "metadata": {},
          "execution_count": 22
        }
      ]
    },
    {
      "cell_type": "code",
      "source": [
        "nums = [2,7,8,10,8,10,1,10,5,9]"
      ],
      "metadata": {
        "id": "c046RfmNpjfS"
      },
      "execution_count": null,
      "outputs": []
    },
    {
      "cell_type": "code",
      "source": [
        "p = 0\n",
        "q = 0\n",
        "for i in range(len(nums)):\n",
        "  p = p+nums[i]\n",
        "  p1 = list(str(nums[i]))\n",
        "  for j in range(0,len(str(nums[i]))):\n",
        "      q = q + int(p1[j])\n"
      ],
      "metadata": {
        "id": "wKT9tURVI5nI"
      },
      "execution_count": null,
      "outputs": []
    },
    {
      "cell_type": "code",
      "source": [
        "print(p,q)\n"
      ],
      "metadata": {
        "colab": {
          "base_uri": "https://localhost:8080/"
        },
        "id": "jGtz23oYJURV",
        "outputId": "0ddc27f7-3435-4b8a-c2a4-eeb8a1cc3e06"
      },
      "execution_count": null,
      "outputs": [
        {
          "output_type": "stream",
          "name": "stdout",
          "text": [
            "70 43\n"
          ]
        }
      ]
    },
    {
      "cell_type": "code",
      "source": [
        "n = 2\n",
        "qu = [[0,0,1,1]]"
      ],
      "metadata": {
        "id": "cBGC5_FyJWDb"
      },
      "execution_count": null,
      "outputs": []
    },
    {
      "cell_type": "code",
      "source": [
        "p = []\n",
        "for i in range(n):\n",
        "  p.append([0]*n)\n",
        "for r1,r2,c1,c2 in qu:\n",
        "  for _ in range(r1,r2+1):\n",
        "    p[_][c1] += 1\n",
        "    if c2 + 1 < n:\n",
        "      p[_][c2+1] -= 1\n"
      ],
      "metadata": {
        "id": "DTJlS9T4utQF"
      },
      "execution_count": null,
      "outputs": []
    },
    {
      "cell_type": "code",
      "source": [
        "for i in range(0,n):\n",
        "  for c in range(1,n):\n",
        "    p[i][c] += p[i][c-1]"
      ],
      "metadata": {
        "id": "L_km0Ba30X70"
      },
      "execution_count": null,
      "outputs": []
    },
    {
      "cell_type": "code",
      "source": [
        "p"
      ],
      "metadata": {
        "colab": {
          "base_uri": "https://localhost:8080/"
        },
        "id": "FdUJvrPr0STL",
        "outputId": "98b21739-361f-4660-eb98-c7908ec8b437"
      },
      "execution_count": null,
      "outputs": [
        {
          "output_type": "execute_result",
          "data": {
            "text/plain": [
              "[[0, 1], [0, 0]]"
            ]
          },
          "metadata": {},
          "execution_count": 34
        }
      ]
    },
    {
      "cell_type": "code",
      "source": [
        "for j in range(len(qu)):\n",
        "  for _ in range(qu[j][0],qu[j][2]+1):\n",
        "    for kj in range(qu[j][1],qu[j][3]+1):\n",
        "      print(_,kj)\n",
        "      p[_][kj] += 1"
      ],
      "metadata": {
        "colab": {
          "base_uri": "https://localhost:8080/"
        },
        "id": "jw3BE_uUu5-W",
        "outputId": "829d8a5b-3000-4524-fef8-5ac5a46c9943"
      },
      "execution_count": null,
      "outputs": [
        {
          "output_type": "stream",
          "name": "stdout",
          "text": [
            "0 0\n",
            "0 1\n",
            "1 0\n",
            "1 1\n"
          ]
        }
      ]
    },
    {
      "cell_type": "code",
      "source": [
        "p"
      ],
      "metadata": {
        "colab": {
          "base_uri": "https://localhost:8080/"
        },
        "id": "lGMfqrRVu62E",
        "outputId": "5fb66f45-56c0-4bb9-e664-ce22b09fe864"
      },
      "execution_count": null,
      "outputs": [
        {
          "output_type": "execute_result",
          "data": {
            "text/plain": [
              "[[1, 1], [1, 1]]"
            ]
          },
          "metadata": {},
          "execution_count": 28
        }
      ]
    },
    {
      "cell_type": "code",
      "source": [
        "p = [[0]*n for i in range(n)]\n",
        "\n",
        "for j in range(len(qu)):\n",
        "    p = [[p[i][j] + 1 if i in range(qu[j][0],qu[j][2]+1) and j in range(qu[j][1],qu[j][3]+1) else p[i][j] for j in range(n)] for i in range(n)]\n"
      ],
      "metadata": {
        "colab": {
          "base_uri": "https://localhost:8080/",
          "height": 355
        },
        "id": "te6UdqnXwlvG",
        "outputId": "b37bc08a-014a-4a78-fd1a-78cba323ebf8"
      },
      "execution_count": null,
      "outputs": [
        {
          "output_type": "error",
          "ename": "IndexError",
          "evalue": "ignored",
          "traceback": [
            "\u001b[0;31m---------------------------------------------------------------------------\u001b[0m",
            "\u001b[0;31mIndexError\u001b[0m                                Traceback (most recent call last)",
            "\u001b[0;32m<ipython-input-29-2974e84d09cd>\u001b[0m in \u001b[0;36m<module>\u001b[0;34m\u001b[0m\n\u001b[1;32m      2\u001b[0m \u001b[0;34m\u001b[0m\u001b[0m\n\u001b[1;32m      3\u001b[0m \u001b[0;32mfor\u001b[0m \u001b[0mj\u001b[0m \u001b[0;32min\u001b[0m \u001b[0mrange\u001b[0m\u001b[0;34m(\u001b[0m\u001b[0mlen\u001b[0m\u001b[0;34m(\u001b[0m\u001b[0mqu\u001b[0m\u001b[0;34m)\u001b[0m\u001b[0;34m)\u001b[0m\u001b[0;34m:\u001b[0m\u001b[0;34m\u001b[0m\u001b[0;34m\u001b[0m\u001b[0m\n\u001b[0;32m----> 4\u001b[0;31m     \u001b[0mp\u001b[0m \u001b[0;34m=\u001b[0m \u001b[0;34m[\u001b[0m\u001b[0;34m[\u001b[0m\u001b[0mp\u001b[0m\u001b[0;34m[\u001b[0m\u001b[0mi\u001b[0m\u001b[0;34m]\u001b[0m\u001b[0;34m[\u001b[0m\u001b[0mj\u001b[0m\u001b[0;34m]\u001b[0m \u001b[0;34m+\u001b[0m \u001b[0;36m1\u001b[0m \u001b[0;32mif\u001b[0m \u001b[0mi\u001b[0m \u001b[0;32min\u001b[0m \u001b[0mrange\u001b[0m\u001b[0;34m(\u001b[0m\u001b[0mqu\u001b[0m\u001b[0;34m[\u001b[0m\u001b[0mj\u001b[0m\u001b[0;34m]\u001b[0m\u001b[0;34m[\u001b[0m\u001b[0;36m0\u001b[0m\u001b[0;34m]\u001b[0m\u001b[0;34m,\u001b[0m\u001b[0mqu\u001b[0m\u001b[0;34m[\u001b[0m\u001b[0mj\u001b[0m\u001b[0;34m]\u001b[0m\u001b[0;34m[\u001b[0m\u001b[0;36m2\u001b[0m\u001b[0;34m]\u001b[0m\u001b[0;34m+\u001b[0m\u001b[0;36m1\u001b[0m\u001b[0;34m)\u001b[0m \u001b[0;32mand\u001b[0m \u001b[0mj\u001b[0m \u001b[0;32min\u001b[0m \u001b[0mrange\u001b[0m\u001b[0;34m(\u001b[0m\u001b[0mqu\u001b[0m\u001b[0;34m[\u001b[0m\u001b[0mj\u001b[0m\u001b[0;34m]\u001b[0m\u001b[0;34m[\u001b[0m\u001b[0;36m1\u001b[0m\u001b[0;34m]\u001b[0m\u001b[0;34m,\u001b[0m\u001b[0mqu\u001b[0m\u001b[0;34m[\u001b[0m\u001b[0mj\u001b[0m\u001b[0;34m]\u001b[0m\u001b[0;34m[\u001b[0m\u001b[0;36m3\u001b[0m\u001b[0;34m]\u001b[0m\u001b[0;34m+\u001b[0m\u001b[0;36m1\u001b[0m\u001b[0;34m)\u001b[0m \u001b[0;32melse\u001b[0m \u001b[0mp\u001b[0m\u001b[0;34m[\u001b[0m\u001b[0mi\u001b[0m\u001b[0;34m]\u001b[0m\u001b[0;34m[\u001b[0m\u001b[0mj\u001b[0m\u001b[0;34m]\u001b[0m \u001b[0;32mfor\u001b[0m \u001b[0mj\u001b[0m \u001b[0;32min\u001b[0m \u001b[0mrange\u001b[0m\u001b[0;34m(\u001b[0m\u001b[0mn\u001b[0m\u001b[0;34m)\u001b[0m\u001b[0;34m]\u001b[0m \u001b[0;32mfor\u001b[0m \u001b[0mi\u001b[0m \u001b[0;32min\u001b[0m \u001b[0mrange\u001b[0m\u001b[0;34m(\u001b[0m\u001b[0mn\u001b[0m\u001b[0;34m)\u001b[0m\u001b[0;34m]\u001b[0m\u001b[0;34m\u001b[0m\u001b[0;34m\u001b[0m\u001b[0m\n\u001b[0m",
            "\u001b[0;32m<ipython-input-29-2974e84d09cd>\u001b[0m in \u001b[0;36m<listcomp>\u001b[0;34m(.0)\u001b[0m\n\u001b[1;32m      2\u001b[0m \u001b[0;34m\u001b[0m\u001b[0m\n\u001b[1;32m      3\u001b[0m \u001b[0;32mfor\u001b[0m \u001b[0mj\u001b[0m \u001b[0;32min\u001b[0m \u001b[0mrange\u001b[0m\u001b[0;34m(\u001b[0m\u001b[0mlen\u001b[0m\u001b[0;34m(\u001b[0m\u001b[0mqu\u001b[0m\u001b[0;34m)\u001b[0m\u001b[0;34m)\u001b[0m\u001b[0;34m:\u001b[0m\u001b[0;34m\u001b[0m\u001b[0;34m\u001b[0m\u001b[0m\n\u001b[0;32m----> 4\u001b[0;31m     \u001b[0mp\u001b[0m \u001b[0;34m=\u001b[0m \u001b[0;34m[\u001b[0m\u001b[0;34m[\u001b[0m\u001b[0mp\u001b[0m\u001b[0;34m[\u001b[0m\u001b[0mi\u001b[0m\u001b[0;34m]\u001b[0m\u001b[0;34m[\u001b[0m\u001b[0mj\u001b[0m\u001b[0;34m]\u001b[0m \u001b[0;34m+\u001b[0m \u001b[0;36m1\u001b[0m \u001b[0;32mif\u001b[0m \u001b[0mi\u001b[0m \u001b[0;32min\u001b[0m \u001b[0mrange\u001b[0m\u001b[0;34m(\u001b[0m\u001b[0mqu\u001b[0m\u001b[0;34m[\u001b[0m\u001b[0mj\u001b[0m\u001b[0;34m]\u001b[0m\u001b[0;34m[\u001b[0m\u001b[0;36m0\u001b[0m\u001b[0;34m]\u001b[0m\u001b[0;34m,\u001b[0m\u001b[0mqu\u001b[0m\u001b[0;34m[\u001b[0m\u001b[0mj\u001b[0m\u001b[0;34m]\u001b[0m\u001b[0;34m[\u001b[0m\u001b[0;36m2\u001b[0m\u001b[0;34m]\u001b[0m\u001b[0;34m+\u001b[0m\u001b[0;36m1\u001b[0m\u001b[0;34m)\u001b[0m \u001b[0;32mand\u001b[0m \u001b[0mj\u001b[0m \u001b[0;32min\u001b[0m \u001b[0mrange\u001b[0m\u001b[0;34m(\u001b[0m\u001b[0mqu\u001b[0m\u001b[0;34m[\u001b[0m\u001b[0mj\u001b[0m\u001b[0;34m]\u001b[0m\u001b[0;34m[\u001b[0m\u001b[0;36m1\u001b[0m\u001b[0;34m]\u001b[0m\u001b[0;34m,\u001b[0m\u001b[0mqu\u001b[0m\u001b[0;34m[\u001b[0m\u001b[0mj\u001b[0m\u001b[0;34m]\u001b[0m\u001b[0;34m[\u001b[0m\u001b[0;36m3\u001b[0m\u001b[0;34m]\u001b[0m\u001b[0;34m+\u001b[0m\u001b[0;36m1\u001b[0m\u001b[0;34m)\u001b[0m \u001b[0;32melse\u001b[0m \u001b[0mp\u001b[0m\u001b[0;34m[\u001b[0m\u001b[0mi\u001b[0m\u001b[0;34m]\u001b[0m\u001b[0;34m[\u001b[0m\u001b[0mj\u001b[0m\u001b[0;34m]\u001b[0m \u001b[0;32mfor\u001b[0m \u001b[0mj\u001b[0m \u001b[0;32min\u001b[0m \u001b[0mrange\u001b[0m\u001b[0;34m(\u001b[0m\u001b[0mn\u001b[0m\u001b[0;34m)\u001b[0m\u001b[0;34m]\u001b[0m \u001b[0;32mfor\u001b[0m \u001b[0mi\u001b[0m \u001b[0;32min\u001b[0m \u001b[0mrange\u001b[0m\u001b[0;34m(\u001b[0m\u001b[0mn\u001b[0m\u001b[0;34m)\u001b[0m\u001b[0;34m]\u001b[0m\u001b[0;34m\u001b[0m\u001b[0;34m\u001b[0m\u001b[0m\n\u001b[0m",
            "\u001b[0;32m<ipython-input-29-2974e84d09cd>\u001b[0m in \u001b[0;36m<listcomp>\u001b[0;34m(.0)\u001b[0m\n\u001b[1;32m      2\u001b[0m \u001b[0;34m\u001b[0m\u001b[0m\n\u001b[1;32m      3\u001b[0m \u001b[0;32mfor\u001b[0m \u001b[0mj\u001b[0m \u001b[0;32min\u001b[0m \u001b[0mrange\u001b[0m\u001b[0;34m(\u001b[0m\u001b[0mlen\u001b[0m\u001b[0;34m(\u001b[0m\u001b[0mqu\u001b[0m\u001b[0;34m)\u001b[0m\u001b[0;34m)\u001b[0m\u001b[0;34m:\u001b[0m\u001b[0;34m\u001b[0m\u001b[0;34m\u001b[0m\u001b[0m\n\u001b[0;32m----> 4\u001b[0;31m     \u001b[0mp\u001b[0m \u001b[0;34m=\u001b[0m \u001b[0;34m[\u001b[0m\u001b[0;34m[\u001b[0m\u001b[0mp\u001b[0m\u001b[0;34m[\u001b[0m\u001b[0mi\u001b[0m\u001b[0;34m]\u001b[0m\u001b[0;34m[\u001b[0m\u001b[0mj\u001b[0m\u001b[0;34m]\u001b[0m \u001b[0;34m+\u001b[0m \u001b[0;36m1\u001b[0m \u001b[0;32mif\u001b[0m \u001b[0mi\u001b[0m \u001b[0;32min\u001b[0m \u001b[0mrange\u001b[0m\u001b[0;34m(\u001b[0m\u001b[0mqu\u001b[0m\u001b[0;34m[\u001b[0m\u001b[0mj\u001b[0m\u001b[0;34m]\u001b[0m\u001b[0;34m[\u001b[0m\u001b[0;36m0\u001b[0m\u001b[0;34m]\u001b[0m\u001b[0;34m,\u001b[0m\u001b[0mqu\u001b[0m\u001b[0;34m[\u001b[0m\u001b[0mj\u001b[0m\u001b[0;34m]\u001b[0m\u001b[0;34m[\u001b[0m\u001b[0;36m2\u001b[0m\u001b[0;34m]\u001b[0m\u001b[0;34m+\u001b[0m\u001b[0;36m1\u001b[0m\u001b[0;34m)\u001b[0m \u001b[0;32mand\u001b[0m \u001b[0mj\u001b[0m \u001b[0;32min\u001b[0m \u001b[0mrange\u001b[0m\u001b[0;34m(\u001b[0m\u001b[0mqu\u001b[0m\u001b[0;34m[\u001b[0m\u001b[0mj\u001b[0m\u001b[0;34m]\u001b[0m\u001b[0;34m[\u001b[0m\u001b[0;36m1\u001b[0m\u001b[0;34m]\u001b[0m\u001b[0;34m,\u001b[0m\u001b[0mqu\u001b[0m\u001b[0;34m[\u001b[0m\u001b[0mj\u001b[0m\u001b[0;34m]\u001b[0m\u001b[0;34m[\u001b[0m\u001b[0;36m3\u001b[0m\u001b[0;34m]\u001b[0m\u001b[0;34m+\u001b[0m\u001b[0;36m1\u001b[0m\u001b[0;34m)\u001b[0m \u001b[0;32melse\u001b[0m \u001b[0mp\u001b[0m\u001b[0;34m[\u001b[0m\u001b[0mi\u001b[0m\u001b[0;34m]\u001b[0m\u001b[0;34m[\u001b[0m\u001b[0mj\u001b[0m\u001b[0;34m]\u001b[0m \u001b[0;32mfor\u001b[0m \u001b[0mj\u001b[0m \u001b[0;32min\u001b[0m \u001b[0mrange\u001b[0m\u001b[0;34m(\u001b[0m\u001b[0mn\u001b[0m\u001b[0;34m)\u001b[0m\u001b[0;34m]\u001b[0m \u001b[0;32mfor\u001b[0m \u001b[0mi\u001b[0m \u001b[0;32min\u001b[0m \u001b[0mrange\u001b[0m\u001b[0;34m(\u001b[0m\u001b[0mn\u001b[0m\u001b[0;34m)\u001b[0m\u001b[0;34m]\u001b[0m\u001b[0;34m\u001b[0m\u001b[0;34m\u001b[0m\u001b[0m\n\u001b[0m",
            "\u001b[0;31mIndexError\u001b[0m: list index out of range"
          ]
        }
      ]
    },
    {
      "cell_type": "code",
      "source": [
        "nums = [3,1,4,3,2,2,4]\n",
        "k = 2"
      ],
      "metadata": {
        "id": "6s78YuWXx_Ee"
      },
      "execution_count": null,
      "outputs": []
    },
    {
      "cell_type": "code",
      "source": [
        "p = {}\n",
        "q = 0\n",
        "for i in range(len(nums)):\n",
        "  if nums[i] not in p.keys():\n",
        "    p[nums[i]] = 1\n",
        "  else:\n",
        "    p[nums[i]] += 1\n",
        "    if p[nums[i]] >= k:\n",
        "      q += 1\n",
        "\n"
      ],
      "metadata": {
        "id": "i4DB1c1A19dL"
      },
      "execution_count": null,
      "outputs": []
    },
    {
      "cell_type": "code",
      "source": [
        "q"
      ],
      "metadata": {
        "colab": {
          "base_uri": "https://localhost:8080/"
        },
        "id": "19J95nq91_Gk",
        "outputId": "59721218-30aa-4727-f031-30366bbcdf6f"
      },
      "execution_count": null,
      "outputs": [
        {
          "output_type": "execute_result",
          "data": {
            "text/plain": [
              "3"
            ]
          },
          "metadata": {},
          "execution_count": 38
        }
      ]
    },
    {
      "cell_type": "code",
      "source": [
        "def not_subsequence(S, T):\n",
        "    for i in range(1, len(S)+1):\n",
        "        prefix = S[:i]\n",
        "        j = 0\n",
        "        for k in range(len(T)):\n",
        "            if j < len(prefix) and T[k] == prefix[j]:\n",
        "                j += 1\n",
        "        if j < len(prefix):\n",
        "            return i\n",
        "    return -1\n"
      ],
      "metadata": {
        "id": "yd4pmyda2c7N"
      },
      "execution_count": null,
      "outputs": []
    },
    {
      "cell_type": "code",
      "source": [
        "S = \"abbbb\"\n",
        "T = \"afbef\""
      ],
      "metadata": {
        "id": "zerzjQTsx3Ov"
      },
      "execution_count": null,
      "outputs": []
    },
    {
      "cell_type": "code",
      "source": [
        "not_subsequence(S, T)"
      ],
      "metadata": {
        "colab": {
          "base_uri": "https://localhost:8080/"
        },
        "id": "obrYMahxx5tO",
        "outputId": "b3fc0b2b-e2d1-498e-974d-c69f4141eb8a"
      },
      "execution_count": null,
      "outputs": [
        {
          "output_type": "execute_result",
          "data": {
            "text/plain": [
              "3"
            ]
          },
          "metadata": {},
          "execution_count": 6
        }
      ]
    },
    {
      "cell_type": "code",
      "source": [
        "int(\"10000000000000000000000000000000\",2)"
      ],
      "metadata": {
        "id": "4N2eo0jqyAR5",
        "colab": {
          "base_uri": "https://localhost:8080/"
        },
        "outputId": "a100b8f8-6544-44cf-d8eb-98ef86e73921"
      },
      "execution_count": null,
      "outputs": [
        {
          "output_type": "execute_result",
          "data": {
            "text/plain": [
              "2147483648"
            ]
          },
          "metadata": {},
          "execution_count": 4
        }
      ]
    },
    {
      "cell_type": "code",
      "source": [
        "while(A<2147483648):\n",
        "  A = A<<1\n",
        "  print(A)"
      ],
      "metadata": {
        "id": "Amculnj0LFJe"
      },
      "execution_count": null,
      "outputs": []
    },
    {
      "cell_type": "code",
      "source": [
        "res = 0\n",
        "num = 0"
      ],
      "metadata": {
        "id": "SvZrm0mSO9yf"
      },
      "execution_count": null,
      "outputs": []
    },
    {
      "cell_type": "code",
      "source": [
        "for i in range(32):\n",
        "  res <<= 1\n",
        "  if num & 1 == 1:\n",
        "    res ^= 1\n",
        "  num >>= 1 "
      ],
      "metadata": {
        "id": "-1C-sc6aObEm"
      },
      "execution_count": null,
      "outputs": []
    },
    {
      "cell_type": "code",
      "source": [
        "n = 5\n",
        "start = 0"
      ],
      "metadata": {
        "id": "rTZsAJnPPAic"
      },
      "execution_count": null,
      "outputs": []
    },
    {
      "cell_type": "code",
      "source": [
        " ans  = start\n",
        " for i in range(1,n):\n",
        "   p = start + 2*i\n",
        "   ans = ans^p\n",
        "   print(ans,p)\n",
        "print(ans)"
      ],
      "metadata": {
        "id": "2V4AhgLfPBYp",
        "colab": {
          "base_uri": "https://localhost:8080/"
        },
        "outputId": "ca61f04a-6705-47e5-8d2a-045f23cae8f4"
      },
      "execution_count": null,
      "outputs": [
        {
          "output_type": "stream",
          "name": "stdout",
          "text": [
            "2 2\n",
            "6 4\n",
            "0 6\n",
            "8 8\n",
            "8\n"
          ]
        }
      ]
    },
    {
      "cell_type": "code",
      "source": [
        "start = 10\n",
        "goal = 7"
      ],
      "metadata": {
        "id": "pyNMiizfocv7"
      },
      "execution_count": null,
      "outputs": []
    },
    {
      "cell_type": "code",
      "source": [
        "p = format(start,\"b\")\n",
        "p1 = format(goal,\"b\")"
      ],
      "metadata": {
        "id": "C_bzEkv7o8Qw"
      },
      "execution_count": null,
      "outputs": []
    },
    {
      "cell_type": "code",
      "source": [
        "p = format(start,\"b\")\n",
        "p1 = format(goal,\"b\")\n",
        "if len(p)> len(p1):\n",
        "  l2 = abs(len(p)-len(p1))\n",
        "  for i in range(0,l2):\n",
        "    p1 = \"0\"+p1\n",
        "else:\n",
        "  l2 = abs(len(p)-len(p1))\n",
        "  for i in range(0,l2):\n",
        "    p = \"0\" + p\n",
        "k = 0\n",
        "for i in range(len(p)):\n",
        "  if p[i] != p1[i]:\n",
        "    k += 1\n",
        "print(k)\n"
      ],
      "metadata": {
        "id": "zFOZ6FbtlPOA"
      },
      "execution_count": null,
      "outputs": []
    },
    {
      "cell_type": "code",
      "source": [
        "k = 0\n",
        "for i in range(len(p)):\n",
        "  if p[i] != p1[i]:\n",
        "    k += 1\n",
        "print(k)"
      ],
      "metadata": {
        "colab": {
          "base_uri": "https://localhost:8080/"
        },
        "id": "Gc0YKkYOpAT7",
        "outputId": "54659420-be80-4395-bc62-0fa8c0aa17ab"
      },
      "execution_count": null,
      "outputs": [
        {
          "output_type": "stream",
          "name": "stdout",
          "text": [
            "3\n"
          ]
        }
      ]
    },
    {
      "cell_type": "code",
      "source": [
        "words = [\"ad\",\"bd\",\"aaab\",\"baa\",\"badab\"]"
      ],
      "metadata": {
        "id": "cBMlhZh8pBcu"
      },
      "execution_count": null,
      "outputs": []
    },
    {
      "cell_type": "code",
      "source": [
        "for word in words:\n",
        "  print(set(word))"
      ],
      "metadata": {
        "colab": {
          "base_uri": "https://localhost:8080/"
        },
        "id": "TSbWti4zxP-1",
        "outputId": "3e9484ed-cb9e-4f5e-8491-4443559d9fea"
      },
      "execution_count": null,
      "outputs": [
        {
          "output_type": "stream",
          "name": "stdout",
          "text": [
            "{'d', 'a'}\n",
            "{'b', 'd'}\n",
            "{'b', 'a'}\n",
            "{'b', 'a'}\n",
            "{'d', 'b', 'a'}\n"
          ]
        }
      ]
    },
    {
      "cell_type": "code",
      "source": [
        "3|2|4|6"
      ],
      "metadata": {
        "colab": {
          "base_uri": "https://localhost:8080/"
        },
        "id": "wEKWOPunxUOe",
        "outputId": "8bc0bdc9-14c8-4fd5-9703-9a3067c37795"
      },
      "execution_count": null,
      "outputs": [
        {
          "output_type": "execute_result",
          "data": {
            "text/plain": [
              "7"
            ]
          },
          "metadata": {},
          "execution_count": 14
        }
      ]
    },
    {
      "cell_type": "code",
      "source": [
        "7555%36"
      ],
      "metadata": {
        "id": "C8u9uWF_3kNI",
        "colab": {
          "base_uri": "https://localhost:8080/"
        },
        "outputId": "5655ac17-99b0-4dc8-9375-0a77468bcd7d"
      },
      "execution_count": null,
      "outputs": [
        {
          "output_type": "execute_result",
          "data": {
            "text/plain": [
              "31"
            ]
          },
          "metadata": {},
          "execution_count": 2
        }
      ]
    },
    {
      "cell_type": "code",
      "source": [
        "s = \"25525511135\""
      ],
      "metadata": {
        "id": "F4UW58bnPffm"
      },
      "execution_count": null,
      "outputs": []
    },
    {
      "cell_type": "code",
      "source": [
        "nums1 = [1,6]\n",
        "nums2 = [2,3,4,5]"
      ],
      "metadata": {
        "id": "l_ExaPtNxOmf"
      },
      "execution_count": null,
      "outputs": []
    },
    {
      "cell_type": "code",
      "source": [
        "p = -1\n",
        "i = 0\n",
        "j = 0\n",
        "while(i<len(nums1) and j< len(nums2)):\n",
        "  if nums1[i] == nums2[j]:\n",
        "    p = nums1[i]\n",
        "    i = len(nums1)\n",
        "    j = len(nums2)\n",
        "    break\n",
        "  else:\n",
        "    if nums1[i]>nums2[j]:\n",
        "      j += 1\n",
        "    else:\n",
        "      i += 1\n",
        "print(p) \n",
        "\n"
      ],
      "metadata": {
        "colab": {
          "base_uri": "https://localhost:8080/"
        },
        "id": "ytShlp8Avim1",
        "outputId": "44ee2066-a208-44af-82b7-3b69ba7a0ebb"
      },
      "execution_count": null,
      "outputs": [
        {
          "output_type": "stream",
          "name": "stdout",
          "text": [
            "-1\n"
          ]
        }
      ]
    },
    {
      "cell_type": "code",
      "source": [
        "nums1 = [3,8,5,2]\n",
        "nums2 = [2,4,1,6]\n",
        "k = 1"
      ],
      "metadata": {
        "id": "Rj3l2_j1wrf2"
      },
      "execution_count": null,
      "outputs": []
    },
    {
      "cell_type": "code",
      "source": [
        "q1 = 0\n",
        "q2 = 0\n",
        "r = 0\n",
        "for i in range(len(nums1)):\n",
        "  p = nums1[i]-nums2[i]\n",
        "  if p%k==0:\n",
        "    if p>0:\n",
        "      q1 += p\n",
        "    elif p<0:\n",
        "      q2 += p\n",
        "  else:\n",
        "    r = -1\n",
        "    break\n",
        "if r==-1:\n",
        "  print(r)\n",
        "else:\n",
        "  if q1+q2 ==0:\n",
        "    print(q1//k)\n",
        "  else:\n",
        "    print(-1)\n",
        "\n"
      ],
      "metadata": {
        "colab": {
          "base_uri": "https://localhost:8080/"
        },
        "id": "K---bhUhyibk",
        "outputId": "5ca9832b-9759-4067-c7f5-ceced3a426f8"
      },
      "execution_count": null,
      "outputs": [
        {
          "output_type": "stream",
          "name": "stdout",
          "text": [
            "-1\n"
          ]
        }
      ]
    },
    {
      "cell_type": "code",
      "source": [
        "N = 4\n",
        "# S =\"wlrb\"\n",
        "S = \"mqbhcdarzowkkyhi\""
      ],
      "metadata": {
        "id": "dFvezLUNzmRu"
      },
      "execution_count": null,
      "outputs": []
    },
    {
      "cell_type": "code",
      "source": [
        "S = \"mqbhcdarzowkkyhi\"\n",
        "p = [\"a\",\"e\",\"i\",\"o\",\"u\"]\n",
        "p1 = 0\n",
        "p2 = 0\n",
        "for i in range(len(S)):\n",
        "  if i%2==0:\n",
        "    if S[i] in p:\n",
        "      p1 += 1\n",
        "    else:\n",
        "      p2 += 1\n",
        "  else:\n",
        "    if S[i] in p:\n",
        "      p2 += 1\n",
        "    else:\n",
        "      p1 +=1\n",
        "\n",
        "print(p1,p2)     "
      ],
      "metadata": {
        "colab": {
          "base_uri": "https://localhost:8080/"
        },
        "id": "Uyh7Oevi1jdJ",
        "outputId": "3ca5a677-270b-4e2b-92b2-f7e3b81a4ab1"
      },
      "execution_count": null,
      "outputs": [
        {
          "output_type": "stream",
          "name": "stdout",
          "text": [
            "7 9\n"
          ]
        }
      ]
    },
    {
      "cell_type": "code",
      "source": [
        "n = 521\n",
        "p = str(n)"
      ],
      "metadata": {
        "id": "qWOs8y7v39Oe"
      },
      "execution_count": null,
      "outputs": []
    },
    {
      "cell_type": "code",
      "source": [
        "p1 = 0\n",
        "p2 = 0\n",
        "\n",
        "for i in range(len(str(n))):\n",
        "  if i%2==0:\n",
        "    p1 += int(p[i])\n",
        "  else:\n",
        "    p1 -= int(p[i])\n",
        "print(p1)\n"
      ],
      "metadata": {
        "colab": {
          "base_uri": "https://localhost:8080/"
        },
        "id": "8UBvaqOYUlE8",
        "outputId": "0875a732-cee9-4c07-c675-caba6fc991e9"
      },
      "execution_count": null,
      "outputs": [
        {
          "output_type": "stream",
          "name": "stdout",
          "text": [
            "4\n"
          ]
        }
      ]
    },
    {
      "cell_type": "code",
      "source": [
        "score = [[10,6,9,1],[7,5,11,2],[4,8,3,15]]\n",
        "k = 2"
      ],
      "metadata": {
        "id": "Q2_0DFFTUuVD"
      },
      "execution_count": null,
      "outputs": []
    },
    {
      "cell_type": "code",
      "source": [
        "score = sorted(score,key =lambda x: x[k],reverse=True)"
      ],
      "metadata": {
        "id": "nl-yKs2eYpfe"
      },
      "execution_count": null,
      "outputs": []
    },
    {
      "cell_type": "code",
      "source": [],
      "metadata": {
        "id": "weBLc5COXXY8"
      },
      "execution_count": null,
      "outputs": []
    },
    {
      "cell_type": "code",
      "source": [],
      "metadata": {
        "id": "wukO4_Y4WTdl"
      },
      "execution_count": null,
      "outputs": []
    },
    {
      "cell_type": "code",
      "source": [
        "print(score)"
      ],
      "metadata": {
        "colab": {
          "base_uri": "https://localhost:8080/"
        },
        "id": "6MaGQh5JXF4g",
        "outputId": "095f6be2-b4b2-457d-cd89-b653ca4b058d"
      },
      "execution_count": null,
      "outputs": [
        {
          "output_type": "stream",
          "name": "stdout",
          "text": [
            "[[7, 5, 11, 2], [10, 6, 9, 1], [4, 8, 3, 15]]\n"
          ]
        }
      ]
    },
    {
      "cell_type": "code",
      "source": [
        "s = \"00\"\n",
        "target = \"11\""
      ],
      "metadata": {
        "id": "Uhgr3nLTYg4z"
      },
      "execution_count": null,
      "outputs": []
    },
    {
      "cell_type": "code",
      "source": [
        "def H(i,s):\n",
        "  j = 0\n",
        "  p = False\n",
        "  for j in range(len(s)):\n",
        "    if j == i:\n",
        "      pass\n",
        "    else:\n",
        "      if s[j] == \"1\":\n",
        "        p = True\n",
        "        break\n",
        "  print(p)\n",
        "  return p\n",
        "        "
      ],
      "metadata": {
        "id": "rMV2S4tueSm9"
      },
      "execution_count": null,
      "outputs": []
    },
    {
      "cell_type": "code",
      "source": [
        "p1 = True\n",
        "for i in range(len(s)):\n",
        "  if s[i] != target[i] and p1:\n",
        "    if s[i] == \"1\":\n",
        "      if not H(i,s):\n",
        "        p1 = False\n",
        "        break\n",
        "    else:\n",
        "      if not H(i,s):\n",
        "        p1 = False\n",
        "        break\n",
        "  elif s[i] == taget[i] and p1:\n",
        "    continue\n",
        "  else:\n",
        "    break\n",
        "  \n",
        "\n",
        "print(p1)"
      ],
      "metadata": {
        "colab": {
          "base_uri": "https://localhost:8080/"
        },
        "id": "EAS78cKnb9v3",
        "outputId": "f36b9aad-5042-475d-f711-a575b7071f56"
      },
      "execution_count": null,
      "outputs": [
        {
          "output_type": "stream",
          "name": "stdout",
          "text": [
            "True\n",
            "True\n",
            "True\n"
          ]
        }
      ]
    },
    {
      "cell_type": "code",
      "source": [
        "def canMakeString(s: str, target: str) -> bool:\n",
        "    queue = [s]\n",
        "    n = len(s)\n",
        "    p = False\n",
        "    p1 = len(s)*len(s)\n",
        "    while queue and p1:\n",
        "        curr_string = queue.pop(0)\n",
        "        if curr_string == target:\n",
        "            return True\n",
        "        for i in range(n):\n",
        "            for j in range(n):\n",
        "                if i != j:\n",
        "                    temp = list(curr_string)\n",
        "                    temp[i] = str(int(temp[i]) | int(temp[j]))\n",
        "                    temp[j] = str(int(temp[i]) ^ int(temp[j]))\n",
        "                    queue.append(''.join(temp))\n",
        "                    if queue[-1] == target:\n",
        "                      return True\n",
        "                      p = True\n",
        "                      break\n",
        "        p1 -= 1\n",
        "    return False\n"
      ],
      "metadata": {
        "id": "74yJCpINdtUy"
      },
      "execution_count": null,
      "outputs": []
    },
    {
      "cell_type": "code",
      "source": [
        "canMakeString(s, target)"
      ],
      "metadata": {
        "colab": {
          "base_uri": "https://localhost:8080/"
        },
        "id": "qSFe9TxihAmf",
        "outputId": "6f301596-2ec0-4994-b009-ff4e8de86f90"
      },
      "execution_count": null,
      "outputs": [
        {
          "output_type": "execute_result",
          "data": {
            "text/plain": [
              "False"
            ]
          },
          "metadata": {},
          "execution_count": 52
        }
      ]
    },
    {
      "cell_type": "code",
      "source": [
        "s = \"101110100\"\n",
        "taget = \"110011000\""
      ],
      "metadata": {
        "id": "oH3HMnlshFP-"
      },
      "execution_count": null,
      "outputs": []
    },
    {
      "cell_type": "code",
      "source": [
        "p1 = 0\n",
        "p2 = 0\n",
        "for i in range(0,len(s)-1):\n",
        "  if s[i]==\"0\":\n",
        "    p1 += 1\n",
        "  elif s[i] == \"1\":\n",
        "    p1 -= 1\n",
        "  if taget[i] == \"0\":\n",
        "    p2 -= 1\n",
        "  elif taget[i] == \"1\":\n",
        "    p2 += 1\n",
        "if abs(p1-p2)>3:\n",
        "  print(False)\n",
        "else:\n",
        "  print(True)\n",
        "  "
      ],
      "metadata": {
        "id": "EY0mJTIMjzg5"
      },
      "execution_count": null,
      "outputs": []
    },
    {
      "cell_type": "code",
      "source": [
        "if abs(p1-p2)>3:\n",
        "  print(False)\n",
        "else:\n",
        "  print(True)"
      ],
      "metadata": {
        "colab": {
          "base_uri": "https://localhost:8080/"
        },
        "id": "83Yi2SuvkIea",
        "outputId": "ed7c8b5b-9df9-4dc4-f7eb-320a15128af8"
      },
      "execution_count": null,
      "outputs": [
        {
          "output_type": "stream",
          "name": "stdout",
          "text": [
            "True\n"
          ]
        }
      ]
    },
    {
      "cell_type": "code",
      "source": [
        "s=\"bsqpkzqnygrqtzwacdhrkjpofnqbdqpc\""
      ],
      "metadata": {
        "id": "umbyQlGInQVO"
      },
      "execution_count": null,
      "outputs": []
    },
    {
      "cell_type": "code",
      "source": [
        "r = s[::-1]\n",
        "q12 = -float(\"inf\")\n",
        "for k in range(1,len(s)-1):\n",
        "  q12 = max(H11(s[k:],s[:k]),q12)\n",
        "  print(q12)\n"
      ],
      "metadata": {
        "colab": {
          "base_uri": "https://localhost:8080/"
        },
        "id": "Im8ePiSXwY4g",
        "outputId": "cccbd083-367a-4195-b944-bd26de64170e"
      },
      "execution_count": null,
      "outputs": [
        {
          "output_type": "stream",
          "name": "stdout",
          "text": [
            "30\n",
            "30\n",
            "30\n",
            "30\n",
            "30\n",
            "30\n",
            "30\n",
            "30\n",
            "30\n",
            "30\n",
            "30\n",
            "30\n",
            "30\n",
            "30\n",
            "30\n",
            "30\n",
            "30\n",
            "30\n",
            "30\n",
            "30\n",
            "30\n",
            "30\n",
            "30\n",
            "30\n",
            "30\n",
            "30\n",
            "30\n",
            "30\n",
            "30\n",
            "30\n"
          ]
        }
      ]
    },
    {
      "cell_type": "code",
      "source": [
        "def H(a,b):\n",
        "  q123 = set(b) & set(a)\n",
        "  return len(q123)\n",
        "\n"
      ],
      "metadata": {
        "id": "M6rSP-UavfPT"
      },
      "execution_count": null,
      "outputs": []
    },
    {
      "cell_type": "code",
      "source": [
        "\n",
        "def H11(a, b):\n",
        "  count = [0] * 26\n",
        "  common = 0\n",
        "  for i in range(0,len(a)):\n",
        "    count[ord(a[i]) - ord('a')] += 1\n",
        "  for i in range(0,len(b)):\n",
        "    count[ord(b[i]) - ord('a')] -= 1\n",
        "  for i in range(0,26):\n",
        "    if count[i] > 0:\n",
        "      common += count[i]\n",
        "  return common\n",
        "        # q12 = 0\n",
        "        # for i in range(len(s)-n+1):\n",
        "        #     q12 = max(H(s[i:i+n],s[i+n:i+2*n]),q12)\n",
        "        # return q12"
      ],
      "metadata": {
        "id": "07Ph7--KwXx7"
      },
      "execution_count": null,
      "outputs": []
    },
    {
      "cell_type": "code",
      "source": [
        "arr = [10, 40, 20]"
      ],
      "metadata": {
        "id": "9Oo0Ii8RUqWF"
      },
      "execution_count": null,
      "outputs": []
    },
    {
      "cell_type": "code",
      "source": [
        "p = sorted(arr)\n",
        "q = {}\n",
        "for i in range(len(arr)):\n",
        "  if p[i] not in q.keys():\n",
        "    q[p[i]] = i\n",
        "for j in range(len(arr)):\n",
        "  p[j] = q[arr[j]]\n",
        "print(p)"
      ],
      "metadata": {
        "id": "aguaPS1u5g-l",
        "colab": {
          "base_uri": "https://localhost:8080/"
        },
        "outputId": "d7f3c7ea-7fe8-495d-a552-38e967dff280"
      },
      "execution_count": null,
      "outputs": [
        {
          "output_type": "stream",
          "name": "stdout",
          "text": [
            "[0, 2, 1]\n"
          ]
        }
      ]
    },
    {
      "cell_type": "code",
      "source": [
        "S = \"defRTSersUXI\""
      ],
      "metadata": {
        "id": "jCBpkLsgUwEm"
      },
      "execution_count": null,
      "outputs": []
    },
    {
      "cell_type": "code",
      "source": [
        "import heapq\n",
        "p = []\n",
        "q = []\n",
        "for i in range(len(S)):\n",
        "  if ord(S[i])<97:\n",
        "    p.append(ord(S[i]))\n",
        "  else:\n",
        "    q.append(ord(S[i]))\n",
        "heapq.heapify(p)\n",
        "heapq.heapify(q)\n",
        "p1 = \"\"\n",
        "for j in range(len(S)):\n",
        "  if ord(S[j])>97:\n",
        "    p1 += chr(heapq.heappop(q))\n",
        "  else:\n",
        "    p1 += chr(heapq.heappop(p))"
      ],
      "metadata": {
        "colab": {
          "base_uri": "https://localhost:8080/"
        },
        "id": "0_A1IneVscvP",
        "outputId": "ba5e3035-c988-405d-a04c-2eb4c36cc6fa"
      },
      "execution_count": null,
      "outputs": [
        {
          "output_type": "stream",
          "name": "stdout",
          "text": [
            "[73, 84, 82, 85, 88, 83] [100, 101, 102, 101, 114, 115]\n",
            "deeIRSfrsTUX [] []\n"
          ]
        }
      ]
    },
    {
      "cell_type": "code",
      "source": [
        "q = set()\n",
        "n = int(input())\n",
        "for _ in range(n):\n",
        "  p = list(map(int,input().split()))\n",
        "  \n",
        "  for i in range(p[0],p[1]+1):\n",
        "    q.add(i)\n",
        "  for i in range(p[2],p[3]+1):\n",
        "    q.add(i)\n",
        "  print(len(q))\n",
        "  q.clear()"
      ],
      "metadata": {
        "colab": {
          "base_uri": "https://localhost:8080/"
        },
        "id": "gJi6doCVo5o5",
        "outputId": "da2033e9-0d07-45e9-ab8c-8a1b60231afe"
      },
      "execution_count": null,
      "outputs": [
        {
          "output_type": "stream",
          "name": "stdout",
          "text": [
            "4\n",
            "1 3 5 5\n",
            "4\n",
            "3 8 2 5\n",
            "7\n",
            "1 8 4 6\n",
            "8\n",
            "5 5 5 5\n",
            "1\n"
          ]
        }
      ]
    },
    {
      "cell_type": "code",
      "source": [
        "p = [1, 8, 4, 6]"
      ],
      "metadata": {
        "id": "PV3viKH-uJPQ"
      },
      "execution_count": null,
      "outputs": []
    },
    {
      "cell_type": "code",
      "source": [
        "q = set()\n",
        "for i in range(p[0],p[1]+1):\n",
        "  q.add(i)\n",
        "for i in range(p[2],p[3]+1):\n",
        "  q.add(i)\n",
        "print(len(q))"
      ],
      "metadata": {
        "colab": {
          "base_uri": "https://localhost:8080/"
        },
        "id": "gkAIVaLmojOH",
        "outputId": "10ed05c2-3f71-4945-9a0f-7e6c9a9b613a"
      },
      "execution_count": null,
      "outputs": [
        {
          "output_type": "stream",
          "name": "stdout",
          "text": [
            "8\n"
          ]
        }
      ]
    },
    {
      "cell_type": "code",
      "source": [
        "def H(n):\n",
        "  \n",
        "  f = int(n,2)\n",
        "  if f<=2:\n",
        "    return False\n",
        "  r = 0\n",
        "  while(f>0):\n",
        "    # for i in range(len(n)):\n",
        "    if f&1==1:\n",
        "      r += 1\n",
        "    f = f>>1\n",
        "  print(r)\n",
        "  if r<=3:\n",
        "    return True\n",
        "  else:\n",
        "    return False\n"
      ],
      "metadata": {
        "id": "paDt-sjItPf1"
      },
      "execution_count": null,
      "outputs": []
    },
    {
      "cell_type": "code",
      "source": [
        "H(\"1101101\")"
      ],
      "metadata": {
        "colab": {
          "base_uri": "https://localhost:8080/"
        },
        "id": "jGia5CFKukfM",
        "outputId": "9e05fe58-641a-4fc3-aaea-a797fc96d80b"
      },
      "execution_count": null,
      "outputs": [
        {
          "output_type": "stream",
          "name": "stdout",
          "text": [
            "5\n"
          ]
        },
        {
          "output_type": "execute_result",
          "data": {
            "text/plain": [
              "False"
            ]
          },
          "metadata": {},
          "execution_count": 17
        }
      ]
    },
    {
      "cell_type": "code",
      "source": [
        "int(\"1101101\",2)"
      ],
      "metadata": {
        "colab": {
          "base_uri": "https://localhost:8080/"
        },
        "id": "vJp8UuSCo21W",
        "outputId": "02ea252e-e8e9-414d-a506-62a44814f357"
      },
      "execution_count": null,
      "outputs": [
        {
          "output_type": "execute_result",
          "data": {
            "text/plain": [
              "109"
            ]
          },
          "metadata": {},
          "execution_count": 5
        }
      ]
    },
    {
      "cell_type": "code",
      "source": [
        "int(\"11001\",2)"
      ],
      "metadata": {
        "colab": {
          "base_uri": "https://localhost:8080/"
        },
        "id": "RdGwlQneqoN4",
        "outputId": "a2f805e0-0662-46c5-db79-3666d5235d9e"
      },
      "execution_count": null,
      "outputs": [
        {
          "output_type": "execute_result",
          "data": {
            "text/plain": [
              "25"
            ]
          },
          "metadata": {},
          "execution_count": 6
        }
      ]
    },
    {
      "cell_type": "code",
      "source": [
        "24//2"
      ],
      "metadata": {
        "colab": {
          "base_uri": "https://localhost:8080/"
        },
        "id": "rfc89IYmrexB",
        "outputId": "c3fe7d56-01fc-44ef-955a-9b9f54cc010f"
      },
      "execution_count": null,
      "outputs": [
        {
          "output_type": "execute_result",
          "data": {
            "text/plain": [
              "12"
            ]
          },
          "metadata": {},
          "execution_count": 7
        }
      ]
    },
    {
      "cell_type": "code",
      "source": [
        "12//2"
      ],
      "metadata": {
        "colab": {
          "base_uri": "https://localhost:8080/"
        },
        "id": "zPZmISH1rhRL",
        "outputId": "1a41b389-e375-4a04-c8e9-343605e14292"
      },
      "execution_count": null,
      "outputs": [
        {
          "output_type": "execute_result",
          "data": {
            "text/plain": [
              "6"
            ]
          },
          "metadata": {},
          "execution_count": 8
        }
      ]
    },
    {
      "cell_type": "code",
      "source": [
        "6//2"
      ],
      "metadata": {
        "colab": {
          "base_uri": "https://localhost:8080/"
        },
        "id": "tIywYyElrjea",
        "outputId": "77489746-32a1-446f-d69d-0c6d010ed3da"
      },
      "execution_count": null,
      "outputs": [
        {
          "output_type": "execute_result",
          "data": {
            "text/plain": [
              "3"
            ]
          },
          "metadata": {},
          "execution_count": 9
        }
      ]
    },
    {
      "cell_type": "markdown",
      "source": [
        "Chef is given a number in form of its binary representation \n",
        "�\n",
        "S, having length \n",
        "�\n",
        "N.\n",
        "\n",
        "Determine if the number can be represented as a sum of exactly three powers of \n",
        "2\n",
        "2. Please refer to samples for further explanation.\n",
        "\n",
        "Note that \n",
        "�\n",
        "S will NOT contain leading zeros.\n"
      ],
      "metadata": {
        "id": "CVIna-WMsmjJ"
      }
    },
    {
      "cell_type": "code",
      "source": [
        "s = \"1101101\""
      ],
      "metadata": {
        "id": "-hkvZ4BirlQt"
      },
      "execution_count": null,
      "outputs": []
    },
    {
      "cell_type": "code",
      "source": [
        "q = 0\n",
        "for i in range(len(s)):\n",
        "  if s[i] == \"1\":\n",
        "    r = 1\n",
        "    for j in range(i+1,len(s)):\n",
        "      if s[j] == \"0\":\n",
        "        p =  s[i:j] + s[j+1:len(s)]"
      ],
      "metadata": {
        "id": "pnM_SQL6zpR8"
      },
      "execution_count": null,
      "outputs": []
    },
    {
      "cell_type": "code",
      "source": [
        "def find_all_primes_less_than_n(n):\n",
        "    is_prime = [True] * (n + 1)\n",
        "    is_prime[0] = is_prime[1] = False\n",
        "    for i in range(2, int(n**0.5) + 1):\n",
        "        if is_prime[i]:\n",
        "            for j in range(i*i, n + 1, i):\n",
        "                is_prime[j] = False\n",
        "    return [i for i, prime in enumerate(is_prime) if prime]\n",
        "\n",
        "def count_boards(n):\n",
        "    primes = find_all_primes_less_than_n(n)\n",
        "    boards = [0] * (n + 1)\n",
        "    boards[1] = 1\n",
        "    for i in range(2, n + 1):\n",
        "        for p in primes:\n",
        "            if i * p > n:\n",
        "                break\n",
        "            if (i + p) % 4 == 0:\n",
        "                boards[i * p] = boards[i]\n",
        "            else:\n",
        "                boards[i * p] = (boards[i] + boards[p]) % (10**9 + 7)\n",
        "    return sum(boards)\n",
        "\n",
        "n = 5\n",
        "print(count_boards(n) - 1)\n"
      ],
      "metadata": {
        "colab": {
          "base_uri": "https://localhost:8080/"
        },
        "id": "nE80R0RcZ44X",
        "outputId": "aeded8bd-47fb-4a73-da48-3cf047c4b11e"
      },
      "execution_count": null,
      "outputs": [
        {
          "output_type": "stream",
          "name": "stdout",
          "text": [
            "0\n"
          ]
        }
      ]
    },
    {
      "cell_type": "code",
      "source": [
        "n = 5"
      ],
      "metadata": {
        "id": "3rvuXdD2X5cS"
      },
      "execution_count": null,
      "outputs": []
    },
    {
      "cell_type": "code",
      "source": [
        "p = set()\n",
        "p.add(n)\n",
        "def H(n,p):\n",
        "  if n==1:\n",
        "    p.add(1)\n",
        "    return\n",
        "  if n==2:\n",
        "    return\n",
        "  i = 2\n",
        "  for i in range(2,n):\n",
        "    if n%i == 1:\n",
        "      p.add(i)\n",
        "  n= n-1\n",
        "  H(n,p)\n",
        "  \n"
      ],
      "metadata": {
        "id": "5NUIjgOvX6S4"
      },
      "execution_count": null,
      "outputs": []
    },
    {
      "cell_type": "code",
      "source": [
        "H(n,p)\n",
        "print(len(p))"
      ],
      "metadata": {
        "colab": {
          "base_uri": "https://localhost:8080/"
        },
        "id": "sjZNUY0Ibagt",
        "outputId": "db112fb9-0004-4a15-f0f9-ae765ad3d529"
      },
      "execution_count": null,
      "outputs": [
        {
          "output_type": "stream",
          "name": "stdout",
          "text": [
            "4\n"
          ]
        }
      ]
    },
    {
      "cell_type": "code",
      "source": [
        "def countDistinctNumbers(n):\n",
        "    seen = set()\n",
        "    queue = [n]\n",
        "    for i in range(109):\n",
        "        next_queue = []\n",
        "        for x in queue:\n",
        "            for i in range(1, x+1):\n",
        "                if x % i == 1:\n",
        "                    if i not in seen:\n",
        "                        seen.add(i)\n",
        "                        next_queue.append(i)\n",
        "        queue = next_queue\n",
        "    return len(seen)\n"
      ],
      "metadata": {
        "id": "xJ9D0wu5YAos"
      },
      "execution_count": null,
      "outputs": []
    },
    {
      "cell_type": "code",
      "source": [
        "def monkey_collision(n):\n",
        "    MOD = 10**9 + 7\n",
        "    f = [[0] * n for _ in range(n + 1)]\n",
        "    f[1][0] = 1\n",
        "    for i in range(2, n + 1):\n",
        "        for j in range(n):\n",
        "            f[i][j] = (f[i - 1][(j + 1) % n] + f[i - 1][(j - 1 + n) % n]) % MOD\n",
        "    result = 0\n",
        "    for i in range(n):\n",
        "        result = (result + f[n][i]) % MOD\n",
        "    result = (2**n - result + MOD) % MOD\n",
        "    return result\n"
      ],
      "metadata": {
        "id": "J9Im_lFrZ51_"
      },
      "execution_count": null,
      "outputs": []
    },
    {
      "cell_type": "code",
      "source": [
        "monkey_collision(4)"
      ],
      "metadata": {
        "colab": {
          "base_uri": "https://localhost:8080/"
        },
        "id": "Wyxme_CbhUv8",
        "outputId": "fd49d5d8-eabd-4016-bcb0-9ae47d38afe9"
      },
      "execution_count": null,
      "outputs": [
        {
          "output_type": "execute_result",
          "data": {
            "text/plain": [
              "8"
            ]
          },
          "metadata": {},
          "execution_count": 28
        }
      ]
    },
    {
      "cell_type": "code",
      "source": [
        "A=1000000000\n",
        "B=2000000000"
      ],
      "metadata": {
        "id": "M2ndl83JxNcN"
      },
      "execution_count": null,
      "outputs": []
    },
    {
      "cell_type": "code",
      "source": [
        " p = []\n",
        " for i in range(1,(B)//A +1):\n",
        "   print(i)\n",
        "   if (A*i)%A==0 and B%(A*i)==0:\n",
        "     p.append(i)\n",
        "    # return p"
      ],
      "metadata": {
        "id": "zl6-0x2GhYOn",
        "colab": {
          "base_uri": "https://localhost:8080/"
        },
        "outputId": "b8331550-f39a-4553-f804-fd54b67576cb"
      },
      "execution_count": null,
      "outputs": [
        {
          "output_type": "stream",
          "name": "stdout",
          "text": [
            "1\n",
            "2\n"
          ]
        }
      ]
    },
    {
      "cell_type": "code",
      "source": [
        "print(*p)"
      ],
      "metadata": {
        "colab": {
          "base_uri": "https://localhost:8080/"
        },
        "id": "x9adR_UkxQVR",
        "outputId": "01b071ad-988f-450d-bb54-e25a68816ce8"
      },
      "execution_count": null,
      "outputs": [
        {
          "output_type": "stream",
          "name": "stdout",
          "text": [
            "1 2\n"
          ]
        }
      ]
    },
    {
      "cell_type": "code",
      "source": [
        "a = 2\n",
        "b = 4"
      ],
      "metadata": {
        "id": "GGphDPrc1o-Q"
      },
      "execution_count": null,
      "outputs": []
    },
    {
      "cell_type": "code",
      "source": [
        "count = 0\n",
        "p = 0\n",
        "for i in range(b,b*2+1):\n",
        "  if i%b==0 and i%(a*b)==0:\n",
        "    print(i)\n",
        "    count = max(count,p)\n",
        "    p = 0\n",
        "  elif i%a==0:\n",
        "    p = p+1\n",
        "print(count)"
      ],
      "metadata": {
        "id": "rwLiZUTyxWu5"
      },
      "execution_count": null,
      "outputs": []
    },
    {
      "cell_type": "code",
      "source": [
        "import math\n",
        "a = 602\n",
        "b= 500"
      ],
      "metadata": {
        "id": "XmdLpv831mUK"
      },
      "execution_count": null,
      "outputs": []
    },
    {
      "cell_type": "code",
      "source": [
        "count = 0\n",
        "p = 0\n",
        "for i in range(b*a,2*a*b+1):\n",
        "  if i%a==0:\n",
        "    count = max(count,p)\n",
        "    p = 0\n",
        "  elif i%b==0 or i%(a*b)==0:\n",
        "    \n",
        "    p = p+1"
      ],
      "metadata": {
        "id": "uCq8GvBI6bBk"
      },
      "execution_count": null,
      "outputs": []
    },
    {
      "cell_type": "code",
      "source": [
        "304010//602"
      ],
      "metadata": {
        "colab": {
          "base_uri": "https://localhost:8080/"
        },
        "id": "_g9F-kk-6olW",
        "outputId": "b72320de-e307-42e5-f9e5-a8dc376d7127"
      },
      "execution_count": null,
      "outputs": [
        {
          "output_type": "execute_result",
          "data": {
            "text/plain": [
              "505"
            ]
          },
          "metadata": {},
          "execution_count": 19
        }
      ]
    },
    {
      "cell_type": "code",
      "source": [
        "count = 0\n",
        "p = 0\n",
        "lcm = (a * b)//math.gcd(a, b)\n",
        "print(lcm)\n",
        "for i in range(min(a, b), lcm + 1, max(a, b)):\n",
        "  if i % lcm == 0:\n",
        "    print(i)\n",
        "    count = max(count, p)\n",
        "    p = 0\n",
        "  else:\n",
        "    p += 1\n",
        "print(count)"
      ],
      "metadata": {
        "colab": {
          "base_uri": "https://localhost:8080/"
        },
        "id": "J0wpXLGz7wEt",
        "outputId": "a718edf5-1e31-4b3e-e7e4-7b938322101b"
      },
      "execution_count": null,
      "outputs": [
        {
          "output_type": "stream",
          "name": "stdout",
          "text": [
            "150500\n",
            "0\n"
          ]
        }
      ]
    },
    {
      "cell_type": "code",
      "source": [
        "s = \"(()())\""
      ],
      "metadata": {
        "id": "SW3-Dv2S9tNa"
      },
      "execution_count": null,
      "outputs": []
    },
    {
      "cell_type": "code",
      "source": [
        "p = {}\n",
        "count = 0\n",
        "for i in range(len(s)):\n",
        "  if s[i] == \"(\":\n",
        "    if s[i] in p.keys():\n",
        "      p[s[i]] += 1\n",
        "    else:\n",
        "      p[s[i]] = 1\n",
        "  else:\n",
        "    if \"(\" not in p.keys():\n",
        "      count += 1\n",
        "    else:\n",
        "      if p[\"(\"]>0:\n",
        "        p[\"(\"] -= 1\n",
        "      else:\n",
        "        count += 1\n",
        "return count + p[\"(\"]\n",
        "\n"
      ],
      "metadata": {
        "id": "yuQa_6JryHo0"
      },
      "execution_count": null,
      "outputs": []
    },
    {
      "cell_type": "code",
      "source": [
        "str1 = \"thought\"\n",
        "str2 = \"sloughs\""
      ],
      "metadata": {
        "id": "bJiKDkHozfGG"
      },
      "execution_count": null,
      "outputs": []
    },
    {
      "cell_type": "code",
      "source": [
        "p1 = {} \n",
        "p2 = {}\n",
        "for i in range(0,len(str1)):\n",
        "  if str1[i] not in p1.keys():\n",
        "    p1[str1[i]] = 1\n",
        "  else:\n",
        "    p1[str1[i]] += 1\n",
        "for i in range(0,len(str2)):\n",
        "  if str2[i] not in p2.keys():\n",
        "    p2[str2[i]] = 1\n",
        "  else:\n",
        "    p2[str2[i]] += 1\n",
        "count = 0\n",
        "for i in p1:\n",
        "  if i in p2.keys():\n",
        "    p2[i] = abs(p2[i]-p1[i])\n",
        "    p1[i] = 0\n",
        "  else:\n",
        "    count += p1[i]\n",
        "    p1[i] = 0\n",
        "for j in p2:\n",
        "  count += p2[j]\n",
        "print(count)\n",
        "\n"
      ],
      "metadata": {
        "colab": {
          "base_uri": "https://localhost:8080/"
        },
        "id": "hbrStd_DzgOh",
        "outputId": "3b98d166-f765-40c6-ccaa-6e81a918d53f"
      },
      "execution_count": null,
      "outputs": [
        {
          "output_type": "stream",
          "name": "stdout",
          "text": [
            "6\n"
          ]
        }
      ]
    },
    {
      "cell_type": "code",
      "source": [
        "print(p1,p2)"
      ],
      "metadata": {
        "colab": {
          "base_uri": "https://localhost:8080/"
        },
        "id": "_6Q8i4CD27AL",
        "outputId": "d7cfec66-9dd4-470c-f1c2-04900cd17bb0"
      },
      "execution_count": null,
      "outputs": [
        {
          "output_type": "stream",
          "name": "stdout",
          "text": [
            "{'t': 2, 'h': 2, 'o': 1, 'u': 1, 'g': 1} {'s': 2, 'l': 1, 'o': 1, 'u': 1, 'g': 1, 'h': 1}\n"
          ]
        }
      ]
    },
    {
      "cell_type": "code",
      "source": [],
      "metadata": {
        "id": "inuBtA8W29kD"
      },
      "execution_count": null,
      "outputs": []
    }
  ],
  "metadata": {
    "colab": {
      "provenance": [],
      "authorship_tag": "ABX9TyPPRVpFNj1oeztDVA2ypWNr",
      "include_colab_link": true
    },
    "kernelspec": {
      "display_name": "Python 3",
      "name": "python3"
    },
    "language_info": {
      "name": "python"
    }
  },
  "nbformat": 4,
  "nbformat_minor": 0
}